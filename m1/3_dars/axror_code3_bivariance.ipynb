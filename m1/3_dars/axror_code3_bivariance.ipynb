{
 "cells": [
  {
   "cell_type": "code",
   "execution_count": null,
   "id": "c8d6cbac",
   "metadata": {},
   "outputs": [
    {
     "data": {
      "text/html": [
       "<div>\n",
       "<style scoped>\n",
       "    .dataframe tbody tr th:only-of-type {\n",
       "        vertical-align: middle;\n",
       "    }\n",
       "\n",
       "    .dataframe tbody tr th {\n",
       "        vertical-align: top;\n",
       "    }\n",
       "\n",
       "    .dataframe thead th {\n",
       "        text-align: right;\n",
       "    }\n",
       "</style>\n",
       "<table border=\"1\" class=\"dataframe\">\n",
       "  <thead>\n",
       "    <tr style=\"text-align: right;\">\n",
       "      <th></th>\n",
       "      <th>sepal length (cm)</th>\n",
       "      <th>sepal width (cm)</th>\n",
       "      <th>petal length (cm)</th>\n",
       "      <th>petal width (cm)</th>\n",
       "      <th>target</th>\n",
       "    </tr>\n",
       "  </thead>\n",
       "  <tbody>\n",
       "    <tr>\n",
       "      <th>0</th>\n",
       "      <td>5.1</td>\n",
       "      <td>3.5</td>\n",
       "      <td>1.4</td>\n",
       "      <td>0.2</td>\n",
       "      <td>0</td>\n",
       "    </tr>\n",
       "    <tr>\n",
       "      <th>1</th>\n",
       "      <td>4.9</td>\n",
       "      <td>3.0</td>\n",
       "      <td>1.4</td>\n",
       "      <td>0.2</td>\n",
       "      <td>0</td>\n",
       "    </tr>\n",
       "    <tr>\n",
       "      <th>2</th>\n",
       "      <td>4.7</td>\n",
       "      <td>3.2</td>\n",
       "      <td>1.3</td>\n",
       "      <td>0.2</td>\n",
       "      <td>0</td>\n",
       "    </tr>\n",
       "    <tr>\n",
       "      <th>3</th>\n",
       "      <td>4.6</td>\n",
       "      <td>3.1</td>\n",
       "      <td>1.5</td>\n",
       "      <td>0.2</td>\n",
       "      <td>0</td>\n",
       "    </tr>\n",
       "    <tr>\n",
       "      <th>4</th>\n",
       "      <td>5.0</td>\n",
       "      <td>3.6</td>\n",
       "      <td>1.4</td>\n",
       "      <td>0.2</td>\n",
       "      <td>0</td>\n",
       "    </tr>\n",
       "  </tbody>\n",
       "</table>\n",
       "</div>"
      ],
      "text/plain": [
       "   sepal length (cm)  sepal width (cm)  petal length (cm)  petal width (cm)  \\\n",
       "0                5.1               3.5                1.4               0.2   \n",
       "1                4.9               3.0                1.4               0.2   \n",
       "2                4.7               3.2                1.3               0.2   \n",
       "3                4.6               3.1                1.5               0.2   \n",
       "4                5.0               3.6                1.4               0.2   \n",
       "\n",
       "   target  \n",
       "0       0  \n",
       "1       0  \n",
       "2       0  \n",
       "3       0  \n",
       "4       0  "
      ]
     },
     "execution_count": 21,
     "metadata": {},
     "output_type": "execute_result"
    }
   ],
   "source": [
    "#hech qanday yordamsiz shu code ni yozdim. no chatgpt no googling.\n",
    "\n",
    "import numpy as np\n",
    "import pandas as pd\n",
    "import matplotlib.pyplot as plt\n",
    "from sklearn import datasets\n",
    "import math\n",
    "from scipy.stats import pearsonr\n",
    "\n",
    "\n",
    "my_dataset = datasets.load_iris(as_frame=True)\n",
    "df = my_dataset.frame\n",
    "df.head()"
   ]
  },
  {
   "cell_type": "code",
   "execution_count": 17,
   "id": "1fe7cac6",
   "metadata": {},
   "outputs": [],
   "source": [
    "dataX = df['sepal length (cm)']\n",
    "dataY = df['sepal width (cm)']\n",
    "\n",
    "def calculate_variance(data):\n",
    "    mean=np.mean(data)\n",
    "    sq_dif = (data-mean)**2\n",
    "    return np.sum(sq_dif)/len(data)\n",
    "\n",
    "varianceX = calculate_variance(dataX.values)\n",
    "stdX = np.sqrt(varianceX)\n",
    "\n",
    "varianceY = calculate_variance(dataY.values)\n",
    "stdY = np.sqrt(varianceY)"
   ]
  },
  {
   "cell_type": "code",
   "execution_count": 26,
   "id": "11bc3524",
   "metadata": {},
   "outputs": [
    {
     "data": {
      "text/plain": [
       "0      1.019004\n",
       "1     -0.131979\n",
       "2      0.328414\n",
       "3      0.098217\n",
       "4      1.249201\n",
       "         ...   \n",
       "145   -0.131979\n",
       "146   -1.282963\n",
       "147   -0.131979\n",
       "148    0.788808\n",
       "149   -0.131979\n",
       "Name: sepal width (cm), Length: 150, dtype: float64"
      ]
     },
     "execution_count": 26,
     "metadata": {},
     "output_type": "execute_result"
    }
   ],
   "source": [
    "zX = (dataX-dataX.mean())/stdX\n",
    "zY = (dataY-dataY.mean())/stdY\n",
    "zY"
   ]
  },
  {
   "cell_type": "code",
   "execution_count": null,
   "id": "113bf754",
   "metadata": {},
   "outputs": [
    {
     "data": {
      "text/plain": [
       "np.float64(0.1518982607114478)"
      ]
     },
     "execution_count": 24,
     "metadata": {},
     "output_type": "execute_result"
    }
   ],
   "source": [
    "#peason correlationni topib oldim library orqali\n",
    "r,p_value=pearsonr(dataX, dataY)"
   ]
  },
  {
   "cell_type": "code",
   "execution_count": 30,
   "id": "033cef8d",
   "metadata": {},
   "outputs": [],
   "source": [
    "funcXY = (np.exp(-(zX**2-2*r*zX*zY+zY**2)/(2*(1-(r**2)))))/(2*math.pi*stdX*stdY*np.sqrt(1-(r**2)))"
   ]
  },
  {
   "cell_type": "code",
   "execution_count": 32,
   "id": "decc8979",
   "metadata": {},
   "outputs": [
    {
     "data": {
      "text/plain": [
       "0      0.195247\n",
       "1      0.224392\n",
       "2      0.168867\n",
       "3      0.143258\n",
       "4      0.138961\n",
       "         ...   \n",
       "145    0.260820\n",
       "146    0.180815\n",
       "147    0.325485\n",
       "148    0.284805\n",
       "149    0.442512\n",
       "Length: 150, dtype: float64"
      ]
     },
     "execution_count": 32,
     "metadata": {},
     "output_type": "execute_result"
    }
   ],
   "source": [
    "funcXY\n",
    "#lekin menda chiqgan natija togri yoqligini endi tekshirib videoni davom ettiraman\n",
    "#shunchaki challenge qilishga harakat qildim"
   ]
  },
  {
   "cell_type": "code",
   "execution_count": null,
   "id": "fd658367",
   "metadata": {},
   "outputs": [],
   "source": []
  }
 ],
 "metadata": {
  "kernelspec": {
   "display_name": "Python 3",
   "language": "python",
   "name": "python3"
  },
  "language_info": {
   "codemirror_mode": {
    "name": "ipython",
    "version": 3
   },
   "file_extension": ".py",
   "mimetype": "text/x-python",
   "name": "python",
   "nbconvert_exporter": "python",
   "pygments_lexer": "ipython3",
   "version": "3.13.7"
  }
 },
 "nbformat": 4,
 "nbformat_minor": 5
}
