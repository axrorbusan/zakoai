{
 "cells": [
  {
   "cell_type": "code",
   "execution_count": 12,
   "id": "042c6163",
   "metadata": {},
   "outputs": [
    {
     "data": {
      "text/html": [
       "<div>\n",
       "<style scoped>\n",
       "    .dataframe tbody tr th:only-of-type {\n",
       "        vertical-align: middle;\n",
       "    }\n",
       "\n",
       "    .dataframe tbody tr th {\n",
       "        vertical-align: top;\n",
       "    }\n",
       "\n",
       "    .dataframe thead th {\n",
       "        text-align: right;\n",
       "    }\n",
       "</style>\n",
       "<table border=\"1\" class=\"dataframe\">\n",
       "  <thead>\n",
       "    <tr style=\"text-align: right;\">\n",
       "      <th></th>\n",
       "      <th>longitude</th>\n",
       "      <th>latitude</th>\n",
       "      <th>housing_median_age</th>\n",
       "      <th>total_rooms</th>\n",
       "      <th>total_bedrooms</th>\n",
       "      <th>population</th>\n",
       "      <th>households</th>\n",
       "      <th>median_income</th>\n",
       "      <th>median_house_value</th>\n",
       "      <th>ocean_proximity</th>\n",
       "    </tr>\n",
       "  </thead>\n",
       "  <tbody>\n",
       "    <tr>\n",
       "      <th>0</th>\n",
       "      <td>-122.23</td>\n",
       "      <td>37.88</td>\n",
       "      <td>41.0</td>\n",
       "      <td>880.0</td>\n",
       "      <td>129.0</td>\n",
       "      <td>322.0</td>\n",
       "      <td>126.0</td>\n",
       "      <td>8.3252</td>\n",
       "      <td>452600.0</td>\n",
       "      <td>NEAR BAY</td>\n",
       "    </tr>\n",
       "    <tr>\n",
       "      <th>1</th>\n",
       "      <td>-122.22</td>\n",
       "      <td>37.86</td>\n",
       "      <td>21.0</td>\n",
       "      <td>7099.0</td>\n",
       "      <td>1106.0</td>\n",
       "      <td>2401.0</td>\n",
       "      <td>1138.0</td>\n",
       "      <td>8.3014</td>\n",
       "      <td>358500.0</td>\n",
       "      <td>NEAR BAY</td>\n",
       "    </tr>\n",
       "    <tr>\n",
       "      <th>2</th>\n",
       "      <td>-122.24</td>\n",
       "      <td>37.85</td>\n",
       "      <td>52.0</td>\n",
       "      <td>1467.0</td>\n",
       "      <td>190.0</td>\n",
       "      <td>496.0</td>\n",
       "      <td>177.0</td>\n",
       "      <td>7.2574</td>\n",
       "      <td>352100.0</td>\n",
       "      <td>NEAR BAY</td>\n",
       "    </tr>\n",
       "    <tr>\n",
       "      <th>3</th>\n",
       "      <td>-122.25</td>\n",
       "      <td>37.85</td>\n",
       "      <td>52.0</td>\n",
       "      <td>1274.0</td>\n",
       "      <td>235.0</td>\n",
       "      <td>558.0</td>\n",
       "      <td>219.0</td>\n",
       "      <td>5.6431</td>\n",
       "      <td>341300.0</td>\n",
       "      <td>NEAR BAY</td>\n",
       "    </tr>\n",
       "    <tr>\n",
       "      <th>4</th>\n",
       "      <td>-122.25</td>\n",
       "      <td>37.85</td>\n",
       "      <td>52.0</td>\n",
       "      <td>1627.0</td>\n",
       "      <td>280.0</td>\n",
       "      <td>565.0</td>\n",
       "      <td>259.0</td>\n",
       "      <td>3.8462</td>\n",
       "      <td>342200.0</td>\n",
       "      <td>NEAR BAY</td>\n",
       "    </tr>\n",
       "  </tbody>\n",
       "</table>\n",
       "</div>"
      ],
      "text/plain": [
       "   longitude  latitude  housing_median_age  total_rooms  total_bedrooms  \\\n",
       "0    -122.23     37.88                41.0        880.0           129.0   \n",
       "1    -122.22     37.86                21.0       7099.0          1106.0   \n",
       "2    -122.24     37.85                52.0       1467.0           190.0   \n",
       "3    -122.25     37.85                52.0       1274.0           235.0   \n",
       "4    -122.25     37.85                52.0       1627.0           280.0   \n",
       "\n",
       "   population  households  median_income  median_house_value ocean_proximity  \n",
       "0       322.0       126.0         8.3252            452600.0        NEAR BAY  \n",
       "1      2401.0      1138.0         8.3014            358500.0        NEAR BAY  \n",
       "2       496.0       177.0         7.2574            352100.0        NEAR BAY  \n",
       "3       558.0       219.0         5.6431            341300.0        NEAR BAY  \n",
       "4       565.0       259.0         3.8462            342200.0        NEAR BAY  "
      ]
     },
     "execution_count": 12,
     "metadata": {},
     "output_type": "execute_result"
    }
   ],
   "source": [
    "#california fataset bilan bivariate analysis otkazish\n",
    "#vazifa test, covariance correlation bivariate hisoblash\n",
    "#keyingi darsdan keyin koproq practal boladi shunga numpy pandas practice qilish kerak self-study\n",
    "import numpy as np\n",
    "import pandas as pd\n",
    "import math\n",
    "import matplotlib.pyplot as plt\n",
    "from scipy.stats import pearsonr\n",
    "\n",
    "df = pd.read_csv('housing.csv')\n",
    "df.head()"
   ]
  },
  {
   "cell_type": "code",
   "execution_count": 13,
   "id": "5ceb5a45",
   "metadata": {},
   "outputs": [],
   "source": [
    "#median_income median_house_value shu 2ta feature ni oldim\n",
    "data1 = df['median_income']\n",
    "data2 = df['median_house_value']\n",
    "\n",
    "data1_list = df['median_income'].values.tolist()\n",
    "data2_list = df['median_house_value'].values.tolist()\n"
   ]
  },
  {
   "cell_type": "code",
   "execution_count": 14,
   "id": "ff8ecc7b",
   "metadata": {},
   "outputs": [
    {
     "data": {
      "text/plain": [
       "np.float64(150840.17429058775)"
      ]
     },
     "execution_count": 14,
     "metadata": {},
     "output_type": "execute_result"
    }
   ],
   "source": [
    "#covariance\n",
    "def cal_covariance(data1, data2):\n",
    "    if len(data1) != len(data2):\n",
    "        raise ValueError(\"ikta list teng emas\")\n",
    "\n",
    "    n = len(data1)\n",
    "    mean_data1 = sum(data1)/n\n",
    "    mean_data2 = sum(data2)/n\n",
    "\n",
    "    cov = sum((data1[i]-mean_data1)*(data2[i] - mean_data2) for i in range(n)) / n\n",
    "\n",
    "    return cov\n",
    "\n",
    "cal_covariance(data1, data2)"
   ]
  },
  {
   "cell_type": "code",
   "execution_count": 15,
   "id": "4bce2ed0",
   "metadata": {},
   "outputs": [
    {
     "data": {
      "text/html": [
       "<div>\n",
       "<style scoped>\n",
       "    .dataframe tbody tr th:only-of-type {\n",
       "        vertical-align: middle;\n",
       "    }\n",
       "\n",
       "    .dataframe tbody tr th {\n",
       "        vertical-align: top;\n",
       "    }\n",
       "\n",
       "    .dataframe thead th {\n",
       "        text-align: right;\n",
       "    }\n",
       "</style>\n",
       "<table border=\"1\" class=\"dataframe\">\n",
       "  <thead>\n",
       "    <tr style=\"text-align: right;\">\n",
       "      <th></th>\n",
       "      <th>median_income</th>\n",
       "      <th>median_house_value</th>\n",
       "    </tr>\n",
       "  </thead>\n",
       "  <tbody>\n",
       "    <tr>\n",
       "      <th>median_income</th>\n",
       "      <td>3.609323</td>\n",
       "      <td>1.508475e+05</td>\n",
       "    </tr>\n",
       "    <tr>\n",
       "      <th>median_house_value</th>\n",
       "      <td>150847.482793</td>\n",
       "      <td>1.331615e+10</td>\n",
       "    </tr>\n",
       "  </tbody>\n",
       "</table>\n",
       "</div>"
      ],
      "text/plain": [
       "                    median_income  median_house_value\n",
       "median_income            3.609323        1.508475e+05\n",
       "median_house_value  150847.482793        1.331615e+10"
      ]
     },
     "execution_count": 15,
     "metadata": {},
     "output_type": "execute_result"
    }
   ],
   "source": [
    "df[['median_income', 'median_house_value']].cov()"
   ]
  },
  {
   "cell_type": "code",
   "execution_count": 17,
   "id": "1e68a111",
   "metadata": {},
   "outputs": [
    {
     "data": {
      "text/plain": [
       "0.6880752079585478"
      ]
     },
     "execution_count": 17,
     "metadata": {},
     "output_type": "execute_result"
    }
   ],
   "source": [
    "#correlation\n",
    "def cal_correlation(x1, x2):\n",
    "    if len(x1) != len(x2):\n",
    "        raise ValueError('ikta list teng emas')\n",
    "    \n",
    "    n = len(x1)\n",
    "    mean_x1 = sum(x1)/n\n",
    "    mean_x2 = sum(x2)/n\n",
    "\n",
    "    cov = sum((x1[i]-mean_x1)*(x2[i]-mean_x2) for i in range(n))/n\n",
    "    std_x1 = (sum((i-mean_x1)**2 for i in x1)/n) ** 0.5\n",
    "    std_x2 = (sum((i-mean_x2)**2 for i in x2)/n) ** 0.5\n",
    "\n",
    "    corr = cov/(std_x1*std_x2)\n",
    "\n",
    "    return corr\n",
    "\n",
    "cal_correlation(data1_list, data2_list)\n",
    "\n"
   ]
  },
  {
   "cell_type": "code",
   "execution_count": 16,
   "id": "b9dbb65a",
   "metadata": {},
   "outputs": [
    {
     "data": {
      "text/html": [
       "<div>\n",
       "<style scoped>\n",
       "    .dataframe tbody tr th:only-of-type {\n",
       "        vertical-align: middle;\n",
       "    }\n",
       "\n",
       "    .dataframe tbody tr th {\n",
       "        vertical-align: top;\n",
       "    }\n",
       "\n",
       "    .dataframe thead th {\n",
       "        text-align: right;\n",
       "    }\n",
       "</style>\n",
       "<table border=\"1\" class=\"dataframe\">\n",
       "  <thead>\n",
       "    <tr style=\"text-align: right;\">\n",
       "      <th></th>\n",
       "      <th>median_income</th>\n",
       "      <th>median_house_value</th>\n",
       "    </tr>\n",
       "  </thead>\n",
       "  <tbody>\n",
       "    <tr>\n",
       "      <th>median_income</th>\n",
       "      <td>1.000000</td>\n",
       "      <td>0.688075</td>\n",
       "    </tr>\n",
       "    <tr>\n",
       "      <th>median_house_value</th>\n",
       "      <td>0.688075</td>\n",
       "      <td>1.000000</td>\n",
       "    </tr>\n",
       "  </tbody>\n",
       "</table>\n",
       "</div>"
      ],
      "text/plain": [
       "                    median_income  median_house_value\n",
       "median_income            1.000000            0.688075\n",
       "median_house_value       0.688075            1.000000"
      ]
     },
     "execution_count": 16,
     "metadata": {},
     "output_type": "execute_result"
    }
   ],
   "source": [
    "df[['median_income', 'median_house_value']].corr()\n"
   ]
  },
  {
   "cell_type": "code",
   "execution_count": 18,
   "id": "127a855a",
   "metadata": {},
   "outputs": [
    {
     "data": {
      "text/plain": [
       "array([0.01343988, 0.01383943, 0.04286798, ..., 0.10932538, 0.12042306,\n",
       "       0.15489856], shape=(20640,))"
      ]
     },
     "execution_count": 18,
     "metadata": {},
     "output_type": "execute_result"
    }
   ],
   "source": [
    "def calculate_pdf_vectorized(data):\n",
    "    mu = np.mean(data)  # Calculate the mean of the dataset\n",
    "    sigma = np.std(data, ddof=1)  # Calculate the standard deviation of the dataset\n",
    "    coeff = 1 / (sigma * np.sqrt(2 * np.pi))  # Precompute the coefficient\n",
    "    \n",
    "    # Compute the exponent part for all data points in one go\n",
    "    exponent = np.exp(-((data - mu) ** 2) / (2 * sigma ** 2))\n",
    "    \n",
    "    # Return the array of computed PDF values\n",
    "    return coeff * exponent\n",
    "pdf_value = calculate_pdf_vectorized(data1_list)\n",
    "pdf_value"
   ]
  },
  {
   "cell_type": "code",
   "execution_count": 19,
   "id": "d0678162",
   "metadata": {},
   "outputs": [
    {
     "data": {
      "text/plain": [
       "array([3.58042039e-07, 1.45788834e-06, 1.56570188e-06, ...,\n",
       "       2.11213961e-06, 1.97417697e-06, 2.05944728e-06], shape=(20640,))"
      ]
     },
     "execution_count": 19,
     "metadata": {},
     "output_type": "execute_result"
    }
   ],
   "source": [
    "pdf_value2 = calculate_pdf_vectorized(data2_list)\n",
    "pdf_value2"
   ]
  },
  {
   "cell_type": "code",
   "execution_count": 20,
   "id": "92c2ee61",
   "metadata": {},
   "outputs": [
    {
     "data": {
      "text/plain": [
       "array([0.53966842, 0.53802706, 0.46602805, ..., 0.08276438, 0.09429525,\n",
       "       0.13025338], shape=(20640,))"
      ]
     },
     "execution_count": 20,
     "metadata": {},
     "output_type": "execute_result"
    }
   ],
   "source": [
    "def min_max(data):\n",
    "    min_val = np.min(data)\n",
    "    max_val = np.max(data)\n",
    "    return (data-min_val)/(max_val-min_val)\n",
    "data = df['median_income'].values\n",
    "min_max(data)"
   ]
  },
  {
   "cell_type": "code",
   "execution_count": null,
   "id": "1023b02e",
   "metadata": {},
   "outputs": [],
   "source": []
  }
 ],
 "metadata": {
  "kernelspec": {
   "display_name": "Python 3",
   "language": "python",
   "name": "python3"
  },
  "language_info": {
   "codemirror_mode": {
    "name": "ipython",
    "version": 3
   },
   "file_extension": ".py",
   "mimetype": "text/x-python",
   "name": "python",
   "nbconvert_exporter": "python",
   "pygments_lexer": "ipython3",
   "version": "3.13.7"
  }
 },
 "nbformat": 4,
 "nbformat_minor": 5
}
