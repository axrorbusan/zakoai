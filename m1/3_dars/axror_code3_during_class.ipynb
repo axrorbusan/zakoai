{
 "cells": [
  {
   "cell_type": "code",
   "execution_count": 1,
   "id": "0fc5978d",
   "metadata": {},
   "outputs": [
    {
     "data": {
      "text/html": [
       "<div>\n",
       "<style scoped>\n",
       "    .dataframe tbody tr th:only-of-type {\n",
       "        vertical-align: middle;\n",
       "    }\n",
       "\n",
       "    .dataframe tbody tr th {\n",
       "        vertical-align: top;\n",
       "    }\n",
       "\n",
       "    .dataframe thead th {\n",
       "        text-align: right;\n",
       "    }\n",
       "</style>\n",
       "<table border=\"1\" class=\"dataframe\">\n",
       "  <thead>\n",
       "    <tr style=\"text-align: right;\">\n",
       "      <th></th>\n",
       "      <th>sepal length (cm)</th>\n",
       "      <th>sepal width (cm)</th>\n",
       "      <th>petal length (cm)</th>\n",
       "      <th>petal width (cm)</th>\n",
       "      <th>target</th>\n",
       "    </tr>\n",
       "  </thead>\n",
       "  <tbody>\n",
       "    <tr>\n",
       "      <th>0</th>\n",
       "      <td>5.1</td>\n",
       "      <td>3.5</td>\n",
       "      <td>1.4</td>\n",
       "      <td>0.2</td>\n",
       "      <td>0</td>\n",
       "    </tr>\n",
       "    <tr>\n",
       "      <th>1</th>\n",
       "      <td>4.9</td>\n",
       "      <td>3.0</td>\n",
       "      <td>1.4</td>\n",
       "      <td>0.2</td>\n",
       "      <td>0</td>\n",
       "    </tr>\n",
       "    <tr>\n",
       "      <th>2</th>\n",
       "      <td>4.7</td>\n",
       "      <td>3.2</td>\n",
       "      <td>1.3</td>\n",
       "      <td>0.2</td>\n",
       "      <td>0</td>\n",
       "    </tr>\n",
       "    <tr>\n",
       "      <th>3</th>\n",
       "      <td>4.6</td>\n",
       "      <td>3.1</td>\n",
       "      <td>1.5</td>\n",
       "      <td>0.2</td>\n",
       "      <td>0</td>\n",
       "    </tr>\n",
       "    <tr>\n",
       "      <th>4</th>\n",
       "      <td>5.0</td>\n",
       "      <td>3.6</td>\n",
       "      <td>1.4</td>\n",
       "      <td>0.2</td>\n",
       "      <td>0</td>\n",
       "    </tr>\n",
       "  </tbody>\n",
       "</table>\n",
       "</div>"
      ],
      "text/plain": [
       "   sepal length (cm)  sepal width (cm)  petal length (cm)  petal width (cm)  \\\n",
       "0                5.1               3.5                1.4               0.2   \n",
       "1                4.9               3.0                1.4               0.2   \n",
       "2                4.7               3.2                1.3               0.2   \n",
       "3                4.6               3.1                1.5               0.2   \n",
       "4                5.0               3.6                1.4               0.2   \n",
       "\n",
       "   target  \n",
       "0       0  \n",
       "1       0  \n",
       "2       0  \n",
       "3       0  \n",
       "4       0  "
      ]
     },
     "execution_count": 1,
     "metadata": {},
     "output_type": "execute_result"
    }
   ],
   "source": [
    "import numpy as np\n",
    "import pandas as pd\n",
    "import matplotlib.pyplot as plt\n",
    "from sklearn import datasets\n",
    "\n",
    "mydata = datasets.load_iris(as_frame=True)\n",
    "df=mydata.frame\n",
    "df.head()"
   ]
  },
  {
   "cell_type": "code",
   "execution_count": 3,
   "id": "9ba5144c",
   "metadata": {},
   "outputs": [],
   "source": [
    "s1 = df['sepal length (cm)']\n",
    "s2 = df['sepal width (cm)']\n",
    "\n",
    "s1_list = df['sepal length (cm)'].values.tolist()\n",
    "s2_list = df['sepal width (cm)'].values.tolist()"
   ]
  },
  {
   "cell_type": "code",
   "execution_count": 7,
   "id": "211145ee",
   "metadata": {},
   "outputs": [
    {
     "data": {
      "text/plain": [
       "-0.042151111111111104"
      ]
     },
     "execution_count": 7,
     "metadata": {},
     "output_type": "execute_result"
    }
   ],
   "source": [
    "#covariance\n",
    "def cal_covariance(s1_list, s2_list):\n",
    "    if len(s1_list) != len(s2_list):\n",
    "        raise ValueError(\"ikta list teng emas\")\n",
    "\n",
    "    n = len(s1_list)\n",
    "    mean_s1 = sum(s1_list)/n\n",
    "    mean_s2 = sum(s2_list)/n\n",
    "\n",
    "    cov = sum((s1_list[i]-mean_s1)*(s2_list[i] - mean_s2) for i in range(n)) / n\n",
    "\n",
    "    return cov\n",
    "\n",
    "cal_covariance(s1_list, s2_list)"
   ]
  },
  {
   "cell_type": "code",
   "execution_count": 14,
   "id": "4c6e7383",
   "metadata": {},
   "outputs": [
    {
     "data": {
      "text/html": [
       "<div>\n",
       "<style scoped>\n",
       "    .dataframe tbody tr th:only-of-type {\n",
       "        vertical-align: middle;\n",
       "    }\n",
       "\n",
       "    .dataframe tbody tr th {\n",
       "        vertical-align: top;\n",
       "    }\n",
       "\n",
       "    .dataframe thead th {\n",
       "        text-align: right;\n",
       "    }\n",
       "</style>\n",
       "<table border=\"1\" class=\"dataframe\">\n",
       "  <thead>\n",
       "    <tr style=\"text-align: right;\">\n",
       "      <th></th>\n",
       "      <th>sepal length (cm)</th>\n",
       "      <th>sepal width (cm)</th>\n",
       "    </tr>\n",
       "  </thead>\n",
       "  <tbody>\n",
       "    <tr>\n",
       "      <th>sepal length (cm)</th>\n",
       "      <td>0.685694</td>\n",
       "      <td>-0.042434</td>\n",
       "    </tr>\n",
       "    <tr>\n",
       "      <th>sepal width (cm)</th>\n",
       "      <td>-0.042434</td>\n",
       "      <td>0.189979</td>\n",
       "    </tr>\n",
       "  </tbody>\n",
       "</table>\n",
       "</div>"
      ],
      "text/plain": [
       "                   sepal length (cm)  sepal width (cm)\n",
       "sepal length (cm)           0.685694         -0.042434\n",
       "sepal width (cm)           -0.042434          0.189979"
      ]
     },
     "execution_count": 14,
     "metadata": {},
     "output_type": "execute_result"
    }
   ],
   "source": [
    "df[['sepal length (cm)','sepal width (cm)']].cov()"
   ]
  },
  {
   "cell_type": "code",
   "execution_count": 10,
   "id": "16d39a29",
   "metadata": {},
   "outputs": [
    {
     "data": {
      "text/plain": [
       "-0.11756978413300202"
      ]
     },
     "execution_count": 10,
     "metadata": {},
     "output_type": "execute_result"
    }
   ],
   "source": [
    "#correlation\n",
    "def cal_correlation(x1, x2):\n",
    "    if len(x1) != len(x2):\n",
    "        raise ValueError('ikta list teng emas')\n",
    "    \n",
    "    n = len(x1)\n",
    "    mean_x1 = sum(x1)/n\n",
    "    mean_x2 = sum(x2)/n\n",
    "\n",
    "    cov = sum((x1[i]-mean_x1)*(x2[i]-mean_x2) for i in range(n))/n\n",
    "    std_x1 = (sum((i-mean_x1)**2 for i in x1)/n) ** 0.5\n",
    "    std_x2 = (sum((i-mean_x2)**2 for i in x2)/n) ** 0.5\n",
    "\n",
    "    corr = cov/(std_x1*std_x2)\n",
    "\n",
    "    return corr\n",
    "\n",
    "cal_correlation(s1_list, s2_list)\n",
    "\n"
   ]
  },
  {
   "cell_type": "code",
   "execution_count": 13,
   "id": "c5196024",
   "metadata": {},
   "outputs": [
    {
     "data": {
      "text/html": [
       "<div>\n",
       "<style scoped>\n",
       "    .dataframe tbody tr th:only-of-type {\n",
       "        vertical-align: middle;\n",
       "    }\n",
       "\n",
       "    .dataframe tbody tr th {\n",
       "        vertical-align: top;\n",
       "    }\n",
       "\n",
       "    .dataframe thead th {\n",
       "        text-align: right;\n",
       "    }\n",
       "</style>\n",
       "<table border=\"1\" class=\"dataframe\">\n",
       "  <thead>\n",
       "    <tr style=\"text-align: right;\">\n",
       "      <th></th>\n",
       "      <th>sepal length (cm)</th>\n",
       "      <th>sepal width (cm)</th>\n",
       "    </tr>\n",
       "  </thead>\n",
       "  <tbody>\n",
       "    <tr>\n",
       "      <th>sepal length (cm)</th>\n",
       "      <td>1.00000</td>\n",
       "      <td>-0.11757</td>\n",
       "    </tr>\n",
       "    <tr>\n",
       "      <th>sepal width (cm)</th>\n",
       "      <td>-0.11757</td>\n",
       "      <td>1.00000</td>\n",
       "    </tr>\n",
       "  </tbody>\n",
       "</table>\n",
       "</div>"
      ],
      "text/plain": [
       "                   sepal length (cm)  sepal width (cm)\n",
       "sepal length (cm)            1.00000          -0.11757\n",
       "sepal width (cm)            -0.11757           1.00000"
      ]
     },
     "execution_count": 13,
     "metadata": {},
     "output_type": "execute_result"
    }
   ],
   "source": [
    "df[['sepal length (cm)','sepal width (cm)']].corr()"
   ]
  },
  {
   "cell_type": "code",
   "execution_count": 17,
   "id": "745c5a8f",
   "metadata": {},
   "outputs": [
    {
     "data": {
      "text/plain": [
       "array([0.32200588, 0.25178867, 0.18572654, 0.15606028, 0.28682488,\n",
       "       0.41744843, 0.15606028, 0.28682488, 0.10546982, 0.25178867,\n",
       "       0.41744843, 0.21783211, 0.21783211, 0.08482926, 0.48111665,\n",
       "       0.47461229, 0.41744843, 0.32200588, 0.47461229, 0.32200588,\n",
       "       0.41744843, 0.32200588, 0.15606028, 0.32200588, 0.21783211,\n",
       "       0.28682488, 0.28682488, 0.35626826, 0.35626826, 0.18572654,\n",
       "       0.21783211, 0.41744843, 0.35626826, 0.44209459, 0.25178867,\n",
       "       0.28682488, 0.44209459, 0.25178867, 0.10546982, 0.32200588,\n",
       "       0.28682488, 0.1292341 , 0.10546982, 0.28682488, 0.32200588,\n",
       "       0.21783211, 0.32200588, 0.15606028, 0.38846939, 0.28682488,\n",
       "       0.18161945, 0.38433694, 0.21342967, 0.44209459, 0.35179363,\n",
       "       0.47461229, 0.41381158, 0.25178867, 0.3173439 , 0.35626826,\n",
       "       0.28682488, 0.48064911, 0.47322998, 0.45917972, 0.46141734,\n",
       "       0.28212312, 0.46141734, 0.48111665, 0.43909601, 0.46141734,\n",
       "       0.48064911, 0.45917972, 0.41381158, 0.45917972, 0.38433694,\n",
       "       0.3173439 , 0.24718013, 0.28212312, 0.47322998, 0.47461229,\n",
       "       0.44209459, 0.44209459, 0.48111665, 0.47322998, 0.41744843,\n",
       "       0.47322998, 0.28212312, 0.41381158, 0.46141734, 0.44209459,\n",
       "       0.44209459, 0.45917972, 0.48111665, 0.28682488, 0.46141734,\n",
       "       0.47461229, 0.47461229, 0.43909601, 0.32200588, 0.47461229,\n",
       "       0.41381158, 0.48111665, 0.15231276, 0.41381158, 0.35179363,\n",
       "       0.05076929, 0.25178867, 0.1025376 , 0.28212312, 0.12588574,\n",
       "       0.35179363, 0.38433694, 0.24718013, 0.47461229, 0.48111665,\n",
       "       0.38433694, 0.35179363, 0.03900974, 0.03900974, 0.47322998,\n",
       "       0.21342967, 0.46141734, 0.03900974, 0.41381158, 0.28212312,\n",
       "       0.12588574, 0.43909601, 0.45917972, 0.38433694, 0.12588574,\n",
       "       0.08231067, 0.02204531, 0.38433694, 0.41381158, 0.45917972,\n",
       "       0.03900974, 0.41381158, 0.38433694, 0.47322998, 0.21342967,\n",
       "       0.28212312, 0.21342967, 0.48111665, 0.24718013, 0.28212312,\n",
       "       0.28212312, 0.41381158, 0.35179363, 0.43909601, 0.48064911])"
      ]
     },
     "execution_count": 17,
     "metadata": {},
     "output_type": "execute_result"
    }
   ],
   "source": [
    "def calculate_pdf_vectorized(data):\n",
    "    mu = np.mean(data)  # Calculate the mean of the dataset\n",
    "    sigma = np.std(data, ddof=1)  # Calculate the standard deviation of the dataset\n",
    "    coeff = 1 / (sigma * np.sqrt(2 * np.pi))  # Precompute the coefficient\n",
    "    \n",
    "    # Compute the exponent part for all data points in one go\n",
    "    exponent = np.exp(-((data - mu) ** 2) / (2 * sigma ** 2))\n",
    "    \n",
    "    # Return the array of computed PDF values\n",
    "    return coeff * exponent\n",
    "pdf_value = calculate_pdf_vectorized(s1_list)\n",
    "pdf_value"
   ]
  },
  {
   "cell_type": "code",
   "execution_count": 20,
   "id": "d5a8ebab",
   "metadata": {},
   "outputs": [
    {
     "data": {
      "text/plain": [
       "array([0.06779661, 0.06779661, 0.05084746, 0.08474576, 0.06779661,\n",
       "       0.11864407, 0.06779661, 0.08474576, 0.06779661, 0.08474576,\n",
       "       0.08474576, 0.10169492, 0.06779661, 0.01694915, 0.03389831,\n",
       "       0.08474576, 0.05084746, 0.06779661, 0.11864407, 0.08474576,\n",
       "       0.11864407, 0.08474576, 0.        , 0.11864407, 0.15254237,\n",
       "       0.10169492, 0.10169492, 0.08474576, 0.06779661, 0.10169492,\n",
       "       0.10169492, 0.08474576, 0.08474576, 0.06779661, 0.08474576,\n",
       "       0.03389831, 0.05084746, 0.06779661, 0.05084746, 0.08474576,\n",
       "       0.05084746, 0.05084746, 0.05084746, 0.10169492, 0.15254237,\n",
       "       0.06779661, 0.10169492, 0.06779661, 0.08474576, 0.06779661,\n",
       "       0.62711864, 0.59322034, 0.66101695, 0.50847458, 0.61016949,\n",
       "       0.59322034, 0.62711864, 0.38983051, 0.61016949, 0.49152542,\n",
       "       0.42372881, 0.54237288, 0.50847458, 0.62711864, 0.44067797,\n",
       "       0.57627119, 0.59322034, 0.52542373, 0.59322034, 0.49152542,\n",
       "       0.6440678 , 0.50847458, 0.66101695, 0.62711864, 0.55932203,\n",
       "       0.57627119, 0.6440678 , 0.6779661 , 0.59322034, 0.42372881,\n",
       "       0.47457627, 0.45762712, 0.49152542, 0.69491525, 0.59322034,\n",
       "       0.59322034, 0.62711864, 0.57627119, 0.52542373, 0.50847458,\n",
       "       0.57627119, 0.61016949, 0.50847458, 0.38983051, 0.54237288,\n",
       "       0.54237288, 0.54237288, 0.55932203, 0.33898305, 0.52542373,\n",
       "       0.84745763, 0.69491525, 0.83050847, 0.77966102, 0.81355932,\n",
       "       0.94915254, 0.59322034, 0.89830508, 0.81355932, 0.86440678,\n",
       "       0.69491525, 0.72881356, 0.76271186, 0.6779661 , 0.69491525,\n",
       "       0.72881356, 0.76271186, 0.96610169, 1.        , 0.6779661 ,\n",
       "       0.79661017, 0.66101695, 0.96610169, 0.66101695, 0.79661017,\n",
       "       0.84745763, 0.6440678 , 0.66101695, 0.77966102, 0.81355932,\n",
       "       0.86440678, 0.91525424, 0.77966102, 0.69491525, 0.77966102,\n",
       "       0.86440678, 0.77966102, 0.76271186, 0.6440678 , 0.74576271,\n",
       "       0.77966102, 0.69491525, 0.69491525, 0.83050847, 0.79661017,\n",
       "       0.71186441, 0.6779661 , 0.71186441, 0.74576271, 0.69491525])"
      ]
     },
     "execution_count": 20,
     "metadata": {},
     "output_type": "execute_result"
    }
   ],
   "source": [
    "#min max scaling\n",
    "def min_max(data):\n",
    "    min_val = np.min(data)\n",
    "    max_val = np.max(data)\n",
    "    return (data-min_val)/(max_val-min_val)\n",
    "data = df['petal length (cm)'].values\n",
    "min_max(data)"
   ]
  },
  {
   "cell_type": "code",
   "execution_count": null,
   "id": "73d55377",
   "metadata": {},
   "outputs": [],
   "source": []
  }
 ],
 "metadata": {
  "kernelspec": {
   "display_name": "Python 3",
   "language": "python",
   "name": "python3"
  },
  "language_info": {
   "codemirror_mode": {
    "name": "ipython",
    "version": 3
   },
   "file_extension": ".py",
   "mimetype": "text/x-python",
   "name": "python",
   "nbconvert_exporter": "python",
   "pygments_lexer": "ipython3",
   "version": "3.13.7"
  }
 },
 "nbformat": 4,
 "nbformat_minor": 5
}
