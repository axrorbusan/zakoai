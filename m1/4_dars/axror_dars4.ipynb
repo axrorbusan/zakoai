{
 "cells": [
  {
   "cell_type": "code",
   "execution_count": null,
   "id": "603b0833",
   "metadata": {},
   "outputs": [],
   "source": [
    "#4-dars uchun coding vazifa yoq. shunchaki test + o'tilgan teoriyalarni mustahkamlash kerak"
   ]
  }
 ],
 "metadata": {
  "language_info": {
   "name": "python"
  }
 },
 "nbformat": 4,
 "nbformat_minor": 5
}
