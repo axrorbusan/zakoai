{
 "cells": [
  {
   "cell_type": "code",
   "execution_count": 2,
   "id": "5dee0711",
   "metadata": {},
   "outputs": [],
   "source": [
    "#Axror assignment5\n",
    "import numpy as np"
   ]
  },
  {
   "cell_type": "code",
   "execution_count": 8,
   "id": "5648cfdd",
   "metadata": {},
   "outputs": [],
   "source": [
    "itsalist=list(range(9999))\n",
    "itsarray=np.arange(9999)"
   ]
  },
  {
   "cell_type": "code",
   "execution_count": 4,
   "id": "1f3db54b",
   "metadata": {},
   "outputs": [
    {
     "data": {
      "text/plain": [
       "[0,\n",
       " 1,\n",
       " 2,\n",
       " 3,\n",
       " 4,\n",
       " 5,\n",
       " 6,\n",
       " 7,\n",
       " 8,\n",
       " 9,\n",
       " 10,\n",
       " 11,\n",
       " 12,\n",
       " 13,\n",
       " 14,\n",
       " 15,\n",
       " 16,\n",
       " 17,\n",
       " 18,\n",
       " 19,\n",
       " 20,\n",
       " 21,\n",
       " 22,\n",
       " 23,\n",
       " 24,\n",
       " 25,\n",
       " 26,\n",
       " 27,\n",
       " 28,\n",
       " 29,\n",
       " 30,\n",
       " 31,\n",
       " 32,\n",
       " 33,\n",
       " 34,\n",
       " 35,\n",
       " 36,\n",
       " 37,\n",
       " 38,\n",
       " 39,\n",
       " 40,\n",
       " 41,\n",
       " 42,\n",
       " 43,\n",
       " 44,\n",
       " 45,\n",
       " 46,\n",
       " 47,\n",
       " 48,\n",
       " 49,\n",
       " 50,\n",
       " 51,\n",
       " 52,\n",
       " 53,\n",
       " 54,\n",
       " 55,\n",
       " 56,\n",
       " 57,\n",
       " 58,\n",
       " 59,\n",
       " 60,\n",
       " 61,\n",
       " 62,\n",
       " 63,\n",
       " 64,\n",
       " 65,\n",
       " 66,\n",
       " 67,\n",
       " 68,\n",
       " 69,\n",
       " 70,\n",
       " 71,\n",
       " 72,\n",
       " 73,\n",
       " 74,\n",
       " 75,\n",
       " 76,\n",
       " 77,\n",
       " 78,\n",
       " 79,\n",
       " 80,\n",
       " 81,\n",
       " 82,\n",
       " 83,\n",
       " 84,\n",
       " 85,\n",
       " 86,\n",
       " 87,\n",
       " 88,\n",
       " 89,\n",
       " 90,\n",
       " 91,\n",
       " 92,\n",
       " 93,\n",
       " 94,\n",
       " 95,\n",
       " 96,\n",
       " 97,\n",
       " 98,\n",
       " 99,\n",
       " 100,\n",
       " 101,\n",
       " 102,\n",
       " 103,\n",
       " 104,\n",
       " 105,\n",
       " 106,\n",
       " 107,\n",
       " 108,\n",
       " 109,\n",
       " 110,\n",
       " 111,\n",
       " 112,\n",
       " 113,\n",
       " 114,\n",
       " 115,\n",
       " 116,\n",
       " 117,\n",
       " 118,\n",
       " 119,\n",
       " 120,\n",
       " 121,\n",
       " 122,\n",
       " 123,\n",
       " 124,\n",
       " 125,\n",
       " 126,\n",
       " 127,\n",
       " 128,\n",
       " 129,\n",
       " 130,\n",
       " 131,\n",
       " 132,\n",
       " 133,\n",
       " 134,\n",
       " 135,\n",
       " 136,\n",
       " 137,\n",
       " 138,\n",
       " 139,\n",
       " 140,\n",
       " 141,\n",
       " 142,\n",
       " 143,\n",
       " 144,\n",
       " 145,\n",
       " 146,\n",
       " 147,\n",
       " 148,\n",
       " 149,\n",
       " 150,\n",
       " 151,\n",
       " 152,\n",
       " 153,\n",
       " 154,\n",
       " 155,\n",
       " 156,\n",
       " 157,\n",
       " 158,\n",
       " 159,\n",
       " 160,\n",
       " 161,\n",
       " 162,\n",
       " 163,\n",
       " 164,\n",
       " 165,\n",
       " 166,\n",
       " 167,\n",
       " 168,\n",
       " 169,\n",
       " 170,\n",
       " 171,\n",
       " 172,\n",
       " 173,\n",
       " 174,\n",
       " 175,\n",
       " 176,\n",
       " 177,\n",
       " 178,\n",
       " 179,\n",
       " 180,\n",
       " 181,\n",
       " 182,\n",
       " 183,\n",
       " 184,\n",
       " 185,\n",
       " 186,\n",
       " 187,\n",
       " 188,\n",
       " 189,\n",
       " 190,\n",
       " 191,\n",
       " 192,\n",
       " 193,\n",
       " 194,\n",
       " 195,\n",
       " 196,\n",
       " 197,\n",
       " 198,\n",
       " 199,\n",
       " 200,\n",
       " 201,\n",
       " 202,\n",
       " 203,\n",
       " 204,\n",
       " 205,\n",
       " 206,\n",
       " 207,\n",
       " 208,\n",
       " 209,\n",
       " 210,\n",
       " 211,\n",
       " 212,\n",
       " 213,\n",
       " 214,\n",
       " 215,\n",
       " 216,\n",
       " 217,\n",
       " 218,\n",
       " 219,\n",
       " 220,\n",
       " 221,\n",
       " 222,\n",
       " 223,\n",
       " 224,\n",
       " 225,\n",
       " 226,\n",
       " 227,\n",
       " 228,\n",
       " 229,\n",
       " 230,\n",
       " 231,\n",
       " 232,\n",
       " 233,\n",
       " 234,\n",
       " 235,\n",
       " 236,\n",
       " 237,\n",
       " 238,\n",
       " 239,\n",
       " 240,\n",
       " 241,\n",
       " 242,\n",
       " 243,\n",
       " 244,\n",
       " 245,\n",
       " 246,\n",
       " 247,\n",
       " 248,\n",
       " 249,\n",
       " 250,\n",
       " 251,\n",
       " 252,\n",
       " 253,\n",
       " 254,\n",
       " 255,\n",
       " 256,\n",
       " 257,\n",
       " 258,\n",
       " 259,\n",
       " 260,\n",
       " 261,\n",
       " 262,\n",
       " 263,\n",
       " 264,\n",
       " 265,\n",
       " 266,\n",
       " 267,\n",
       " 268,\n",
       " 269,\n",
       " 270,\n",
       " 271,\n",
       " 272,\n",
       " 273,\n",
       " 274,\n",
       " 275,\n",
       " 276,\n",
       " 277,\n",
       " 278,\n",
       " 279,\n",
       " 280,\n",
       " 281,\n",
       " 282,\n",
       " 283,\n",
       " 284,\n",
       " 285,\n",
       " 286,\n",
       " 287,\n",
       " 288,\n",
       " 289,\n",
       " 290,\n",
       " 291,\n",
       " 292,\n",
       " 293,\n",
       " 294,\n",
       " 295,\n",
       " 296,\n",
       " 297,\n",
       " 298,\n",
       " 299,\n",
       " 300,\n",
       " 301,\n",
       " 302,\n",
       " 303,\n",
       " 304,\n",
       " 305,\n",
       " 306,\n",
       " 307,\n",
       " 308,\n",
       " 309,\n",
       " 310,\n",
       " 311,\n",
       " 312,\n",
       " 313,\n",
       " 314,\n",
       " 315,\n",
       " 316,\n",
       " 317,\n",
       " 318,\n",
       " 319,\n",
       " 320,\n",
       " 321,\n",
       " 322,\n",
       " 323,\n",
       " 324,\n",
       " 325,\n",
       " 326,\n",
       " 327,\n",
       " 328,\n",
       " 329,\n",
       " 330,\n",
       " 331,\n",
       " 332,\n",
       " 333,\n",
       " 334,\n",
       " 335,\n",
       " 336,\n",
       " 337,\n",
       " 338,\n",
       " 339,\n",
       " 340,\n",
       " 341,\n",
       " 342,\n",
       " 343,\n",
       " 344,\n",
       " 345,\n",
       " 346,\n",
       " 347,\n",
       " 348,\n",
       " 349,\n",
       " 350,\n",
       " 351,\n",
       " 352,\n",
       " 353,\n",
       " 354,\n",
       " 355,\n",
       " 356,\n",
       " 357,\n",
       " 358,\n",
       " 359,\n",
       " 360,\n",
       " 361,\n",
       " 362,\n",
       " 363,\n",
       " 364,\n",
       " 365,\n",
       " 366,\n",
       " 367,\n",
       " 368,\n",
       " 369,\n",
       " 370,\n",
       " 371,\n",
       " 372,\n",
       " 373,\n",
       " 374,\n",
       " 375,\n",
       " 376,\n",
       " 377,\n",
       " 378,\n",
       " 379,\n",
       " 380,\n",
       " 381,\n",
       " 382,\n",
       " 383,\n",
       " 384,\n",
       " 385,\n",
       " 386,\n",
       " 387,\n",
       " 388,\n",
       " 389,\n",
       " 390,\n",
       " 391,\n",
       " 392,\n",
       " 393,\n",
       " 394,\n",
       " 395,\n",
       " 396,\n",
       " 397,\n",
       " 398,\n",
       " 399,\n",
       " 400,\n",
       " 401,\n",
       " 402,\n",
       " 403,\n",
       " 404,\n",
       " 405,\n",
       " 406,\n",
       " 407,\n",
       " 408,\n",
       " 409,\n",
       " 410,\n",
       " 411,\n",
       " 412,\n",
       " 413,\n",
       " 414,\n",
       " 415,\n",
       " 416,\n",
       " 417,\n",
       " 418,\n",
       " 419,\n",
       " 420,\n",
       " 421,\n",
       " 422,\n",
       " 423,\n",
       " 424,\n",
       " 425,\n",
       " 426,\n",
       " 427,\n",
       " 428,\n",
       " 429,\n",
       " 430,\n",
       " 431,\n",
       " 432,\n",
       " 433,\n",
       " 434,\n",
       " 435,\n",
       " 436,\n",
       " 437,\n",
       " 438,\n",
       " 439,\n",
       " 440,\n",
       " 441,\n",
       " 442,\n",
       " 443,\n",
       " 444,\n",
       " 445,\n",
       " 446,\n",
       " 447,\n",
       " 448,\n",
       " 449,\n",
       " 450,\n",
       " 451,\n",
       " 452,\n",
       " 453,\n",
       " 454,\n",
       " 455,\n",
       " 456,\n",
       " 457,\n",
       " 458,\n",
       " 459,\n",
       " 460,\n",
       " 461,\n",
       " 462,\n",
       " 463,\n",
       " 464,\n",
       " 465,\n",
       " 466,\n",
       " 467,\n",
       " 468,\n",
       " 469,\n",
       " 470,\n",
       " 471,\n",
       " 472,\n",
       " 473,\n",
       " 474,\n",
       " 475,\n",
       " 476,\n",
       " 477,\n",
       " 478,\n",
       " 479,\n",
       " 480,\n",
       " 481,\n",
       " 482,\n",
       " 483,\n",
       " 484,\n",
       " 485,\n",
       " 486,\n",
       " 487,\n",
       " 488,\n",
       " 489,\n",
       " 490,\n",
       " 491,\n",
       " 492,\n",
       " 493,\n",
       " 494,\n",
       " 495,\n",
       " 496,\n",
       " 497,\n",
       " 498,\n",
       " 499,\n",
       " 500,\n",
       " 501,\n",
       " 502,\n",
       " 503,\n",
       " 504,\n",
       " 505,\n",
       " 506,\n",
       " 507,\n",
       " 508,\n",
       " 509,\n",
       " 510,\n",
       " 511,\n",
       " 512,\n",
       " 513,\n",
       " 514,\n",
       " 515,\n",
       " 516,\n",
       " 517,\n",
       " 518,\n",
       " 519,\n",
       " 520,\n",
       " 521,\n",
       " 522,\n",
       " 523,\n",
       " 524,\n",
       " 525,\n",
       " 526,\n",
       " 527,\n",
       " 528,\n",
       " 529,\n",
       " 530,\n",
       " 531,\n",
       " 532,\n",
       " 533,\n",
       " 534,\n",
       " 535,\n",
       " 536,\n",
       " 537,\n",
       " 538,\n",
       " 539,\n",
       " 540,\n",
       " 541,\n",
       " 542,\n",
       " 543,\n",
       " 544,\n",
       " 545,\n",
       " 546,\n",
       " 547,\n",
       " 548,\n",
       " 549,\n",
       " 550,\n",
       " 551,\n",
       " 552,\n",
       " 553,\n",
       " 554,\n",
       " 555,\n",
       " 556,\n",
       " 557,\n",
       " 558,\n",
       " 559,\n",
       " 560,\n",
       " 561,\n",
       " 562,\n",
       " 563,\n",
       " 564,\n",
       " 565,\n",
       " 566,\n",
       " 567,\n",
       " 568,\n",
       " 569,\n",
       " 570,\n",
       " 571,\n",
       " 572,\n",
       " 573,\n",
       " 574,\n",
       " 575,\n",
       " 576,\n",
       " 577,\n",
       " 578,\n",
       " 579,\n",
       " 580,\n",
       " 581,\n",
       " 582,\n",
       " 583,\n",
       " 584,\n",
       " 585,\n",
       " 586,\n",
       " 587,\n",
       " 588,\n",
       " 589,\n",
       " 590,\n",
       " 591,\n",
       " 592,\n",
       " 593,\n",
       " 594,\n",
       " 595,\n",
       " 596,\n",
       " 597,\n",
       " 598,\n",
       " 599,\n",
       " 600,\n",
       " 601,\n",
       " 602,\n",
       " 603,\n",
       " 604,\n",
       " 605,\n",
       " 606,\n",
       " 607,\n",
       " 608,\n",
       " 609,\n",
       " 610,\n",
       " 611,\n",
       " 612,\n",
       " 613,\n",
       " 614,\n",
       " 615,\n",
       " 616,\n",
       " 617,\n",
       " 618,\n",
       " 619,\n",
       " 620,\n",
       " 621,\n",
       " 622,\n",
       " 623,\n",
       " 624,\n",
       " 625,\n",
       " 626,\n",
       " 627,\n",
       " 628,\n",
       " 629,\n",
       " 630,\n",
       " 631,\n",
       " 632,\n",
       " 633,\n",
       " 634,\n",
       " 635,\n",
       " 636,\n",
       " 637,\n",
       " 638,\n",
       " 639,\n",
       " 640,\n",
       " 641,\n",
       " 642,\n",
       " 643,\n",
       " 644,\n",
       " 645,\n",
       " 646,\n",
       " 647,\n",
       " 648,\n",
       " 649,\n",
       " 650,\n",
       " 651,\n",
       " 652,\n",
       " 653,\n",
       " 654,\n",
       " 655,\n",
       " 656,\n",
       " 657,\n",
       " 658,\n",
       " 659,\n",
       " 660,\n",
       " 661,\n",
       " 662,\n",
       " 663,\n",
       " 664,\n",
       " 665,\n",
       " 666,\n",
       " 667,\n",
       " 668,\n",
       " 669,\n",
       " 670,\n",
       " 671,\n",
       " 672,\n",
       " 673,\n",
       " 674,\n",
       " 675,\n",
       " 676,\n",
       " 677,\n",
       " 678,\n",
       " 679,\n",
       " 680,\n",
       " 681,\n",
       " 682,\n",
       " 683,\n",
       " 684,\n",
       " 685,\n",
       " 686,\n",
       " 687,\n",
       " 688,\n",
       " 689,\n",
       " 690,\n",
       " 691,\n",
       " 692,\n",
       " 693,\n",
       " 694,\n",
       " 695,\n",
       " 696,\n",
       " 697,\n",
       " 698,\n",
       " 699,\n",
       " 700,\n",
       " 701,\n",
       " 702,\n",
       " 703,\n",
       " 704,\n",
       " 705,\n",
       " 706,\n",
       " 707,\n",
       " 708,\n",
       " 709,\n",
       " 710,\n",
       " 711,\n",
       " 712,\n",
       " 713,\n",
       " 714,\n",
       " 715,\n",
       " 716,\n",
       " 717,\n",
       " 718,\n",
       " 719,\n",
       " 720,\n",
       " 721,\n",
       " 722,\n",
       " 723,\n",
       " 724,\n",
       " 725,\n",
       " 726,\n",
       " 727,\n",
       " 728,\n",
       " 729,\n",
       " 730,\n",
       " 731,\n",
       " 732,\n",
       " 733,\n",
       " 734,\n",
       " 735,\n",
       " 736,\n",
       " 737,\n",
       " 738,\n",
       " 739,\n",
       " 740,\n",
       " 741,\n",
       " 742,\n",
       " 743,\n",
       " 744,\n",
       " 745,\n",
       " 746,\n",
       " 747,\n",
       " 748,\n",
       " 749,\n",
       " 750,\n",
       " 751,\n",
       " 752,\n",
       " 753,\n",
       " 754,\n",
       " 755,\n",
       " 756,\n",
       " 757,\n",
       " 758,\n",
       " 759,\n",
       " 760,\n",
       " 761,\n",
       " 762,\n",
       " 763,\n",
       " 764,\n",
       " 765,\n",
       " 766,\n",
       " 767,\n",
       " 768,\n",
       " 769,\n",
       " 770,\n",
       " 771,\n",
       " 772,\n",
       " 773,\n",
       " 774,\n",
       " 775,\n",
       " 776,\n",
       " 777,\n",
       " 778,\n",
       " 779,\n",
       " 780,\n",
       " 781,\n",
       " 782,\n",
       " 783,\n",
       " 784,\n",
       " 785,\n",
       " 786,\n",
       " 787,\n",
       " 788,\n",
       " 789,\n",
       " 790,\n",
       " 791,\n",
       " 792,\n",
       " 793,\n",
       " 794,\n",
       " 795,\n",
       " 796,\n",
       " 797,\n",
       " 798,\n",
       " 799,\n",
       " 800,\n",
       " 801,\n",
       " 802,\n",
       " 803,\n",
       " 804,\n",
       " 805,\n",
       " 806,\n",
       " 807,\n",
       " 808,\n",
       " 809,\n",
       " 810,\n",
       " 811,\n",
       " 812,\n",
       " 813,\n",
       " 814,\n",
       " 815,\n",
       " 816,\n",
       " 817,\n",
       " 818,\n",
       " 819,\n",
       " 820,\n",
       " 821,\n",
       " 822,\n",
       " 823,\n",
       " 824,\n",
       " 825,\n",
       " 826,\n",
       " 827,\n",
       " 828,\n",
       " 829,\n",
       " 830,\n",
       " 831,\n",
       " 832,\n",
       " 833,\n",
       " 834,\n",
       " 835,\n",
       " 836,\n",
       " 837,\n",
       " 838,\n",
       " 839,\n",
       " 840,\n",
       " 841,\n",
       " 842,\n",
       " 843,\n",
       " 844,\n",
       " 845,\n",
       " 846,\n",
       " 847,\n",
       " 848,\n",
       " 849,\n",
       " 850,\n",
       " 851,\n",
       " 852,\n",
       " 853,\n",
       " 854,\n",
       " 855,\n",
       " 856,\n",
       " 857,\n",
       " 858,\n",
       " 859,\n",
       " 860,\n",
       " 861,\n",
       " 862,\n",
       " 863,\n",
       " 864,\n",
       " 865,\n",
       " 866,\n",
       " 867,\n",
       " 868,\n",
       " 869,\n",
       " 870,\n",
       " 871,\n",
       " 872,\n",
       " 873,\n",
       " 874,\n",
       " 875,\n",
       " 876,\n",
       " 877,\n",
       " 878,\n",
       " 879,\n",
       " 880,\n",
       " 881,\n",
       " 882,\n",
       " 883,\n",
       " 884,\n",
       " 885,\n",
       " 886,\n",
       " 887,\n",
       " 888,\n",
       " 889,\n",
       " 890,\n",
       " 891,\n",
       " 892,\n",
       " 893,\n",
       " 894,\n",
       " 895,\n",
       " 896,\n",
       " 897,\n",
       " 898,\n",
       " 899,\n",
       " 900,\n",
       " 901,\n",
       " 902,\n",
       " 903,\n",
       " 904,\n",
       " 905,\n",
       " 906,\n",
       " 907,\n",
       " 908,\n",
       " 909,\n",
       " 910,\n",
       " 911,\n",
       " 912,\n",
       " 913,\n",
       " 914,\n",
       " 915,\n",
       " 916,\n",
       " 917,\n",
       " 918,\n",
       " 919,\n",
       " 920,\n",
       " 921,\n",
       " 922,\n",
       " 923,\n",
       " 924,\n",
       " 925,\n",
       " 926,\n",
       " 927,\n",
       " 928,\n",
       " 929,\n",
       " 930,\n",
       " 931,\n",
       " 932,\n",
       " 933,\n",
       " 934,\n",
       " 935,\n",
       " 936,\n",
       " 937,\n",
       " 938,\n",
       " 939,\n",
       " 940,\n",
       " 941,\n",
       " 942,\n",
       " 943,\n",
       " 944,\n",
       " 945,\n",
       " 946,\n",
       " 947,\n",
       " 948,\n",
       " 949,\n",
       " 950,\n",
       " 951,\n",
       " 952,\n",
       " 953,\n",
       " 954,\n",
       " 955,\n",
       " 956,\n",
       " 957,\n",
       " 958,\n",
       " 959,\n",
       " 960,\n",
       " 961,\n",
       " 962,\n",
       " 963,\n",
       " 964,\n",
       " 965,\n",
       " 966,\n",
       " 967,\n",
       " 968,\n",
       " 969,\n",
       " 970,\n",
       " 971,\n",
       " 972,\n",
       " 973,\n",
       " 974,\n",
       " 975,\n",
       " 976,\n",
       " 977,\n",
       " 978,\n",
       " 979,\n",
       " 980,\n",
       " 981,\n",
       " 982,\n",
       " 983,\n",
       " 984,\n",
       " 985,\n",
       " 986,\n",
       " 987,\n",
       " 988,\n",
       " 989,\n",
       " 990,\n",
       " 991,\n",
       " 992,\n",
       " 993,\n",
       " 994,\n",
       " 995,\n",
       " 996,\n",
       " 997,\n",
       " 998,\n",
       " 999,\n",
       " ...]"
      ]
     },
     "execution_count": 4,
     "metadata": {},
     "output_type": "execute_result"
    }
   ],
   "source": [
    "itsalist"
   ]
  },
  {
   "cell_type": "code",
   "execution_count": 9,
   "id": "ef9aeb5b",
   "metadata": {},
   "outputs": [
    {
     "data": {
      "text/plain": [
       "array([   0,    1,    2, ..., 9996, 9997, 9998], shape=(9999,))"
      ]
     },
     "execution_count": 9,
     "metadata": {},
     "output_type": "execute_result"
    }
   ],
   "source": [
    "itsarray"
   ]
  },
  {
   "cell_type": "code",
   "execution_count": 15,
   "id": "eadbb309",
   "metadata": {},
   "outputs": [
    {
     "name": "stdout",
     "output_type": "stream",
     "text": [
      "CPU times: user 2.02 s, sys: 176 ms, total: 2.2 s\n",
      "Wall time: 2.21 s\n"
     ]
    }
   ],
   "source": [
    "%%time\n",
    "for _ in range(10000): [x*2 for x in itsalist]"
   ]
  },
  {
   "cell_type": "code",
   "execution_count": 16,
   "id": "167fdc27",
   "metadata": {},
   "outputs": [
    {
     "name": "stdout",
     "output_type": "stream",
     "text": [
      "CPU times: user 55.6 ms, sys: 2.67 ms, total: 58.2 ms\n",
      "Wall time: 58.8 ms\n"
     ]
    }
   ],
   "source": [
    "%%time\n",
    "for _ in range(10000): itsarray*2"
   ]
  },
  {
   "cell_type": "code",
   "execution_count": 20,
   "id": "f364e306",
   "metadata": {},
   "outputs": [
    {
     "name": "stdout",
     "output_type": "stream",
     "text": [
      "machine spent 35.714285714285715 more time in python than numpy\n",
      "it means numpy is waaay efficient\n"
     ]
    }
   ],
   "source": [
    "nptime = 0.0588\n",
    "pytime = 2.1\n",
    "print('machine spent',pytime/nptime, 'more time in python than numpy')\n",
    "print('it means numpy is waaay efficient')"
   ]
  },
  {
   "cell_type": "code",
   "execution_count": 30,
   "id": "e725e9c2",
   "metadata": {},
   "outputs": [
    {
     "name": "stdout",
     "output_type": "stream",
     "text": [
      "50\n"
     ]
    },
    {
     "data": {
      "text/plain": [
       "[37, 94, 27, 9, 56, 26, 52, 22, 38, 3]"
      ]
     },
     "execution_count": 30,
     "metadata": {},
     "output_type": "execute_result"
    }
   ],
   "source": [
    "import random\n",
    "pylist = [random.randint(1,100) for _ in range(50)]\n",
    "print(len(pylist))\n",
    "pylist[:10]"
   ]
  },
  {
   "cell_type": "code",
   "execution_count": 28,
   "id": "c197760a",
   "metadata": {},
   "outputs": [
    {
     "data": {
      "text/plain": [
       "150"
      ]
     },
     "execution_count": 28,
     "metadata": {},
     "output_type": "execute_result"
    }
   ],
   "source": [
    "len(pylist*3)\n"
   ]
  },
  {
   "cell_type": "code",
   "execution_count": 35,
   "id": "1154ecad",
   "metadata": {},
   "outputs": [
    {
     "data": {
      "text/plain": [
       "array([20, 27, 24, 27, 24, 26, 21, 29, 29, 25])"
      ]
     },
     "execution_count": 35,
     "metadata": {},
     "output_type": "execute_result"
    }
   ],
   "source": [
    "myarray = np.random.randint(20,30, size=10)\n",
    "myarray"
   ]
  },
  {
   "cell_type": "code",
   "execution_count": 37,
   "id": "340f9e2f",
   "metadata": {},
   "outputs": [
    {
     "data": {
      "text/plain": [
       "array([[0.61282052, 0.65609462, 0.39064452, 0.07894517, 0.9880397 ,\n",
       "        0.75836304],\n",
       "       [0.62275866, 0.6708195 , 0.74382331, 0.18040914, 0.59184367,\n",
       "        0.46485196],\n",
       "       [0.26973547, 0.4259965 , 0.67118931, 0.62177639, 0.71983593,\n",
       "        0.74618495],\n",
       "       [0.74661906, 0.86270069, 0.85664454, 0.63240402, 0.42050503,\n",
       "        0.12724128],\n",
       "       [0.61721383, 0.28321024, 0.2214583 , 0.54367451, 0.04066929,\n",
       "        0.92369728]])"
      ]
     },
     "execution_count": 37,
     "metadata": {},
     "output_type": "execute_result"
    }
   ],
   "source": [
    "myarray2 = np.random.rand(5,6)\n",
    "myarray2"
   ]
  },
  {
   "cell_type": "code",
   "execution_count": 38,
   "id": "a4ee372e",
   "metadata": {},
   "outputs": [
    {
     "data": {
      "text/plain": [
       "2"
      ]
     },
     "execution_count": 38,
     "metadata": {},
     "output_type": "execute_result"
    }
   ],
   "source": [
    "myarray2.ndim"
   ]
  },
  {
   "cell_type": "code",
   "execution_count": 39,
   "id": "9abd68d4",
   "metadata": {},
   "outputs": [
    {
     "data": {
      "text/plain": [
       "30"
      ]
     },
     "execution_count": 39,
     "metadata": {},
     "output_type": "execute_result"
    }
   ],
   "source": [
    "myarray2.size"
   ]
  },
  {
   "cell_type": "code",
   "execution_count": 40,
   "id": "eab1f7d1",
   "metadata": {},
   "outputs": [
    {
     "data": {
      "text/plain": [
       "(5, 6)"
      ]
     },
     "execution_count": 40,
     "metadata": {},
     "output_type": "execute_result"
    }
   ],
   "source": [
    "myarray2.shape"
   ]
  },
  {
   "cell_type": "code",
   "execution_count": 41,
   "id": "55a0a7c9",
   "metadata": {},
   "outputs": [
    {
     "data": {
      "text/plain": [
       "array([[0., 0., 0., 0., 0., 0., 0.],\n",
       "       [0., 0., 0., 0., 0., 0., 0.],\n",
       "       [0., 0., 0., 0., 0., 0., 0.],\n",
       "       [0., 0., 0., 0., 0., 0., 0.],\n",
       "       [0., 0., 0., 0., 0., 0., 0.]])"
      ]
     },
     "execution_count": 41,
     "metadata": {},
     "output_type": "execute_result"
    }
   ],
   "source": [
    "myaray3 = np.zeros((5,7))\n",
    "myaray3"
   ]
  },
  {
   "cell_type": "code",
   "execution_count": 47,
   "id": "2554ef3d",
   "metadata": {},
   "outputs": [
    {
     "name": "stdout",
     "output_type": "stream",
     "text": [
      "shape (5, 7)\n",
      "size 35\n",
      "ndim 2\n",
      "also the array itself below:\n",
      " [[0. 0. 0. 0. 0. 0. 0.]\n",
      " [0. 0. 0. 0. 0. 0. 0.]\n",
      " [0. 0. 0. 0. 0. 0. 0.]\n",
      " [0. 0. 0. 0. 0. 0. 0.]\n",
      " [0. 0. 0. 0. 0. 0. 0.]]\n"
     ]
    }
   ],
   "source": [
    "print('shape', myaray3.shape)\n",
    "print('size', myaray3.size)\n",
    "print('ndim', myaray3.ndim)\n",
    "\n",
    "print('also the array itself below:\\n', myaray3)"
   ]
  },
  {
   "cell_type": "code",
   "execution_count": 48,
   "id": "a6424e78",
   "metadata": {},
   "outputs": [
    {
     "data": {
      "text/html": [
       "<div>\n",
       "<style scoped>\n",
       "    .dataframe tbody tr th:only-of-type {\n",
       "        vertical-align: middle;\n",
       "    }\n",
       "\n",
       "    .dataframe tbody tr th {\n",
       "        vertical-align: top;\n",
       "    }\n",
       "\n",
       "    .dataframe thead th {\n",
       "        text-align: right;\n",
       "    }\n",
       "</style>\n",
       "<table border=\"1\" class=\"dataframe\">\n",
       "  <thead>\n",
       "    <tr style=\"text-align: right;\">\n",
       "      <th></th>\n",
       "      <th>0</th>\n",
       "      <th>1</th>\n",
       "      <th>2</th>\n",
       "      <th>3</th>\n",
       "      <th>4</th>\n",
       "      <th>5</th>\n",
       "      <th>6</th>\n",
       "    </tr>\n",
       "  </thead>\n",
       "  <tbody>\n",
       "    <tr>\n",
       "      <th>0</th>\n",
       "      <td>0.0</td>\n",
       "      <td>0.0</td>\n",
       "      <td>0.0</td>\n",
       "      <td>0.0</td>\n",
       "      <td>0.0</td>\n",
       "      <td>0.0</td>\n",
       "      <td>0.0</td>\n",
       "    </tr>\n",
       "    <tr>\n",
       "      <th>1</th>\n",
       "      <td>0.0</td>\n",
       "      <td>0.0</td>\n",
       "      <td>0.0</td>\n",
       "      <td>0.0</td>\n",
       "      <td>0.0</td>\n",
       "      <td>0.0</td>\n",
       "      <td>0.0</td>\n",
       "    </tr>\n",
       "    <tr>\n",
       "      <th>2</th>\n",
       "      <td>0.0</td>\n",
       "      <td>0.0</td>\n",
       "      <td>0.0</td>\n",
       "      <td>0.0</td>\n",
       "      <td>0.0</td>\n",
       "      <td>0.0</td>\n",
       "      <td>0.0</td>\n",
       "    </tr>\n",
       "    <tr>\n",
       "      <th>3</th>\n",
       "      <td>0.0</td>\n",
       "      <td>0.0</td>\n",
       "      <td>0.0</td>\n",
       "      <td>0.0</td>\n",
       "      <td>0.0</td>\n",
       "      <td>0.0</td>\n",
       "      <td>0.0</td>\n",
       "    </tr>\n",
       "    <tr>\n",
       "      <th>4</th>\n",
       "      <td>0.0</td>\n",
       "      <td>0.0</td>\n",
       "      <td>0.0</td>\n",
       "      <td>0.0</td>\n",
       "      <td>0.0</td>\n",
       "      <td>0.0</td>\n",
       "      <td>0.0</td>\n",
       "    </tr>\n",
       "  </tbody>\n",
       "</table>\n",
       "</div>"
      ],
      "text/plain": [
       "     0    1    2    3    4    5    6\n",
       "0  0.0  0.0  0.0  0.0  0.0  0.0  0.0\n",
       "1  0.0  0.0  0.0  0.0  0.0  0.0  0.0\n",
       "2  0.0  0.0  0.0  0.0  0.0  0.0  0.0\n",
       "3  0.0  0.0  0.0  0.0  0.0  0.0  0.0\n",
       "4  0.0  0.0  0.0  0.0  0.0  0.0  0.0"
      ]
     },
     "execution_count": 48,
     "metadata": {},
     "output_type": "execute_result"
    }
   ],
   "source": [
    "import pandas as pd\n",
    "df = pd.DataFrame(myaray3)\n",
    "df"
   ]
  },
  {
   "cell_type": "code",
   "execution_count": 51,
   "id": "4385627c",
   "metadata": {},
   "outputs": [
    {
     "data": {
      "text/plain": [
       "array([[1., 1., 1., 1., 1., 1., 1.],\n",
       "       [1., 1., 1., 1., 1., 1., 1.],\n",
       "       [1., 1., 1., 1., 1., 1., 1.],\n",
       "       [1., 1., 1., 1., 1., 1., 1.],\n",
       "       [1., 1., 1., 1., 1., 1., 1.],\n",
       "       [1., 1., 1., 1., 1., 1., 1.],\n",
       "       [1., 1., 1., 1., 1., 1., 1.]])"
      ]
     },
     "execution_count": 51,
     "metadata": {},
     "output_type": "execute_result"
    }
   ],
   "source": [
    "myarray4 = np.ones((7,7))\n",
    "myarray4"
   ]
  },
  {
   "cell_type": "code",
   "execution_count": 52,
   "id": "12595c3e",
   "metadata": {},
   "outputs": [
    {
     "data": {
      "text/plain": [
       "array([ 5, 10, 15, 20])"
      ]
     },
     "execution_count": 52,
     "metadata": {},
     "output_type": "execute_result"
    }
   ],
   "source": [
    "myarray5 = np.arange(5,25,5)\n",
    "myarray5"
   ]
  },
  {
   "cell_type": "code",
   "execution_count": 53,
   "id": "66362f6f",
   "metadata": {},
   "outputs": [
    {
     "data": {
      "text/plain": [
       "array([[0.8488177 , 0.17889592, 0.05436321, 0.36153845],\n",
       "       [0.27540093, 0.53000022, 0.30591892, 0.30447436],\n",
       "       [0.11174128, 0.24989901, 0.9176299 , 0.26414685],\n",
       "       [0.71777369, 0.86571503, 0.80707948, 0.21055058],\n",
       "       [0.16724303, 0.04670639, 0.03942231, 0.20023081],\n",
       "       [0.9985434 , 0.37278698, 0.76051027, 0.47347444],\n",
       "       [0.50971531, 0.94503842, 0.10944665, 0.46509316],\n",
       "       [0.14155526, 0.53834876, 0.29899866, 0.53774522],\n",
       "       [0.66562754, 0.3643288 , 0.62301862, 0.64272489],\n",
       "       [0.41998182, 0.40324243, 0.39042033, 0.40618952]])"
      ]
     },
     "execution_count": 53,
     "metadata": {},
     "output_type": "execute_result"
    }
   ],
   "source": [
    "#random raqamlarni ham doim bir xil output qilishni yoli\n",
    "#seed orqali\n",
    "np.random.seed(15)\n",
    "myarray6 = np.random.rand(10,4)\n",
    "myarray6"
   ]
  },
  {
   "cell_type": "code",
   "execution_count": 54,
   "id": "e6d695db",
   "metadata": {},
   "outputs": [
    {
     "data": {
      "text/html": [
       "<div>\n",
       "<style scoped>\n",
       "    .dataframe tbody tr th:only-of-type {\n",
       "        vertical-align: middle;\n",
       "    }\n",
       "\n",
       "    .dataframe tbody tr th {\n",
       "        vertical-align: top;\n",
       "    }\n",
       "\n",
       "    .dataframe thead th {\n",
       "        text-align: right;\n",
       "    }\n",
       "</style>\n",
       "<table border=\"1\" class=\"dataframe\">\n",
       "  <thead>\n",
       "    <tr style=\"text-align: right;\">\n",
       "      <th></th>\n",
       "      <th>0</th>\n",
       "      <th>1</th>\n",
       "      <th>2</th>\n",
       "      <th>3</th>\n",
       "    </tr>\n",
       "  </thead>\n",
       "  <tbody>\n",
       "    <tr>\n",
       "      <th>0</th>\n",
       "      <td>0.848818</td>\n",
       "      <td>0.178896</td>\n",
       "      <td>0.054363</td>\n",
       "      <td>0.361538</td>\n",
       "    </tr>\n",
       "    <tr>\n",
       "      <th>1</th>\n",
       "      <td>0.275401</td>\n",
       "      <td>0.530000</td>\n",
       "      <td>0.305919</td>\n",
       "      <td>0.304474</td>\n",
       "    </tr>\n",
       "    <tr>\n",
       "      <th>2</th>\n",
       "      <td>0.111741</td>\n",
       "      <td>0.249899</td>\n",
       "      <td>0.917630</td>\n",
       "      <td>0.264147</td>\n",
       "    </tr>\n",
       "    <tr>\n",
       "      <th>3</th>\n",
       "      <td>0.717774</td>\n",
       "      <td>0.865715</td>\n",
       "      <td>0.807079</td>\n",
       "      <td>0.210551</td>\n",
       "    </tr>\n",
       "    <tr>\n",
       "      <th>4</th>\n",
       "      <td>0.167243</td>\n",
       "      <td>0.046706</td>\n",
       "      <td>0.039422</td>\n",
       "      <td>0.200231</td>\n",
       "    </tr>\n",
       "    <tr>\n",
       "      <th>5</th>\n",
       "      <td>0.998543</td>\n",
       "      <td>0.372787</td>\n",
       "      <td>0.760510</td>\n",
       "      <td>0.473474</td>\n",
       "    </tr>\n",
       "    <tr>\n",
       "      <th>6</th>\n",
       "      <td>0.509715</td>\n",
       "      <td>0.945038</td>\n",
       "      <td>0.109447</td>\n",
       "      <td>0.465093</td>\n",
       "    </tr>\n",
       "    <tr>\n",
       "      <th>7</th>\n",
       "      <td>0.141555</td>\n",
       "      <td>0.538349</td>\n",
       "      <td>0.298999</td>\n",
       "      <td>0.537745</td>\n",
       "    </tr>\n",
       "    <tr>\n",
       "      <th>8</th>\n",
       "      <td>0.665628</td>\n",
       "      <td>0.364329</td>\n",
       "      <td>0.623019</td>\n",
       "      <td>0.642725</td>\n",
       "    </tr>\n",
       "    <tr>\n",
       "      <th>9</th>\n",
       "      <td>0.419982</td>\n",
       "      <td>0.403242</td>\n",
       "      <td>0.390420</td>\n",
       "      <td>0.406190</td>\n",
       "    </tr>\n",
       "  </tbody>\n",
       "</table>\n",
       "</div>"
      ],
      "text/plain": [
       "          0         1         2         3\n",
       "0  0.848818  0.178896  0.054363  0.361538\n",
       "1  0.275401  0.530000  0.305919  0.304474\n",
       "2  0.111741  0.249899  0.917630  0.264147\n",
       "3  0.717774  0.865715  0.807079  0.210551\n",
       "4  0.167243  0.046706  0.039422  0.200231\n",
       "5  0.998543  0.372787  0.760510  0.473474\n",
       "6  0.509715  0.945038  0.109447  0.465093\n",
       "7  0.141555  0.538349  0.298999  0.537745\n",
       "8  0.665628  0.364329  0.623019  0.642725\n",
       "9  0.419982  0.403242  0.390420  0.406190"
      ]
     },
     "execution_count": 54,
     "metadata": {},
     "output_type": "execute_result"
    }
   ],
   "source": [
    "pd.DataFrame(myarray6)"
   ]
  },
  {
   "cell_type": "code",
   "execution_count": 58,
   "id": "f8ea1ede",
   "metadata": {},
   "outputs": [
    {
     "name": "stdout",
     "output_type": "stream",
     "text": [
      "[ 2.04889876 -0.78260896 -0.2503207  -0.30831446  1.72968803]\n",
      "[0.52049647 0.68456904 0.4252903  0.60347306 0.82384911]\n"
     ]
    }
   ],
   "source": [
    "#rand vs randn ni asosiy farqi randn da negative random numberlar ham generate boladi\n",
    "myarray7 = np.random.randn(5)\n",
    "print(myarray7)\n",
    "myarray8 = np.random.rand(5)\n",
    "print(myarray8)"
   ]
  },
  {
   "cell_type": "code",
   "execution_count": 59,
   "id": "5b7d64c0",
   "metadata": {},
   "outputs": [
    {
     "data": {
      "text/html": [
       "<div>\n",
       "<style scoped>\n",
       "    .dataframe tbody tr th:only-of-type {\n",
       "        vertical-align: middle;\n",
       "    }\n",
       "\n",
       "    .dataframe tbody tr th {\n",
       "        vertical-align: top;\n",
       "    }\n",
       "\n",
       "    .dataframe thead th {\n",
       "        text-align: right;\n",
       "    }\n",
       "</style>\n",
       "<table border=\"1\" class=\"dataframe\">\n",
       "  <thead>\n",
       "    <tr style=\"text-align: right;\">\n",
       "      <th></th>\n",
       "      <th>0</th>\n",
       "      <th>1</th>\n",
       "      <th>2</th>\n",
       "      <th>3</th>\n",
       "      <th>4</th>\n",
       "    </tr>\n",
       "  </thead>\n",
       "  <tbody>\n",
       "    <tr>\n",
       "      <th>0</th>\n",
       "      <td>15</td>\n",
       "      <td>16</td>\n",
       "      <td>32</td>\n",
       "      <td>33</td>\n",
       "      <td>34</td>\n",
       "    </tr>\n",
       "    <tr>\n",
       "      <th>1</th>\n",
       "      <td>33</td>\n",
       "      <td>28</td>\n",
       "      <td>36</td>\n",
       "      <td>23</td>\n",
       "      <td>8</td>\n",
       "    </tr>\n",
       "    <tr>\n",
       "      <th>2</th>\n",
       "      <td>39</td>\n",
       "      <td>10</td>\n",
       "      <td>11</td>\n",
       "      <td>13</td>\n",
       "      <td>34</td>\n",
       "    </tr>\n",
       "    <tr>\n",
       "      <th>3</th>\n",
       "      <td>15</td>\n",
       "      <td>21</td>\n",
       "      <td>12</td>\n",
       "      <td>3</td>\n",
       "      <td>27</td>\n",
       "    </tr>\n",
       "    <tr>\n",
       "      <th>4</th>\n",
       "      <td>20</td>\n",
       "      <td>20</td>\n",
       "      <td>27</td>\n",
       "      <td>0</td>\n",
       "      <td>4</td>\n",
       "    </tr>\n",
       "  </tbody>\n",
       "</table>\n",
       "</div>"
      ],
      "text/plain": [
       "    0   1   2   3   4\n",
       "0  15  16  32  33  34\n",
       "1  33  28  36  23   8\n",
       "2  39  10  11  13  34\n",
       "3  15  21  12   3  27\n",
       "4  20  20  27   0   4"
      ]
     },
     "execution_count": 59,
     "metadata": {},
     "output_type": "execute_result"
    }
   ],
   "source": [
    "#integerlar bilan\n",
    "myarray9 = np.random.randint(40, size=(5,5))\n",
    "pd.DataFrame(myarray9)"
   ]
  },
  {
   "cell_type": "code",
   "execution_count": 60,
   "id": "490b2383",
   "metadata": {},
   "outputs": [
    {
     "data": {
      "text/html": [
       "<div>\n",
       "<style scoped>\n",
       "    .dataframe tbody tr th:only-of-type {\n",
       "        vertical-align: middle;\n",
       "    }\n",
       "\n",
       "    .dataframe tbody tr th {\n",
       "        vertical-align: top;\n",
       "    }\n",
       "\n",
       "    .dataframe thead th {\n",
       "        text-align: right;\n",
       "    }\n",
       "</style>\n",
       "<table border=\"1\" class=\"dataframe\">\n",
       "  <thead>\n",
       "    <tr style=\"text-align: right;\">\n",
       "      <th></th>\n",
       "      <th>0</th>\n",
       "      <th>1</th>\n",
       "      <th>2</th>\n",
       "      <th>3</th>\n",
       "      <th>4</th>\n",
       "    </tr>\n",
       "  </thead>\n",
       "  <tbody>\n",
       "    <tr>\n",
       "      <th>0</th>\n",
       "      <td>1.0</td>\n",
       "      <td>0.0</td>\n",
       "      <td>0.0</td>\n",
       "      <td>0.0</td>\n",
       "      <td>0.0</td>\n",
       "    </tr>\n",
       "    <tr>\n",
       "      <th>1</th>\n",
       "      <td>0.0</td>\n",
       "      <td>1.0</td>\n",
       "      <td>0.0</td>\n",
       "      <td>0.0</td>\n",
       "      <td>0.0</td>\n",
       "    </tr>\n",
       "    <tr>\n",
       "      <th>2</th>\n",
       "      <td>0.0</td>\n",
       "      <td>0.0</td>\n",
       "      <td>1.0</td>\n",
       "      <td>0.0</td>\n",
       "      <td>0.0</td>\n",
       "    </tr>\n",
       "    <tr>\n",
       "      <th>3</th>\n",
       "      <td>0.0</td>\n",
       "      <td>0.0</td>\n",
       "      <td>0.0</td>\n",
       "      <td>1.0</td>\n",
       "      <td>0.0</td>\n",
       "    </tr>\n",
       "    <tr>\n",
       "      <th>4</th>\n",
       "      <td>0.0</td>\n",
       "      <td>0.0</td>\n",
       "      <td>0.0</td>\n",
       "      <td>0.0</td>\n",
       "      <td>1.0</td>\n",
       "    </tr>\n",
       "  </tbody>\n",
       "</table>\n",
       "</div>"
      ],
      "text/plain": [
       "     0    1    2    3    4\n",
       "0  1.0  0.0  0.0  0.0  0.0\n",
       "1  0.0  1.0  0.0  0.0  0.0\n",
       "2  0.0  0.0  1.0  0.0  0.0\n",
       "3  0.0  0.0  0.0  1.0  0.0\n",
       "4  0.0  0.0  0.0  0.0  1.0"
      ]
     },
     "execution_count": 60,
     "metadata": {},
     "output_type": "execute_result"
    }
   ],
   "source": [
    "#eye bilan\n",
    "pd.DataFrame(np.eye(5))"
   ]
  },
  {
   "cell_type": "code",
   "execution_count": 62,
   "id": "0b221537",
   "metadata": {},
   "outputs": [
    {
     "name": "stdout",
     "output_type": "stream",
     "text": [
      "int64\n",
      "float64\n"
     ]
    }
   ],
   "source": [
    "array2 = np.array([1,2,3])\n",
    "print(array2.dtype)\n",
    "print(myarray8.dtype)"
   ]
  },
  {
   "cell_type": "code",
   "execution_count": 75,
   "id": "5b22c96f",
   "metadata": {},
   "outputs": [
    {
     "name": "stdout",
     "output_type": "stream",
     "text": [
      "[1. 2. 3.]\n",
      "float32 12\n",
      "float16 6\n"
     ]
    }
   ],
   "source": [
    "array10 = np.array([1,2,3], dtype=np.float32)\n",
    "print(array10)\n",
    "print(array10.dtype, array10.nbytes)\n",
    "new_array = array10.astype(np.float16)\n",
    "print(new_array.dtype, new_array.nbytes)"
   ]
  },
  {
   "cell_type": "code",
   "execution_count": 76,
   "id": "839ee8e2",
   "metadata": {},
   "outputs": [
    {
     "name": "stdout",
     "output_type": "stream",
     "text": [
      "[ True  True  True] 3\n",
      "bool\n"
     ]
    }
   ],
   "source": [
    "array10 = np.array([1,2,3], dtype=np.bool)\n",
    "print(array10, array10.nbytes)\n",
    "print(array10.dtype)"
   ]
  },
  {
   "cell_type": "code",
   "execution_count": 77,
   "id": "ce8ecfa8",
   "metadata": {},
   "outputs": [
    {
     "data": {
      "text/plain": [
       "1"
      ]
     },
     "execution_count": 77,
     "metadata": {},
     "output_type": "execute_result"
    }
   ],
   "source": [
    "array10.itemsize"
   ]
  },
  {
   "cell_type": "code",
   "execution_count": 80,
   "id": "9450a805",
   "metadata": {},
   "outputs": [
    {
     "data": {
      "text/plain": [
       "array([ 5, 10, 15, 20])"
      ]
     },
     "execution_count": 80,
     "metadata": {},
     "output_type": "execute_result"
    }
   ],
   "source": [
    "myarray5"
   ]
  },
  {
   "cell_type": "code",
   "execution_count": 83,
   "id": "a58e4c43",
   "metadata": {},
   "outputs": [
    {
     "data": {
      "text/plain": [
       "array([15, 20])"
      ]
     },
     "execution_count": 83,
     "metadata": {},
     "output_type": "execute_result"
    }
   ],
   "source": [
    "myarray5[2:]"
   ]
  },
  {
   "cell_type": "code",
   "execution_count": 86,
   "id": "42000c73",
   "metadata": {},
   "outputs": [
    {
     "data": {
      "text/plain": [
       "array([20])"
      ]
     },
     "execution_count": 86,
     "metadata": {},
     "output_type": "execute_result"
    }
   ],
   "source": [
    "myarray5[-1:]"
   ]
  },
  {
   "cell_type": "code",
   "execution_count": 90,
   "id": "7f2ba0bd",
   "metadata": {},
   "outputs": [
    {
     "data": {
      "text/plain": [
       "array([20])"
      ]
     },
     "execution_count": 90,
     "metadata": {},
     "output_type": "execute_result"
    }
   ],
   "source": [
    "slicedarray=myarray5[-1:]\n",
    "slicedarray"
   ]
  },
  {
   "cell_type": "code",
   "execution_count": 93,
   "id": "6c77695a",
   "metadata": {},
   "outputs": [
    {
     "data": {
      "text/plain": [
       "np.int64(20)"
      ]
     },
     "execution_count": 93,
     "metadata": {},
     "output_type": "execute_result"
    }
   ],
   "source": [
    "slicedarray[0]"
   ]
  },
  {
   "cell_type": "code",
   "execution_count": 94,
   "id": "35aadf1c",
   "metadata": {},
   "outputs": [
    {
     "data": {
      "text/plain": [
       "array([[0.8488177 , 0.17889592, 0.05436321, 0.36153845],\n",
       "       [0.27540093, 0.53000022, 0.30591892, 0.30447436],\n",
       "       [0.11174128, 0.24989901, 0.9176299 , 0.26414685],\n",
       "       [0.71777369, 0.86571503, 0.80707948, 0.21055058],\n",
       "       [0.16724303, 0.04670639, 0.03942231, 0.20023081],\n",
       "       [0.9985434 , 0.37278698, 0.76051027, 0.47347444],\n",
       "       [0.50971531, 0.94503842, 0.10944665, 0.46509316],\n",
       "       [0.14155526, 0.53834876, 0.29899866, 0.53774522],\n",
       "       [0.66562754, 0.3643288 , 0.62301862, 0.64272489],\n",
       "       [0.41998182, 0.40324243, 0.39042033, 0.40618952]])"
      ]
     },
     "execution_count": 94,
     "metadata": {},
     "output_type": "execute_result"
    }
   ],
   "source": [
    "myarray6"
   ]
  },
  {
   "cell_type": "code",
   "execution_count": 92,
   "id": "85fb187e",
   "metadata": {},
   "outputs": [
    {
     "data": {
      "text/plain": [
       "array([0.8488177 , 0.17889592, 0.05436321, 0.36153845])"
      ]
     },
     "execution_count": 92,
     "metadata": {},
     "output_type": "execute_result"
    }
   ],
   "source": [
    "myarray6[0]"
   ]
  },
  {
   "cell_type": "code",
   "execution_count": 95,
   "id": "c1cccc1a",
   "metadata": {},
   "outputs": [
    {
     "data": {
      "text/plain": [
       "array([1.69763539, 0.35779185, 0.10872643, 0.72307689])"
      ]
     },
     "execution_count": 95,
     "metadata": {},
     "output_type": "execute_result"
    }
   ],
   "source": [
    "myarray6[0]*2"
   ]
  },
  {
   "cell_type": "code",
   "execution_count": 96,
   "id": "1c5c9583",
   "metadata": {},
   "outputs": [
    {
     "data": {
      "text/plain": [
       "array([0.42440885, 0.08944796, 0.02718161, 0.18076922])"
      ]
     },
     "execution_count": 96,
     "metadata": {},
     "output_type": "execute_result"
    }
   ],
   "source": [
    "myarray6[0]/2"
   ]
  },
  {
   "cell_type": "code",
   "execution_count": 98,
   "id": "7f83e6c4",
   "metadata": {},
   "outputs": [
    {
     "data": {
      "text/plain": [
       "array([0, 1, 2, 3, 4, 5, 6, 7, 8, 9])"
      ]
     },
     "execution_count": 98,
     "metadata": {},
     "output_type": "execute_result"
    }
   ],
   "source": [
    "arrr = np.arange(10)\n",
    "arrr"
   ]
  },
  {
   "cell_type": "code",
   "execution_count": 100,
   "id": "e1a1364e",
   "metadata": {},
   "outputs": [
    {
     "data": {
      "text/plain": [
       "array([ 0,  1,  2,  3,  4,  5, 55,  7,  8,  9])"
      ]
     },
     "execution_count": 100,
     "metadata": {},
     "output_type": "execute_result"
    }
   ],
   "source": [
    "arrr[6]=55\n",
    "arrr"
   ]
  },
  {
   "cell_type": "code",
   "execution_count": 101,
   "id": "0cf00df8",
   "metadata": {},
   "outputs": [
    {
     "data": {
      "text/plain": [
       "array([ 0,  1,  2,  3,  4,  5, 55,  7,  8,  9])"
      ]
     },
     "execution_count": 101,
     "metadata": {},
     "output_type": "execute_result"
    }
   ],
   "source": [
    "new_array=arrr.copy()\n",
    "new_array"
   ]
  },
  {
   "cell_type": "code",
   "execution_count": 115,
   "id": "48659bb5",
   "metadata": {},
   "outputs": [
    {
     "data": {
      "text/plain": [
       "array([[[0.21912028, 0.26267734, 0.77197004, 0.87405602, 0.99203312],\n",
       "        [0.70830294, 0.41377373, 0.00144461, 0.93303178, 0.85962703],\n",
       "        [0.07119029, 0.23701683, 0.73614841, 0.26028285, 0.16771962],\n",
       "        [0.97468474, 0.39167381, 0.30889318, 0.22940539, 0.06117567]],\n",
       "\n",
       "       [[0.46852377, 0.02376044, 0.71816179, 0.36863282, 0.5512897 ],\n",
       "        [0.84997281, 0.53071774, 0.99606673, 0.92199185, 0.54484521],\n",
       "        [0.69602149, 0.83041891, 0.2196513 , 0.43810492, 0.88428638],\n",
       "        [0.04987925, 0.53686535, 0.25463122, 0.39834575, 0.23240359]],\n",
       "\n",
       "       [[0.61229422, 0.82942423, 0.92469084, 0.14886116, 0.91384816],\n",
       "        [0.77236858, 0.77993011, 0.78049678, 0.27245317, 0.31771766],\n",
       "        [0.45824473, 0.08300445, 0.51290826, 0.64890599, 0.16246289],\n",
       "        [0.05767769, 0.87879149, 0.5291243 , 0.28144259, 0.78004478]]])"
      ]
     },
     "execution_count": 115,
     "metadata": {},
     "output_type": "execute_result"
    }
   ],
   "source": [
    "array3d = np.random.rand(3,4,5)\n",
    "array3d"
   ]
  },
  {
   "cell_type": "code",
   "execution_count": 117,
   "id": "df8319ff",
   "metadata": {},
   "outputs": [
    {
     "data": {
      "text/plain": [
       "array([[[0.46852377, 0.02376044, 0.71816179, 0.36863282, 0.5512897 ],\n",
       "        [0.84997281, 0.53071774, 0.99606673, 0.92199185, 0.54484521],\n",
       "        [0.69602149, 0.83041891, 0.2196513 , 0.43810492, 0.88428638],\n",
       "        [0.04987925, 0.53686535, 0.25463122, 0.39834575, 0.23240359]],\n",
       "\n",
       "       [[0.61229422, 0.82942423, 0.92469084, 0.14886116, 0.91384816],\n",
       "        [0.77236858, 0.77993011, 0.78049678, 0.27245317, 0.31771766],\n",
       "        [0.45824473, 0.08300445, 0.51290826, 0.64890599, 0.16246289],\n",
       "        [0.05767769, 0.87879149, 0.5291243 , 0.28144259, 0.78004478]]])"
      ]
     },
     "execution_count": 117,
     "metadata": {},
     "output_type": "execute_result"
    }
   ],
   "source": [
    "array3d[1:]"
   ]
  },
  {
   "cell_type": "code",
   "execution_count": 118,
   "id": "71adca67",
   "metadata": {},
   "outputs": [
    {
     "data": {
      "text/plain": [
       "array([[[0.21912028, 0.26267734, 0.77197004, 0.87405602, 0.99203312],\n",
       "        [0.70830294, 0.41377373, 0.00144461, 0.93303178, 0.85962703],\n",
       "        [0.07119029, 0.23701683, 0.73614841, 0.26028285, 0.16771962],\n",
       "        [0.97468474, 0.39167381, 0.30889318, 0.22940539, 0.06117567]]])"
      ]
     },
     "execution_count": 118,
     "metadata": {},
     "output_type": "execute_result"
    }
   ],
   "source": [
    "array3d[:1]"
   ]
  },
  {
   "cell_type": "code",
   "execution_count": 127,
   "id": "512181b4",
   "metadata": {},
   "outputs": [
    {
     "data": {
      "text/plain": [
       "array([[[0.69602149, 0.83041891, 0.2196513 , 0.43810492, 0.88428638],\n",
       "        [0.04987925, 0.53686535, 0.25463122, 0.39834575, 0.23240359]],\n",
       "\n",
       "       [[0.45824473, 0.08300445, 0.51290826, 0.64890599, 0.16246289],\n",
       "        [0.05767769, 0.87879149, 0.5291243 , 0.28144259, 0.78004478]]])"
      ]
     },
     "execution_count": 127,
     "metadata": {},
     "output_type": "execute_result"
    }
   ],
   "source": [
    "array3d[1:,2:]"
   ]
  },
  {
   "cell_type": "code",
   "execution_count": 131,
   "id": "63bd1c3d",
   "metadata": {},
   "outputs": [
    {
     "data": {
      "text/plain": [
       "array([[0.21912028, 0.26267734, 0.77197004, 0.87405602, 0.99203312],\n",
       "       [0.70830294, 0.41377373, 0.00144461, 0.93303178, 0.85962703],\n",
       "       [0.07119029, 0.23701683, 0.73614841, 0.26028285, 0.16771962],\n",
       "       [0.97468474, 0.39167381, 0.30889318, 0.22940539, 0.06117567]])"
      ]
     },
     "execution_count": 131,
     "metadata": {},
     "output_type": "execute_result"
    }
   ],
   "source": [
    "array3d[0]"
   ]
  },
  {
   "cell_type": "code",
   "execution_count": 132,
   "id": "5d9bcc10",
   "metadata": {},
   "outputs": [
    {
     "data": {
      "text/plain": [
       "np.float64(0.736148408598335)"
      ]
     },
     "execution_count": 132,
     "metadata": {},
     "output_type": "execute_result"
    }
   ],
   "source": [
    "array3d[0][2,2]"
   ]
  },
  {
   "cell_type": "code",
   "execution_count": 133,
   "id": "8c5f7a16",
   "metadata": {},
   "outputs": [],
   "source": [
    "newww = array3d[0][2,2].astype(np.float32)"
   ]
  },
  {
   "cell_type": "code",
   "execution_count": 137,
   "id": "0b97b461",
   "metadata": {},
   "outputs": [
    {
     "data": {
      "text/plain": [
       "np.float32(0.7361484)"
      ]
     },
     "execution_count": 137,
     "metadata": {},
     "output_type": "execute_result"
    }
   ],
   "source": [
    "newww"
   ]
  },
  {
   "cell_type": "code",
   "execution_count": 139,
   "id": "734237df",
   "metadata": {},
   "outputs": [
    {
     "data": {
      "text/plain": [
       "array([[0.84997281, 0.53071774],\n",
       "       [0.69602149, 0.83041891],\n",
       "       [0.04987925, 0.53686535]])"
      ]
     },
     "execution_count": 139,
     "metadata": {},
     "output_type": "execute_result"
    }
   ],
   "source": [
    "array3d[1,1:,:2]"
   ]
  },
  {
   "cell_type": "code",
   "execution_count": 168,
   "id": "64337387",
   "metadata": {},
   "outputs": [
    {
     "data": {
      "text/plain": [
       "array([[[ 1.62434536, -0.61175641, -0.52817175, -1.07296862],\n",
       "        [ 0.86540763, -2.3015387 ,  1.74481176, -0.7612069 ],\n",
       "        [ 0.3190391 , -0.24937038,  1.46210794, -2.06014071]],\n",
       "\n",
       "       [[-0.3224172 , -0.38405435,  1.13376944, -1.09989127],\n",
       "        [-0.17242821, -0.87785842,  0.04221375,  0.58281521],\n",
       "        [-1.10061918,  1.14472371,  0.90159072,  0.50249434]],\n",
       "\n",
       "       [[ 0.90085595, -0.68372786, -0.12289023, -0.93576943],\n",
       "        [-0.26788808,  0.53035547, -0.69166075, -0.39675353],\n",
       "        [-0.6871727 , -0.84520564, -0.67124613, -0.0126646 ]],\n",
       "\n",
       "       [[-1.11731035,  0.2344157 ,  1.65980218,  0.74204416],\n",
       "        [-0.19183555, -0.88762896, -0.74715829,  1.6924546 ],\n",
       "        [ 0.05080775, -0.63699565,  0.19091548,  2.10025514]],\n",
       "\n",
       "       [[ 0.12015895,  0.61720311,  0.30017032, -0.35224985],\n",
       "        [-1.1425182 , -0.34934272, -0.20889423,  0.58662319],\n",
       "        [ 0.83898341,  0.93110208,  0.28558733,  0.88514116]]])"
      ]
     },
     "execution_count": 168,
     "metadata": {},
     "output_type": "execute_result"
    }
   ],
   "source": [
    "np.random.seed(1)\n",
    "array1 = np.random.randn(5,3,4)\n",
    "array1"
   ]
  },
  {
   "cell_type": "code",
   "execution_count": 162,
   "id": "8345c24f",
   "metadata": {},
   "outputs": [
    {
     "data": {
      "text/plain": [
       "np.float64(0.4988600951552459)"
      ]
     },
     "execution_count": 162,
     "metadata": {},
     "output_type": "execute_result"
    }
   ],
   "source": [
    "array1.sum()"
   ]
  },
  {
   "cell_type": "code",
   "execution_count": 163,
   "id": "1501f24f",
   "metadata": {},
   "outputs": [
    {
     "data": {
      "text/plain": [
       "array([[ 2.80879209, -3.16266549,  2.67874795, -3.89431623],\n",
       "       [-1.59546459, -0.11718906,  2.07757391, -0.01458171],\n",
       "       [-0.05420483, -0.99857803, -1.48579711, -1.34518756],\n",
       "       [-1.25833815, -1.29020891,  1.10355937,  4.5347539 ],\n",
       "       [-0.18337583,  1.19896247,  0.37686341,  1.11951451]])"
      ]
     },
     "execution_count": 163,
     "metadata": {},
     "output_type": "execute_result"
    }
   ],
   "source": [
    "array1.sum(axis=1)\n",
    "#row"
   ]
  },
  {
   "cell_type": "code",
   "execution_count": null,
   "id": "0ce5773a",
   "metadata": {},
   "outputs": [
    {
     "data": {
      "text/plain": [
       "array([[ 1.20563271, -0.82791982,  2.44267996, -2.71883501],\n",
       "       [-0.90926241, -3.88601333,  0.13931223,  1.70393258],\n",
       "       [-0.57896161,  0.34425413,  2.16895534,  1.41508533]])"
      ]
     },
     "execution_count": 164,
     "metadata": {},
     "output_type": "execute_result"
    }
   ],
   "source": [
    "array1.sum(axis=0)"
   ]
  },
  {
   "cell_type": "code",
   "execution_count": 169,
   "id": "5f3fb3a9",
   "metadata": {},
   "outputs": [
    {
     "data": {
      "text/plain": [
       "np.float64(0.008314334919254098)"
      ]
     },
     "execution_count": 169,
     "metadata": {},
     "output_type": "execute_result"
    }
   ],
   "source": [
    "np.mean(array1)"
   ]
  },
  {
   "cell_type": "code",
   "execution_count": null,
   "id": "2a6d4bf3",
   "metadata": {},
   "outputs": [
    {
     "data": {
      "text/plain": [
       "array([[ 0.93626403, -1.05422183,  0.89291598, -1.29810541],\n",
       "       [-0.53182153, -0.03906302,  0.69252464, -0.00486057],\n",
       "       [-0.01806828, -0.33285934, -0.4952657 , -0.44839585],\n",
       "       [-0.41944605, -0.43006964,  0.36785312,  1.51158463],\n",
       "       [-0.06112528,  0.39965416,  0.12562114,  0.3731715 ]])"
      ]
     },
     "execution_count": 170,
     "metadata": {},
     "output_type": "execute_result"
    }
   ],
   "source": [
    "np.mean(array1, axis=1)"
   ]
  },
  {
   "cell_type": "code",
   "execution_count": 171,
   "id": "08850094",
   "metadata": {},
   "outputs": [
    {
     "data": {
      "text/plain": [
       "array([[ 0.24112654, -0.16558396,  0.48853599, -0.543767  ],\n",
       "       [-0.18185248, -0.77720267,  0.02786245,  0.34078652],\n",
       "       [-0.11579232,  0.06885083,  0.43379107,  0.28301707]])"
      ]
     },
     "execution_count": 171,
     "metadata": {},
     "output_type": "execute_result"
    }
   ],
   "source": [
    "np.mean(array1, axis=0)"
   ]
  },
  {
   "cell_type": "code",
   "execution_count": 181,
   "id": "5b060525",
   "metadata": {},
   "outputs": [
    {
     "data": {
      "text/plain": [
       "array([0, 1, 2, 3, 4, 5, 6, 7, 8, 9])"
      ]
     },
     "execution_count": 181,
     "metadata": {},
     "output_type": "execute_result"
    }
   ],
   "source": [
    "data = np.arange(10)\n",
    "data"
   ]
  },
  {
   "cell_type": "code",
   "execution_count": 180,
   "id": "25cd6e46",
   "metadata": {},
   "outputs": [
    {
     "data": {
      "text/plain": [
       "array([ 0,  1,  3,  6, 10, 15, 21, 28, 36, 45])"
      ]
     },
     "execution_count": 180,
     "metadata": {},
     "output_type": "execute_result"
    }
   ],
   "source": [
    "\n",
    "data1 = data.cumsum()\n",
    "data1"
   ]
  },
  {
   "cell_type": "code",
   "execution_count": 189,
   "id": "0a51d7e0",
   "metadata": {},
   "outputs": [
    {
     "data": {
      "text/plain": [
       "array([     1,      2,      6,     24,    120,    720,   5040,  40320,\n",
       "       362880])"
      ]
     },
     "execution_count": 189,
     "metadata": {},
     "output_type": "execute_result"
    }
   ],
   "source": [
    "data2 = data[1:]\n",
    "data2.cumprod()"
   ]
  },
  {
   "cell_type": "code",
   "execution_count": 190,
   "id": "e3c56c9f",
   "metadata": {},
   "outputs": [],
   "source": [
    "namearray = np.array(['ali', 'vali', 'sali', 'ani', 'gani', 'tani', 'sani', 'mani', 'uni', 'qani'])"
   ]
  },
  {
   "cell_type": "code",
   "execution_count": 196,
   "id": "55801097",
   "metadata": {},
   "outputs": [
    {
     "data": {
      "text/plain": [
       "array([[0.58135893, 0.97001999, 0.8468288 , 0.23984776, 0.49376971],\n",
       "       [0.61995572, 0.8289809 , 0.15679139, 0.0185762 , 0.07002214],\n",
       "       [0.48634511, 0.60632946, 0.56885144, 0.31736241, 0.98861615],\n",
       "       [0.57974522, 0.38014117, 0.55094822, 0.74533443, 0.66923289],\n",
       "       [0.26491956, 0.06633483, 0.3700842 , 0.62971751, 0.21017401],\n",
       "       [0.75275555, 0.06653648, 0.2603151 , 0.80475456, 0.19343428],\n",
       "       [0.63946088, 0.52467031, 0.92480797, 0.26329677, 0.06596109],\n",
       "       [0.73506596, 0.77217803, 0.90781585, 0.93197207, 0.01395157],\n",
       "       [0.23436209, 0.61677836, 0.94901632, 0.95017612, 0.55665319],\n",
       "       [0.91560635, 0.64156621, 0.39000771, 0.48599067, 0.60431048]])"
      ]
     },
     "execution_count": 196,
     "metadata": {},
     "output_type": "execute_result"
    }
   ],
   "source": [
    "data=np.random.rand(10,5)\n",
    "data"
   ]
  },
  {
   "cell_type": "code",
   "execution_count": 194,
   "id": "06e4891c",
   "metadata": {},
   "outputs": [
    {
     "data": {
      "text/plain": [
       "array([ True, False, False, False, False, False, False, False, False,\n",
       "       False])"
      ]
     },
     "execution_count": 194,
     "metadata": {},
     "output_type": "execute_result"
    }
   ],
   "source": [
    "namearray=='ali'"
   ]
  },
  {
   "cell_type": "code",
   "execution_count": 199,
   "id": "5b819d3b",
   "metadata": {},
   "outputs": [
    {
     "data": {
      "text/plain": [
       "array([[0.61995572, 0.8289809 , 0.15679139, 0.0185762 , 0.07002214]])"
      ]
     },
     "execution_count": 199,
     "metadata": {},
     "output_type": "execute_result"
    }
   ],
   "source": [
    "data[namearray=='vali']"
   ]
  },
  {
   "cell_type": "code",
   "execution_count": 201,
   "id": "79bf36d2",
   "metadata": {},
   "outputs": [
    {
     "data": {
      "text/plain": [
       "array([ True, False, False, False, False,  True, False, False, False,\n",
       "        True])"
      ]
     },
     "execution_count": 201,
     "metadata": {},
     "output_type": "execute_result"
    }
   ],
   "source": [
    "maska=(namearray=='ali') | (namearray=='qani')|(namearray=='tani')\n",
    "maska"
   ]
  },
  {
   "cell_type": "code",
   "execution_count": 211,
   "id": "a592de9e",
   "metadata": {},
   "outputs": [
    {
     "data": {
      "text/plain": [
       "array([[0.58135893, 0.97001999, 0.8468288 , 1.        , 1.        ],\n",
       "       [0.61995572, 0.8289809 , 1.        , 1.        , 1.        ],\n",
       "       [1.        , 0.60632946, 0.56885144, 1.        , 0.98861615],\n",
       "       [0.57974522, 1.        , 0.55094822, 0.74533443, 0.66923289],\n",
       "       [1.        , 1.        , 1.        , 0.62971751, 1.        ],\n",
       "       [0.75275555, 1.        , 1.        , 0.80475456, 1.        ],\n",
       "       [0.63946088, 0.52467031, 0.92480797, 1.        , 1.        ],\n",
       "       [0.73506596, 0.77217803, 0.90781585, 0.93197207, 1.        ],\n",
       "       [1.        , 0.61677836, 0.94901632, 0.95017612, 0.55665319],\n",
       "       [0.91560635, 0.64156621, 1.        , 1.        , 0.60431048]])"
      ]
     },
     "execution_count": 211,
     "metadata": {},
     "output_type": "execute_result"
    }
   ],
   "source": [
    "data[data<0.5]=1\n",
    "data"
   ]
  },
  {
   "cell_type": "code",
   "execution_count": 218,
   "id": "8d3b9ec0",
   "metadata": {},
   "outputs": [
    {
     "name": "stdout",
     "output_type": "stream",
     "text": [
      "[ 1.76405235  0.40015721  0.97873798  2.2408932   1.86755799 -0.97727788\n",
      "  0.95008842]\n",
      "[-0.15135721 -0.10321885  0.4105985   0.14404357  1.45427351  0.76103773\n",
      "  0.12167502]\n",
      "[False  True False  True False  True False]\n"
     ]
    }
   ],
   "source": [
    "np.random.seed(0)\n",
    "data1 = np.random.randn(7)\n",
    "data2 = np.random.randn(7)\n",
    "condition = np.random.choice([True, False], size=7)\n",
    "print(data1, data2, condition, sep='\\n')"
   ]
  },
  {
   "cell_type": "code",
   "execution_count": 221,
   "id": "ded35918",
   "metadata": {},
   "outputs": [
    {
     "data": {
      "text/plain": [
       "array([-0.15135721,  0.40015721,  0.4105985 ,  2.2408932 ,  1.45427351,\n",
       "       -0.97727788,  0.12167502])"
      ]
     },
     "execution_count": 221,
     "metadata": {},
     "output_type": "execute_result"
    }
   ],
   "source": [
    "new_result = np.where(condition, data1, data2)\n",
    "new_result"
   ]
  },
  {
   "cell_type": "code",
   "execution_count": 222,
   "id": "4ae154a4",
   "metadata": {},
   "outputs": [
    {
     "data": {
      "text/plain": [
       "array([-1, -1, -1, -1, -1,  1, -1])"
      ]
     },
     "execution_count": 222,
     "metadata": {},
     "output_type": "execute_result"
    }
   ],
   "source": [
    "\n",
    "new_results=np.where(data1>0, -1, 1)\n",
    "new_results"
   ]
  },
  {
   "cell_type": "code",
   "execution_count": 223,
   "id": "89ab78c6",
   "metadata": {},
   "outputs": [],
   "source": [
    "#Alhamdulillah"
   ]
  }
 ],
 "metadata": {
  "kernelspec": {
   "display_name": "Python 3",
   "language": "python",
   "name": "python3"
  },
  "language_info": {
   "codemirror_mode": {
    "name": "ipython",
    "version": 3
   },
   "file_extension": ".py",
   "mimetype": "text/x-python",
   "name": "python",
   "nbconvert_exporter": "python",
   "pygments_lexer": "ipython3",
   "version": "3.13.7"
  }
 },
 "nbformat": 4,
 "nbformat_minor": 5
}
