{
  "nbformat": 4,
  "nbformat_minor": 0,
  "metadata": {
    "colab": {
      "provenance": []
    },
    "kernelspec": {
      "name": "python3",
      "display_name": "Python 3"
    },
    "language_info": {
      "name": "python"
    }
  },
  "cells": [
    {
      "cell_type": "markdown",
      "source": [
        "1. nega ai da dark age(uzilish davri) bo'lgan?\n",
        "A*. yetarli malumot bolmagan\n",
        "B. olimlar yetishmagan\n",
        "C. hardware bolmagan\n",
        "D. A va C togri\n",
        "\n",
        "2. ai da nechta golen age bo'lgan?\n",
        "A. 2ta\n",
        "B*. 3ta\n",
        "C. 4ta\n",
        "D. 5ta\n",
        "\n",
        "3. 1-dars davomida korib chiqgan iris flower datadan, iris guli qaysi tabular dataga kiradi?\n",
        "A. numerical discrete\n",
        "B. numericala continuous\n",
        "C*. categorical nomial\n",
        "D. categorical ordinal"
      ],
      "metadata": {
        "id": "jmtJPPsTuNln"
      }
    }
  ]
}