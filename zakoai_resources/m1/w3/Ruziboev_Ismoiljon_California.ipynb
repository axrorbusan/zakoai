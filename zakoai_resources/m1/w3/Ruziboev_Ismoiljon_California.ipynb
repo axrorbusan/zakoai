{
 "cells": [
  {
   "cell_type": "code",
   "execution_count": 21,
   "id": "4e1a3d98-f7f5-4744-854d-ba02115a639b",
   "metadata": {
    "panel-layout": {
     "height": 302.5,
     "visible": true,
     "width": 100
    }
   },
   "outputs": [
    {
     "data": {
      "text/html": [
       "<div>\n",
       "<style scoped>\n",
       "    .dataframe tbody tr th:only-of-type {\n",
       "        vertical-align: middle;\n",
       "    }\n",
       "\n",
       "    .dataframe tbody tr th {\n",
       "        vertical-align: top;\n",
       "    }\n",
       "\n",
       "    .dataframe thead th {\n",
       "        text-align: right;\n",
       "    }\n",
       "</style>\n",
       "<table border=\"1\" class=\"dataframe\">\n",
       "  <thead>\n",
       "    <tr style=\"text-align: right;\">\n",
       "      <th></th>\n",
       "      <th>MedInc</th>\n",
       "      <th>HouseAge</th>\n",
       "      <th>AveRooms</th>\n",
       "      <th>AveBedrms</th>\n",
       "      <th>Population</th>\n",
       "      <th>AveOccup</th>\n",
       "      <th>Latitude</th>\n",
       "      <th>Longitude</th>\n",
       "      <th>MedHouseVal</th>\n",
       "    </tr>\n",
       "  </thead>\n",
       "  <tbody>\n",
       "    <tr>\n",
       "      <th>18640</th>\n",
       "      <td>3.0750</td>\n",
       "      <td>29.0</td>\n",
       "      <td>4.324194</td>\n",
       "      <td>1.019355</td>\n",
       "      <td>1652.0</td>\n",
       "      <td>2.664516</td>\n",
       "      <td>36.98</td>\n",
       "      <td>-121.98</td>\n",
       "      <td>2.158</td>\n",
       "    </tr>\n",
       "    <tr>\n",
       "      <th>375</th>\n",
       "      <td>3.3125</td>\n",
       "      <td>49.0</td>\n",
       "      <td>4.698582</td>\n",
       "      <td>0.982270</td>\n",
       "      <td>764.0</td>\n",
       "      <td>2.709220</td>\n",
       "      <td>37.74</td>\n",
       "      <td>-122.15</td>\n",
       "      <td>1.180</td>\n",
       "    </tr>\n",
       "    <tr>\n",
       "      <th>520</th>\n",
       "      <td>5.2128</td>\n",
       "      <td>52.0</td>\n",
       "      <td>5.862934</td>\n",
       "      <td>0.996139</td>\n",
       "      <td>1242.0</td>\n",
       "      <td>2.397683</td>\n",
       "      <td>37.76</td>\n",
       "      <td>-122.23</td>\n",
       "      <td>2.899</td>\n",
       "    </tr>\n",
       "    <tr>\n",
       "      <th>11662</th>\n",
       "      <td>5.6677</td>\n",
       "      <td>26.0</td>\n",
       "      <td>5.944162</td>\n",
       "      <td>0.972081</td>\n",
       "      <td>1290.0</td>\n",
       "      <td>3.274112</td>\n",
       "      <td>33.86</td>\n",
       "      <td>-118.02</td>\n",
       "      <td>2.207</td>\n",
       "    </tr>\n",
       "    <tr>\n",
       "      <th>11894</th>\n",
       "      <td>3.0240</td>\n",
       "      <td>27.0</td>\n",
       "      <td>4.725537</td>\n",
       "      <td>1.057279</td>\n",
       "      <td>2807.0</td>\n",
       "      <td>3.349642</td>\n",
       "      <td>33.97</td>\n",
       "      <td>-117.35</td>\n",
       "      <td>1.225</td>\n",
       "    </tr>\n",
       "    <tr>\n",
       "      <th>16377</th>\n",
       "      <td>3.9265</td>\n",
       "      <td>11.0</td>\n",
       "      <td>4.975904</td>\n",
       "      <td>0.903614</td>\n",
       "      <td>684.0</td>\n",
       "      <td>4.120482</td>\n",
       "      <td>38.03</td>\n",
       "      <td>-121.28</td>\n",
       "      <td>1.074</td>\n",
       "    </tr>\n",
       "    <tr>\n",
       "      <th>8984</th>\n",
       "      <td>5.9641</td>\n",
       "      <td>44.0</td>\n",
       "      <td>4.357143</td>\n",
       "      <td>1.028571</td>\n",
       "      <td>156.0</td>\n",
       "      <td>2.228571</td>\n",
       "      <td>33.99</td>\n",
       "      <td>-118.44</td>\n",
       "      <td>2.750</td>\n",
       "    </tr>\n",
       "    <tr>\n",
       "      <th>8681</th>\n",
       "      <td>3.9167</td>\n",
       "      <td>44.0</td>\n",
       "      <td>5.443609</td>\n",
       "      <td>1.000000</td>\n",
       "      <td>373.0</td>\n",
       "      <td>2.804511</td>\n",
       "      <td>33.87</td>\n",
       "      <td>-118.33</td>\n",
       "      <td>2.656</td>\n",
       "    </tr>\n",
       "    <tr>\n",
       "      <th>9199</th>\n",
       "      <td>2.7813</td>\n",
       "      <td>10.0</td>\n",
       "      <td>5.304786</td>\n",
       "      <td>1.032746</td>\n",
       "      <td>1003.0</td>\n",
       "      <td>2.526448</td>\n",
       "      <td>37.39</td>\n",
       "      <td>-119.66</td>\n",
       "      <td>1.241</td>\n",
       "    </tr>\n",
       "    <tr>\n",
       "      <th>6261</th>\n",
       "      <td>3.1591</td>\n",
       "      <td>35.0</td>\n",
       "      <td>5.382075</td>\n",
       "      <td>1.000000</td>\n",
       "      <td>924.0</td>\n",
       "      <td>4.358491</td>\n",
       "      <td>34.04</td>\n",
       "      <td>-117.96</td>\n",
       "      <td>1.483</td>\n",
       "    </tr>\n",
       "  </tbody>\n",
       "</table>\n",
       "</div>"
      ],
      "text/plain": [
       "       MedInc  HouseAge  AveRooms  AveBedrms  Population  AveOccup  Latitude  \\\n",
       "18640  3.0750      29.0  4.324194   1.019355      1652.0  2.664516     36.98   \n",
       "375    3.3125      49.0  4.698582   0.982270       764.0  2.709220     37.74   \n",
       "520    5.2128      52.0  5.862934   0.996139      1242.0  2.397683     37.76   \n",
       "11662  5.6677      26.0  5.944162   0.972081      1290.0  3.274112     33.86   \n",
       "11894  3.0240      27.0  4.725537   1.057279      2807.0  3.349642     33.97   \n",
       "16377  3.9265      11.0  4.975904   0.903614       684.0  4.120482     38.03   \n",
       "8984   5.9641      44.0  4.357143   1.028571       156.0  2.228571     33.99   \n",
       "8681   3.9167      44.0  5.443609   1.000000       373.0  2.804511     33.87   \n",
       "9199   2.7813      10.0  5.304786   1.032746      1003.0  2.526448     37.39   \n",
       "6261   3.1591      35.0  5.382075   1.000000       924.0  4.358491     34.04   \n",
       "\n",
       "       Longitude  MedHouseVal  \n",
       "18640    -121.98        2.158  \n",
       "375      -122.15        1.180  \n",
       "520      -122.23        2.899  \n",
       "11662    -118.02        2.207  \n",
       "11894    -117.35        1.225  \n",
       "16377    -121.28        1.074  \n",
       "8984     -118.44        2.750  \n",
       "8681     -118.33        2.656  \n",
       "9199     -119.66        1.241  \n",
       "6261     -117.96        1.483  "
      ]
     },
     "execution_count": 21,
     "metadata": {},
     "output_type": "execute_result"
    }
   ],
   "source": [
    "import pandas as py\n",
    "import numpy as np\n",
    "import matplotlib.pyplot as plt\n",
    "from sklearn import datasets\n",
    "\n",
    "california = datasets.fetch_california_housing(as_frame=True)\n",
    "df = california.frame\n",
    "df.sample(10)\n"
   ]
  },
  {
   "cell_type": "code",
   "execution_count": 22,
   "id": "f79fc2ad-97e0-4e94-9816-3b4905b7984c",
   "metadata": {},
   "outputs": [],
   "source": [
    "#House age\n",
    "hg_list = df[\"HouseAge\"].values.tolist()\n",
    "hg_array = df[\"HouseAge\"].values\n",
    "hg_frame = df[\"HouseAge\"]\n",
    "\n",
    "#Population\n",
    "pop_list = df[\"Population\"].values.tolist()\n",
    "pop_array = df[\"Population\"].values\n",
    "pop_frame = df[\"Population\"]"
   ]
  },
  {
   "cell_type": "code",
   "execution_count": 28,
   "id": "81db1b34-2cc1-4f60-a836-a93028bbabfb",
   "metadata": {},
   "outputs": [],
   "source": [
    "# Covariance\n",
    "# Funksiya ko'rinishida\n",
    "def calculate_covariance(hg_list, pop_list):\n",
    "    if len(hg_list) != len (pop_list):\n",
    "        raise ValueError(\"Lists X1 and X2 must have the same lenght\")\n",
    "\n",
    "    n = len(hg_list)\n",
    "    mean_hg = sum(hg_list) / n\n",
    "    mean_pop = sum(pop_list) / n\n",
    "\n",
    "    covariance = sum((hg_list[i] - mean_hg) * (pop_list[i] - mean_pop) for i in range(n)) / n\n",
    " \n",
    "    return covariance\n",
    "        "
   ]
  },
  {
   "cell_type": "code",
   "execution_count": 29,
   "id": "330632b6-877a-4aeb-8231-049363d096b6",
   "metadata": {},
   "outputs": [
    {
     "data": {
      "text/plain": [
       "-4222.066014850369"
      ]
     },
     "execution_count": 29,
     "metadata": {},
     "output_type": "execute_result"
    }
   ],
   "source": [
    "calculate_covariance(hg_list, pop_list)\n"
   ]
  },
  {
   "cell_type": "code",
   "execution_count": 35,
   "id": "eb0b9f1e-49c4-4e4a-b5d5-44acca6680a6",
   "metadata": {},
   "outputs": [],
   "source": [
    "# Correlation\n",
    "def calculate_correlation(X1, X2):\n",
    "    \n",
    "    if len(X1) != len(X2):\n",
    "         raise ValueError ('Lists X1 and X2 must have the same lenght')\n",
    "    n = len(X1)\n",
    "    mean_X1 = sum(X1) / n\n",
    "    mean_X2 = sum(X2) / n\n",
    "\n",
    "    cov = sum((X1[i] - mean_X1) * (X2[i] - mean_X2) for i in range(n)) / n\n",
    "\n",
    "    std_X1 = (sum((xi - mean_X1) ** 2 for xi in X1) / n) ** 0.5\n",
    "    std_X2 = (sum((xi - mean_X2) ** 2 for xi in X2) / n) ** 0.5\n",
    "          \n",
    "    if std_X1 == 0 or std_X2 == 0:\n",
    "          raise ValueError(\"Standart daviation cannot be zero for correlation calculation.\")\n",
    "\n",
    "    correlation = cov/(std_X1 * std_X2)\n",
    "\n",
    "    return correlation\n",
    "    "
   ]
  },
  {
   "cell_type": "code",
   "execution_count": 36,
   "id": "ac91c631-d8b4-49e6-9ee7-30307911ab17",
   "metadata": {},
   "outputs": [
    {
     "data": {
      "text/plain": [
       "-0.29624423977353576"
      ]
     },
     "execution_count": 36,
     "metadata": {},
     "output_type": "execute_result"
    }
   ],
   "source": [
    " calculate_correlation(hg_list, pop_list)   "
   ]
  },
  {
   "cell_type": "code",
   "execution_count": 43,
   "id": "2f8edfbf-16e4-4059-a329-53c4b185593b",
   "metadata": {
    "panel-layout": {
     "height": 90.5,
     "visible": true,
     "width": 100
    }
   },
   "outputs": [
    {
     "data": {
      "text/html": [
       "<div>\n",
       "<style scoped>\n",
       "    .dataframe tbody tr th:only-of-type {\n",
       "        vertical-align: middle;\n",
       "    }\n",
       "\n",
       "    .dataframe tbody tr th {\n",
       "        vertical-align: top;\n",
       "    }\n",
       "\n",
       "    .dataframe thead th {\n",
       "        text-align: right;\n",
       "    }\n",
       "</style>\n",
       "<table border=\"1\" class=\"dataframe\">\n",
       "  <thead>\n",
       "    <tr style=\"text-align: right;\">\n",
       "      <th></th>\n",
       "      <th>HouseAge</th>\n",
       "      <th>Population</th>\n",
       "    </tr>\n",
       "  </thead>\n",
       "  <tbody>\n",
       "    <tr>\n",
       "      <th>HouseAge</th>\n",
       "      <td>1.000000</td>\n",
       "      <td>-0.296244</td>\n",
       "    </tr>\n",
       "    <tr>\n",
       "      <th>Population</th>\n",
       "      <td>-0.296244</td>\n",
       "      <td>1.000000</td>\n",
       "    </tr>\n",
       "  </tbody>\n",
       "</table>\n",
       "</div>"
      ],
      "text/plain": [
       "            HouseAge  Population\n",
       "HouseAge    1.000000   -0.296244\n",
       "Population -0.296244    1.000000"
      ]
     },
     "execution_count": 43,
     "metadata": {},
     "output_type": "execute_result"
    }
   ],
   "source": [
    "# dataframe\n",
    "df [[\"HouseAge\", \"Population\"]].corr()"
   ]
  },
  {
   "cell_type": "code",
   "execution_count": 53,
   "id": "0a225639-723c-4f3f-9f26-efa03db93646",
   "metadata": {},
   "outputs": [
    {
     "name": "stdout",
     "output_type": "stream",
     "text": [
      "PDF values for the HouseAge data:\n",
      "[0.01956981 0.02636506 0.00566125 ... 0.02066854 0.02217442 0.01914368]\n"
     ]
    }
   ],
   "source": [
    "#Normal distrubution uchun PDF funksiyasi\n",
    "def calculate_pdf_vectorized(data):\n",
    "    mu = np.mean(data)\n",
    "    sigma = np.std(data, ddof=1)\n",
    "    coeff = 1 / (sigma * np.sqrt(2 * np.pi))\n",
    "\n",
    "    exponent = np.exp(-((data - mu) ** 2) / (2 * sigma ** 2))\n",
    "\n",
    "    return coeff * exponent\n",
    "\n",
    "pdf_values = calculate_pdf_vectorized(hg_array)\n",
    "\n",
    "print (\"PDF values for the HouseAge data:\")\n",
    "print (pdf_values)\n",
    "\n"
   ]
  },
  {
   "cell_type": "code",
   "execution_count": 55,
   "id": "50b35b0c-f344-45ab-a774-562a1056e00a",
   "metadata": {},
   "outputs": [
    {
     "data": {
      "text/plain": [
       "<function matplotlib.pyplot.show(close=None, block=None)>"
      ]
     },
     "execution_count": 55,
     "metadata": {},
     "output_type": "execute_result"
    },
    {
     "data": {
      "image/png": "[encoded data removed]",
      "text/plain": [
       "<Figure size 640x480 with 1 Axes>"
      ]
     },
     "metadata": {},
     "output_type": "display_data"
    }
   ],
   "source": [
    "plt.scatter(hg_array, pdf_values)   \n",
    "plt.show"
   ]
  },
  {
   "cell_type": "code",
   "execution_count": null,
   "id": "9c506f5a-06cb-4077-bf87-4e51f89f32a6",
   "metadata": {},
   "outputs": [],
   "source": []
  },
  {
   "cell_type": "code",
   "execution_count": 56,
   "id": "30f8fafc-5eb7-4623-bdfd-d2aece23ab0e",
   "metadata": {
    "scrolled": true
   },
   "outputs": [
    {
     "data": {
      "text/plain": [
       "array([0.78431373, 0.39215686, 1.        , ..., 0.31372549, 0.33333333,\n",
       "       0.29411765])"
      ]
     },
     "execution_count": 56,
     "metadata": {},
     "output_type": "execute_result"
    }
   ],
   "source": [
    "#min max scaling\n",
    "def min_max(array):\n",
    "    min_value = np.min(array)\n",
    "    max_value = np.max(array)\n",
    "    return (array-min_value)/(max_value-min_value)\n",
    "\n",
    "min_max(hg_array)\n",
    "    "
   ]
  },
  {
   "cell_type": "raw",
   "id": "aa3b502f-4b0e-41e4-b2b2-210d81403e5d",
   "metadata": {},
   "source": []
  }
 ],
 "metadata": {
  "kernelspec": {
   "display_name": "Python [conda env:base] *",
   "language": "python",
   "name": "conda-base-py"
  },
  "language_info": {
   "codemirror_mode": {
    "name": "ipython",
    "version": 3
   },
   "file_extension": ".py",
   "mimetype": "text/x-python",
   "name": "python",
   "nbconvert_exporter": "python",
   "pygments_lexer": "ipython3",
   "version": "3.13.5"
  },
  "panel-cell-order": [
   "4e1a3d98-f7f5-4744-854d-ba02115a639b",
   "2f8edfbf-16e4-4059-a329-53c4b185593b"
  ]
 },
 "nbformat": 4,
 "nbformat_minor": 5
}
