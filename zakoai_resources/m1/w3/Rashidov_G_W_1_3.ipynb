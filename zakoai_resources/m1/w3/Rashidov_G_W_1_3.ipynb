{
  "nbformat": 4,
  "nbformat_minor": 0,
  "metadata": {
    "colab": {
      "provenance": [],
      "gpuType": "T4"
    },
    "kernelspec": {
      "name": "python3",
      "display_name": "Python 3"
    },
    "language_info": {
      "name": "python"
    },
    "accelerator": "GPU"
  },
  "cells": [
    {
      "cell_type": "markdown",
      "source": [
        "DataAnalysisW1_3\n",
        "Statistik tahlil (Bivariate analysis)\n",
        "#Mean, Covariance, Correlation, similarity angle cos(theta), normalization, scaling"
      ],
      "metadata": {
        "id": "pBNJ_x-auihO"
      }
    },
    {
      "cell_type": "markdown",
      "source": [
        "# Kerakli kutubxonalarni chaqirish"
      ],
      "metadata": {
        "id": "Kio4XCRHtvma"
      }
    },
    {
      "cell_type": "code",
      "execution_count": 5,
      "metadata": {
        "id": "ApkR0MJzroN_"
      },
      "outputs": [],
      "source": [
        "import pandas as pd\n",
        "import numpy as np\n",
        "import matplotlib.pyplot as plt\n",
        "from sklearn import datasets"
      ]
    },
    {
      "cell_type": "markdown",
      "source": [
        "# Datasetni yuklash"
      ],
      "metadata": {
        "id": "CERtP_VKt1aW"
      }
    },
    {
      "cell_type": "code",
      "source": [
        "calif =datasets.fetch_california_housing(as_frame=True)\n",
        "df=calif.frame"
      ],
      "metadata": {
        "id": "TrHMtTkRs9wp"
      },
      "execution_count": 6,
      "outputs": []
    },
    {
      "cell_type": "code",
      "source": [
        "df.sample(10)"
      ],
      "metadata": {
        "colab": {
          "base_uri": "https://localhost:8080/",
          "height": 363
        },
        "id": "0kJmT33fuAGp",
        "outputId": "3deefa32-4327-4aa6-fa20-30a65ac4b106"
      },
      "execution_count": 7,
      "outputs": [
        {
          "output_type": "execute_result",
          "data": {
            "text/plain": [
              "       MedInc  HouseAge  AveRooms  AveBedrms  Population  AveOccup  Latitude  \\\n",
              "14102  1.6444      16.0  3.217507   1.059682      1505.0  1.996021     32.75   \n",
              "6416   3.5878      31.0  4.497375   1.035433      4131.0  2.710630     34.14   \n",
              "12968  2.7868      15.0  5.338129   1.009592      1004.0  2.407674     38.70   \n",
              "17597  5.8415      47.0  5.769784   1.021583       639.0  2.298561     37.30   \n",
              "20625  4.1250      37.0  7.285714   1.214286        29.0  2.071429     39.12   \n",
              "213    2.6042      46.0  4.489564   1.091082      1647.0  3.125237     37.79   \n",
              "346    2.5625      33.0  4.475524   1.073427       999.0  3.493007     37.76   \n",
              "4295   2.3317      29.0  3.031123   1.071719      2254.0  3.050068     34.09   \n",
              "14093  2.0852      19.0  3.604613   1.014827      1304.0  2.148270     32.76   \n",
              "6008   2.8594      48.0  5.307339   1.133028       677.0  3.105505     34.07   \n",
              "\n",
              "       Longitude  MedHouseVal  \n",
              "14102    -117.10        1.034  \n",
              "6416     -118.02        2.228  \n",
              "12968    -121.33        1.178  \n",
              "17597    -121.89        2.833  \n",
              "20625    -121.52        0.720  \n",
              "213      -122.22        1.247  \n",
              "346      -122.17        0.893  \n",
              "4295     -118.29        1.725  \n",
              "14093    -117.11        1.144  \n",
              "6008     -117.76        1.272  "
            ],
            "text/html": [
              "\n",
              "  <div id=\"df-3433ac97-8431-47a8-bdf1-f08c9fb4d24c\" class=\"colab-df-container\">\n",
              "    <div>\n",
              "<style scoped>\n",
              "    .dataframe tbody tr th:only-of-type {\n",
              "        vertical-align: middle;\n",
              "    }\n",
              "\n",
              "    .dataframe tbody tr th {\n",
              "        vertical-align: top;\n",
              "    }\n",
              "\n",
              "    .dataframe thead th {\n",
              "        text-align: right;\n",
              "    }\n",
              "</style>\n",
              "<table border=\"1\" class=\"dataframe\">\n",
              "  <thead>\n",
              "    <tr style=\"text-align: right;\">\n",
              "      <th></th>\n",
              "      <th>MedInc</th>\n",
              "      <th>HouseAge</th>\n",
              "      <th>AveRooms</th>\n",
              "      <th>AveBedrms</th>\n",
              "      <th>Population</th>\n",
              "      <th>AveOccup</th>\n",
              "      <th>Latitude</th>\n",
              "      <th>Longitude</th>\n",
              "      <th>MedHouseVal</th>\n",
              "    </tr>\n",
              "  </thead>\n",
              "  <tbody>\n",
              "    <tr>\n",
              "      <th>14102</th>\n",
              "      <td>1.6444</td>\n",
              "      <td>16.0</td>\n",
              "      <td>3.217507</td>\n",
              "      <td>1.059682</td>\n",
              "      <td>1505.0</td>\n",
              "      <td>1.996021</td>\n",
              "      <td>32.75</td>\n",
              "      <td>-117.10</td>\n",
              "      <td>1.034</td>\n",
              "    </tr>\n",
              "    <tr>\n",
              "      <th>6416</th>\n",
              "      <td>3.5878</td>\n",
              "      <td>31.0</td>\n",
              "      <td>4.497375</td>\n",
              "      <td>1.035433</td>\n",
              "      <td>4131.0</td>\n",
              "      <td>2.710630</td>\n",
              "      <td>34.14</td>\n",
              "      <td>-118.02</td>\n",
              "      <td>2.228</td>\n",
              "    </tr>\n",
              "    <tr>\n",
              "      <th>12968</th>\n",
              "      <td>2.7868</td>\n",
              "      <td>15.0</td>\n",
              "      <td>5.338129</td>\n",
              "      <td>1.009592</td>\n",
              "      <td>1004.0</td>\n",
              "      <td>2.407674</td>\n",
              "      <td>38.70</td>\n",
              "      <td>-121.33</td>\n",
              "      <td>1.178</td>\n",
              "    </tr>\n",
              "    <tr>\n",
              "      <th>17597</th>\n",
              "      <td>5.8415</td>\n",
              "      <td>47.0</td>\n",
              "      <td>5.769784</td>\n",
              "      <td>1.021583</td>\n",
              "      <td>639.0</td>\n",
              "      <td>2.298561</td>\n",
              "      <td>37.30</td>\n",
              "      <td>-121.89</td>\n",
              "      <td>2.833</td>\n",
              "    </tr>\n",
              "    <tr>\n",
              "      <th>20625</th>\n",
              "      <td>4.1250</td>\n",
              "      <td>37.0</td>\n",
              "      <td>7.285714</td>\n",
              "      <td>1.214286</td>\n",
              "      <td>29.0</td>\n",
              "      <td>2.071429</td>\n",
              "      <td>39.12</td>\n",
              "      <td>-121.52</td>\n",
              "      <td>0.720</td>\n",
              "    </tr>\n",
              "    <tr>\n",
              "      <th>213</th>\n",
              "      <td>2.6042</td>\n",
              "      <td>46.0</td>\n",
              "      <td>4.489564</td>\n",
              "      <td>1.091082</td>\n",
              "      <td>1647.0</td>\n",
              "      <td>3.125237</td>\n",
              "      <td>37.79</td>\n",
              "      <td>-122.22</td>\n",
              "      <td>1.247</td>\n",
              "    </tr>\n",
              "    <tr>\n",
              "      <th>346</th>\n",
              "      <td>2.5625</td>\n",
              "      <td>33.0</td>\n",
              "      <td>4.475524</td>\n",
              "      <td>1.073427</td>\n",
              "      <td>999.0</td>\n",
              "      <td>3.493007</td>\n",
              "      <td>37.76</td>\n",
              "      <td>-122.17</td>\n",
              "      <td>0.893</td>\n",
              "    </tr>\n",
              "    <tr>\n",
              "      <th>4295</th>\n",
              "      <td>2.3317</td>\n",
              "      <td>29.0</td>\n",
              "      <td>3.031123</td>\n",
              "      <td>1.071719</td>\n",
              "      <td>2254.0</td>\n",
              "      <td>3.050068</td>\n",
              "      <td>34.09</td>\n",
              "      <td>-118.29</td>\n",
              "      <td>1.725</td>\n",
              "    </tr>\n",
              "    <tr>\n",
              "      <th>14093</th>\n",
              "      <td>2.0852</td>\n",
              "      <td>19.0</td>\n",
              "      <td>3.604613</td>\n",
              "      <td>1.014827</td>\n",
              "      <td>1304.0</td>\n",
              "      <td>2.148270</td>\n",
              "      <td>32.76</td>\n",
              "      <td>-117.11</td>\n",
              "      <td>1.144</td>\n",
              "    </tr>\n",
              "    <tr>\n",
              "      <th>6008</th>\n",
              "      <td>2.8594</td>\n",
              "      <td>48.0</td>\n",
              "      <td>5.307339</td>\n",
              "      <td>1.133028</td>\n",
              "      <td>677.0</td>\n",
              "      <td>3.105505</td>\n",
              "      <td>34.07</td>\n",
              "      <td>-117.76</td>\n",
              "      <td>1.272</td>\n",
              "    </tr>\n",
              "  </tbody>\n",
              "</table>\n",
              "</div>\n",
              "    <div class=\"colab-df-buttons\">\n",
              "\n",
              "  <div class=\"colab-df-container\">\n",
              "    <button class=\"colab-df-convert\" onclick=\"convertToInteractive('df-3433ac97-8431-47a8-bdf1-f08c9fb4d24c')\"\n",
              "            title=\"Convert this dataframe to an interactive table.\"\n",
              "            style=\"display:none;\">\n",
              "\n",
              "  <svg xmlns=\"http://www.w3.org/2000/svg\" height=\"24px\" viewBox=\"0 -960 960 960\">\n",
              "    <path d=\"M120-120v-720h720v720H120Zm60-500h600v-160H180v160Zm220 220h160v-160H400v160Zm0 220h160v-160H400v160ZM180-400h160v-160H180v160Zm440 0h160v-160H620v160ZM180-180h160v-160H180v160Zm440 0h160v-160H620v160Z\"/>\n",
              "  </svg>\n",
              "    </button>\n",
              "\n",
              "  <style>\n",
              "    .colab-df-container {\n",
              "      display:flex;\n",
              "      gap: 12px;\n",
              "    }\n",
              "\n",
              "    .colab-df-convert {\n",
              "      background-color: #E8F0FE;\n",
              "      border: none;\n",
              "      border-radius: 50%;\n",
              "      cursor: pointer;\n",
              "      display: none;\n",
              "      fill: #1967D2;\n",
              "      height: 32px;\n",
              "      padding: 0 0 0 0;\n",
              "      width: 32px;\n",
              "    }\n",
              "\n",
              "    .colab-df-convert:hover {\n",
              "      background-color: #E2EBFA;\n",
              "      box-shadow: 0px 1px 2px rgba(60, 64, 67, 0.3), 0px 1px 3px 1px rgba(60, 64, 67, 0.15);\n",
              "      fill: #174EA6;\n",
              "    }\n",
              "\n",
              "    .colab-df-buttons div {\n",
              "      margin-bottom: 4px;\n",
              "    }\n",
              "\n",
              "    [theme=dark] .colab-df-convert {\n",
              "      background-color: #3B4455;\n",
              "      fill: #D2E3FC;\n",
              "    }\n",
              "\n",
              "    [theme=dark] .colab-df-convert:hover {\n",
              "      background-color: #434B5C;\n",
              "      box-shadow: 0px 1px 3px 1px rgba(0, 0, 0, 0.15);\n",
              "      filter: drop-shadow(0px 1px 2px rgba(0, 0, 0, 0.3));\n",
              "      fill: #FFFFFF;\n",
              "    }\n",
              "  </style>\n",
              "\n",
              "    <script>\n",
              "      const buttonEl =\n",
              "        document.querySelector('#df-3433ac97-8431-47a8-bdf1-f08c9fb4d24c button.colab-df-convert');\n",
              "      buttonEl.style.display =\n",
              "        google.colab.kernel.accessAllowed ? 'block' : 'none';\n",
              "\n",
              "      async function convertToInteractive(key) {\n",
              "        const element = document.querySelector('#df-3433ac97-8431-47a8-bdf1-f08c9fb4d24c');\n",
              "        const dataTable =\n",
              "          await google.colab.kernel.invokeFunction('convertToInteractive',\n",
              "                                                    [key], {});\n",
              "        if (!dataTable) return;\n",
              "\n",
              "        const docLinkHtml = 'Like what you see? Visit the ' +\n",
              "          '<a target=\"_blank\" href=https://colab.research.google.com/notebooks/data_table.ipynb>data table notebook</a>'\n",
              "          + ' to learn more about interactive tables.';\n",
              "        element.innerHTML = '';\n",
              "        dataTable['output_type'] = 'display_data';\n",
              "        await google.colab.output.renderOutput(dataTable, element);\n",
              "        const docLink = document.createElement('div');\n",
              "        docLink.innerHTML = docLinkHtml;\n",
              "        element.appendChild(docLink);\n",
              "      }\n",
              "    </script>\n",
              "  </div>\n",
              "\n",
              "\n",
              "    <div id=\"df-ebb44ffe-d0e5-4dc1-ad38-9f19c39f2082\">\n",
              "      <button class=\"colab-df-quickchart\" onclick=\"quickchart('df-ebb44ffe-d0e5-4dc1-ad38-9f19c39f2082')\"\n",
              "                title=\"Suggest charts\"\n",
              "                style=\"display:none;\">\n",
              "\n",
              "<svg xmlns=\"http://www.w3.org/2000/svg\" height=\"24px\"viewBox=\"0 0 24 24\"\n",
              "     width=\"24px\">\n",
              "    <g>\n",
              "        <path d=\"M19 3H5c-1.1 0-2 .9-2 2v14c0 1.1.9 2 2 2h14c1.1 0 2-.9 2-2V5c0-1.1-.9-2-2-2zM9 17H7v-7h2v7zm4 0h-2V7h2v10zm4 0h-2v-4h2v4z\"/>\n",
              "    </g>\n",
              "</svg>\n",
              "      </button>\n",
              "\n",
              "<style>\n",
              "  .colab-df-quickchart {\n",
              "      --bg-color: #E8F0FE;\n",
              "      --fill-color: #1967D2;\n",
              "      --hover-bg-color: #E2EBFA;\n",
              "      --hover-fill-color: #174EA6;\n",
              "      --disabled-fill-color: #AAA;\n",
              "      --disabled-bg-color: #DDD;\n",
              "  }\n",
              "\n",
              "  [theme=dark] .colab-df-quickchart {\n",
              "      --bg-color: #3B4455;\n",
              "      --fill-color: #D2E3FC;\n",
              "      --hover-bg-color: #434B5C;\n",
              "      --hover-fill-color: #FFFFFF;\n",
              "      --disabled-bg-color: #3B4455;\n",
              "      --disabled-fill-color: #666;\n",
              "  }\n",
              "\n",
              "  .colab-df-quickchart {\n",
              "    background-color: var(--bg-color);\n",
              "    border: none;\n",
              "    border-radius: 50%;\n",
              "    cursor: pointer;\n",
              "    display: none;\n",
              "    fill: var(--fill-color);\n",
              "    height: 32px;\n",
              "    padding: 0;\n",
              "    width: 32px;\n",
              "  }\n",
              "\n",
              "  .colab-df-quickchart:hover {\n",
              "    background-color: var(--hover-bg-color);\n",
              "    box-shadow: 0 1px 2px rgba(60, 64, 67, 0.3), 0 1px 3px 1px rgba(60, 64, 67, 0.15);\n",
              "    fill: var(--button-hover-fill-color);\n",
              "  }\n",
              "\n",
              "  .colab-df-quickchart-complete:disabled,\n",
              "  .colab-df-quickchart-complete:disabled:hover {\n",
              "    background-color: var(--disabled-bg-color);\n",
              "    fill: var(--disabled-fill-color);\n",
              "    box-shadow: none;\n",
              "  }\n",
              "\n",
              "  .colab-df-spinner {\n",
              "    border: 2px solid var(--fill-color);\n",
              "    border-color: transparent;\n",
              "    border-bottom-color: var(--fill-color);\n",
              "    animation:\n",
              "      spin 1s steps(1) infinite;\n",
              "  }\n",
              "\n",
              "  @keyframes spin {\n",
              "    0% {\n",
              "      border-color: transparent;\n",
              "      border-bottom-color: var(--fill-color);\n",
              "      border-left-color: var(--fill-color);\n",
              "    }\n",
              "    20% {\n",
              "      border-color: transparent;\n",
              "      border-left-color: var(--fill-color);\n",
              "      border-top-color: var(--fill-color);\n",
              "    }\n",
              "    30% {\n",
              "      border-color: transparent;\n",
              "      border-left-color: var(--fill-color);\n",
              "      border-top-color: var(--fill-color);\n",
              "      border-right-color: var(--fill-color);\n",
              "    }\n",
              "    40% {\n",
              "      border-color: transparent;\n",
              "      border-right-color: var(--fill-color);\n",
              "      border-top-color: var(--fill-color);\n",
              "    }\n",
              "    60% {\n",
              "      border-color: transparent;\n",
              "      border-right-color: var(--fill-color);\n",
              "    }\n",
              "    80% {\n",
              "      border-color: transparent;\n",
              "      border-right-color: var(--fill-color);\n",
              "      border-bottom-color: var(--fill-color);\n",
              "    }\n",
              "    90% {\n",
              "      border-color: transparent;\n",
              "      border-bottom-color: var(--fill-color);\n",
              "    }\n",
              "  }\n",
              "</style>\n",
              "\n",
              "      <script>\n",
              "        async function quickchart(key) {\n",
              "          const quickchartButtonEl =\n",
              "            document.querySelector('#' + key + ' button');\n",
              "          quickchartButtonEl.disabled = true;  // To prevent multiple clicks.\n",
              "          quickchartButtonEl.classList.add('colab-df-spinner');\n",
              "          try {\n",
              "            const charts = await google.colab.kernel.invokeFunction(\n",
              "                'suggestCharts', [key], {});\n",
              "          } catch (error) {\n",
              "            console.error('Error during call to suggestCharts:', error);\n",
              "          }\n",
              "          quickchartButtonEl.classList.remove('colab-df-spinner');\n",
              "          quickchartButtonEl.classList.add('colab-df-quickchart-complete');\n",
              "        }\n",
              "        (() => {\n",
              "          let quickchartButtonEl =\n",
              "            document.querySelector('#df-ebb44ffe-d0e5-4dc1-ad38-9f19c39f2082 button');\n",
              "          quickchartButtonEl.style.display =\n",
              "            google.colab.kernel.accessAllowed ? 'block' : 'none';\n",
              "        })();\n",
              "      </script>\n",
              "    </div>\n",
              "\n",
              "    </div>\n",
              "  </div>\n"
            ],
            "application/vnd.google.colaboratory.intrinsic+json": {
              "type": "dataframe",
              "summary": "{\n  \"name\": \"df\",\n  \"rows\": 10,\n  \"fields\": [\n    {\n      \"column\": \"MedInc\",\n      \"properties\": {\n        \"dtype\": \"number\",\n        \"std\": 1.2111205392344544,\n        \"min\": 1.6444,\n        \"max\": 5.8415,\n        \"num_unique_values\": 10,\n        \"samples\": [\n          2.0852,\n          3.5878,\n          2.6042\n        ],\n        \"semantic_type\": \"\",\n        \"description\": \"\"\n      }\n    },\n    {\n      \"column\": \"HouseAge\",\n      \"properties\": {\n        \"dtype\": \"number\",\n        \"std\": 12.591443302673623,\n        \"min\": 15.0,\n        \"max\": 48.0,\n        \"num_unique_values\": 10,\n        \"samples\": [\n          19.0,\n          31.0,\n          46.0\n        ],\n        \"semantic_type\": \"\",\n        \"description\": \"\"\n      }\n    },\n    {\n      \"column\": \"AveRooms\",\n      \"properties\": {\n        \"dtype\": \"number\",\n        \"std\": 1.287760255795765,\n        \"min\": 3.031123139377537,\n        \"max\": 7.285714285714286,\n        \"num_unique_values\": 10,\n        \"samples\": [\n          3.6046128500823724,\n          4.497375328083989,\n          4.489563567362429\n        ],\n        \"semantic_type\": \"\",\n        \"description\": \"\"\n      }\n    },\n    {\n      \"column\": \"AveBedrms\",\n      \"properties\": {\n        \"dtype\": \"number\",\n        \"std\": 0.06282947402726025,\n        \"min\": 1.0095923261390887,\n        \"max\": 1.2142857142857142,\n        \"num_unique_values\": 10,\n        \"samples\": [\n          1.014827018121911,\n          1.0354330708661417,\n          1.0910815939278937\n        ],\n        \"semantic_type\": \"\",\n        \"description\": \"\"\n      }\n    },\n    {\n      \"column\": \"Population\",\n      \"properties\": {\n        \"dtype\": \"number\",\n        \"std\": 1133.5520818304828,\n        \"min\": 29.0,\n        \"max\": 4131.0,\n        \"num_unique_values\": 10,\n        \"samples\": [\n          1304.0,\n          4131.0,\n          1647.0\n        ],\n        \"semantic_type\": \"\",\n        \"description\": \"\"\n      }\n    },\n    {\n      \"column\": \"AveOccup\",\n      \"properties\": {\n        \"dtype\": \"number\",\n        \"std\": 0.527388411722575,\n        \"min\": 1.9960212201591512,\n        \"max\": 3.493006993006993,\n        \"num_unique_values\": 10,\n        \"samples\": [\n          2.1482701812191105,\n          2.7106299212598426,\n          3.1252371916508537\n        ],\n        \"semantic_type\": \"\",\n        \"description\": \"\"\n      }\n    },\n    {\n      \"column\": \"Latitude\",\n      \"properties\": {\n        \"dtype\": \"number\",\n        \"std\": 2.5094877742059007,\n        \"min\": 32.75,\n        \"max\": 39.12,\n        \"num_unique_values\": 10,\n        \"samples\": [\n          32.76,\n          34.14,\n          37.79\n        ],\n        \"semantic_type\": \"\",\n        \"description\": \"\"\n      }\n    },\n    {\n      \"column\": \"Longitude\",\n      \"properties\": {\n        \"dtype\": \"number\",\n        \"std\": 2.2420746840569086,\n        \"min\": -122.22,\n        \"max\": -117.1,\n        \"num_unique_values\": 10,\n        \"samples\": [\n          -117.11,\n          -118.02,\n          -122.22\n        ],\n        \"semantic_type\": \"\",\n        \"description\": \"\"\n      }\n    },\n    {\n      \"column\": \"MedHouseVal\",\n      \"properties\": {\n        \"dtype\": \"number\",\n        \"std\": 0.6536400980492076,\n        \"min\": 0.72,\n        \"max\": 2.833,\n        \"num_unique_values\": 10,\n        \"samples\": [\n          1.144,\n          2.228,\n          1.247\n        ],\n        \"semantic_type\": \"\",\n        \"description\": \"\"\n      }\n    }\n  ]\n}"
            }
          },
          "metadata": {},
          "execution_count": 7
        }
      ]
    },
    {
      "cell_type": "code",
      "source": [
        "aver_list=df[\"AveRooms\"].values.tolist()\n",
        "aver_array=df[\"AveRooms\"].values\n",
        "aver_frame=df[\"AveRooms\"]\n",
        "\n",
        "aveb_list=df[\"AveBedrms\"].values.tolist()\n",
        "aveb_array=df[\"AveBedrms\"].values\n",
        "aveb_frame=df[\"AveBedrms\"]\n"
      ],
      "metadata": {
        "id": "XtTGyfmRuGOA"
      },
      "execution_count": 8,
      "outputs": []
    },
    {
      "cell_type": "markdown",
      "source": [
        "#Covariance"
      ],
      "metadata": {
        "id": "0LlwDOWpv-YH"
      }
    },
    {
      "cell_type": "markdown",
      "source": [
        "Covariance - bu ko-variatsiya deb nomlanib, ma'lumotlarning ikkita o‘zgaruvchisi orasidagi assotsiyani yoki chiziqli bog‘liqlikni anglatadi"
      ],
      "metadata": {
        "id": "OGEXWbSXwTAt"
      }
    },
    {
      "cell_type": "markdown",
      "source": [
        "![formula1.png](data:image/png;base64,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)"
      ],
      "metadata": {
        "id": "tHdkIpmHyzi8"
      }
    },
    {
      "cell_type": "code",
      "source": [
        "def calculate_covariance(aver_list, aved_list):\n",
        "  if len(aver_list)!=len(aveb_list):\n",
        "    raise ValueError(\"Lists X1 and X2 must have the same length\")\n",
        "  n=len(aver_list)\n",
        "  mean_aver=sum(aver_list)/n\n",
        "  mean_aveb=sum(aveb_list)/n\n",
        "\n",
        "  covariance=sum((aver_list[i]-mean_aver)*(aveb_list[i]-mean_aveb) for i in range(n))/n\n",
        "  return covariance"
      ],
      "metadata": {
        "id": "qthXfpeivrOy"
      },
      "execution_count": 9,
      "outputs": []
    },
    {
      "cell_type": "code",
      "source": [
        "calculate_covariance(aver_list, aveb_list)"
      ],
      "metadata": {
        "colab": {
          "base_uri": "https://localhost:8080/"
        },
        "id": "YiWMCv8pzpih",
        "outputId": "abeda95d-b2d2-41f7-8f22-5f4f3083ce2c"
      },
      "execution_count": 10,
      "outputs": [
        {
          "output_type": "execute_result",
          "data": {
            "text/plain": [
              "0.9938196481692929"
            ]
          },
          "metadata": {},
          "execution_count": 10
        }
      ]
    },
    {
      "cell_type": "markdown",
      "source": [
        "#Correlation\n",
        "Correlation - ma'lumotlarning ikki o‘zgaruvchisi orasidagi bog‘liqlikning standartlashtirilgan ko-variatsiyasi (Person's corrilation)"
      ],
      "metadata": {
        "id": "ASxSbkDy1QBw"
      }
    },
    {
      "cell_type": "markdown",
      "source": [
        "![formula2.png](data:image/png;base64,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)"
      ],
      "metadata": {
        "id": "2GriKNm01svE"
      }
    },
    {
      "cell_type": "code",
      "source": [
        "def calculate_correlation(X1, X2):\n",
        "  if len(X1)!=len(X2):\n",
        "    print(ValueError(\"Lists X1 and X2 must heve the same lenght\")) # raise ValueError(\"Lists X1 and X2 must heve the same lenght\")\n",
        "\n",
        "  n=len(X1)\n",
        "  mean_X1=sum(X1)/n\n",
        "  mean_X2=sum(X2)/n\n",
        "\n",
        "  #Calculate covariance\n",
        "  cov=sum((X1[i]-mean_X1)*(X2[i]-mean_X2) for i in range(n))/n\n",
        "\n",
        "  #Calculate the standart deviation of X1 and X2\n",
        "  std_X1=(sum((x-mean_X1) ** 2 for x in X1) / n) ** 0.5\n",
        "  std_X2=(sum((x-mean_X2) ** 2 for x in X2) / n) ** 0.5\n",
        "\n",
        "  #Calculate the corrilation coefficient\n",
        "  if std_X1==0 or std_X2==0:\n",
        "    raise ValueError(\"standart deviation cannot be zero for corrilation coefficient\")\n",
        "\n",
        "  correlation=cov/(std_X1*std_X2)\n",
        "\n",
        "  return correlation"
      ],
      "metadata": {
        "id": "7c1VcNRt0dli"
      },
      "execution_count": 11,
      "outputs": []
    },
    {
      "cell_type": "code",
      "source": [
        "calculate_correlation(aver_list, aveb_list)"
      ],
      "metadata": {
        "colab": {
          "base_uri": "https://localhost:8080/"
        },
        "id": "CkwaJR8v3jy6",
        "outputId": "e70d08ae-6024-4f48-d81d-ba496d6c34f3"
      },
      "execution_count": 12,
      "outputs": [
        {
          "output_type": "execute_result",
          "data": {
            "text/plain": [
              "0.847621325713045"
            ]
          },
          "metadata": {},
          "execution_count": 12
        }
      ]
    },
    {
      "cell_type": "code",
      "source": [
        "df[['AveRooms', 'AveBedrms']].corr()"
      ],
      "metadata": {
        "colab": {
          "base_uri": "https://localhost:8080/",
          "height": 112
        },
        "id": "RL7ddMhZ6l0i",
        "outputId": "dc8e7a1f-c2c3-4c2c-fd01-8fddefb0fbdd"
      },
      "execution_count": 13,
      "outputs": [
        {
          "output_type": "execute_result",
          "data": {
            "text/plain": [
              "           AveRooms  AveBedrms\n",
              "AveRooms   1.000000   0.847621\n",
              "AveBedrms  0.847621   1.000000"
            ],
            "text/html": [
              "\n",
              "  <div id=\"df-959f934a-781c-438f-96e0-b962c03647a1\" class=\"colab-df-container\">\n",
              "    <div>\n",
              "<style scoped>\n",
              "    .dataframe tbody tr th:only-of-type {\n",
              "        vertical-align: middle;\n",
              "    }\n",
              "\n",
              "    .dataframe tbody tr th {\n",
              "        vertical-align: top;\n",
              "    }\n",
              "\n",
              "    .dataframe thead th {\n",
              "        text-align: right;\n",
              "    }\n",
              "</style>\n",
              "<table border=\"1\" class=\"dataframe\">\n",
              "  <thead>\n",
              "    <tr style=\"text-align: right;\">\n",
              "      <th></th>\n",
              "      <th>AveRooms</th>\n",
              "      <th>AveBedrms</th>\n",
              "    </tr>\n",
              "  </thead>\n",
              "  <tbody>\n",
              "    <tr>\n",
              "      <th>AveRooms</th>\n",
              "      <td>1.000000</td>\n",
              "      <td>0.847621</td>\n",
              "    </tr>\n",
              "    <tr>\n",
              "      <th>AveBedrms</th>\n",
              "      <td>0.847621</td>\n",
              "      <td>1.000000</td>\n",
              "    </tr>\n",
              "  </tbody>\n",
              "</table>\n",
              "</div>\n",
              "    <div class=\"colab-df-buttons\">\n",
              "\n",
              "  <div class=\"colab-df-container\">\n",
              "    <button class=\"colab-df-convert\" onclick=\"convertToInteractive('df-959f934a-781c-438f-96e0-b962c03647a1')\"\n",
              "            title=\"Convert this dataframe to an interactive table.\"\n",
              "            style=\"display:none;\">\n",
              "\n",
              "  <svg xmlns=\"http://www.w3.org/2000/svg\" height=\"24px\" viewBox=\"0 -960 960 960\">\n",
              "    <path d=\"M120-120v-720h720v720H120Zm60-500h600v-160H180v160Zm220 220h160v-160H400v160Zm0 220h160v-160H400v160ZM180-400h160v-160H180v160Zm440 0h160v-160H620v160ZM180-180h160v-160H180v160Zm440 0h160v-160H620v160Z\"/>\n",
              "  </svg>\n",
              "    </button>\n",
              "\n",
              "  <style>\n",
              "    .colab-df-container {\n",
              "      display:flex;\n",
              "      gap: 12px;\n",
              "    }\n",
              "\n",
              "    .colab-df-convert {\n",
              "      background-color: #E8F0FE;\n",
              "      border: none;\n",
              "      border-radius: 50%;\n",
              "      cursor: pointer;\n",
              "      display: none;\n",
              "      fill: #1967D2;\n",
              "      height: 32px;\n",
              "      padding: 0 0 0 0;\n",
              "      width: 32px;\n",
              "    }\n",
              "\n",
              "    .colab-df-convert:hover {\n",
              "      background-color: #E2EBFA;\n",
              "      box-shadow: 0px 1px 2px rgba(60, 64, 67, 0.3), 0px 1px 3px 1px rgba(60, 64, 67, 0.15);\n",
              "      fill: #174EA6;\n",
              "    }\n",
              "\n",
              "    .colab-df-buttons div {\n",
              "      margin-bottom: 4px;\n",
              "    }\n",
              "\n",
              "    [theme=dark] .colab-df-convert {\n",
              "      background-color: #3B4455;\n",
              "      fill: #D2E3FC;\n",
              "    }\n",
              "\n",
              "    [theme=dark] .colab-df-convert:hover {\n",
              "      background-color: #434B5C;\n",
              "      box-shadow: 0px 1px 3px 1px rgba(0, 0, 0, 0.15);\n",
              "      filter: drop-shadow(0px 1px 2px rgba(0, 0, 0, 0.3));\n",
              "      fill: #FFFFFF;\n",
              "    }\n",
              "  </style>\n",
              "\n",
              "    <script>\n",
              "      const buttonEl =\n",
              "        document.querySelector('#df-959f934a-781c-438f-96e0-b962c03647a1 button.colab-df-convert');\n",
              "      buttonEl.style.display =\n",
              "        google.colab.kernel.accessAllowed ? 'block' : 'none';\n",
              "\n",
              "      async function convertToInteractive(key) {\n",
              "        const element = document.querySelector('#df-959f934a-781c-438f-96e0-b962c03647a1');\n",
              "        const dataTable =\n",
              "          await google.colab.kernel.invokeFunction('convertToInteractive',\n",
              "                                                    [key], {});\n",
              "        if (!dataTable) return;\n",
              "\n",
              "        const docLinkHtml = 'Like what you see? Visit the ' +\n",
              "          '<a target=\"_blank\" href=https://colab.research.google.com/notebooks/data_table.ipynb>data table notebook</a>'\n",
              "          + ' to learn more about interactive tables.';\n",
              "        element.innerHTML = '';\n",
              "        dataTable['output_type'] = 'display_data';\n",
              "        await google.colab.output.renderOutput(dataTable, element);\n",
              "        const docLink = document.createElement('div');\n",
              "        docLink.innerHTML = docLinkHtml;\n",
              "        element.appendChild(docLink);\n",
              "      }\n",
              "    </script>\n",
              "  </div>\n",
              "\n",
              "\n",
              "    <div id=\"df-8f0472d0-d5a4-4b25-832f-4b9919ae848c\">\n",
              "      <button class=\"colab-df-quickchart\" onclick=\"quickchart('df-8f0472d0-d5a4-4b25-832f-4b9919ae848c')\"\n",
              "                title=\"Suggest charts\"\n",
              "                style=\"display:none;\">\n",
              "\n",
              "<svg xmlns=\"http://www.w3.org/2000/svg\" height=\"24px\"viewBox=\"0 0 24 24\"\n",
              "     width=\"24px\">\n",
              "    <g>\n",
              "        <path d=\"M19 3H5c-1.1 0-2 .9-2 2v14c0 1.1.9 2 2 2h14c1.1 0 2-.9 2-2V5c0-1.1-.9-2-2-2zM9 17H7v-7h2v7zm4 0h-2V7h2v10zm4 0h-2v-4h2v4z\"/>\n",
              "    </g>\n",
              "</svg>\n",
              "      </button>\n",
              "\n",
              "<style>\n",
              "  .colab-df-quickchart {\n",
              "      --bg-color: #E8F0FE;\n",
              "      --fill-color: #1967D2;\n",
              "      --hover-bg-color: #E2EBFA;\n",
              "      --hover-fill-color: #174EA6;\n",
              "      --disabled-fill-color: #AAA;\n",
              "      --disabled-bg-color: #DDD;\n",
              "  }\n",
              "\n",
              "  [theme=dark] .colab-df-quickchart {\n",
              "      --bg-color: #3B4455;\n",
              "      --fill-color: #D2E3FC;\n",
              "      --hover-bg-color: #434B5C;\n",
              "      --hover-fill-color: #FFFFFF;\n",
              "      --disabled-bg-color: #3B4455;\n",
              "      --disabled-fill-color: #666;\n",
              "  }\n",
              "\n",
              "  .colab-df-quickchart {\n",
              "    background-color: var(--bg-color);\n",
              "    border: none;\n",
              "    border-radius: 50%;\n",
              "    cursor: pointer;\n",
              "    display: none;\n",
              "    fill: var(--fill-color);\n",
              "    height: 32px;\n",
              "    padding: 0;\n",
              "    width: 32px;\n",
              "  }\n",
              "\n",
              "  .colab-df-quickchart:hover {\n",
              "    background-color: var(--hover-bg-color);\n",
              "    box-shadow: 0 1px 2px rgba(60, 64, 67, 0.3), 0 1px 3px 1px rgba(60, 64, 67, 0.15);\n",
              "    fill: var(--button-hover-fill-color);\n",
              "  }\n",
              "\n",
              "  .colab-df-quickchart-complete:disabled,\n",
              "  .colab-df-quickchart-complete:disabled:hover {\n",
              "    background-color: var(--disabled-bg-color);\n",
              "    fill: var(--disabled-fill-color);\n",
              "    box-shadow: none;\n",
              "  }\n",
              "\n",
              "  .colab-df-spinner {\n",
              "    border: 2px solid var(--fill-color);\n",
              "    border-color: transparent;\n",
              "    border-bottom-color: var(--fill-color);\n",
              "    animation:\n",
              "      spin 1s steps(1) infinite;\n",
              "  }\n",
              "\n",
              "  @keyframes spin {\n",
              "    0% {\n",
              "      border-color: transparent;\n",
              "      border-bottom-color: var(--fill-color);\n",
              "      border-left-color: var(--fill-color);\n",
              "    }\n",
              "    20% {\n",
              "      border-color: transparent;\n",
              "      border-left-color: var(--fill-color);\n",
              "      border-top-color: var(--fill-color);\n",
              "    }\n",
              "    30% {\n",
              "      border-color: transparent;\n",
              "      border-left-color: var(--fill-color);\n",
              "      border-top-color: var(--fill-color);\n",
              "      border-right-color: var(--fill-color);\n",
              "    }\n",
              "    40% {\n",
              "      border-color: transparent;\n",
              "      border-right-color: var(--fill-color);\n",
              "      border-top-color: var(--fill-color);\n",
              "    }\n",
              "    60% {\n",
              "      border-color: transparent;\n",
              "      border-right-color: var(--fill-color);\n",
              "    }\n",
              "    80% {\n",
              "      border-color: transparent;\n",
              "      border-right-color: var(--fill-color);\n",
              "      border-bottom-color: var(--fill-color);\n",
              "    }\n",
              "    90% {\n",
              "      border-color: transparent;\n",
              "      border-bottom-color: var(--fill-color);\n",
              "    }\n",
              "  }\n",
              "</style>\n",
              "\n",
              "      <script>\n",
              "        async function quickchart(key) {\n",
              "          const quickchartButtonEl =\n",
              "            document.querySelector('#' + key + ' button');\n",
              "          quickchartButtonEl.disabled = true;  // To prevent multiple clicks.\n",
              "          quickchartButtonEl.classList.add('colab-df-spinner');\n",
              "          try {\n",
              "            const charts = await google.colab.kernel.invokeFunction(\n",
              "                'suggestCharts', [key], {});\n",
              "          } catch (error) {\n",
              "            console.error('Error during call to suggestCharts:', error);\n",
              "          }\n",
              "          quickchartButtonEl.classList.remove('colab-df-spinner');\n",
              "          quickchartButtonEl.classList.add('colab-df-quickchart-complete');\n",
              "        }\n",
              "        (() => {\n",
              "          let quickchartButtonEl =\n",
              "            document.querySelector('#df-8f0472d0-d5a4-4b25-832f-4b9919ae848c button');\n",
              "          quickchartButtonEl.style.display =\n",
              "            google.colab.kernel.accessAllowed ? 'block' : 'none';\n",
              "        })();\n",
              "      </script>\n",
              "    </div>\n",
              "\n",
              "    </div>\n",
              "  </div>\n"
            ],
            "application/vnd.google.colaboratory.intrinsic+json": {
              "type": "dataframe",
              "summary": "{\n  \"name\": \"df[['AveRooms', 'AveBedrms']]\",\n  \"rows\": 2,\n  \"fields\": [\n    {\n      \"column\": \"AveRooms\",\n      \"properties\": {\n        \"dtype\": \"number\",\n        \"std\": 0.10774799389652394,\n        \"min\": 0.8476213257130424,\n        \"max\": 1.0,\n        \"num_unique_values\": 2,\n        \"samples\": [\n          0.8476213257130424,\n          1.0\n        ],\n        \"semantic_type\": \"\",\n        \"description\": \"\"\n      }\n    },\n    {\n      \"column\": \"AveBedrms\",\n      \"properties\": {\n        \"dtype\": \"number\",\n        \"std\": 0.10774799389652394,\n        \"min\": 0.8476213257130424,\n        \"max\": 1.0,\n        \"num_unique_values\": 2,\n        \"samples\": [\n          1.0,\n          0.8476213257130424\n        ],\n        \"semantic_type\": \"\",\n        \"description\": \"\"\n      }\n    }\n  ]\n}"
            }
          },
          "metadata": {},
          "execution_count": 13
        }
      ]
    },
    {
      "cell_type": "markdown",
      "source": [
        "#Probability density function - Continuous\n",
        "\n",
        "PDF (Taqsimotning zichlik funksiyasi)ni topish oddiy emperik usulda hal qilish qiyin bo‘lgan masala, shuning uchun ham Kernel Density Estimation (KDE) usulidan foydalanib PDF topiladi.\n",
        "Agarda taqsimot turi bizga ma'lum bo‘lsa, unda parametrik usulda PDF ni hisoplash mumkin. Unday bo‘lmasa, KDE dan foydalanish tavsiya etiladi."
      ],
      "metadata": {
        "id": "dIHW2w7M916z"
      }
    },
    {
      "cell_type": "markdown",
      "source": [
        "![formula3.png](data:image/png;base64,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)"
      ],
      "metadata": {
        "id": "6e7uma24AGgP"
      }
    },
    {
      "cell_type": "code",
      "source": [
        "def calculate_pdf_vectorized(data):\n",
        "  mu=np.mean(data)\n",
        "  sigma=np.std(data, ddof=1)\n",
        "\n",
        "  coeff=1/(sigma*np.sqrt(2*np.pi))\n",
        "\n",
        "  exponent = np.exp(-((data-mu)**2)/(2*sigma **2))\n",
        "\n",
        "  return coeff*exponent\n"
      ],
      "metadata": {
        "id": "PoUImKX19Cma"
      },
      "execution_count": 14,
      "outputs": []
    },
    {
      "cell_type": "code",
      "source": [
        "pdf_volues=calculate_pdf_vectorized(aver_array)\n",
        "print(\"PDF values for the sepal length data:\")\n",
        "print(pdf_volues)"
      ],
      "metadata": {
        "colab": {
          "base_uri": "https://localhost:8080/"
        },
        "id": "sLNtZS30BC_r",
        "outputId": "fdf5b02e-c2da-49a5-949d-4156983a7926"
      },
      "execution_count": 15,
      "outputs": [
        {
          "output_type": "stream",
          "name": "stdout",
          "text": [
            "PDF values for the sepal length data:\n",
            "[0.13234029 0.15284664 0.0826995  ... 0.16058638 0.16111237 0.16084313]\n"
          ]
        }
      ]
    },
    {
      "cell_type": "code",
      "source": [
        "plt.figure(figsize=(28, 6))\n",
        "plt.scatter(aver_array, pdf_volues)\n",
        "plt.show()"
      ],
      "metadata": {
        "colab": {
          "base_uri": "https://localhost:8080/",
          "height": 356
        },
        "id": "8lzLW_jLB9pa",
        "outputId": "c2ff8c59-21b0-4af1-e70e-dd7d324c0921"
      },
      "execution_count": 16,
      "outputs": [
        {
          "output_type": "display_data",
          "data": {
            "text/plain": [
              "<Figure size 2800x600 with 1 Axes>"
            ],
            "image/png": "[encoded data removed]"
          },
          "metadata": {}
        }
      ]
    },
    {
      "cell_type": "markdown",
      "source": [
        "#Scales and Normalizations\n",
        "\n",
        "Min-Max scaling, Z-score normalization, MaxAbs scaling, Robust scaling\n",
        "\n",
        "Min-Max scaling"
      ],
      "metadata": {
        "id": "KaJe6L9cC9i7"
      }
    },
    {
      "cell_type": "code",
      "source": [
        "def min_max(array):\n",
        "  min_value=np.min(array)\n",
        "  max_value=np.max(array)\n",
        "  return (array-min_value)/(max_value-min_value)\n"
      ],
      "metadata": {
        "id": "5lgoVdpMC4Ab"
      },
      "execution_count": 17,
      "outputs": []
    },
    {
      "cell_type": "code",
      "source": [
        "min_max(aver_array)"
      ],
      "metadata": {
        "colab": {
          "base_uri": "https://localhost:8080/"
        },
        "id": "DKKy1O6tDNyz",
        "outputId": "90cff6f9-6ce7-4ede-f94c-4b7a2b6f7fdc"
      },
      "execution_count": 18,
      "outputs": [
        {
          "output_type": "execute_result",
          "data": {
            "text/plain": [
              "array([0.0435123 , 0.03822395, 0.05275646, ..., 0.03090386, 0.03178269,\n",
              "       0.03125246])"
            ]
          },
          "metadata": {},
          "execution_count": 18
        }
      ]
    },
    {
      "cell_type": "markdown",
      "source": [
        "#Bivariate normal distribution\n",
        "** Ikki o‘garuvchi uchun normal distriburion\n"
      ],
      "metadata": {
        "id": "4I3HY6WIPbtc"
      }
    },
    {
      "cell_type": "markdown",
      "source": [
        "![formula4.png](data:image/png;base64,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)"
      ],
      "metadata": {
        "id": "mUttE8WESOSY"
      }
    },
    {
      "cell_type": "code",
      "source": [
        "def calculate_bi_std_vectorized(X, Y):\n",
        "    if len(X) != len(Y):\n",
        "        raise ValueError(\"Lists X and Y must have the same length\")\n",
        "\n",
        "    X = X.ravel()\n",
        "    Y = Y.ravel()\n",
        "\n",
        "    # Mean va standard deviation\n",
        "    mean_X = np.mean(X)\n",
        "    mean_Y = np.mean(Y)\n",
        "    std_X = np.std(X)\n",
        "    std_Y = np.std(Y)\n",
        "\n",
        "    # Korrelatsiya koeffitsienti (rho)\n",
        "    rho = np.corrcoef(X, Y)[0, 1]\n",
        "\n",
        "    # Zx va Zy hisoblash\n",
        "    Zx = (X - mean_X) / std_X\n",
        "    Zy = (Y - mean_Y) / std_Y\n",
        "\n",
        "    # Bivariate normal distribution formulasi\n",
        "    coeff = 1 / (2 * np.pi * std_X * std_Y * np.sqrt(1 - rho**2))\n",
        "    exponent = np.exp(-1 / (2 * (1 - rho**2)) * (Zx**2 - 2 * rho * Zx * Zy + Zy**2))\n",
        "\n",
        "    # PDF qiymatlari\n",
        "    return coeff * exponent"
      ],
      "metadata": {
        "id": "_HsdnaTkDnuS"
      },
      "execution_count": 19,
      "outputs": []
    },
    {
      "cell_type": "code",
      "source": [
        "bi_std_vectorized=calculate_bi_std_vectorized(aver_array,aveb_array)"
      ],
      "metadata": {
        "id": "fDksxvkYT3Ed"
      },
      "execution_count": 20,
      "outputs": []
    },
    {
      "cell_type": "code",
      "source": [
        "bi_std_vectorized"
      ],
      "metadata": {
        "colab": {
          "base_uri": "https://localhost:8080/"
        },
        "id": "6kM8ZKaVWuwu",
        "outputId": "77b424b2-2c82-4286-981c-f7f7eeb7ff8b"
      },
      "execution_count": 21,
      "outputs": [
        {
          "output_type": "execute_result",
          "data": {
            "text/plain": [
              "array([0.09091148, 0.1443312 , 0.02004493, ..., 0.24770539, 0.23927991,\n",
              "       0.23801081])"
            ]
          },
          "metadata": {},
          "execution_count": 21
        }
      ]
    },
    {
      "cell_type": "code",
      "source": [
        "from mpl_toolkits.mplot3d import Axes3D"
      ],
      "metadata": {
        "id": "hjEqQPE8T820"
      },
      "execution_count": 22,
      "outputs": []
    },
    {
      "cell_type": "code",
      "source": [
        "X=aver_array\n",
        "Y=aveb_array\n",
        "X, Y = np.meshgrid(X, Y)\n",
        "Z = calculate_bi_std_vectorized(X, Y)\n",
        "\n",
        "# 3D plot\n",
        "fig = plt.figure(figsize=(8,6))\n",
        "ax = fig.add_subplot(111, projection='3d')\n",
        "ax.plot_surface(X, Y, Z, cmap='viridis', edgecolor='none')\n",
        "ax.set_xlabel('X')\n",
        "ax.set_ylabel('Y')\n",
        "ax.set_zlabel('PDF')\n",
        "plt.title(\"Bivariate Normal Distribution\")\n",
        "plt.show()"
      ],
      "metadata": {
        "id": "7xvg9KeFUCMD"
      },
      "execution_count": null,
      "outputs": []
    },
    {
      "cell_type": "code",
      "source": [],
      "metadata": {
        "id": "DFwM1jtyXnd0"
      },
      "execution_count": null,
      "outputs": []
    }
  ]
}