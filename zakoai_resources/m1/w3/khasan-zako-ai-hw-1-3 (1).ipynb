{
 "cells": [
  {
   "cell_type": "code",
   "execution_count": 39,
   "metadata": {
    "_cell_guid": "b1076dfc-b9ad-4769-8c92-a6c4dae69d19",
    "_uuid": "8f2839f25d086af736a60e9eeb907d3b93b6e0e5",
    "execution": {
     "iopub.execute_input": "2025-08-11T14:20:27.216280Z",
     "iopub.status.busy": "2025-08-11T14:20:27.215965Z",
     "iopub.status.idle": "2025-08-11T14:20:27.222264Z",
     "shell.execute_reply": "2025-08-11T14:20:27.221211Z",
     "shell.execute_reply.started": "2025-08-11T14:20:27.216255Z"
    },
    "trusted": true
   },
   "outputs": [],
   "source": [
    "# This Python 3 environment comes with many helpful analytics libraries installed\n",
    "# It is defined by the kaggle/python Docker image: https://github.com/kaggle/docker-python\n",
    "# For example, here's several helpful packages to load\n",
    "\n",
    "import numpy as np # linear algebra\n",
    "import pandas as pd # data processing, CSV file I/O (e.g. pd.read_csv)\n",
    "\n",
    "# Input data files are available in the read-only \"../input/\" directory\n",
    "# For example, running this (by clicking run or pressing Shift+Enter) will list all files under the input directory\n",
    "\n",
    "import os\n",
    "for dirname, _, filenames in os.walk('/kaggle/input'):\n",
    "    for filename in filenames:\n",
    "        print(os.path.join(dirname, filename))\n",
    "\n",
    "# You can write up to 20GB to the current directory (/kaggle/working/) that gets preserved as output when you create a version using \"Save & Run All\" \n",
    "# You can also write temporary files to /kaggle/temp/, but they won't be saved outside of the current session"
   ]
  },
  {
   "cell_type": "code",
   "execution_count": 40,
   "metadata": {
    "execution": {
     "iopub.execute_input": "2025-08-11T14:20:27.224268Z",
     "iopub.status.busy": "2025-08-11T14:20:27.223817Z",
     "iopub.status.idle": "2025-08-11T14:20:27.240939Z",
     "shell.execute_reply": "2025-08-11T14:20:27.239675Z",
     "shell.execute_reply.started": "2025-08-11T14:20:27.224235Z"
    },
    "trusted": true
   },
   "outputs": [],
   "source": [
    "# Importing all neccessary libraries\n",
    "import pandas as pd\n",
    "import numpy as np\n",
    "import matplotlib.pyplot as plt\n",
    "from sklearn import datasets"
   ]
  },
  {
   "cell_type": "code",
   "execution_count": null,
   "metadata": {
    "execution": {
     "iopub.execute_input": "2025-08-11T14:20:27.243079Z",
     "iopub.status.busy": "2025-08-11T14:20:27.242545Z",
     "iopub.status.idle": "2025-08-11T14:20:27.279882Z",
     "shell.execute_reply": "2025-08-11T14:20:27.278797Z",
     "shell.execute_reply.started": "2025-08-11T14:20:27.243040Z"
    },
    "trusted": true
   },
   "outputs": [
    {
     "name": "stdout",
     "output_type": "stream",
     "text": [
      "(20640, 8) (20640,)\n",
      "['MedInc', 'HouseAge', 'AveRooms', 'AveBedrms', 'Population', 'AveOccup']\n"
     ]
    }
   ],
   "source": [
    "#Importing dataset as dataframe\n",
    "from sklearn.datasets import fetch_california_housing\n",
    "\n",
    "housing = fetch_california_housing(as_frame=True)\n",
    "df = housing.frame\n",
    "\n",
    "print(housing.data.shape, housing.target.shape)\n",
    "print(housing.feature_names[0:6])\n"
   ]
  },
  {
   "cell_type": "code",
   "execution_count": 42,
   "metadata": {
    "execution": {
     "iopub.execute_input": "2025-08-11T14:20:27.281004Z",
     "iopub.status.busy": "2025-08-11T14:20:27.280773Z",
     "iopub.status.idle": "2025-08-11T14:20:27.289874Z",
     "shell.execute_reply": "2025-08-11T14:20:27.287501Z",
     "shell.execute_reply.started": "2025-08-11T14:20:27.280987Z"
    },
    "trusted": true
   },
   "outputs": [],
   "source": [
    "# 1st House Age\n",
    "ha_list = df['HouseAge'].tolist()\n",
    "ha_array = df['HouseAge'].values\n",
    "ha_frame = df['HouseAge']\n",
    "\n",
    "# Average rooms\n",
    "\n",
    "ar_list = df['AveRooms'].tolist()\n",
    "ar_array = df['AveRooms'].values\n",
    "ar_frame = df['AveRooms']"
   ]
  },
  {
   "cell_type": "markdown",
   "metadata": {},
   "source": [
    "# Covariance\n",
    "\n",
    "Covariance - bu ko'variatsiya deb nomlanib, ,a'lumotlarning ikkita o'zgaruvchisi orasidagi assotsiyatsiyani yoki chiziqli bog'liqlikni anglatadi;\n",
    "\n"
   ]
  },
  {
   "cell_type": "code",
   "execution_count": 43,
   "metadata": {
    "execution": {
     "iopub.execute_input": "2025-08-11T14:20:27.292466Z",
     "iopub.status.busy": "2025-08-11T14:20:27.292156Z",
     "iopub.status.idle": "2025-08-11T14:20:27.317011Z",
     "shell.execute_reply": "2025-08-11T14:20:27.315764Z",
     "shell.execute_reply.started": "2025-08-11T14:20:27.292443Z"
    },
    "trusted": true
   },
   "outputs": [
    {
     "data": {
      "text/plain": [
       "-4.772651208898194"
      ]
     },
     "execution_count": 43,
     "metadata": {},
     "output_type": "execute_result"
    }
   ],
   "source": [
    "def calculate_covariance(ha_list, ar_list):\n",
    "    if len(ha_list) != len(ar_list):\n",
    "        raise ValueError(\"List X1 and X2 must have the same length\")\n",
    "    n = len(ha_list)\n",
    "    mean_ha = sum(ha_list) / n\n",
    "    mean_ar = sum(ar_list) / n\n",
    "\n",
    "    covariance = sum((ha_list[i] - mean_ha) * (ar_list[i] - mean_ar) for i in range(n)) / n\n",
    "\n",
    "    return covariance\n",
    "\n",
    "calculate_covariance(ha_list, ar_list)"
   ]
  },
  {
   "cell_type": "markdown",
   "metadata": {},
   "source": [
    "# Correlation | Pears correlation\n",
    "Corralation - ma'lumotning ikki o'zgaruvchisi orasidagi bog'liqlikning standartlashtirilgan ko'variatsiyasi"
   ]
  },
  {
   "cell_type": "code",
   "execution_count": 44,
   "metadata": {
    "execution": {
     "iopub.execute_input": "2025-08-11T14:20:27.318494Z",
     "iopub.status.busy": "2025-08-11T14:20:27.318055Z",
     "iopub.status.idle": "2025-08-11T14:20:27.348394Z",
     "shell.execute_reply": "2025-08-11T14:20:27.346157Z",
     "shell.execute_reply.started": "2025-08-11T14:20:27.318463Z"
    },
    "trusted": true
   },
   "outputs": [
    {
     "data": {
      "text/plain": [
       "-0.15327742256198876"
      ]
     },
     "execution_count": 44,
     "metadata": {},
     "output_type": "execute_result"
    }
   ],
   "source": [
    "def calculate_correlation(X1, X2):\n",
    "    if len(X1) != len(X2):\n",
    "        raise ValueError(\"List X1 and X2 must have the same length\")\n",
    "    n = len(X1)\n",
    "    mean_X1 = sum(X1) / n\n",
    "    mean_X2 = sum(X2) / n\n",
    "    # Calculating covariance by function\n",
    "    cov = sum((X1[i] - mean_X1) * (X2[i] - mean_X2) for i in range (n)) / n\n",
    "            \n",
    "    #STD calculation\n",
    "    std_X1 = (sum((xi - mean_X1) ** 2 for xi in X1) / n) ** 0.5\n",
    "    std_X2 = (sum((xi - mean_X2) ** 2 for xi in X2) / n) ** 0.5\n",
    "\n",
    "    #calculating correlation coefficient\n",
    "    if std_X1 == 0 or std_X2 == 0:\n",
    "          raise ValueError(\"Standart deviation cannot be zero for correlation calculation\")\n",
    "\n",
    "    correlation = cov / (std_X1 * std_X2)\n",
    "\n",
    "    return correlation\n",
    "calculate_correlation(ha_list, ar_list)"
   ]
  },
  {
   "cell_type": "code",
   "execution_count": 45,
   "metadata": {
    "execution": {
     "iopub.execute_input": "2025-08-11T14:20:27.349977Z",
     "iopub.status.busy": "2025-08-11T14:20:27.349685Z",
     "iopub.status.idle": "2025-08-11T14:20:27.375919Z",
     "shell.execute_reply": "2025-08-11T14:20:27.374840Z",
     "shell.execute_reply.started": "2025-08-11T14:20:27.349955Z"
    },
    "trusted": true
   },
   "outputs": [
    {
     "data": {
      "text/html": [
       "<div>\n",
       "<style scoped>\n",
       "    .dataframe tbody tr th:only-of-type {\n",
       "        vertical-align: middle;\n",
       "    }\n",
       "\n",
       "    .dataframe tbody tr th {\n",
       "        vertical-align: top;\n",
       "    }\n",
       "\n",
       "    .dataframe thead th {\n",
       "        text-align: right;\n",
       "    }\n",
       "</style>\n",
       "<table border=\"1\" class=\"dataframe\">\n",
       "  <thead>\n",
       "    <tr style=\"text-align: right;\">\n",
       "      <th></th>\n",
       "      <th>HouseAge</th>\n",
       "      <th>AveRooms</th>\n",
       "    </tr>\n",
       "  </thead>\n",
       "  <tbody>\n",
       "    <tr>\n",
       "      <th>HouseAge</th>\n",
       "      <td>1.000000</td>\n",
       "      <td>-0.153277</td>\n",
       "    </tr>\n",
       "    <tr>\n",
       "      <th>AveRooms</th>\n",
       "      <td>-0.153277</td>\n",
       "      <td>1.000000</td>\n",
       "    </tr>\n",
       "  </tbody>\n",
       "</table>\n",
       "</div>"
      ],
      "text/plain": [
       "          HouseAge  AveRooms\n",
       "HouseAge  1.000000 -0.153277\n",
       "AveRooms -0.153277  1.000000"
      ]
     },
     "execution_count": 45,
     "metadata": {},
     "output_type": "execute_result"
    }
   ],
   "source": [
    "#dataframe\n",
    "df[['HouseAge', 'AveRooms']].corr()"
   ]
  },
  {
   "cell_type": "markdown",
   "metadata": {},
   "source": [
    "PDF (Probability Density Function) - Continues\n",
    " "
   ]
  },
  {
   "cell_type": "code",
   "execution_count": 46,
   "metadata": {
    "execution": {
     "iopub.execute_input": "2025-08-11T14:20:27.378455Z",
     "iopub.status.busy": "2025-08-11T14:20:27.378166Z",
     "iopub.status.idle": "2025-08-11T14:20:27.668871Z",
     "shell.execute_reply": "2025-08-11T14:20:27.667716Z",
     "shell.execute_reply.started": "2025-08-11T14:20:27.378432Z"
    },
    "trusted": true
   },
   "outputs": [
    {
     "name": "stdout",
     "output_type": "stream",
     "text": [
      "PDF value for the house age data: \n",
      "[0.01956981 0.02636506 0.00566125 ... 0.02066854 0.02217442 0.01914368]\n"
     ]
    },
    {
     "data": {
      "text/plain": [
       "<matplotlib.collections.PathCollection at 0x7a2f70c1dd50>"
      ]
     },
     "execution_count": 46,
     "metadata": {},
     "output_type": "execute_result"
    },
    {
     "data": {
      "image/png": "[encoded data removed]",
      "text/plain": [
       "<Figure size 640x480 with 1 Axes>"
      ]
     },
     "metadata": {},
     "output_type": "display_data"
    }
   ],
   "source": [
    "# Calculating pdf value . 1-st Mean value for dataset by numpy. Then std and precomposition coefficient\n",
    "def calculate_pdf_vectorized(data):\n",
    "    mu = np.mean(data)\n",
    "    sigma = np.std(data, ddof=1)\n",
    "    coeff = 1 / (sigma * np.sqrt(2 * np.pi))\n",
    "    \n",
    "    #Compute the exponent part of all data points in one go\n",
    "    exponent = np.exp(-((data - mu) ** 2) / (2 * sigma **2))\n",
    "\n",
    "    # returning the array of computed PDF values\n",
    "    return coeff * exponent \n",
    "\n",
    "#calculating the PDF value for all data points in the House age array\n",
    "pdf_values = calculate_pdf_vectorized(ha_array)\n",
    "\n",
    "\n",
    "#Result. Printing/ Visualizing\n",
    "print('PDF value for the house age data: ')\n",
    "print(pdf_values)\n",
    "plt.scatter(ha_array, pdf_values)"
   ]
  },
  {
   "cell_type": "markdown",
   "metadata": {},
   "source": [
    "# Scales and Normalizations\n",
    "\n",
    "Min-Max scaling"
   ]
  },
  {
   "cell_type": "code",
   "execution_count": 59,
   "metadata": {
    "execution": {
     "iopub.execute_input": "2025-08-11T14:25:20.812373Z",
     "iopub.status.busy": "2025-08-11T14:25:20.812041Z",
     "iopub.status.idle": "2025-08-11T14:25:20.819944Z",
     "shell.execute_reply": "2025-08-11T14:25:20.818918Z",
     "shell.execute_reply.started": "2025-08-11T14:25:20.812350Z"
    },
    "trusted": true
   },
   "outputs": [
    {
     "name": "stdout",
     "output_type": "stream",
     "text": [
      "[0.78431373 0.39215686 1.         ... 0.31372549 0.33333333 0.29411765]\n"
     ]
    }
   ],
   "source": [
    "def min_max(array):\n",
    "    min_value = np.min(array)\n",
    "    max_value = np.max(array)\n",
    "    return (array-min_value)/(max_value-min_value)\n",
    "res = min_max(ha_array)\n",
    "print(res)"
   ]
  },
  {
   "cell_type": "code",
   "execution_count": null,
   "metadata": {
    "trusted": true
   },
   "outputs": [],
   "source": []
  }
 ],
 "metadata": {
  "kaggle": {
   "accelerator": "none",
   "dataSources": [],
   "dockerImageVersionId": 31089,
   "isGpuEnabled": false,
   "isInternetEnabled": true,
   "language": "python",
   "sourceType": "notebook"
  },
  "kernelspec": {
   "display_name": "Python 3",
   "language": "python",
   "name": "python3"
  },
  "language_info": {
   "codemirror_mode": {
    "name": "ipython",
    "version": 3
   },
   "file_extension": ".py",
   "mimetype": "text/x-python",
   "name": "python",
   "nbconvert_exporter": "python",
   "pygments_lexer": "ipython3",
   "version": "3.11.13"
  }
 },
 "nbformat": 4,
 "nbformat_minor": 4
}
