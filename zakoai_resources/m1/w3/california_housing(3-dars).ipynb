{
 "cells": [
  {
   "cell_type": "code",
   "execution_count": 1,
   "id": "683a3303",
   "metadata": {},
   "outputs": [
    {
     "data": {
      "text/html": [
       "<div>\n",
       "<style scoped>\n",
       "    .dataframe tbody tr th:only-of-type {\n",
       "        vertical-align: middle;\n",
       "    }\n",
       "\n",
       "    .dataframe tbody tr th {\n",
       "        vertical-align: top;\n",
       "    }\n",
       "\n",
       "    .dataframe thead th {\n",
       "        text-align: right;\n",
       "    }\n",
       "</style>\n",
       "<table border=\"1\" class=\"dataframe\">\n",
       "  <thead>\n",
       "    <tr style=\"text-align: right;\">\n",
       "      <th></th>\n",
       "      <th>MedInc</th>\n",
       "      <th>HouseAge</th>\n",
       "      <th>AveRooms</th>\n",
       "      <th>AveBedrms</th>\n",
       "      <th>Population</th>\n",
       "      <th>AveOccup</th>\n",
       "      <th>Latitude</th>\n",
       "      <th>Longitude</th>\n",
       "      <th>MedHouseVal</th>\n",
       "    </tr>\n",
       "  </thead>\n",
       "  <tbody>\n",
       "    <tr>\n",
       "      <th>0</th>\n",
       "      <td>8.3252</td>\n",
       "      <td>41.0</td>\n",
       "      <td>6.984127</td>\n",
       "      <td>1.023810</td>\n",
       "      <td>322.0</td>\n",
       "      <td>2.555556</td>\n",
       "      <td>37.88</td>\n",
       "      <td>-122.23</td>\n",
       "      <td>4.526</td>\n",
       "    </tr>\n",
       "    <tr>\n",
       "      <th>1</th>\n",
       "      <td>8.3014</td>\n",
       "      <td>21.0</td>\n",
       "      <td>6.238137</td>\n",
       "      <td>0.971880</td>\n",
       "      <td>2401.0</td>\n",
       "      <td>2.109842</td>\n",
       "      <td>37.86</td>\n",
       "      <td>-122.22</td>\n",
       "      <td>3.585</td>\n",
       "    </tr>\n",
       "    <tr>\n",
       "      <th>2</th>\n",
       "      <td>7.2574</td>\n",
       "      <td>52.0</td>\n",
       "      <td>8.288136</td>\n",
       "      <td>1.073446</td>\n",
       "      <td>496.0</td>\n",
       "      <td>2.802260</td>\n",
       "      <td>37.85</td>\n",
       "      <td>-122.24</td>\n",
       "      <td>3.521</td>\n",
       "    </tr>\n",
       "    <tr>\n",
       "      <th>3</th>\n",
       "      <td>5.6431</td>\n",
       "      <td>52.0</td>\n",
       "      <td>5.817352</td>\n",
       "      <td>1.073059</td>\n",
       "      <td>558.0</td>\n",
       "      <td>2.547945</td>\n",
       "      <td>37.85</td>\n",
       "      <td>-122.25</td>\n",
       "      <td>3.413</td>\n",
       "    </tr>\n",
       "    <tr>\n",
       "      <th>4</th>\n",
       "      <td>3.8462</td>\n",
       "      <td>52.0</td>\n",
       "      <td>6.281853</td>\n",
       "      <td>1.081081</td>\n",
       "      <td>565.0</td>\n",
       "      <td>2.181467</td>\n",
       "      <td>37.85</td>\n",
       "      <td>-122.25</td>\n",
       "      <td>3.422</td>\n",
       "    </tr>\n",
       "    <tr>\n",
       "      <th>5</th>\n",
       "      <td>4.0368</td>\n",
       "      <td>52.0</td>\n",
       "      <td>4.761658</td>\n",
       "      <td>1.103627</td>\n",
       "      <td>413.0</td>\n",
       "      <td>2.139896</td>\n",
       "      <td>37.85</td>\n",
       "      <td>-122.25</td>\n",
       "      <td>2.697</td>\n",
       "    </tr>\n",
       "    <tr>\n",
       "      <th>6</th>\n",
       "      <td>3.6591</td>\n",
       "      <td>52.0</td>\n",
       "      <td>4.931907</td>\n",
       "      <td>0.951362</td>\n",
       "      <td>1094.0</td>\n",
       "      <td>2.128405</td>\n",
       "      <td>37.84</td>\n",
       "      <td>-122.25</td>\n",
       "      <td>2.992</td>\n",
       "    </tr>\n",
       "    <tr>\n",
       "      <th>7</th>\n",
       "      <td>3.1200</td>\n",
       "      <td>52.0</td>\n",
       "      <td>4.797527</td>\n",
       "      <td>1.061824</td>\n",
       "      <td>1157.0</td>\n",
       "      <td>1.788253</td>\n",
       "      <td>37.84</td>\n",
       "      <td>-122.25</td>\n",
       "      <td>2.414</td>\n",
       "    </tr>\n",
       "    <tr>\n",
       "      <th>8</th>\n",
       "      <td>2.0804</td>\n",
       "      <td>42.0</td>\n",
       "      <td>4.294118</td>\n",
       "      <td>1.117647</td>\n",
       "      <td>1206.0</td>\n",
       "      <td>2.026891</td>\n",
       "      <td>37.84</td>\n",
       "      <td>-122.26</td>\n",
       "      <td>2.267</td>\n",
       "    </tr>\n",
       "    <tr>\n",
       "      <th>9</th>\n",
       "      <td>3.6912</td>\n",
       "      <td>52.0</td>\n",
       "      <td>4.970588</td>\n",
       "      <td>0.990196</td>\n",
       "      <td>1551.0</td>\n",
       "      <td>2.172269</td>\n",
       "      <td>37.84</td>\n",
       "      <td>-122.25</td>\n",
       "      <td>2.611</td>\n",
       "    </tr>\n",
       "  </tbody>\n",
       "</table>\n",
       "</div>"
      ],
      "text/plain": [
       "   MedInc  HouseAge  AveRooms  AveBedrms  Population  AveOccup  Latitude  \\\n",
       "0  8.3252      41.0  6.984127   1.023810       322.0  2.555556     37.88   \n",
       "1  8.3014      21.0  6.238137   0.971880      2401.0  2.109842     37.86   \n",
       "2  7.2574      52.0  8.288136   1.073446       496.0  2.802260     37.85   \n",
       "3  5.6431      52.0  5.817352   1.073059       558.0  2.547945     37.85   \n",
       "4  3.8462      52.0  6.281853   1.081081       565.0  2.181467     37.85   \n",
       "5  4.0368      52.0  4.761658   1.103627       413.0  2.139896     37.85   \n",
       "6  3.6591      52.0  4.931907   0.951362      1094.0  2.128405     37.84   \n",
       "7  3.1200      52.0  4.797527   1.061824      1157.0  1.788253     37.84   \n",
       "8  2.0804      42.0  4.294118   1.117647      1206.0  2.026891     37.84   \n",
       "9  3.6912      52.0  4.970588   0.990196      1551.0  2.172269     37.84   \n",
       "\n",
       "   Longitude  MedHouseVal  \n",
       "0    -122.23        4.526  \n",
       "1    -122.22        3.585  \n",
       "2    -122.24        3.521  \n",
       "3    -122.25        3.413  \n",
       "4    -122.25        3.422  \n",
       "5    -122.25        2.697  \n",
       "6    -122.25        2.992  \n",
       "7    -122.25        2.414  \n",
       "8    -122.26        2.267  \n",
       "9    -122.25        2.611  "
      ]
     },
     "execution_count": 1,
     "metadata": {},
     "output_type": "execute_result"
    }
   ],
   "source": [
    "# Kutubxonalarni chaqirib olish\n",
    "import pandas as pd\n",
    "import numpy as np\n",
    "import matplotlib.pyplot as plt\n",
    "from sklearn import datasets\n",
    "\n",
    "# Iris flower datasetini yuklash\n",
    "california = datasets.fetch_california_housing(as_frame=True)\n",
    "df = california.frame\n",
    "df.head(10) # ixtiyoriy 10 ta datasetni ko'rish"
   ]
  },
  {
   "cell_type": "code",
   "execution_count": 2,
   "id": "32f0849e",
   "metadata": {},
   "outputs": [],
   "source": [
    "# average rooms\n",
    "Rm_list = df['AveRooms'].values.tolist()\n",
    "Rm_array = df['AveRooms'].values\n",
    "Rm_frame = df['AveRooms']\n",
    "\n",
    "# average bedrooms\n",
    "Bd_list = df['AveBedrms'].values.tolist()\n",
    "Bd_array = df['AveBedrms'].values\n",
    "Bd_frame = df['AveBedrms']\n"
   ]
  },
  {
   "cell_type": "markdown",
   "id": "d142eb27",
   "metadata": {},
   "source": [
    "## Covariance ni hisoblash"
   ]
  },
  {
   "cell_type": "code",
   "execution_count": 3,
   "id": "ceb65811",
   "metadata": {},
   "outputs": [
    {
     "data": {
      "text/plain": [
       "0.9938196481692929"
      ]
     },
     "execution_count": 3,
     "metadata": {},
     "output_type": "execute_result"
    }
   ],
   "source": [
    "def cal_covv(Rm_list, Bd_list):\n",
    "    if len(Rm_list) != len(Bd_list):\n",
    "        raise ValueError(\"X and Y should have same length\")\n",
    "\n",
    "    n = len(Rm_list) \n",
    "    Rm_mean = sum(Rm_list)/n\n",
    "    Bd_mean = sum(Bd_list)/n\n",
    "\n",
    "    covariance = sum((Rm_list[i] - Rm_mean)*(Bd_list[i] - Bd_mean) for i in range(n))/n\n",
    "\n",
    "    return covariance\n",
    "\n",
    "cal_covv(Rm_list, Bd_list)\n",
    "\n",
    "\n"
   ]
  },
  {
   "cell_type": "code",
   "execution_count": 4,
   "id": "89f1029a",
   "metadata": {},
   "outputs": [
    {
     "data": {
      "text/plain": [
       "np.float64(0.9938678006790173)"
      ]
     },
     "execution_count": 4,
     "metadata": {},
     "output_type": "execute_result"
    }
   ],
   "source": [
    "# numpy da covariance ni hisoblash\n",
    "\n",
    "covv = np.cov(Rm_list, Bd_list)\n",
    "covv[0,1]\n"
   ]
  },
  {
   "cell_type": "code",
   "execution_count": 5,
   "id": "4ae8cb99",
   "metadata": {},
   "outputs": [
    {
     "data": {
      "text/plain": [
       "np.float64(0.9938678006790173)"
      ]
     },
     "execution_count": 5,
     "metadata": {},
     "output_type": "execute_result"
    }
   ],
   "source": [
    "# pandas yordamida covariance ni hisoblash\n",
    "\n",
    "df['AveRooms'].cov(df['AveBedrms'])"
   ]
  },
  {
   "cell_type": "markdown",
   "id": "49866525",
   "metadata": {},
   "source": [
    "## Correlation"
   ]
  },
  {
   "cell_type": "code",
   "execution_count": 6,
   "id": "125c76b3",
   "metadata": {},
   "outputs": [
    {
     "data": {
      "image/png": "[encoded data removed]",
      "text/plain": [
       "<Figure size 640x480 with 1 Axes>"
      ]
     },
     "metadata": {},
     "output_type": "display_data"
    }
   ],
   "source": [
    "def cal_correlation(x, y):\n",
    "    if len(x) != len(y):\n",
    "        raise ValueError(\"X and Y must have same length\")\n",
    "    \n",
    "    n = len(x)\n",
    "    mean_X = sum(x)/n\n",
    "    mean_Y = sum(y)/n\n",
    "\n",
    "    # covariance ni topamiz\n",
    "    cov = sum((x[i] - mean_X)*(y[i] - mean_Y) for i in range(n))/n\n",
    "\n",
    "    # SD ni topamiz\n",
    "    std_x = (sum((xi - mean_X) ** 2 for xi in x) / n) ** 0.5\n",
    "    std_y = (sum((yi - mean_Y) ** 2 for yi in y) / n) ** 0.5\n",
    "\n",
    "    correlation = cov/(std_x * std_y)\n",
    "\n",
    "    return correlation\n",
    "\n",
    "cal_correlation(Rm_list, Bd_list)\n",
    "\n",
    "plt.scatter(Rm_list, Bd_list, label=f'Correlation: {cal_correlation(Rm_list, Bd_list):.2f}')\n",
    "plt.xlabel(\"x\")\n",
    "plt.ylabel(\"y\")\n",
    "plt.title(\"Correlation plot\")\n",
    "plt.legend()\n",
    "plt.show()\n"
   ]
  },
  {
   "cell_type": "code",
   "execution_count": 7,
   "id": "78e833bf",
   "metadata": {},
   "outputs": [
    {
     "data": {
      "text/plain": [
       "np.float64(0.8476213257130447)"
      ]
     },
     "execution_count": 7,
     "metadata": {},
     "output_type": "execute_result"
    }
   ],
   "source": [
    "# numpy da correlationni topish\n",
    "\n",
    "corr = np.corrcoef(Rm_list, Bd_list)\n",
    "\n",
    "corr[0,1]"
   ]
  },
  {
   "cell_type": "code",
   "execution_count": 8,
   "id": "8c9307a8",
   "metadata": {},
   "outputs": [
    {
     "data": {
      "text/html": [
       "<div>\n",
       "<style scoped>\n",
       "    .dataframe tbody tr th:only-of-type {\n",
       "        vertical-align: middle;\n",
       "    }\n",
       "\n",
       "    .dataframe tbody tr th {\n",
       "        vertical-align: top;\n",
       "    }\n",
       "\n",
       "    .dataframe thead th {\n",
       "        text-align: right;\n",
       "    }\n",
       "</style>\n",
       "<table border=\"1\" class=\"dataframe\">\n",
       "  <thead>\n",
       "    <tr style=\"text-align: right;\">\n",
       "      <th></th>\n",
       "      <th>AveRooms</th>\n",
       "      <th>AveBedrms</th>\n",
       "    </tr>\n",
       "  </thead>\n",
       "  <tbody>\n",
       "    <tr>\n",
       "      <th>AveRooms</th>\n",
       "      <td>1.000000</td>\n",
       "      <td>0.847621</td>\n",
       "    </tr>\n",
       "    <tr>\n",
       "      <th>AveBedrms</th>\n",
       "      <td>0.847621</td>\n",
       "      <td>1.000000</td>\n",
       "    </tr>\n",
       "  </tbody>\n",
       "</table>\n",
       "</div>"
      ],
      "text/plain": [
       "           AveRooms  AveBedrms\n",
       "AveRooms   1.000000   0.847621\n",
       "AveBedrms  0.847621   1.000000"
      ]
     },
     "execution_count": 8,
     "metadata": {},
     "output_type": "execute_result"
    }
   ],
   "source": [
    "# pandas da correlationni topish\n",
    "\n",
    "df['AveRooms'].corr(df['AveBedrms'])\n",
    "\n",
    "# matrix\n",
    "df[['AveRooms', 'AveBedrms']].corr()"
   ]
  },
  {
   "cell_type": "markdown",
   "id": "9b5bf1dc",
   "metadata": {},
   "source": []
  },
  {
   "cell_type": "markdown",
   "id": "55539fa4",
   "metadata": {},
   "source": [
    "## PDF ni topish"
   ]
  },
  {
   "cell_type": "code",
   "execution_count": 9,
   "id": "abc6eb70",
   "metadata": {},
   "outputs": [
    {
     "name": "stdout",
     "output_type": "stream",
     "text": [
      "PDF values for Average Rooms data:\n",
      "[0.13234029 0.15284664 0.0826995  ... 0.16058638 0.16111237 0.16084313]\n"
     ]
    },
    {
     "data": {
      "text/plain": [
       "<matplotlib.collections.PathCollection at 0x1e3b02cf390>"
      ]
     },
     "execution_count": 9,
     "metadata": {},
     "output_type": "execute_result"
    },
    {
     "data": {
      "image/png": "[encoded data removed]",
      "text/plain": [
       "<Figure size 640x480 with 1 Axes>"
      ]
     },
     "metadata": {},
     "output_type": "display_data"
    }
   ],
   "source": [
    "def cal_pdf(data):\n",
    "    mean = np.mean(data) #mean ni numpy yordamida topish\n",
    "    std = np.std(data, ddof=1) #SD ni topamiz\n",
    "    coeff = 1 / (std * np.sqrt(2 * np.pi)) # koffitsientni topamiz\n",
    "\n",
    "    #exponent ni topamiz\n",
    "    exponent = np.exp(-((data - mean) ** 2 / (2 * std ** 2)))\n",
    "\n",
    "    return coeff * exponent\n",
    "\n",
    "pdf_values = cal_pdf(Rm_array)\n",
    "\n",
    "print(\"PDF values for Average Rooms data:\")\n",
    "print(pdf_values)\n",
    "\n",
    "plt.scatter(Rm_array, pdf_values)\n"
   ]
  },
  {
   "cell_type": "markdown",
   "id": "02373487",
   "metadata": {},
   "source": [
    "## Normalizatsiya (Scaling)\n",
    "# Min-Max scaling"
   ]
  },
  {
   "cell_type": "code",
   "execution_count": 10,
   "id": "fceb3caf",
   "metadata": {},
   "outputs": [
    {
     "name": "stdout",
     "output_type": "stream",
     "text": [
      "0.3333333333333333\n",
      "34.06666666666667\n"
     ]
    },
    {
     "data": {
      "text/plain": [
       "array([0.02046866, 0.01892926, 0.02194011, ..., 0.0233229 , 0.02485928,\n",
       "       0.02457305], shape=(20640,))"
      ]
     },
     "execution_count": 10,
     "metadata": {},
     "output_type": "execute_result"
    }
   ],
   "source": [
    "def cal_minmax(array):\n",
    "    min_val = np.min(array)\n",
    "    print(min_val)\n",
    "\n",
    "    max_val = np.max(array)\n",
    "    print(max_val)\n",
    "    \n",
    "    return (array - min_val) / (max_val - min_val)\n",
    "\n",
    "\n",
    "\n",
    "cal_minmax(Bd_array)\n"
   ]
  },
  {
   "cell_type": "code",
   "execution_count": null,
   "id": "35d4a3f8",
   "metadata": {},
   "outputs": [],
   "source": []
  }
 ],
 "metadata": {
  "kernelspec": {
   "display_name": "Python 3",
   "language": "python",
   "name": "python3"
  },
  "language_info": {
   "codemirror_mode": {
    "name": "ipython",
    "version": 3
   },
   "file_extension": ".py",
   "mimetype": "text/x-python",
   "name": "python",
   "nbconvert_exporter": "python",
   "pygments_lexer": "ipython3",
   "version": "3.11.1"
  }
 },
 "nbformat": 4,
 "nbformat_minor": 5
}
