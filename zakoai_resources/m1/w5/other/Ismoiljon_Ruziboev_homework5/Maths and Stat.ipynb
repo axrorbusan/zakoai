{
 "cells": [
  {
   "cell_type": "code",
   "execution_count": 4,
   "id": "565efcee-f5ed-4037-ba14-84eee18b90cb",
   "metadata": {},
   "outputs": [],
   "source": [
    "import numpy as np"
   ]
  },
  {
   "cell_type": "code",
   "execution_count": 4,
   "id": "66987202-bbb3-4a66-a488-64843115bdb6",
   "metadata": {},
   "outputs": [
    {
     "data": {
      "text/plain": [
       "array([[ 0.0532209 ,  1.33427935, -0.9042903 , -0.23007861],\n",
       "       [-0.72148682,  0.47691116,  0.42541911,  0.14183575],\n",
       "       [-2.46450678, -0.09216417,  1.18411423, -0.3319278 ],\n",
       "       [ 0.49807298,  0.26759024,  0.65992785,  0.8103035 ],\n",
       "       [ 0.64239392,  0.18374508, -0.33627981, -0.65384557]])"
      ]
     },
     "execution_count": 4,
     "metadata": {},
     "output_type": "execute_result"
    }
   ],
   "source": [
    "# Biz navbatdagi data yaratamiz\n",
    "arr = np.random.randn( 5, 4 ) # 5ga 4 o'lchamili massive\n",
    "arr"
   ]
  },
  {
   "cell_type": "code",
   "execution_count": 5,
   "id": "ba0fcb5c-6771-4654-bf0a-0cc82621885d",
   "metadata": {},
   "outputs": [
    {
     "data": {
      "text/plain": [
       "np.float64(0.9432341954213058)"
      ]
     },
     "execution_count": 5,
     "metadata": {},
     "output_type": "execute_result"
    }
   ],
   "source": [
    "arr.sum() # Sum barcha qiymatlar yeg'indisini hisobalab beradi"
   ]
  },
  {
   "cell_type": "code",
   "execution_count": 6,
   "id": "71f7d20b-567a-48b1-ab67-53831a7fa1d8",
   "metadata": {},
   "outputs": [
    {
     "data": {
      "text/plain": [
       "np.float64(0.9432341954213058)"
      ]
     },
     "execution_count": 6,
     "metadata": {},
     "output_type": "execute_result"
    }
   ],
   "source": [
    "np.sum(arr)"
   ]
  },
  {
   "cell_type": "code",
   "execution_count": 7,
   "id": "2d148dc1-c53c-46a8-88ad-4b822a793190",
   "metadata": {},
   "outputs": [
    {
     "data": {
      "text/plain": [
       "array([ 0.25313134,  0.32267919, -1.70448452,  2.23589456, -0.16398638])"
      ]
     },
     "execution_count": 7,
     "metadata": {},
     "output_type": "execute_result"
    }
   ],
   "source": [
    "arr.sum(axis=1) # Bu bizda Axis1 qatoridagi qiymatlar yeg'indisini ko'rsatadi"
   ]
  },
  {
   "cell_type": "code",
   "execution_count": 8,
   "id": "11c27640-2286-4197-99de-46dcc1cde7ca",
   "metadata": {},
   "outputs": [
    {
     "data": {
      "text/plain": [
       "array([-1.9923058 ,  2.17036164,  1.02889109, -0.26371273])"
      ]
     },
     "execution_count": 8,
     "metadata": {},
     "output_type": "execute_result"
    }
   ],
   "source": [
    "arr.sum(axis=0) # Bu endi ustun yeg'indisi"
   ]
  },
  {
   "cell_type": "code",
   "execution_count": 9,
   "id": "ec504b7f-2068-4d4d-90ef-104b07b2669b",
   "metadata": {},
   "outputs": [
    {
     "data": {
      "text/plain": [
       "array([0, 1, 2, 3, 4])"
      ]
     },
     "execution_count": 9,
     "metadata": {},
     "output_type": "execute_result"
    }
   ],
   "source": [
    "# Mean\n",
    "# Sodda ma'lumotlar\n",
    "data = np.arange(5) \n",
    "data"
   ]
  },
  {
   "cell_type": "code",
   "execution_count": 10,
   "id": "cd438398-24db-4eed-9699-aa147f38ee78",
   "metadata": {},
   "outputs": [
    {
     "data": {
      "text/plain": [
       "np.float64(2.0)"
      ]
     },
     "execution_count": 10,
     "metadata": {},
     "output_type": "execute_result"
    }
   ],
   "source": [
    "mean = np.sum(data)/len(data) # Bu qo'lda formulani yozib hisoblash\n",
    "mean"
   ]
  },
  {
   "cell_type": "code",
   "execution_count": 11,
   "id": "47658d6e-170a-416b-bded-c568a86fb20e",
   "metadata": {},
   "outputs": [
    {
     "data": {
      "text/plain": [
       "np.float64(2.0)"
      ]
     },
     "execution_count": 11,
     "metadata": {},
     "output_type": "execute_result"
    }
   ],
   "source": [
    "# Numpy mean shumchaki shu meanni chaqirish o'zi kifoya ham bo'ladi\n",
    "np.mean(data)\n"
   ]
  },
  {
   "cell_type": "code",
   "execution_count": 12,
   "id": "be17739a-3a57-4f30-9338-adfb9e0475f0",
   "metadata": {},
   "outputs": [
    {
     "data": {
      "text/plain": [
       "array([[ 0.0532209 ,  1.33427935, -0.9042903 , -0.23007861],\n",
       "       [-0.72148682,  0.47691116,  0.42541911,  0.14183575],\n",
       "       [-2.46450678, -0.09216417,  1.18411423, -0.3319278 ],\n",
       "       [ 0.49807298,  0.26759024,  0.65992785,  0.8103035 ],\n",
       "       [ 0.64239392,  0.18374508, -0.33627981, -0.65384557]])"
      ]
     },
     "execution_count": 12,
     "metadata": {},
     "output_type": "execute_result"
    }
   ],
   "source": [
    "arr"
   ]
  },
  {
   "cell_type": "code",
   "execution_count": 13,
   "id": "e2520518-79f0-4b43-8742-6a4e72aa439e",
   "metadata": {},
   "outputs": [
    {
     "data": {
      "text/plain": [
       "np.float64(0.04716170977106529)"
      ]
     },
     "execution_count": 13,
     "metadata": {},
     "output_type": "execute_result"
    }
   ],
   "source": [
    " np.mean(arr)"
   ]
  },
  {
   "cell_type": "code",
   "execution_count": 14,
   "id": "fa50b650-e01c-4315-8d34-f53eb0f5ecf4",
   "metadata": {},
   "outputs": [
    {
     "data": {
      "text/plain": [
       "array([ 0.06328284,  0.0806698 , -0.42612113,  0.55897364, -0.0409966 ])"
      ]
     },
     "execution_count": 14,
     "metadata": {},
     "output_type": "execute_result"
    }
   ],
   "source": [
    "np.mean(arr, axis=1)"
   ]
  },
  {
   "cell_type": "code",
   "execution_count": 15,
   "id": "ce960a26-2689-48ea-8006-6b93f75e8daa",
   "metadata": {},
   "outputs": [
    {
     "data": {
      "text/plain": [
       "array([-0.39846116,  0.43407233,  0.20577822, -0.05274255])"
      ]
     },
     "execution_count": 15,
     "metadata": {},
     "output_type": "execute_result"
    }
   ],
   "source": [
    "arr.mean(axis=0)"
   ]
  },
  {
   "cell_type": "code",
   "execution_count": 5,
   "id": "0e71bbcb-4793-4696-a5bc-35e2b82d8564",
   "metadata": {},
   "outputs": [
    {
     "data": {
      "text/plain": [
       "array([1, 2, 3, 4])"
      ]
     },
     "execution_count": 5,
     "metadata": {},
     "output_type": "execute_result"
    }
   ],
   "source": [
    "data = np.array ([1,2,3,4])\n",
    "data"
   ]
  },
  {
   "cell_type": "code",
   "execution_count": 6,
   "id": "0d0fd52d-f524-487b-81c4-7723def2ce2f",
   "metadata": {},
   "outputs": [
    {
     "data": {
      "text/plain": [
       "array([ 1,  3,  6, 10])"
      ]
     },
     "execution_count": 6,
     "metadata": {},
     "output_type": "execute_result"
    }
   ],
   "source": [
    "data.cumsum() # Cumsum o'zidan oldingi barcha qiymatlar yeg'indisi"
   ]
  },
  {
   "cell_type": "code",
   "execution_count": 19,
   "id": "5b444f2a-150b-45c9-b02b-d07cd1116590",
   "metadata": {},
   "outputs": [
    {
     "data": {
      "text/plain": [
       "array([ 1,  2,  6, 24])"
      ]
     },
     "execution_count": 19,
     "metadata": {},
     "output_type": "execute_result"
    }
   ],
   "source": [
    "data = np.array([1,2,3,4])\n",
    "data.cumprod() # Bu esa ko'paytma"
   ]
  },
  {
   "cell_type": "code",
   "execution_count": null,
   "id": "04cc0927-15f4-4b03-8d06-9ae0cbb78c37",
   "metadata": {},
   "outputs": [],
   "source": []
  }
 ],
 "metadata": {
  "kernelspec": {
   "display_name": "Python [conda env:base] *",
   "language": "python",
   "name": "conda-base-py"
  },
  "language_info": {
   "codemirror_mode": {
    "name": "ipython",
    "version": 3
   },
   "file_extension": ".py",
   "mimetype": "text/x-python",
   "name": "python",
   "nbconvert_exporter": "python",
   "pygments_lexer": "ipython3",
   "version": "3.13.5"
  }
 },
 "nbformat": 4,
 "nbformat_minor": 5
}
