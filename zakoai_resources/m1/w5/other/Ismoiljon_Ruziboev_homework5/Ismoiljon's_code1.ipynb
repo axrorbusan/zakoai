{
 "cells": [
  {
   "cell_type": "code",
   "execution_count": 11,
   "id": "6f54a1bb-8f3b-42e8-a854-8ff7defdfed9",
   "metadata": {},
   "outputs": [],
   "source": [
    "import numpy as np"
   ]
  },
  {
   "cell_type": "code",
   "execution_count": 20,
   "id": "5a4dfa2b-0c9a-4999-8be1-aaeb664b4564",
   "metadata": {},
   "outputs": [
    {
     "data": {
      "text/plain": [
       "array([   0,    1,    2, ..., 9997, 9998, 9999])"
      ]
     },
     "execution_count": 20,
     "metadata": {},
     "output_type": "execute_result"
    }
   ],
   "source": [
    "my_list = list(range(10000))\n",
    "my_array = np.arange(10000)\n",
    "my_array"
   ]
  },
  {
   "cell_type": "code",
   "execution_count": 23,
   "id": "322b10a5-7665-4c43-8706-67269c180f15",
   "metadata": {},
   "outputs": [
    {
     "name": "stdout",
     "output_type": "stream",
     "text": [
      "CPU times: user 32.6 ms, sys: 3.45 ms, total: 36 ms\n",
      "Wall time: 45.2 ms\n"
     ]
    }
   ],
   "source": [
    "%%time\n",
    "for _ in range(100):[x*2 for x in my_list]"
   ]
  },
  {
   "cell_type": "code",
   "execution_count": 24,
   "id": "e9398e1e-eb0a-499a-a547-42e48fcbc894",
   "metadata": {},
   "outputs": [
    {
     "name": "stdout",
     "output_type": "stream",
     "text": [
      "CPU times: user 3.05 ms, sys: 1.64 ms, total: 4.7 ms\n",
      "Wall time: 4.26 ms\n"
     ]
    }
   ],
   "source": [
    "%%time\n",
    "for _ in range(100) : my_array*2"
   ]
  },
  {
   "cell_type": "code",
   "execution_count": 25,
   "id": "44897f2c-6708-4c13-bc0f-498b2f27d4bf",
   "metadata": {},
   "outputs": [
    {
     "data": {
      "text/plain": [
       "[1, 2, 3, 1, 2, 3]"
      ]
     },
     "execution_count": 25,
     "metadata": {},
     "output_type": "execute_result"
    }
   ],
   "source": [
    "l1 = [1,2,3]\n",
    "l1*2"
   ]
  },
  {
   "cell_type": "code",
   "execution_count": 27,
   "id": "2e2499b1-867a-4af0-9b39-436db7579d98",
   "metadata": {},
   "outputs": [
    {
     "data": {
      "text/plain": [
       "array([2, 4, 6])"
      ]
     },
     "execution_count": 27,
     "metadata": {},
     "output_type": "execute_result"
    }
   ],
   "source": [
    "arr1 = np.array(l1)\n",
    "arr1*2"
   ]
  },
  {
   "cell_type": "code",
   "execution_count": 33,
   "id": "f7cda875-58cb-4cf7-9587-42bd714b2433",
   "metadata": {},
   "outputs": [
    {
     "data": {
      "text/plain": [
       "array(['3.7', '10', '3', '6', 'Tekshirayotganingiz uchun rahmat!'],\n",
       "      dtype='<U33')"
      ]
     },
     "execution_count": 33,
     "metadata": {},
     "output_type": "execute_result"
    }
   ],
   "source": [
    "# data yaratamiz\n",
    "data = [3.7,10,3,6, \"Tekshirayotganingiz uchun rahmat!\"]\n",
    "arr2 = np.array(data)\n",
    "arr2"
   ]
  },
  {
   "cell_type": "code",
   "execution_count": 34,
   "id": "dbd5d492-74dc-45b2-aaec-12c7f988649f",
   "metadata": {},
   "outputs": [
    {
     "data": {
      "text/plain": [
       "[3.7, 10, 3, 6, 'Tekshirayotganingiz uchun rahmat!']"
      ]
     },
     "execution_count": 34,
     "metadata": {},
     "output_type": "execute_result"
    }
   ],
   "source": [
    "data"
   ]
  },
  {
   "cell_type": "code",
   "execution_count": 35,
   "id": "a95db4d8-a21d-4320-b3bd-b78961a029d4",
   "metadata": {},
   "outputs": [
    {
     "data": {
      "text/plain": [
       "array(['3.7', '10', '3', '6', 'Tekshirayotganingiz uchun rahmat!'],\n",
       "      dtype='<U33')"
      ]
     },
     "execution_count": 35,
     "metadata": {},
     "output_type": "execute_result"
    }
   ],
   "source": [
    "arr2"
   ]
  },
  {
   "cell_type": "code",
   "execution_count": 36,
   "id": "198c36be-ff1f-4e3b-9e43-76dd499085ea",
   "metadata": {},
   "outputs": [],
   "source": [
    "# Keyingi data2ni tuple orqali yaratamiz\n",
    "data2 = [4,5,3.2,7]\n",
    "arr3 = np.array(data2)"
   ]
  },
  {
   "cell_type": "code",
   "execution_count": 37,
   "id": "6b39754c-5395-4f43-b590-da3c1bcd0e56",
   "metadata": {},
   "outputs": [
    {
     "data": {
      "text/plain": [
       "array([4. , 5. , 3.2, 7. ])"
      ]
     },
     "execution_count": 37,
     "metadata": {},
     "output_type": "execute_result"
    }
   ],
   "source": [
    "arr3"
   ]
  },
  {
   "cell_type": "code",
   "execution_count": 38,
   "id": "8641838c-6e89-46df-8714-a5f7c6f121dc",
   "metadata": {},
   "outputs": [
    {
     "data": {
      "text/plain": [
       "array(['3.7', '10', '3', '6', 'Tekshirayotganingiz uchun rahmat!'],\n",
       "      dtype='<U33')"
      ]
     },
     "execution_count": 38,
     "metadata": {},
     "output_type": "execute_result"
    }
   ],
   "source": [
    "# Keyingi o'raganadigan narsamiz \"Massive o'lchami (ndim)\"\n",
    "arr2"
   ]
  },
  {
   "cell_type": "code",
   "execution_count": 39,
   "id": "7c742646-f6d5-42fe-b0f7-a48f35546a85",
   "metadata": {},
   "outputs": [
    {
     "data": {
      "text/plain": [
       "1"
      ]
     },
     "execution_count": 39,
     "metadata": {},
     "output_type": "execute_result"
    }
   ],
   "source": [
    "arr2.ndim"
   ]
  },
  {
   "cell_type": "code",
   "execution_count": 40,
   "id": "61e9f093-78f8-434b-90b6-cd6c0cf5d80c",
   "metadata": {},
   "outputs": [],
   "source": [
    "# Ana endi ikki va undan katta o'lchamili arraylar haqida o'rganamiz\n",
    "data3 = [[1,2,3,4], [5,6,7,8]]\n",
    "arr4 = np.array(data3)"
   ]
  },
  {
   "cell_type": "code",
   "execution_count": 41,
   "id": "4527d06d-819c-44e6-b851-24b6bda013cf",
   "metadata": {},
   "outputs": [
    {
     "data": {
      "text/plain": [
       "array([[1, 2, 3, 4],\n",
       "       [5, 6, 7, 8]])"
      ]
     },
     "execution_count": 41,
     "metadata": {},
     "output_type": "execute_result"
    }
   ],
   "source": [
    "arr4"
   ]
  },
  {
   "cell_type": "code",
   "execution_count": 42,
   "id": "d40bdba4-7f90-421d-8001-5f3c8063e2aa",
   "metadata": {},
   "outputs": [
    {
     "data": {
      "text/plain": [
       "2"
      ]
     },
     "execution_count": 42,
     "metadata": {},
     "output_type": "execute_result"
    }
   ],
   "source": [
    "# Buni ham o'lchamini tekshiranmiz\n",
    "arr4.ndim"
   ]
  },
  {
   "cell_type": "code",
   "execution_count": 43,
   "id": "c3ada733-c8c6-4290-a035-49a46b22f54e",
   "metadata": {},
   "outputs": [
    {
     "data": {
      "text/plain": [
       "array([4. , 5. , 3.2, 7. ])"
      ]
     },
     "execution_count": 43,
     "metadata": {},
     "output_type": "execute_result"
    }
   ],
   "source": [
    "# Va keyingisi Shape va size atributlari haqida code yozamiz va o'rganamiz\n",
    "arr3"
   ]
  },
  {
   "cell_type": "code",
   "execution_count": 44,
   "id": "e0ef381e-0a38-498a-948b-bf6f5ebf31e0",
   "metadata": {},
   "outputs": [
    {
     "data": {
      "text/plain": [
       "(4,)"
      ]
     },
     "execution_count": 44,
     "metadata": {},
     "output_type": "execute_result"
    }
   ],
   "source": [
    "arr3.shape"
   ]
  },
  {
   "cell_type": "code",
   "execution_count": 45,
   "id": "c2aa2f84-b4b8-4c17-8b8b-d26eaa9e1046",
   "metadata": {},
   "outputs": [
    {
     "data": {
      "text/plain": [
       "array([[1, 2, 3, 4],\n",
       "       [5, 6, 7, 8]])"
      ]
     },
     "execution_count": 45,
     "metadata": {},
     "output_type": "execute_result"
    }
   ],
   "source": [
    "arr4"
   ]
  },
  {
   "cell_type": "code",
   "execution_count": 46,
   "id": "6043e313-92e3-4b95-9450-27f4a10a12af",
   "metadata": {},
   "outputs": [
    {
     "data": {
      "text/plain": [
       "(2, 4)"
      ]
     },
     "execution_count": 46,
     "metadata": {},
     "output_type": "execute_result"
    }
   ],
   "source": [
    "# Bu yerda o'lchamlar 1dan oshsa, o'qishni qatordan boshlaymiz va shuning uchun 2,4 bo'lyapti\n",
    "arr4.shape"
   ]
  },
  {
   "cell_type": "code",
   "execution_count": 47,
   "id": "fbf198ca-cba0-4cc6-a0c7-ea1b5c7c4564",
   "metadata": {},
   "outputs": [
    {
     "data": {
      "text/plain": [
       "4"
      ]
     },
     "execution_count": 47,
     "metadata": {},
     "output_type": "execute_result"
    }
   ],
   "source": [
    "# Keyingisi endi sizeni ko'rsataman hozir\n",
    "# Size bu ichida nechta elementi borligi aytadi\n",
    "arr3.size"
   ]
  },
  {
   "cell_type": "code",
   "execution_count": 48,
   "id": "6ea62a1f-2752-412d-ba57-fa78d5404dde",
   "metadata": {},
   "outputs": [
    {
     "data": {
      "text/plain": [
       "8"
      ]
     },
     "execution_count": 48,
     "metadata": {},
     "output_type": "execute_result"
    }
   ],
   "source": [
    "arr4.size"
   ]
  },
  {
   "cell_type": "code",
   "execution_count": 50,
   "id": "aa9c21ec-402e-4c95-a414-99426b72d4ca",
   "metadata": {},
   "outputs": [
    {
     "data": {
      "text/plain": [
       "array([[0., 0., 0., 0.],\n",
       "       [0., 0., 0., 0.]])"
      ]
     },
     "execution_count": 50,
     "metadata": {},
     "output_type": "execute_result"
    }
   ],
   "source": [
    "# zero va ones funksiyalari yordamida massivlar yaratish\n",
    "arr5 = np.zeros((2,4)) # Hozir barcha elementlarni 0 ga aylantiradi\n",
    "arr5"
   ]
  },
  {
   "cell_type": "code",
   "execution_count": 54,
   "id": "f0e6a9aa-05af-4b4b-92d2-758f885daeab",
   "metadata": {},
   "outputs": [
    {
     "data": {
      "text/plain": [
       "array([[1., 1., 1., 1.],\n",
       "       [1., 1., 1., 1.]])"
      ]
     },
     "execution_count": 54,
     "metadata": {},
     "output_type": "execute_result"
    }
   ],
   "source": [
    "arr6 = np.ones ((2,4)) # Elementlar hammasi 1ga aylanadi\n",
    "arr6"
   ]
  },
  {
   "cell_type": "code",
   "execution_count": 55,
   "id": "2347f3be-354b-4c11-ab71-a3ac270c4695",
   "metadata": {},
   "outputs": [
    {
     "data": {
      "text/plain": [
       "array([ 4,  6,  8, 10, 12, 14, 16, 18])"
      ]
     },
     "execution_count": 55,
     "metadata": {},
     "output_type": "execute_result"
    }
   ],
   "source": [
    "# Keyingisi \"arange\" \n",
    "arr7 = np.arange(4,20,2) #Python indexda oxirgisi kirmaydi ya'ni 20\n",
    "arr7"
   ]
  },
  {
   "cell_type": "code",
   "execution_count": 64,
   "id": "0ff22466-47c5-4e65-815e-f443e1933c6e",
   "metadata": {},
   "outputs": [
    {
     "data": {
      "text/plain": [
       "array([[0.45606998, 0.78517596, 0.19967378, 0.51423444],\n",
       "       [0.59241457, 0.04645041, 0.60754485, 0.17052412]])"
      ]
     },
     "execution_count": 64,
     "metadata": {},
     "output_type": "execute_result"
    }
   ],
   "source": [
    "# random\n",
    "arr8 = np.random.rand(2,4) \n",
    "arr8 #qiymatlari har xil chiqadi, o'zgarib turadi"
   ]
  },
  {
   "cell_type": "code",
   "execution_count": 61,
   "id": "bcef1277-0586-4b85-925b-eb2fb8a4d161",
   "metadata": {},
   "outputs": [
    {
     "data": {
      "text/plain": [
       "array([[0.37454012, 0.95071431, 0.73199394, 0.59865848],\n",
       "       [0.15601864, 0.15599452, 0.05808361, 0.86617615]])"
      ]
     },
     "execution_count": 61,
     "metadata": {},
     "output_type": "execute_result"
    }
   ],
   "source": [
    "# keyingisi randomni aniq qiymatda ya'ni har safar bir hil qiymatda chiqadigan qilamiz\n",
    "##np.random.seed(42)\n",
    "##arr8 = np.random.rand(2,4) \n",
    "##arr8"
   ]
  },
  {
   "cell_type": "code",
   "execution_count": 65,
   "id": "cca3b566-5404-478a-bf35-0a7c4ca43eab",
   "metadata": {},
   "outputs": [
    {
     "data": {
      "text/plain": [
       "array([[-0.60063869, -0.29169375, -0.60170661,  1.85227818],\n",
       "       [-0.01349722, -1.05771093,  0.82254491, -1.22084365]])"
      ]
     },
     "execution_count": 65,
     "metadata": {},
     "output_type": "execute_result"
    }
   ],
   "source": [
    "# Normal distrubition sampling\n",
    "arr8 = np.random.randn(2,4)\n",
    "arr8"
   ]
  },
  {
   "cell_type": "code",
   "execution_count": 68,
   "id": "444b2578-2eee-44a5-8fd6-3d71622a44ac",
   "metadata": {},
   "outputs": [
    {
     "data": {
      "text/plain": [
       "array([[1, 1, 3, 4],\n",
       "       [1, 1, 3, 1]])"
      ]
     },
     "execution_count": 68,
     "metadata": {},
     "output_type": "execute_result"
    }
   ],
   "source": [
    "arr9 = np.random.randint(5, size = (2,4))\n",
    "arr9"
   ]
  },
  {
   "cell_type": "code",
   "execution_count": 69,
   "id": "c9d19f69-1ece-4d19-bf06-77d4ee2eda40",
   "metadata": {},
   "outputs": [
    {
     "data": {
      "text/plain": [
       "array([[1., 0., 0., 0.],\n",
       "       [0., 1., 0., 0.],\n",
       "       [0., 0., 1., 0.],\n",
       "       [0., 0., 0., 1.]])"
      ]
     },
     "execution_count": 69,
     "metadata": {},
     "output_type": "execute_result"
    }
   ],
   "source": [
    "eye = np.eye(4)\n",
    "eye"
   ]
  },
  {
   "cell_type": "code",
   "execution_count": 70,
   "id": "1a5bbe10-be55-42c8-b421-3f0e87fa0869",
   "metadata": {},
   "outputs": [
    {
     "data": {
      "text/plain": [
       "array([1, 2, 3], dtype=int8)"
      ]
     },
     "execution_count": 70,
     "metadata": {},
     "output_type": "execute_result"
    }
   ],
   "source": [
    "arr10 = np.array([1,2,3], dtype=np.int8)\n",
    "arr10"
   ]
  },
  {
   "cell_type": "code",
   "execution_count": 71,
   "id": "9155c637-7e6e-4c92-9f9c-d3789265be40",
   "metadata": {},
   "outputs": [
    {
     "data": {
      "text/plain": [
       "1"
      ]
     },
     "execution_count": 71,
     "metadata": {},
     "output_type": "execute_result"
    }
   ],
   "source": [
    "# bu bitta element uchun\n",
    "arr10.itemsize"
   ]
  },
  {
   "cell_type": "code",
   "execution_count": 72,
   "id": "c5ddc6a4-38a0-435b-906b-f8b52f4e3e15",
   "metadata": {},
   "outputs": [
    {
     "data": {
      "text/plain": [
       "3"
      ]
     },
     "execution_count": 72,
     "metadata": {},
     "output_type": "execute_result"
    }
   ],
   "source": [
    "# Umumiy byteni aniqlab beradi\n",
    "arr10.nbytes"
   ]
  },
  {
   "cell_type": "code",
   "execution_count": 73,
   "id": "edb6dab2-ab84-41b5-b79a-ac75c561c854",
   "metadata": {},
   "outputs": [
    {
     "data": {
      "text/plain": [
       "dtype('float64')"
      ]
     },
     "execution_count": 73,
     "metadata": {},
     "output_type": "execute_result"
    }
   ],
   "source": [
    "arr8.dtype"
   ]
  },
  {
   "cell_type": "code",
   "execution_count": 74,
   "id": "9ebbfa66-32c1-42c3-ba3f-ed011fb74cd0",
   "metadata": {},
   "outputs": [
    {
     "data": {
      "text/plain": [
       "array([[-0.60063869, -0.29169375, -0.60170661,  1.85227818],\n",
       "       [-0.01349722, -1.05771093,  0.82254491, -1.22084365]])"
      ]
     },
     "execution_count": 74,
     "metadata": {},
     "output_type": "execute_result"
    }
   ],
   "source": [
    "arr8"
   ]
  },
  {
   "cell_type": "code",
   "execution_count": 75,
   "id": "5ae29a1e-90c1-4e81-813c-8f829d623b23",
   "metadata": {},
   "outputs": [
    {
     "data": {
      "text/plain": [
       "array([[-0.60063869,  2.        , -0.60170661,  1.85227818],\n",
       "       [-0.01349722, -1.05771093,  0.82254491, -1.22084365]])"
      ]
     },
     "execution_count": 75,
     "metadata": {},
     "output_type": "execute_result"
    }
   ],
   "source": [
    "arr8[0,1] = 2\n",
    "arr8"
   ]
  },
  {
   "cell_type": "code",
   "execution_count": 76,
   "id": "2b505b97-e23a-4179-9f52-ed1d66d1eac8",
   "metadata": {},
   "outputs": [
    {
     "data": {
      "text/plain": [
       "dtype('float64')"
      ]
     },
     "execution_count": 76,
     "metadata": {},
     "output_type": "execute_result"
    }
   ],
   "source": [
    "arr8.dtype"
   ]
  },
  {
   "cell_type": "code",
   "execution_count": 77,
   "id": "9b9c2ada-6edd-4aed-bd71-4dad78182d32",
   "metadata": {},
   "outputs": [
    {
     "data": {
      "text/plain": [
       "array([[1, 1, 3, 4],\n",
       "       [1, 1, 3, 1]])"
      ]
     },
     "execution_count": 77,
     "metadata": {},
     "output_type": "execute_result"
    }
   ],
   "source": [
    "arr9"
   ]
  },
  {
   "cell_type": "code",
   "execution_count": 79,
   "id": "63c645de-29f8-47c6-8759-a3154cb4da55",
   "metadata": {},
   "outputs": [
    {
     "data": {
      "text/plain": [
       "array([[1, 1, 0, 4],\n",
       "       [1, 1, 3, 1]])"
      ]
     },
     "execution_count": 79,
     "metadata": {},
     "output_type": "execute_result"
    }
   ],
   "source": [
    "arr9[0,2] = 0.1\n",
    "arr9"
   ]
  },
  {
   "cell_type": "code",
   "execution_count": 81,
   "id": "a68b9ed4-0fc9-4758-b7d3-45e537cff003",
   "metadata": {},
   "outputs": [
    {
     "data": {
      "text/plain": [
       "array([[ 0.69839894, -0.17162884, -0.90718658,  1.18862573,  0.78553212],\n",
       "       [ 2.65601009,  0.26348604,  1.64177112,  0.4608163 ,  0.08592347]])"
      ]
     },
     "execution_count": 81,
     "metadata": {},
     "output_type": "execute_result"
    }
   ],
   "source": [
    "    # Bir turdagi ma'lunotlarni boshqasiga o'girish\n",
    "arr11 = np.random.randn(2, 5)\n",
    "arr11"
   ]
  },
  {
   "cell_type": "code",
   "execution_count": 83,
   "id": "5f20cb50-0df0-48a5-98c5-f0cf1e92b877",
   "metadata": {},
   "outputs": [
    {
     "data": {
      "text/plain": [
       "array([[0, 0, 0, 1, 0],\n",
       "       [2, 0, 1, 0, 0]])"
      ]
     },
     "execution_count": 83,
     "metadata": {},
     "output_type": "execute_result"
    }
   ],
   "source": [
    "arr11.astype (np.int64)"
   ]
  },
  {
   "cell_type": "code",
   "execution_count": null,
   "id": "fa224623-bf94-4602-9782-26da52b38688",
   "metadata": {},
   "outputs": [],
   "source": []
  }
 ],
 "metadata": {
  "kernelspec": {
   "display_name": "Python [conda env:base] *",
   "language": "python",
   "name": "conda-base-py"
  },
  "language_info": {
   "codemirror_mode": {
    "name": "ipython",
    "version": 3
   },
   "file_extension": ".py",
   "mimetype": "text/x-python",
   "name": "python",
   "nbconvert_exporter": "python",
   "pygments_lexer": "ipython3",
   "version": "3.13.5"
  }
 },
 "nbformat": 4,
 "nbformat_minor": 5
}
