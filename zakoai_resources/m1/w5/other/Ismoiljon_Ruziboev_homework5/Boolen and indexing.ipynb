{
 "cells": [
  {
   "cell_type": "code",
   "execution_count": 1,
   "id": "b1da8af4-fd6a-4a69-9d88-609385ccbc8e",
   "metadata": {},
   "outputs": [],
   "source": [
    "import numpy as np"
   ]
  },
  {
   "cell_type": "code",
   "execution_count": 2,
   "id": "d8fe1013-38aa-4486-a5ae-150259d92b93",
   "metadata": {},
   "outputs": [
    {
     "data": {
      "text/plain": [
       "array(['Hasan', 'Husan', 'ELyor', 'Mirzabek', 'Otabek', 'Husan',\n",
       "       'Mirzabek'], dtype='<U8')"
      ]
     },
     "execution_count": 2,
     "metadata": {},
     "output_type": "execute_result"
    }
   ],
   "source": [
    "# Bizda ismlar bor\n",
    "names = np.array(['Hasan', 'Husan', 'ELyor', 'Mirzabek', 'Otabek', 'Husan', 'Mirzabek'])\n",
    "names"
   ]
  },
  {
   "cell_type": "code",
   "execution_count": 4,
   "id": "03621c6b-1836-486e-9a36-e9d576ca3494",
   "metadata": {},
   "outputs": [
    {
     "data": {
      "text/plain": [
       "array([[-0.01288351, -0.55145099,  0.59429404,  2.21329898],\n",
       "       [ 0.39524672,  0.11786722, -0.83606267,  1.39313626],\n",
       "       [-0.25650813, -0.34725679, -0.19558459, -0.76720152],\n",
       "       [-1.80412463,  0.76109367, -0.42887219, -1.32169543],\n",
       "       [ 1.20357605, -0.0821742 , -0.11778223,  0.60334257],\n",
       "       [-0.43307244, -0.86749706,  2.69530982,  0.54205523],\n",
       "       [ 0.78891019, -1.00479721,  2.00425291, -0.62008378]])"
      ]
     },
     "execution_count": 4,
     "metadata": {},
     "output_type": "execute_result"
    }
   ],
   "source": [
    "# data yaratamiz yana\n",
    "data = np.random.randn(7,4)\n",
    "data"
   ]
  },
  {
   "cell_type": "code",
   "execution_count": 5,
   "id": "befe152b-2be2-4232-8c70-b4c02f0f67f2",
   "metadata": {},
   "outputs": [
    {
     "data": {
      "text/plain": [
       "array([False,  True, False, False, False,  True, False])"
      ]
     },
     "execution_count": 5,
     "metadata": {},
     "output_type": "execute_result"
    }
   ],
   "source": [
    "names == 'Husan'"
   ]
  },
  {
   "cell_type": "code",
   "execution_count": 6,
   "id": "6af6e9b1-6621-434d-b4d6-da85a7e019f0",
   "metadata": {},
   "outputs": [
    {
     "data": {
      "text/plain": [
       "array([[ 0.39524672,  0.11786722, -0.83606267,  1.39313626],\n",
       "       [-0.43307244, -0.86749706,  2.69530982,  0.54205523]])"
      ]
     },
     "execution_count": 6,
     "metadata": {},
     "output_type": "execute_result"
    }
   ],
   "source": [
    "data [names == 'Husan'] # Husanga tegishli barcha ma'lumotlarni ajratib olish"
   ]
  },
  {
   "cell_type": "code",
   "execution_count": 7,
   "id": "c3b6ff54-9bdc-465d-8ad0-8312fd557b78",
   "metadata": {},
   "outputs": [
    {
     "data": {
      "text/plain": [
       "array([[-1.80412463,  0.76109367, -0.42887219, -1.32169543],\n",
       "       [ 0.78891019, -1.00479721,  2.00425291, -0.62008378]])"
      ]
     },
     "execution_count": 7,
     "metadata": {},
     "output_type": "execute_result"
    }
   ],
   "source": [
    "data [names == 'Mirzabek'] # Mirzabekka tegishli barcha barcha ma'lumotlarni ajratib olish"
   ]
  },
  {
   "cell_type": "code",
   "execution_count": 8,
   "id": "abd8f529-abdd-48cf-99ab-9ea86255903d",
   "metadata": {},
   "outputs": [
    {
     "data": {
      "text/plain": [
       "array([[-0.83606267,  1.39313626],\n",
       "       [ 2.69530982,  0.54205523]])"
      ]
     },
     "execution_count": 8,
     "metadata": {},
     "output_type": "execute_result"
    }
   ],
   "source": [
    "data [names == 'Husan', 2:] # Husanga tegishli oxirgi ikki ustundagi ma'lumotlarni ajratib olish"
   ]
  },
  {
   "cell_type": "code",
   "execution_count": 9,
   "id": "2908a049-78de-4837-8a87-e626e3847fd6",
   "metadata": {},
   "outputs": [
    {
     "data": {
      "text/plain": [
       "array([[-0.01288351, -0.55145099,  0.59429404,  2.21329898],\n",
       "       [-0.25650813, -0.34725679, -0.19558459, -0.76720152],\n",
       "       [-1.80412463,  0.76109367, -0.42887219, -1.32169543],\n",
       "       [ 1.20357605, -0.0821742 , -0.11778223,  0.60334257],\n",
       "       [ 0.78891019, -1.00479721,  2.00425291, -0.62008378]])"
      ]
     },
     "execution_count": 9,
     "metadata": {},
     "output_type": "execute_result"
    }
   ],
   "source": [
    "data [names != 'Husan'] # Husandan tashqari qolganlarni ma'lumotlarini ajratib olish"
   ]
  },
  {
   "cell_type": "code",
   "execution_count": 10,
   "id": "bfcd4dc9-4134-4d4e-b8b9-cdf77a9c0907",
   "metadata": {},
   "outputs": [
    {
     "data": {
      "text/plain": [
       "array([[-0.01288351, -0.55145099,  0.59429404,  2.21329898],\n",
       "       [-0.25650813, -0.34725679, -0.19558459, -0.76720152],\n",
       "       [-1.80412463,  0.76109367, -0.42887219, -1.32169543],\n",
       "       [ 1.20357605, -0.0821742 , -0.11778223,  0.60334257],\n",
       "       [ 0.78891019, -1.00479721,  2.00425291, -0.62008378]])"
      ]
     },
     "execution_count": 10,
     "metadata": {},
     "output_type": "execute_result"
    }
   ],
   "source": [
    "data [~(names == 'Husan')] # Bu ham tepadagi bilan bir xil "
   ]
  },
  {
   "cell_type": "code",
   "execution_count": 11,
   "id": "8bad7eaf-d42c-4b20-bda0-59c180aaa7c6",
   "metadata": {},
   "outputs": [
    {
     "name": "stdout",
     "output_type": "stream",
     "text": [
      "['Hasan' 'Husan' 'ELyor' 'Mirzabek' 'Otabek' 'Husan' 'Mirzabek']\n",
      "[[-0.01288351 -0.55145099  0.59429404  2.21329898]\n",
      " [ 0.39524672  0.11786722 -0.83606267  1.39313626]\n",
      " [-0.25650813 -0.34725679 -0.19558459 -0.76720152]\n",
      " [-1.80412463  0.76109367 -0.42887219 -1.32169543]\n",
      " [ 1.20357605 -0.0821742  -0.11778223  0.60334257]\n",
      " [-0.43307244 -0.86749706  2.69530982  0.54205523]\n",
      " [ 0.78891019 -1.00479721  2.00425291 -0.62008378]]\n"
     ]
    }
   ],
   "source": [
    "print (names)\n",
    "print (data)"
   ]
  },
  {
   "cell_type": "code",
   "execution_count": 12,
   "id": "9e980c49-eb2d-4aca-87a4-149e80e966f3",
   "metadata": {},
   "outputs": [
    {
     "data": {
      "text/plain": [
       "array([False,  True, False, False, False,  True, False])"
      ]
     },
     "execution_count": 12,
     "metadata": {},
     "output_type": "execute_result"
    }
   ],
   "source": [
    "mask = (names == 'Hasa') | (names == 'Husan')\n",
    "mask"
   ]
  },
  {
   "cell_type": "code",
   "execution_count": 13,
   "id": "fe9fc4dc-ea5a-4654-ae72-7f524adb8192",
   "metadata": {},
   "outputs": [
    {
     "data": {
      "text/plain": [
       "array([[ 0.39524672,  0.11786722, -0.83606267,  1.39313626],\n",
       "       [-0.43307244, -0.86749706,  2.69530982,  0.54205523]])"
      ]
     },
     "execution_count": 13,
     "metadata": {},
     "output_type": "execute_result"
    }
   ],
   "source": [
    "data[mask]"
   ]
  },
  {
   "cell_type": "code",
   "execution_count": 15,
   "id": "3295ea8a-67bb-40c0-b646-8405a039157d",
   "metadata": {},
   "outputs": [
    {
     "data": {
      "text/plain": [
       "array([[ 0.39524672,  0.11786722],\n",
       "       [-0.43307244, -0.86749706]])"
      ]
     },
     "execution_count": 15,
     "metadata": {},
     "output_type": "execute_result"
    }
   ],
   "source": [
    "data[mask, :2]"
   ]
  },
  {
   "cell_type": "code",
   "execution_count": 16,
   "id": "91d9f06d-9f6c-46f9-9999-7dec1820b2d5",
   "metadata": {},
   "outputs": [
    {
     "data": {
      "text/plain": [
       "array([[-0.01288351, -0.55145099,  0.59429404,  2.21329898],\n",
       "       [ 0.39524672,  0.11786722, -0.83606267,  1.39313626],\n",
       "       [-0.25650813, -0.34725679, -0.19558459, -0.76720152],\n",
       "       [-1.80412463,  0.76109367, -0.42887219, -1.32169543],\n",
       "       [ 1.20357605, -0.0821742 , -0.11778223,  0.60334257],\n",
       "       [-0.43307244, -0.86749706,  2.69530982,  0.54205523],\n",
       "       [ 0.78891019, -1.00479721,  2.00425291, -0.62008378]])"
      ]
     },
     "execution_count": 16,
     "metadata": {},
     "output_type": "execute_result"
    }
   ],
   "source": [
    "data"
   ]
  },
  {
   "cell_type": "code",
   "execution_count": 17,
   "id": "11debfa5-ce27-474b-afd6-b874220452a1",
   "metadata": {},
   "outputs": [
    {
     "data": {
      "text/plain": [
       "array([[0.        , 0.        , 0.59429404, 2.21329898],\n",
       "       [0.39524672, 0.11786722, 0.        , 1.39313626],\n",
       "       [0.        , 0.        , 0.        , 0.        ],\n",
       "       [0.        , 0.76109367, 0.        , 0.        ],\n",
       "       [1.20357605, 0.        , 0.        , 0.60334257],\n",
       "       [0.        , 0.        , 2.69530982, 0.54205523],\n",
       "       [0.78891019, 0.        , 2.00425291, 0.        ]])"
      ]
     },
     "execution_count": 17,
     "metadata": {},
     "output_type": "execute_result"
    }
   ],
   "source": [
    "data[data<0]=0\n",
    "data"
   ]
  },
  {
   "cell_type": "code",
   "execution_count": null,
   "id": "d1746e86-8969-492f-9bf7-f5b3c09e5469",
   "metadata": {},
   "outputs": [],
   "source": []
  }
 ],
 "metadata": {
  "kernelspec": {
   "display_name": "Python [conda env:base] *",
   "language": "python",
   "name": "conda-base-py"
  },
  "language_info": {
   "codemirror_mode": {
    "name": "ipython",
    "version": 3
   },
   "file_extension": ".py",
   "mimetype": "text/x-python",
   "name": "python",
   "nbconvert_exporter": "python",
   "pygments_lexer": "ipython3",
   "version": "3.13.5"
  }
 },
 "nbformat": 4,
 "nbformat_minor": 5
}
