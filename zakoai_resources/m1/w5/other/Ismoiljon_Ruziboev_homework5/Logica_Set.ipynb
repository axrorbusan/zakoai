{
 "cells": [
  {
   "cell_type": "code",
   "execution_count": 1,
   "id": "59b8dca2-8ac2-4c0a-94b8-88ba43ff6ca5",
   "metadata": {},
   "outputs": [],
   "source": [
    "import numpy as np"
   ]
  },
  {
   "cell_type": "code",
   "execution_count": 3,
   "id": "a05f142d-a139-4dd1-91f8-6db45f2efc1c",
   "metadata": {},
   "outputs": [],
   "source": [
    "# Massivlar\n",
    "xarr = np.array([1.1,1.2,1.3,1.4,1.5])\n",
    "yarr = np.array([2.1,2.2,2.3,2.4,2.5])"
   ]
  },
  {
   "cell_type": "code",
   "execution_count": 4,
   "id": "51b0e12f-8727-4927-b509-8a2af966e0e7",
   "metadata": {},
   "outputs": [],
   "source": [
    "# Shart  \n",
    "cond = np.array([True,False,False,True,True])"
   ]
  },
  {
   "cell_type": "code",
   "execution_count": 5,
   "id": "6f2fb2a1-4a89-4084-a5f6-b4b17d5c811c",
   "metadata": {},
   "outputs": [
    {
     "data": {
      "text/plain": [
       "array([1.1, 2.2, 2.3, 1.4, 1.5])"
      ]
     },
     "execution_count": 5,
     "metadata": {},
     "output_type": "execute_result"
    }
   ],
   "source": [
    "# where\n",
    "result = np.where(cond, xarr, yarr)\n",
    "result"
   ]
  },
  {
   "cell_type": "code",
   "execution_count": 6,
   "id": "9baa0be8-75c8-4ccf-9f1e-36b7cb27ec3c",
   "metadata": {},
   "outputs": [
    {
     "data": {
      "text/plain": [
       "array([[-2.25017501,  0.30281024, -0.69856594, -1.16414702],\n",
       "       [-1.05052438,  0.76763076, -1.13257536, -0.79224922],\n",
       "       [ 1.27917471,  0.71836091, -0.63019163,  0.64072223],\n",
       "       [ 0.18858728, -1.14049303,  0.2125744 ,  0.91327725]])"
      ]
     },
     "execution_count": 6,
     "metadata": {},
     "output_type": "execute_result"
    }
   ],
   "source": [
    "arr = np.random.randn(4,4)\n",
    "arr"
   ]
  },
  {
   "cell_type": "code",
   "execution_count": 7,
   "id": "e17b3656-361b-4d68-8601-135796e4bdab",
   "metadata": {},
   "outputs": [
    {
     "data": {
      "text/plain": [
       "array([[-2,  2, -2, -2],\n",
       "       [-2,  2, -2, -2],\n",
       "       [ 2,  2, -2,  2],\n",
       "       [ 2, -2,  2,  2]])"
      ]
     },
     "execution_count": 7,
     "metadata": {},
     "output_type": "execute_result"
    }
   ],
   "source": [
    "results = np.where(arr<0, -2, 2 ) \n",
    "results"
   ]
  },
  {
   "cell_type": "code",
   "execution_count": null,
   "id": "48acb3be-0012-4897-a5ca-03b0d6173316",
   "metadata": {},
   "outputs": [],
   "source": []
  }
 ],
 "metadata": {
  "kernelspec": {
   "display_name": "Python [conda env:base] *",
   "language": "python",
   "name": "conda-base-py"
  },
  "language_info": {
   "codemirror_mode": {
    "name": "ipython",
    "version": 3
   },
   "file_extension": ".py",
   "mimetype": "text/x-python",
   "name": "python",
   "nbconvert_exporter": "python",
   "pygments_lexer": "ipython3",
   "version": "3.13.5"
  }
 },
 "nbformat": 4,
 "nbformat_minor": 5
}
