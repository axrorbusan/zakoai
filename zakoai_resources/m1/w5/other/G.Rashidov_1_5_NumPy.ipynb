{
  "nbformat": 4,
  "nbformat_minor": 0,
  "metadata": {
    "colab": {
      "provenance": []
    },
    "kernelspec": {
      "name": "python3",
      "display_name": "Python 3"
    },
    "language_info": {
      "name": "python"
    }
  },
  "cells": [
    {
      "cell_type": "markdown",
      "source": [
        "#tezlikdagi farq"
      ],
      "metadata": {
        "id": "GmH1a_3WReIw"
      }
    },
    {
      "cell_type": "code",
      "source": [
        "import numpy as np"
      ],
      "metadata": {
        "id": "6k4ETRstRo3f"
      },
      "execution_count": 3,
      "outputs": []
    },
    {
      "cell_type": "code",
      "source": [
        "my_list=list(range(10000))\n",
        "my_array=np.arange(10000)"
      ],
      "metadata": {
        "id": "8vN6Yh_RRYTs"
      },
      "execution_count": 4,
      "outputs": []
    },
    {
      "cell_type": "code",
      "source": [
        "%%time\n",
        "for _ in range(100): [x*2 for x in my_list]"
      ],
      "metadata": {
        "colab": {
          "base_uri": "https://localhost:8080/"
        },
        "id": "PBvHxFUBRYP4",
        "outputId": "fd33ec10-83c7-4acf-954c-a2a13aa12a7e"
      },
      "execution_count": 8,
      "outputs": [
        {
          "output_type": "stream",
          "name": "stdout",
          "text": [
            "CPU times: user 35.3 ms, sys: 3.81 ms, total: 39.1 ms\n",
            "Wall time: 39 ms\n"
          ]
        }
      ]
    },
    {
      "cell_type": "code",
      "execution_count": 7,
      "metadata": {
        "colab": {
          "base_uri": "https://localhost:8080/"
        },
        "id": "9rViATqyRDRT",
        "outputId": "fa273e22-92f1-442f-f6d1-9d045a6fbcd9"
      },
      "outputs": [
        {
          "output_type": "stream",
          "name": "stdout",
          "text": [
            "CPU times: user 2.46 ms, sys: 0 ns, total: 2.46 ms\n",
            "Wall time: 2.37 ms\n"
          ]
        }
      ],
      "source": [
        "%%time\n",
        "for _ in range(100): my_array*2"
      ]
    },
    {
      "cell_type": "code",
      "source": [
        "l1=[1,2,3]\n",
        "l1*2"
      ],
      "metadata": {
        "colab": {
          "base_uri": "https://localhost:8080/"
        },
        "id": "ig20xJPuSNQC",
        "outputId": "fc2bccdd-63b3-4ef3-f901-e870fbe326bf"
      },
      "execution_count": 10,
      "outputs": [
        {
          "output_type": "execute_result",
          "data": {
            "text/plain": [
              "[1, 2, 3, 1, 2, 3]"
            ]
          },
          "metadata": {},
          "execution_count": 10
        }
      ]
    },
    {
      "cell_type": "code",
      "source": [
        "arr1=np.array([1,2,3])\n",
        "arr1*2"
      ],
      "metadata": {
        "colab": {
          "base_uri": "https://localhost:8080/"
        },
        "id": "D6YdS-shSb5d",
        "outputId": "237d50a5-e93d-4224-e3f8-c6a6d8f39f1a"
      },
      "execution_count": 12,
      "outputs": [
        {
          "output_type": "execute_result",
          "data": {
            "text/plain": [
              "array([2, 4, 6])"
            ]
          },
          "metadata": {},
          "execution_count": 12
        }
      ]
    },
    {
      "cell_type": "markdown",
      "source": [
        "**Array yaratish**"
      ],
      "metadata": {
        "id": "l4RK8qZiSQiY"
      }
    },
    {
      "cell_type": "code",
      "source": [
        "data=[3.5, 5,6,2] #list"
      ],
      "metadata": {
        "id": "TwVjFsh0SrAv"
      },
      "execution_count": 13,
      "outputs": []
    },
    {
      "cell_type": "code",
      "source": [
        "arr2=np.array(data)\n",
        "arr2"
      ],
      "metadata": {
        "colab": {
          "base_uri": "https://localhost:8080/"
        },
        "id": "44d6MHb_S-Yp",
        "outputId": "e2dace1e-1b8a-4dcb-b5d9-6a72bedea10a"
      },
      "execution_count": 16,
      "outputs": [
        {
          "output_type": "execute_result",
          "data": {
            "text/plain": [
              "array([3.5, 5. , 6. , 2. ])"
            ]
          },
          "metadata": {},
          "execution_count": 16
        }
      ]
    },
    {
      "cell_type": "code",
      "source": [
        "data"
      ],
      "metadata": {
        "colab": {
          "base_uri": "https://localhost:8080/"
        },
        "id": "cPvMnLmPTCWm",
        "outputId": "11b67666-2d34-4312-8205-e17095da5342"
      },
      "execution_count": 17,
      "outputs": [
        {
          "output_type": "execute_result",
          "data": {
            "text/plain": [
              "[3.5, 5, 6, 2]"
            ]
          },
          "metadata": {},
          "execution_count": 17
        }
      ]
    },
    {
      "cell_type": "code",
      "source": [
        "data2=(4,5,3.2,7) # tuple\n",
        "arr3=np.array(data2)\n",
        "arr3"
      ],
      "metadata": {
        "colab": {
          "base_uri": "https://localhost:8080/"
        },
        "id": "asDjf_bVTHIw",
        "outputId": "aa871581-8dc3-46eb-d7cb-11e03733c318"
      },
      "execution_count": 20,
      "outputs": [
        {
          "output_type": "execute_result",
          "data": {
            "text/plain": [
              "array([4. , 5. , 3.2, 7. ])"
            ]
          },
          "metadata": {},
          "execution_count": 20
        }
      ]
    },
    {
      "cell_type": "markdown",
      "source": [
        "#Massiv o‘lchami (ndim)"
      ],
      "metadata": {
        "id": "jo4Uzk39TeZg"
      }
    },
    {
      "cell_type": "code",
      "source": [
        "arr2.ndim"
      ],
      "metadata": {
        "colab": {
          "base_uri": "https://localhost:8080/"
        },
        "id": "ea42jbfbTV6z",
        "outputId": "0939ed4e-f60d-4ca0-fb55-9649495968b0"
      },
      "execution_count": 22,
      "outputs": [
        {
          "output_type": "execute_result",
          "data": {
            "text/plain": [
              "1"
            ]
          },
          "metadata": {},
          "execution_count": 22
        }
      ]
    },
    {
      "cell_type": "code",
      "source": [
        "data3=[[1,2,3,4],[5,6,7,8]]\n",
        "arr4=np.array(data3)\n",
        "arr4"
      ],
      "metadata": {
        "colab": {
          "base_uri": "https://localhost:8080/"
        },
        "id": "JEIJfMTUTxsY",
        "outputId": "75a59b19-b7b1-4dd4-87e1-f65cdb1f020c"
      },
      "execution_count": 25,
      "outputs": [
        {
          "output_type": "execute_result",
          "data": {
            "text/plain": [
              "array([[1, 2, 3, 4],\n",
              "       [5, 6, 7, 8]])"
            ]
          },
          "metadata": {},
          "execution_count": 25
        }
      ]
    },
    {
      "cell_type": "code",
      "source": [
        "arr4.ndim"
      ],
      "metadata": {
        "colab": {
          "base_uri": "https://localhost:8080/"
        },
        "id": "XyUEMcD-UIVy",
        "outputId": "1454ac73-287a-46d5-863b-93628d6cda4b"
      },
      "execution_count": 26,
      "outputs": [
        {
          "output_type": "execute_result",
          "data": {
            "text/plain": [
              "2"
            ]
          },
          "metadata": {},
          "execution_count": 26
        }
      ]
    },
    {
      "cell_type": "markdown",
      "source": [
        "shape, size"
      ],
      "metadata": {
        "id": "f5RNXTBLUUZp"
      }
    },
    {
      "cell_type": "code",
      "source": [
        "arr3"
      ],
      "metadata": {
        "colab": {
          "base_uri": "https://localhost:8080/"
        },
        "id": "DFkX0ivxUQGJ",
        "outputId": "9b2b999c-4583-47b5-a2cc-5a9332509b98"
      },
      "execution_count": 27,
      "outputs": [
        {
          "output_type": "execute_result",
          "data": {
            "text/plain": [
              "array([4. , 5. , 3.2, 7. ])"
            ]
          },
          "metadata": {},
          "execution_count": 27
        }
      ]
    },
    {
      "cell_type": "code",
      "source": [
        "arr3.shape"
      ],
      "metadata": {
        "colab": {
          "base_uri": "https://localhost:8080/"
        },
        "id": "RT-eYhovUX0p",
        "outputId": "02bc69b1-e313-495f-8862-9fd1b4c515c1"
      },
      "execution_count": 28,
      "outputs": [
        {
          "output_type": "execute_result",
          "data": {
            "text/plain": [
              "(4,)"
            ]
          },
          "metadata": {},
          "execution_count": 28
        }
      ]
    },
    {
      "cell_type": "code",
      "source": [
        "arr4.shape"
      ],
      "metadata": {
        "colab": {
          "base_uri": "https://localhost:8080/"
        },
        "id": "bpoxz-hkUyZA",
        "outputId": "8927b287-5316-44a5-e0d0-d5cf45bb23aa"
      },
      "execution_count": 29,
      "outputs": [
        {
          "output_type": "execute_result",
          "data": {
            "text/plain": [
              "(2, 4)"
            ]
          },
          "metadata": {},
          "execution_count": 29
        }
      ]
    },
    {
      "cell_type": "markdown",
      "source": [
        "N-o‘lchamli massivlar yaratishning boshqa usullari"
      ],
      "metadata": {
        "id": "Jvi2DYeWUjvY"
      }
    },
    {
      "cell_type": "markdown",
      "source": [
        "zeros va ones funksiyalari yordamida massiv yaratish"
      ],
      "metadata": {
        "id": "8RguKL1XVGLE"
      }
    },
    {
      "cell_type": "code",
      "source": [
        "arr5=np.zeros((2,4))\n",
        "arr5"
      ],
      "metadata": {
        "colab": {
          "base_uri": "https://localhost:8080/"
        },
        "id": "SesjCswxUqzg",
        "outputId": "dbe2212c-c182-4d44-e2de-a709432dac17"
      },
      "execution_count": 31,
      "outputs": [
        {
          "output_type": "execute_result",
          "data": {
            "text/plain": [
              "array([[0., 0., 0., 0.],\n",
              "       [0., 0., 0., 0.]])"
            ]
          },
          "metadata": {},
          "execution_count": 31
        }
      ]
    },
    {
      "cell_type": "code",
      "source": [
        "arr6=np.ones((2,4))\n",
        "arr6"
      ],
      "metadata": {
        "colab": {
          "base_uri": "https://localhost:8080/"
        },
        "id": "nSK6IVRgVW_S",
        "outputId": "0a739ca8-00af-4d5c-971e-bf561a751396"
      },
      "execution_count": 33,
      "outputs": [
        {
          "output_type": "execute_result",
          "data": {
            "text/plain": [
              "array([[1., 1., 1., 1.],\n",
              "       [1., 1., 1., 1.]])"
            ]
          },
          "metadata": {},
          "execution_count": 33
        }
      ]
    },
    {
      "cell_type": "code",
      "source": [
        "#arange yordamida\n",
        "arr7=np.arange(4, 20, 2)\n",
        "arr7"
      ],
      "metadata": {
        "colab": {
          "base_uri": "https://localhost:8080/"
        },
        "id": "7kNp2FyZVj4n",
        "outputId": "40f28864-1d93-4a38-f1ff-cea50dcb953e"
      },
      "execution_count": 34,
      "outputs": [
        {
          "output_type": "execute_result",
          "data": {
            "text/plain": [
              "array([ 4,  6,  8, 10, 12, 14, 16, 18])"
            ]
          },
          "metadata": {},
          "execution_count": 34
        }
      ]
    },
    {
      "cell_type": "code",
      "source": [
        "#random\n",
        "np.random.seed(42) # fixid qilish\n",
        "arr8=np.random.rand(2,4)\n",
        "arr8"
      ],
      "metadata": {
        "colab": {
          "base_uri": "https://localhost:8080/"
        },
        "id": "ZOL0sgiJV5m3",
        "outputId": "a07b0146-d662-4f79-a5c0-8cefc52e70d7"
      },
      "execution_count": 39,
      "outputs": [
        {
          "output_type": "execute_result",
          "data": {
            "text/plain": [
              "array([[0.37454012, 0.95071431, 0.73199394, 0.59865848],\n",
              "       [0.15601864, 0.15599452, 0.05808361, 0.86617615]])"
            ]
          },
          "metadata": {},
          "execution_count": 39
        }
      ]
    },
    {
      "cell_type": "code",
      "source": [
        "# Normal distribution\n",
        "arr8=np.random.randn(2,4)\n",
        "arr8"
      ],
      "metadata": {
        "colab": {
          "base_uri": "https://localhost:8080/"
        },
        "id": "tYaRgyjqWNMD",
        "outputId": "fa64157d-5a25-4628-c015-06e40333200c"
      },
      "execution_count": 41,
      "outputs": [
        {
          "output_type": "execute_result",
          "data": {
            "text/plain": [
              "array([[-1.72491783, -0.56228753, -1.01283112,  0.31424733],\n",
              "       [-0.90802408, -1.4123037 ,  1.46564877, -0.2257763 ]])"
            ]
          },
          "metadata": {},
          "execution_count": 41
        }
      ]
    },
    {
      "cell_type": "code",
      "source": [
        "arr9=np.random.randint(10, size=(2,4))\n",
        "arr9"
      ],
      "metadata": {
        "colab": {
          "base_uri": "https://localhost:8080/"
        },
        "id": "viQYw4WxXCfy",
        "outputId": "906de270-ae90-471c-b1f7-7df99bae773b"
      },
      "execution_count": 43,
      "outputs": [
        {
          "output_type": "execute_result",
          "data": {
            "text/plain": [
              "array([[4, 8, 6, 1],\n",
              "       [3, 8, 1, 9]])"
            ]
          },
          "metadata": {},
          "execution_count": 43
        }
      ]
    },
    {
      "cell_type": "markdown",
      "source": [
        "ones_like, zeros_like"
      ],
      "metadata": {
        "id": "1xq9gzmbXvME"
      }
    },
    {
      "cell_type": "code",
      "source": [
        "eye=np.eye(4)\n",
        "eye"
      ],
      "metadata": {
        "colab": {
          "base_uri": "https://localhost:8080/"
        },
        "id": "7YYlkD5KXdXb",
        "outputId": "9189db10-bc42-4354-a539-4dc5097e8d8f"
      },
      "execution_count": 44,
      "outputs": [
        {
          "output_type": "execute_result",
          "data": {
            "text/plain": [
              "array([[1., 0., 0., 0.],\n",
              "       [0., 1., 0., 0.],\n",
              "       [0., 0., 1., 0.],\n",
              "       [0., 0., 0., 1.]])"
            ]
          },
          "metadata": {},
          "execution_count": 44
        }
      ]
    },
    {
      "cell_type": "markdown",
      "source": [
        "#Numpy kutubxonasi ma'lumot turlari"
      ],
      "metadata": {
        "id": "9nIY4iX5YCDe"
      }
    },
    {
      "cell_type": "code",
      "source": [
        "arr10=np.array([1,2,3], dtype=np.int16)\n",
        "arr10"
      ],
      "metadata": {
        "colab": {
          "base_uri": "https://localhost:8080/"
        },
        "id": "drWETEz6X9-e",
        "outputId": "85605d0f-02eb-4b05-cf0f-7a58b234f980"
      },
      "execution_count": 49,
      "outputs": [
        {
          "output_type": "execute_result",
          "data": {
            "text/plain": [
              "array([1, 2, 3], dtype=int16)"
            ]
          },
          "metadata": {},
          "execution_count": 49
        }
      ]
    },
    {
      "cell_type": "code",
      "source": [
        "arr10.itemsize #testga"
      ],
      "metadata": {
        "colab": {
          "base_uri": "https://localhost:8080/"
        },
        "id": "qWF66EE5YuGc",
        "outputId": "fbfc14f7-aa79-42c3-bee1-5f9f33067a1e"
      },
      "execution_count": 53,
      "outputs": [
        {
          "output_type": "execute_result",
          "data": {
            "text/plain": [
              "2"
            ]
          },
          "metadata": {},
          "execution_count": 53
        }
      ]
    },
    {
      "cell_type": "code",
      "source": [
        "arr10.nbytes"
      ],
      "metadata": {
        "colab": {
          "base_uri": "https://localhost:8080/"
        },
        "id": "2yNYYk57Y1-X",
        "outputId": "f72aa881-8658-4d03-dbd6-7ea56c232e18"
      },
      "execution_count": 51,
      "outputs": [
        {
          "output_type": "execute_result",
          "data": {
            "text/plain": [
              "6"
            ]
          },
          "metadata": {},
          "execution_count": 51
        }
      ]
    },
    {
      "cell_type": "code",
      "source": [
        "arr8.dtype"
      ],
      "metadata": {
        "colab": {
          "base_uri": "https://localhost:8080/"
        },
        "id": "NJwx5nZRY7mI",
        "outputId": "3d4bf121-8f37-4a85-9e71-b018c11aceaf"
      },
      "execution_count": 58,
      "outputs": [
        {
          "output_type": "execute_result",
          "data": {
            "text/plain": [
              "dtype('float64')"
            ]
          },
          "metadata": {},
          "execution_count": 58
        }
      ]
    },
    {
      "cell_type": "code",
      "source": [
        "arr8[0,1]=4\n",
        "arr8.dtype"
      ],
      "metadata": {
        "colab": {
          "base_uri": "https://localhost:8080/"
        },
        "id": "OsijuRFYZHy1",
        "outputId": "65a51d68-1e31-4d3b-979e-0a91cf3f2bb6"
      },
      "execution_count": 60,
      "outputs": [
        {
          "output_type": "execute_result",
          "data": {
            "text/plain": [
              "dtype('float64')"
            ]
          },
          "metadata": {},
          "execution_count": 60
        }
      ]
    },
    {
      "cell_type": "code",
      "source": [
        "arr9"
      ],
      "metadata": {
        "colab": {
          "base_uri": "https://localhost:8080/"
        },
        "id": "3n1uh4yjZSrh",
        "outputId": "375f4aa2-2d80-48a1-9abd-0e77d82db0ba"
      },
      "execution_count": 61,
      "outputs": [
        {
          "output_type": "execute_result",
          "data": {
            "text/plain": [
              "array([[4, 8, 6, 1],\n",
              "       [3, 8, 1, 9]])"
            ]
          },
          "metadata": {},
          "execution_count": 61
        }
      ]
    },
    {
      "cell_type": "code",
      "source": [
        "arr9[0,2]=0.1  # ma'lumot yo'qoladi\n",
        "arr9"
      ],
      "metadata": {
        "colab": {
          "base_uri": "https://localhost:8080/"
        },
        "id": "liC8EmafZg4E",
        "outputId": "46e21d7c-3b38-435d-a17c-a28185d3f36e"
      },
      "execution_count": 63,
      "outputs": [
        {
          "output_type": "execute_result",
          "data": {
            "text/plain": [
              "array([[4, 8, 0, 1],\n",
              "       [3, 8, 1, 9]])"
            ]
          },
          "metadata": {},
          "execution_count": 63
        }
      ]
    },
    {
      "cell_type": "code",
      "source": [
        "arr11=np.random.randn(2,5)\n",
        "arr11"
      ],
      "metadata": {
        "colab": {
          "base_uri": "https://localhost:8080/"
        },
        "id": "vpF6o00pZlTn",
        "outputId": "5b737fa2-8f4d-42c9-81e5-0c4265064bd6"
      },
      "execution_count": 66,
      "outputs": [
        {
          "output_type": "execute_result",
          "data": {
            "text/plain": [
              "array([[-0.60063869, -0.29169375, -0.60170661,  1.85227818, -0.01349722],\n",
              "       [-1.05771093,  0.82254491, -1.22084365,  0.2088636 , -1.95967012]])"
            ]
          },
          "metadata": {},
          "execution_count": 66
        }
      ]
    },
    {
      "cell_type": "code",
      "source": [
        "arr11.astype(np.int64) # convertasiya, testga"
      ],
      "metadata": {
        "colab": {
          "base_uri": "https://localhost:8080/"
        },
        "id": "TVt_mTlIZ-XD",
        "outputId": "5b5bd0c0-3ce0-475e-95cc-668edf640265"
      },
      "execution_count": 68,
      "outputs": [
        {
          "output_type": "execute_result",
          "data": {
            "text/plain": [
              "array([[ 0,  0,  0,  1,  0],\n",
              "       [-1,  0, -1,  0, -1]])"
            ]
          },
          "metadata": {},
          "execution_count": 68
        }
      ]
    },
    {
      "cell_type": "markdown",
      "source": [
        "#Indexing"
      ],
      "metadata": {
        "id": "e4-3kWlbaZN5"
      }
    },
    {
      "cell_type": "code",
      "source": [
        "arr=np.arange(10, 100, 10) #10 dan 90 gacha\n",
        "arr"
      ],
      "metadata": {
        "colab": {
          "base_uri": "https://localhost:8080/"
        },
        "id": "6uyi5V4VaLjw",
        "outputId": "68df3f2e-efd2-4a91-9a09-70a1e2d2f804"
      },
      "execution_count": 70,
      "outputs": [
        {
          "output_type": "execute_result",
          "data": {
            "text/plain": [
              "array([10, 20, 30, 40, 50, 60, 70, 80, 90])"
            ]
          },
          "metadata": {},
          "execution_count": 70
        }
      ]
    },
    {
      "cell_type": "markdown",
      "source": [
        "Slicing"
      ],
      "metadata": {
        "id": "TaGaZCQ-bZGR"
      }
    },
    {
      "cell_type": "code",
      "source": [
        "arr[3:5]"
      ],
      "metadata": {
        "colab": {
          "base_uri": "https://localhost:8080/"
        },
        "id": "QvJOIwNca7xh",
        "outputId": "4920db5a-561f-41fd-da56-c62eb46211cf"
      },
      "execution_count": 72,
      "outputs": [
        {
          "output_type": "execute_result",
          "data": {
            "text/plain": [
              "array([40, 50])"
            ]
          },
          "metadata": {},
          "execution_count": 72
        }
      ]
    },
    {
      "cell_type": "code",
      "source": [
        "sliced_arr=arr[3:5]\n",
        "sliced_arr[0]*2"
      ],
      "metadata": {
        "colab": {
          "base_uri": "https://localhost:8080/"
        },
        "id": "h434ZHFsbImy",
        "outputId": "79c4c9df-5dae-4fea-bd7f-79f2438c4176"
      },
      "execution_count": 76,
      "outputs": [
        {
          "output_type": "execute_result",
          "data": {
            "text/plain": [
              "np.int64(80)"
            ]
          },
          "metadata": {},
          "execution_count": 76
        }
      ]
    },
    {
      "cell_type": "code",
      "source": [
        "sliced_arr[0]/2\n",
        "sliced_arr"
      ],
      "metadata": {
        "colab": {
          "base_uri": "https://localhost:8080/"
        },
        "id": "L4EkqmiacR1R",
        "outputId": "4f583633-cf94-4f64-a1f1-2b5e55b178b0"
      },
      "execution_count": 77,
      "outputs": [
        {
          "output_type": "execute_result",
          "data": {
            "text/plain": [
              "array([40, 50])"
            ]
          },
          "metadata": {},
          "execution_count": 77
        }
      ]
    },
    {
      "cell_type": "code",
      "source": [
        "arr1=np.arange(4)\n",
        "arr1"
      ],
      "metadata": {
        "colab": {
          "base_uri": "https://localhost:8080/"
        },
        "id": "0sknaKl4bfJn",
        "outputId": "20c48238-c392-47c2-c1ce-543c17d232cf"
      },
      "execution_count": 78,
      "outputs": [
        {
          "output_type": "execute_result",
          "data": {
            "text/plain": [
              "array([0, 1, 2, 3])"
            ]
          },
          "metadata": {},
          "execution_count": 78
        }
      ]
    },
    {
      "cell_type": "code",
      "source": [
        "arr1[2]=5\n",
        "arr1"
      ],
      "metadata": {
        "colab": {
          "base_uri": "https://localhost:8080/"
        },
        "id": "oCXZAeM6cc-5",
        "outputId": "60dcc614-05db-44e0-d086-86eb919e6bd0"
      },
      "execution_count": 79,
      "outputs": [
        {
          "output_type": "execute_result",
          "data": {
            "text/plain": [
              "array([0, 1, 5, 3])"
            ]
          },
          "metadata": {},
          "execution_count": 79
        }
      ]
    },
    {
      "cell_type": "code",
      "source": [
        "arr"
      ],
      "metadata": {
        "colab": {
          "base_uri": "https://localhost:8080/"
        },
        "id": "fW0_4iHecgpk",
        "outputId": "41540ad5-7181-4b9e-d364-c2b2d0afc06e"
      },
      "execution_count": 80,
      "outputs": [
        {
          "output_type": "execute_result",
          "data": {
            "text/plain": [
              "array([10, 20, 30, 40, 50, 60, 70, 80, 90])"
            ]
          },
          "metadata": {},
          "execution_count": 80
        }
      ]
    },
    {
      "cell_type": "markdown",
      "source": [
        "#Copy usuli"
      ],
      "metadata": {
        "id": "HZ_rb9UQc8Uj"
      }
    },
    {
      "cell_type": "code",
      "source": [
        "arr"
      ],
      "metadata": {
        "colab": {
          "base_uri": "https://localhost:8080/"
        },
        "id": "qtP-muf9c6m9",
        "outputId": "a431b3ce-7111-44a0-a3dc-d424918e7356"
      },
      "execution_count": 81,
      "outputs": [
        {
          "output_type": "execute_result",
          "data": {
            "text/plain": [
              "array([10, 20, 30, 40, 50, 60, 70, 80, 90])"
            ]
          },
          "metadata": {},
          "execution_count": 81
        }
      ]
    },
    {
      "cell_type": "code",
      "source": [
        "new_array=arr.copy()\n",
        "new_array[1]=25"
      ],
      "metadata": {
        "id": "0tDGMZ0ydF27"
      },
      "execution_count": 84,
      "outputs": []
    },
    {
      "cell_type": "code",
      "source": [
        "arr"
      ],
      "metadata": {
        "colab": {
          "base_uri": "https://localhost:8080/"
        },
        "id": "Mr9JfLxLdeOL",
        "outputId": "0ed40f3a-67e6-4255-8f4b-e71f871e6046"
      },
      "execution_count": 86,
      "outputs": [
        {
          "output_type": "execute_result",
          "data": {
            "text/plain": [
              "array([10, 20, 30, 40, 50, 60, 70, 80, 90])"
            ]
          },
          "metadata": {},
          "execution_count": 86
        }
      ]
    },
    {
      "cell_type": "code",
      "source": [
        "new_array"
      ],
      "metadata": {
        "colab": {
          "base_uri": "https://localhost:8080/"
        },
        "id": "FrcWvCOddgDc",
        "outputId": "4edb84a8-52e2-43cd-f0d4-2786eaba5dc2"
      },
      "execution_count": 87,
      "outputs": [
        {
          "output_type": "execute_result",
          "data": {
            "text/plain": [
              "array([10, 25, 30, 40, 50, 60, 70, 80, 90])"
            ]
          },
          "metadata": {},
          "execution_count": 87
        }
      ]
    },
    {
      "cell_type": "markdown",
      "source": [
        "# 2D array"
      ],
      "metadata": {
        "id": "DhtCoXbxdpRh"
      }
    },
    {
      "cell_type": "code",
      "source": [
        "arr2d=np.arange(9).reshape(3,3)\n",
        "arr2d"
      ],
      "metadata": {
        "colab": {
          "base_uri": "https://localhost:8080/"
        },
        "id": "p47Ad598dmcd",
        "outputId": "42c589a5-11bf-4a28-adb4-db453d12e670"
      },
      "execution_count": 90,
      "outputs": [
        {
          "output_type": "execute_result",
          "data": {
            "text/plain": [
              "array([[0, 1, 2],\n",
              "       [3, 4, 5],\n",
              "       [6, 7, 8]])"
            ]
          },
          "metadata": {},
          "execution_count": 90
        }
      ]
    },
    {
      "cell_type": "code",
      "source": [
        "arr2d[1, 2]"
      ],
      "metadata": {
        "colab": {
          "base_uri": "https://localhost:8080/"
        },
        "id": "2oRB9WH5dxhv",
        "outputId": "638bb22d-cbeb-496b-bcdd-c228c4265337"
      },
      "execution_count": 93,
      "outputs": [
        {
          "output_type": "execute_result",
          "data": {
            "text/plain": [
              "np.int64(5)"
            ]
          },
          "metadata": {},
          "execution_count": 93
        }
      ]
    },
    {
      "cell_type": "code",
      "source": [
        "arr2d[1, 1:]"
      ],
      "metadata": {
        "colab": {
          "base_uri": "https://localhost:8080/"
        },
        "id": "4oOSKG1leXvZ",
        "outputId": "e475b202-ea43-4a5e-c0fd-d588798f4368"
      },
      "execution_count": 94,
      "outputs": [
        {
          "output_type": "execute_result",
          "data": {
            "text/plain": [
              "array([4, 5])"
            ]
          },
          "metadata": {},
          "execution_count": 94
        }
      ]
    },
    {
      "cell_type": "code",
      "source": [
        "arr2d[1:, 1:]"
      ],
      "metadata": {
        "colab": {
          "base_uri": "https://localhost:8080/"
        },
        "id": "sn2jDfH4epQV",
        "outputId": "0fa4e9c8-a696-45c9-916e-984d9a5d872e"
      },
      "execution_count": 96,
      "outputs": [
        {
          "output_type": "execute_result",
          "data": {
            "text/plain": [
              "array([[4, 5],\n",
              "       [7, 8]])"
            ]
          },
          "metadata": {},
          "execution_count": 96
        }
      ]
    },
    {
      "cell_type": "code",
      "source": [
        "arr2d"
      ],
      "metadata": {
        "colab": {
          "base_uri": "https://localhost:8080/"
        },
        "id": "6Pnn95zIe9ch",
        "outputId": "fd5baf63-14c0-4cca-a5c8-cee01b278cf9"
      },
      "execution_count": 97,
      "outputs": [
        {
          "output_type": "execute_result",
          "data": {
            "text/plain": [
              "array([[0, 1, 2],\n",
              "       [3, 4, 5],\n",
              "       [6, 7, 8]])"
            ]
          },
          "metadata": {},
          "execution_count": 97
        }
      ]
    },
    {
      "cell_type": "code",
      "source": [
        "arr2d[1:, ::2]  ##:: qadam (step) berish"
      ],
      "metadata": {
        "colab": {
          "base_uri": "https://localhost:8080/"
        },
        "id": "eaa_YLrYf2zM",
        "outputId": "ad204137-4508-4b8f-b54f-38e14035b35f"
      },
      "execution_count": 100,
      "outputs": [
        {
          "output_type": "execute_result",
          "data": {
            "text/plain": [
              "array([[3, 5],\n",
              "       [6, 8]])"
            ]
          },
          "metadata": {},
          "execution_count": 100
        }
      ]
    },
    {
      "cell_type": "code",
      "source": [
        "arr2d[-2:, -3::2]"
      ],
      "metadata": {
        "colab": {
          "base_uri": "https://localhost:8080/"
        },
        "id": "NfryILK8gFlx",
        "outputId": "53839ce0-d253-4d65-ff89-c717553e0b00"
      },
      "execution_count": 101,
      "outputs": [
        {
          "output_type": "execute_result",
          "data": {
            "text/plain": [
              "array([[3, 5],\n",
              "       [6, 8]])"
            ]
          },
          "metadata": {},
          "execution_count": 101
        }
      ]
    },
    {
      "cell_type": "markdown",
      "source": [
        "#3D array"
      ],
      "metadata": {
        "id": "mb70AEBBhOGC"
      }
    },
    {
      "cell_type": "code",
      "source": [
        "arr3d=np.array([[[1,2,3],\n",
        "                [4,5,6],\n",
        "                [7,8,9]],\n",
        "                [[10,11,12],\n",
        "                 [13,14,15],\n",
        "                  [16,17,18]],\n",
        "                [[19,20,21],\n",
        "                 [22,23,24],\n",
        "                  [25,26,27]]])\n",
        "arr3d"
      ],
      "metadata": {
        "colab": {
          "base_uri": "https://localhost:8080/"
        },
        "id": "IwRDgHtjgfY8",
        "outputId": "87327755-ee56-45e6-a862-c1faed5f1547"
      },
      "execution_count": 102,
      "outputs": [
        {
          "output_type": "execute_result",
          "data": {
            "text/plain": [
              "array([[[ 1,  2,  3],\n",
              "        [ 4,  5,  6],\n",
              "        [ 7,  8,  9]],\n",
              "\n",
              "       [[10, 11, 12],\n",
              "        [13, 14, 15],\n",
              "        [16, 17, 18]],\n",
              "\n",
              "       [[19, 20, 21],\n",
              "        [22, 23, 24],\n",
              "        [25, 26, 27]]])"
            ]
          },
          "metadata": {},
          "execution_count": 102
        }
      ]
    },
    {
      "cell_type": "code",
      "source": [
        "arr3d[0][2,2]"
      ],
      "metadata": {
        "colab": {
          "base_uri": "https://localhost:8080/"
        },
        "id": "4wskG2CaiYvo",
        "outputId": "cdd6eb79-d990-401c-b145-105822475203"
      },
      "execution_count": 103,
      "outputs": [
        {
          "output_type": "execute_result",
          "data": {
            "text/plain": [
              "np.int64(9)"
            ]
          },
          "metadata": {},
          "execution_count": 103
        }
      ]
    },
    {
      "cell_type": "code",
      "source": [
        "arr3d[0,2,2]"
      ],
      "metadata": {
        "colab": {
          "base_uri": "https://localhost:8080/"
        },
        "id": "qcA5fReZil0r",
        "outputId": "18bee005-2e5d-4976-e023-985916d0048a"
      },
      "execution_count": 104,
      "outputs": [
        {
          "output_type": "execute_result",
          "data": {
            "text/plain": [
              "np.int64(9)"
            ]
          },
          "metadata": {},
          "execution_count": 104
        }
      ]
    },
    {
      "cell_type": "code",
      "source": [
        "arr3d[1,1:, 1:]"
      ],
      "metadata": {
        "colab": {
          "base_uri": "https://localhost:8080/"
        },
        "id": "XmnV5JwFiqRG",
        "outputId": "fbd32b33-8f51-4a69-cb0d-dddd7b9434cf"
      },
      "execution_count": 105,
      "outputs": [
        {
          "output_type": "execute_result",
          "data": {
            "text/plain": [
              "array([[14, 15],\n",
              "       [17, 18]])"
            ]
          },
          "metadata": {},
          "execution_count": 105
        }
      ]
    },
    {
      "cell_type": "code",
      "source": [
        "arr3d"
      ],
      "metadata": {
        "colab": {
          "base_uri": "https://localhost:8080/"
        },
        "id": "lSesBPOUjpqu",
        "outputId": "a5c84f42-9bf9-4c7b-88e9-b32abb2b97db"
      },
      "execution_count": 109,
      "outputs": [
        {
          "output_type": "execute_result",
          "data": {
            "text/plain": [
              "array([[[ 1,  2,  3],\n",
              "        [ 4,  5,  6],\n",
              "        [ 7,  8,  9]],\n",
              "\n",
              "       [[10, 11, 12],\n",
              "        [13, 14, 15],\n",
              "        [16, 17, 18]],\n",
              "\n",
              "       [[19, 20, 21],\n",
              "        [22, 23, 24],\n",
              "        [25, 26, 27]]])"
            ]
          },
          "metadata": {},
          "execution_count": 109
        }
      ]
    },
    {
      "cell_type": "code",
      "source": [
        "arr3d[1:, 1:, :2]"
      ],
      "metadata": {
        "colab": {
          "base_uri": "https://localhost:8080/"
        },
        "id": "QhmEs4Q3iyCG",
        "outputId": "4e3ef840-8d36-4630-fafc-559dc6dca46c"
      },
      "execution_count": 113,
      "outputs": [
        {
          "output_type": "execute_result",
          "data": {
            "text/plain": [
              "array([[[13, 14],\n",
              "        [16, 17]],\n",
              "\n",
              "       [[22, 23],\n",
              "        [25, 26]]])"
            ]
          },
          "metadata": {},
          "execution_count": 113
        }
      ]
    },
    {
      "cell_type": "markdown",
      "source": [
        "#Math statistic"
      ],
      "metadata": {
        "id": "XhvoVadOkalt"
      }
    },
    {
      "cell_type": "code",
      "source": [
        "arr=np.random.randn(5,4)\n",
        "arr"
      ],
      "metadata": {
        "colab": {
          "base_uri": "https://localhost:8080/"
        },
        "id": "l2EZnDK4jd7M",
        "outputId": "9825c7fb-81aa-429f-dc04-912c59f2e1dc"
      },
      "execution_count": 115,
      "outputs": [
        {
          "output_type": "execute_result",
          "data": {
            "text/plain": [
              "array([[ 0.33126343,  0.97554513, -0.47917424, -0.18565898],\n",
              "       [-1.10633497, -1.19620662,  0.81252582,  1.35624003],\n",
              "       [-0.07201012,  1.0035329 ,  0.36163603, -0.64511975],\n",
              "       [ 0.36139561,  1.53803657, -0.03582604,  1.56464366],\n",
              "       [-2.6197451 ,  0.8219025 ,  0.08704707, -0.29900735]])"
            ]
          },
          "metadata": {},
          "execution_count": 115
        }
      ]
    },
    {
      "cell_type": "markdown",
      "source": [
        "#SUM"
      ],
      "metadata": {
        "id": "NpCVOerrlMI7"
      }
    },
    {
      "cell_type": "code",
      "source": [
        "arr.sum()"
      ],
      "metadata": {
        "colab": {
          "base_uri": "https://localhost:8080/"
        },
        "id": "fa1jiEuMkp0Z",
        "outputId": "a39cc3ab-44ed-48ea-90a6-0a2da14d1716"
      },
      "execution_count": 116,
      "outputs": [
        {
          "output_type": "execute_result",
          "data": {
            "text/plain": [
              "np.float64(2.574685550385559)"
            ]
          },
          "metadata": {},
          "execution_count": 116
        }
      ]
    },
    {
      "cell_type": "code",
      "source": [
        "arr.sum(axis=0)  #satr yig'indi testga"
      ],
      "metadata": {
        "colab": {
          "base_uri": "https://localhost:8080/"
        },
        "id": "qjOgOo21kxiD",
        "outputId": "5eda0f23-388c-4eaf-97aa-2ffa35ec97a6"
      },
      "execution_count": 120,
      "outputs": [
        {
          "output_type": "execute_result",
          "data": {
            "text/plain": [
              "array([-3.10543116,  3.14281047,  0.74620864,  1.7910976 ])"
            ]
          },
          "metadata": {},
          "execution_count": 120
        }
      ]
    },
    {
      "cell_type": "code",
      "source": [
        "arr.sum(axis=1) #qator yig'indi testga"
      ],
      "metadata": {
        "colab": {
          "base_uri": "https://localhost:8080/"
        },
        "id": "h_qcwt3_k16q",
        "outputId": "e84937b3-69b1-48c6-9698-01012d945939"
      },
      "execution_count": 121,
      "outputs": [
        {
          "output_type": "execute_result",
          "data": {
            "text/plain": [
              "array([ 0.64197534, -0.13377575,  0.64803905,  3.42824979, -2.00980288])"
            ]
          },
          "metadata": {},
          "execution_count": 121
        }
      ]
    },
    {
      "cell_type": "markdown",
      "source": [
        "MEAN"
      ],
      "metadata": {
        "id": "SbZt5BVwlNlz"
      }
    },
    {
      "cell_type": "code",
      "source": [
        "data=np.arange(5)\n",
        "data"
      ],
      "metadata": {
        "colab": {
          "base_uri": "https://localhost:8080/"
        },
        "id": "AXyQZLaolTlT",
        "outputId": "fc99cab7-6937-47bf-b841-e2d2ad29a005"
      },
      "execution_count": 123,
      "outputs": [
        {
          "output_type": "execute_result",
          "data": {
            "text/plain": [
              "array([0, 1, 2, 3, 4])"
            ]
          },
          "metadata": {},
          "execution_count": 123
        }
      ]
    },
    {
      "cell_type": "code",
      "source": [
        "np.mean(data)"
      ],
      "metadata": {
        "colab": {
          "base_uri": "https://localhost:8080/"
        },
        "id": "zi-bc4E2k7M7",
        "outputId": "b6618105-bd09-4cbe-b432-35bc36a0e325"
      },
      "execution_count": 124,
      "outputs": [
        {
          "output_type": "execute_result",
          "data": {
            "text/plain": [
              "np.float64(2.0)"
            ]
          },
          "metadata": {},
          "execution_count": 124
        }
      ]
    },
    {
      "cell_type": "code",
      "source": [
        "arr"
      ],
      "metadata": {
        "colab": {
          "base_uri": "https://localhost:8080/"
        },
        "id": "hI5UZWYDm07b",
        "outputId": "b7dbdcfb-786e-4a88-ff12-ba8198848f3e"
      },
      "execution_count": 125,
      "outputs": [
        {
          "output_type": "execute_result",
          "data": {
            "text/plain": [
              "array([[ 0.33126343,  0.97554513, -0.47917424, -0.18565898],\n",
              "       [-1.10633497, -1.19620662,  0.81252582,  1.35624003],\n",
              "       [-0.07201012,  1.0035329 ,  0.36163603, -0.64511975],\n",
              "       [ 0.36139561,  1.53803657, -0.03582604,  1.56464366],\n",
              "       [-2.6197451 ,  0.8219025 ,  0.08704707, -0.29900735]])"
            ]
          },
          "metadata": {},
          "execution_count": 125
        }
      ]
    },
    {
      "cell_type": "code",
      "source": [
        "np.mean(arr, axis=1) # ustun bo'yicha"
      ],
      "metadata": {
        "colab": {
          "base_uri": "https://localhost:8080/"
        },
        "id": "0EgR8FGRm2NN",
        "outputId": "066fcd90-cdd2-48c6-f6d3-15607fee511e"
      },
      "execution_count": 127,
      "outputs": [
        {
          "output_type": "execute_result",
          "data": {
            "text/plain": [
              "array([ 0.16049384, -0.03344394,  0.16200976,  0.85706245, -0.50245072])"
            ]
          },
          "metadata": {},
          "execution_count": 127
        }
      ]
    },
    {
      "cell_type": "code",
      "source": [
        "np.mean(arr, axis=0) # satr bo'yicha"
      ],
      "metadata": {
        "colab": {
          "base_uri": "https://localhost:8080/"
        },
        "id": "l6AhCgKSm6m1",
        "outputId": "3faeff0f-67f9-4481-8c83-3ac64c6094ec"
      },
      "execution_count": 128,
      "outputs": [
        {
          "output_type": "execute_result",
          "data": {
            "text/plain": [
              "array([-0.62108623,  0.62856209,  0.14924173,  0.35821952])"
            ]
          },
          "metadata": {},
          "execution_count": 128
        }
      ]
    },
    {
      "cell_type": "markdown",
      "source": [
        "#cumsum metodi"
      ],
      "metadata": {
        "id": "HDlEW_0wnMCv"
      }
    },
    {
      "cell_type": "code",
      "source": [
        "data.cumsum() #testga"
      ],
      "metadata": {
        "colab": {
          "base_uri": "https://localhost:8080/"
        },
        "id": "imXBv_YJnKLl",
        "outputId": "18ae1953-d7c8-4d96-9377-4e7b01f51acc"
      },
      "execution_count": 133,
      "outputs": [
        {
          "output_type": "execute_result",
          "data": {
            "text/plain": [
              "array([ 1,  3,  6, 10])"
            ]
          },
          "metadata": {},
          "execution_count": 133
        }
      ]
    },
    {
      "cell_type": "code",
      "source": [
        "data=np.array([1,2,3,4])\n",
        "data.cumprod() # testga"
      ],
      "metadata": {
        "colab": {
          "base_uri": "https://localhost:8080/"
        },
        "id": "1_WVh_lNnSuv",
        "outputId": "17733346-6669-438e-c604-0f3c13bfab51"
      },
      "execution_count": 132,
      "outputs": [
        {
          "output_type": "execute_result",
          "data": {
            "text/plain": [
              "array([ 1,  2,  6, 24])"
            ]
          },
          "metadata": {},
          "execution_count": 132
        }
      ]
    },
    {
      "cell_type": "markdown",
      "source": [
        "#Boolean indexing"
      ],
      "metadata": {
        "id": "DE3xpsarnzvk"
      }
    },
    {
      "cell_type": "code",
      "source": [
        "names=np.array([\"Hasan\", \"Husan\", 'Mirzabek', 'Elyor', 'Hasan', 'Javohir', 'Elyor'])"
      ],
      "metadata": {
        "id": "OP18El_Zn68j"
      },
      "execution_count": 136,
      "outputs": []
    },
    {
      "cell_type": "code",
      "source": [
        "names"
      ],
      "metadata": {
        "colab": {
          "base_uri": "https://localhost:8080/"
        },
        "id": "Hddi6Nw3nhkE",
        "outputId": "06856bc4-deb7-4d9a-e9ca-76d1d25d1390"
      },
      "execution_count": 137,
      "outputs": [
        {
          "output_type": "execute_result",
          "data": {
            "text/plain": [
              "array(['Hasan', 'Husan', 'Mirzabek', 'Elyor', 'Hasan', 'Javohir', 'Elyor'],\n",
              "      dtype='<U8')"
            ]
          },
          "metadata": {},
          "execution_count": 137
        }
      ]
    },
    {
      "cell_type": "code",
      "source": [
        "data=np.random.randn(7,4)\n",
        "data"
      ],
      "metadata": {
        "colab": {
          "base_uri": "https://localhost:8080/"
        },
        "id": "M221PZY2oQDI",
        "outputId": "20e18d3f-20b9-4e05-8c46-5fad6c5a73d6"
      },
      "execution_count": 138,
      "outputs": [
        {
          "output_type": "execute_result",
          "data": {
            "text/plain": [
              "array([[ 0.09176078, -1.98756891, -0.21967189,  0.35711257],\n",
              "       [ 1.47789404, -0.51827022, -0.8084936 , -0.50175704],\n",
              "       [ 0.91540212,  0.32875111, -0.5297602 ,  0.51326743],\n",
              "       [ 0.09707755,  0.96864499, -0.70205309, -0.32766215],\n",
              "       [-0.39210815, -1.46351495,  0.29612028,  0.26105527],\n",
              "       [ 0.00511346, -0.23458713, -1.41537074, -0.42064532],\n",
              "       [-0.34271452, -0.80227727, -0.16128571,  0.40405086]])"
            ]
          },
          "metadata": {},
          "execution_count": 138
        }
      ]
    },
    {
      "cell_type": "code",
      "source": [
        "names=='Hasan'"
      ],
      "metadata": {
        "colab": {
          "base_uri": "https://localhost:8080/"
        },
        "id": "nWNfLTKJoY_O",
        "outputId": "ae5c9808-a594-40e9-bcdf-398b7daea8a4"
      },
      "execution_count": 139,
      "outputs": [
        {
          "output_type": "execute_result",
          "data": {
            "text/plain": [
              "array([ True, False, False, False,  True, False, False])"
            ]
          },
          "metadata": {},
          "execution_count": 139
        }
      ]
    },
    {
      "cell_type": "code",
      "source": [
        "data[names=='Hasan']"
      ],
      "metadata": {
        "colab": {
          "base_uri": "https://localhost:8080/"
        },
        "id": "mFp9qFhjoc7J",
        "outputId": "034122ad-9ca3-439c-cd47-f8bcecf31f46"
      },
      "execution_count": 140,
      "outputs": [
        {
          "output_type": "execute_result",
          "data": {
            "text/plain": [
              "array([[ 0.09176078, -1.98756891, -0.21967189,  0.35711257],\n",
              "       [-0.39210815, -1.46351495,  0.29612028,  0.26105527]])"
            ]
          },
          "metadata": {},
          "execution_count": 140
        }
      ]
    },
    {
      "cell_type": "code",
      "source": [
        "data[names=='Elyor']"
      ],
      "metadata": {
        "colab": {
          "base_uri": "https://localhost:8080/"
        },
        "id": "o9c3MhBKohFD",
        "outputId": "05fb0cb1-70a7-4cd9-eea4-53530a71450c"
      },
      "execution_count": 141,
      "outputs": [
        {
          "output_type": "execute_result",
          "data": {
            "text/plain": [
              "array([[ 0.09707755,  0.96864499, -0.70205309, -0.32766215],\n",
              "       [-0.34271452, -0.80227727, -0.16128571,  0.40405086]])"
            ]
          },
          "metadata": {},
          "execution_count": 141
        }
      ]
    },
    {
      "cell_type": "code",
      "source": [
        "data[names=='Hasan', 2:]"
      ],
      "metadata": {
        "colab": {
          "base_uri": "https://localhost:8080/"
        },
        "id": "qslHKtrLooZh",
        "outputId": "5d95a8fe-6f74-43c0-ece6-b43bb02edf32"
      },
      "execution_count": 142,
      "outputs": [
        {
          "output_type": "execute_result",
          "data": {
            "text/plain": [
              "array([[-0.21967189,  0.35711257],\n",
              "       [ 0.29612028,  0.26105527]])"
            ]
          },
          "metadata": {},
          "execution_count": 142
        }
      ]
    },
    {
      "cell_type": "code",
      "source": [
        "data[names!='Hasan', 2:]"
      ],
      "metadata": {
        "colab": {
          "base_uri": "https://localhost:8080/"
        },
        "id": "dHrO5MgLo8Pd",
        "outputId": "d10a3442-fdca-4b3b-a281-3885926a04d6"
      },
      "execution_count": 143,
      "outputs": [
        {
          "output_type": "execute_result",
          "data": {
            "text/plain": [
              "array([[-0.8084936 , -0.50175704],\n",
              "       [-0.5297602 ,  0.51326743],\n",
              "       [-0.70205309, -0.32766215],\n",
              "       [-1.41537074, -0.42064532],\n",
              "       [-0.16128571,  0.40405086]])"
            ]
          },
          "metadata": {},
          "execution_count": 143
        }
      ]
    },
    {
      "cell_type": "code",
      "source": [
        "data[~(names=='Hasan'), 2:]"
      ],
      "metadata": {
        "colab": {
          "base_uri": "https://localhost:8080/"
        },
        "id": "8pCrPbUwo_Li",
        "outputId": "6febd108-7d5f-4bcb-c79f-9f7bd0668712"
      },
      "execution_count": 146,
      "outputs": [
        {
          "output_type": "execute_result",
          "data": {
            "text/plain": [
              "array([[-0.8084936 , -0.50175704],\n",
              "       [-0.5297602 ,  0.51326743],\n",
              "       [-0.70205309, -0.32766215],\n",
              "       [-1.41537074, -0.42064532],\n",
              "       [-0.16128571,  0.40405086]])"
            ]
          },
          "metadata": {},
          "execution_count": 146
        }
      ]
    },
    {
      "cell_type": "code",
      "source": [
        "mask=(names=='Hasan')|(names=='Husan')\n",
        "mask"
      ],
      "metadata": {
        "colab": {
          "base_uri": "https://localhost:8080/"
        },
        "id": "y57luHkKpFzf",
        "outputId": "41872a8e-79a2-4425-a579-7d9a093a02e2"
      },
      "execution_count": 147,
      "outputs": [
        {
          "output_type": "execute_result",
          "data": {
            "text/plain": [
              "array([ True,  True, False, False,  True, False, False])"
            ]
          },
          "metadata": {},
          "execution_count": 147
        }
      ]
    },
    {
      "cell_type": "code",
      "source": [
        "data[mask]"
      ],
      "metadata": {
        "colab": {
          "base_uri": "https://localhost:8080/"
        },
        "id": "NhObteGLpfqm",
        "outputId": "4b1abeb2-71eb-404d-9a0a-92bda48d04f0"
      },
      "execution_count": 148,
      "outputs": [
        {
          "output_type": "execute_result",
          "data": {
            "text/plain": [
              "array([[ 0.09176078, -1.98756891, -0.21967189,  0.35711257],\n",
              "       [ 1.47789404, -0.51827022, -0.8084936 , -0.50175704],\n",
              "       [-0.39210815, -1.46351495,  0.29612028,  0.26105527]])"
            ]
          },
          "metadata": {},
          "execution_count": 148
        }
      ]
    },
    {
      "cell_type": "code",
      "source": [
        "data[mask, :2]"
      ],
      "metadata": {
        "colab": {
          "base_uri": "https://localhost:8080/"
        },
        "id": "1yybylHTph2w",
        "outputId": "b206375b-793d-4ae7-e1b9-37c7fd0c7516"
      },
      "execution_count": 151,
      "outputs": [
        {
          "output_type": "execute_result",
          "data": {
            "text/plain": [
              "array([[ 0.09176078, -1.98756891],\n",
              "       [ 1.47789404, -0.51827022],\n",
              "       [-0.39210815, -1.46351495]])"
            ]
          },
          "metadata": {},
          "execution_count": 151
        }
      ]
    },
    {
      "cell_type": "code",
      "source": [
        "data"
      ],
      "metadata": {
        "colab": {
          "base_uri": "https://localhost:8080/"
        },
        "id": "J0tYcJf-pmtz",
        "outputId": "387d0e1a-498f-4199-ef19-c5e98b71087f"
      },
      "execution_count": 150,
      "outputs": [
        {
          "output_type": "execute_result",
          "data": {
            "text/plain": [
              "array([[ 0.09176078, -1.98756891, -0.21967189,  0.35711257],\n",
              "       [ 1.47789404, -0.51827022, -0.8084936 , -0.50175704],\n",
              "       [ 0.91540212,  0.32875111, -0.5297602 ,  0.51326743],\n",
              "       [ 0.09707755,  0.96864499, -0.70205309, -0.32766215],\n",
              "       [-0.39210815, -1.46351495,  0.29612028,  0.26105527],\n",
              "       [ 0.00511346, -0.23458713, -1.41537074, -0.42064532],\n",
              "       [-0.34271452, -0.80227727, -0.16128571,  0.40405086]])"
            ]
          },
          "metadata": {},
          "execution_count": 150
        }
      ]
    },
    {
      "cell_type": "code",
      "source": [
        "data[data<0]=0\n",
        "data"
      ],
      "metadata": {
        "colab": {
          "base_uri": "https://localhost:8080/"
        },
        "id": "GiDLQ0T7poYR",
        "outputId": "10b944af-97ae-4295-9f77-7f15168bee49"
      },
      "execution_count": 152,
      "outputs": [
        {
          "output_type": "execute_result",
          "data": {
            "text/plain": [
              "array([[0.09176078, 0.        , 0.        , 0.35711257],\n",
              "       [1.47789404, 0.        , 0.        , 0.        ],\n",
              "       [0.91540212, 0.32875111, 0.        , 0.51326743],\n",
              "       [0.09707755, 0.96864499, 0.        , 0.        ],\n",
              "       [0.        , 0.        , 0.29612028, 0.26105527],\n",
              "       [0.00511346, 0.        , 0.        , 0.        ],\n",
              "       [0.        , 0.        , 0.        , 0.40405086]])"
            ]
          },
          "metadata": {},
          "execution_count": 152
        }
      ]
    },
    {
      "cell_type": "markdown",
      "source": [
        "#Logical_set"
      ],
      "metadata": {
        "id": "lRwCu_qjqDOn"
      }
    },
    {
      "cell_type": "code",
      "source": [
        "#massivlar\n",
        "xarr=np.array([1.1,1.2,1.3,1.4,1.5])\n",
        "yarr=np.array([2.1,2.2,2.3,2.4,2.5])\n"
      ],
      "metadata": {
        "id": "gFXQpvSFp0Rn"
      },
      "execution_count": 156,
      "outputs": []
    },
    {
      "cell_type": "code",
      "source": [
        "#shart\n",
        "cond=np.array([True, False, True, True, False])"
      ],
      "metadata": {
        "id": "5EAiXTAkqNGK"
      },
      "execution_count": 157,
      "outputs": []
    },
    {
      "cell_type": "code",
      "source": [
        "#where\n",
        "result=np.where(cond, xarr, yarr)\n",
        "result"
      ],
      "metadata": {
        "colab": {
          "base_uri": "https://localhost:8080/"
        },
        "id": "Y0Vi-S-kqnuZ",
        "outputId": "b1db6acc-34b0-4abc-a649-9ecd70bcb6cf"
      },
      "execution_count": 158,
      "outputs": [
        {
          "output_type": "execute_result",
          "data": {
            "text/plain": [
              "array([1.1, 2.2, 1.3, 1.4, 2.5])"
            ]
          },
          "metadata": {},
          "execution_count": 158
        }
      ]
    },
    {
      "cell_type": "code",
      "source": [
        "arr=np.random.randn(4,4)\n",
        "arr"
      ],
      "metadata": {
        "colab": {
          "base_uri": "https://localhost:8080/"
        },
        "id": "JbRIraeBrJ72",
        "outputId": "4f442d7b-c66f-4ad7-d7d9-f8a37bfea471"
      },
      "execution_count": 161,
      "outputs": [
        {
          "output_type": "execute_result",
          "data": {
            "text/plain": [
              "array([[ 1.8861859 ,  0.17457781,  0.25755039, -0.07444592],\n",
              "       [-1.91877122, -0.02651388,  0.06023021,  2.46324211],\n",
              "       [-0.19236096,  0.30154734, -0.03471177, -1.16867804],\n",
              "       [ 1.14282281,  0.75193303,  0.79103195, -0.90938745]])"
            ]
          },
          "metadata": {},
          "execution_count": 161
        }
      ]
    },
    {
      "cell_type": "code",
      "source": [
        "#where\n",
        "results=np.where(arr<0, -2,2) # arr ning manfiy elementlarini -2 ga, musbat elementlarin ese 2 ga almashtiradi\n",
        "results"
      ],
      "metadata": {
        "colab": {
          "base_uri": "https://localhost:8080/"
        },
        "id": "tbzVqk9lq2MR",
        "outputId": "17d0dd40-6578-481e-a792-2ddfa068a16b"
      },
      "execution_count": 162,
      "outputs": [
        {
          "output_type": "execute_result",
          "data": {
            "text/plain": [
              "array([[ 2,  2,  2, -2],\n",
              "       [-2, -2,  2,  2],\n",
              "       [-2,  2, -2, -2],\n",
              "       [ 2,  2,  2, -2]])"
            ]
          },
          "metadata": {},
          "execution_count": 162
        }
      ]
    },
    {
      "cell_type": "code",
      "source": [],
      "metadata": {
        "id": "7BtB-6IHrEtT"
      },
      "execution_count": null,
      "outputs": []
    }
  ]
}