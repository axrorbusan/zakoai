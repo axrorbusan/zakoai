{
 "cells": [
  {
   "cell_type": "code",
   "execution_count": 2,
   "id": "481a2927",
   "metadata": {},
   "outputs": [
    {
     "name": "stdout",
     "output_type": "stream",
     "text": [
      "No GPU available.\n"
     ]
    }
   ],
   "source": [
    "import torch\n",
    "\n",
    "if torch.cuda.is_available():\n",
    "    gpu = torch.cuda.get_device_properties(0)\n",
    "    print(f\"Name: {gpu.name}\")\n",
    "    print(f\"Total Memory: {gpu.total_memory / 1024**2:.0f} MB (Dedicated VRAM)\")\n",
    "    print(f\"Shared Memory not directly reported here (system RAM).\")\n",
    "else:\n",
    "    print(\"No GPU available.\")"
   ]
  },
  {
   "cell_type": "markdown",
   "id": "fe8c262f",
   "metadata": {},
   "source": [
    "#1. Array yasash\n",
    "N-o'lchamli massiv (array)larga ishlov berish"
   ]
  },
  {
   "cell_type": "code",
   "execution_count": 3,
   "id": "ca5733d2",
   "metadata": {},
   "outputs": [],
   "source": [
    "import numpy as np"
   ]
  },
  {
   "cell_type": "code",
   "execution_count": 4,
   "id": "37571718",
   "metadata": {},
   "outputs": [
    {
     "data": {
      "text/plain": [
       "array([ 0,  1,  2,  3,  4,  5,  6,  7,  8,  9, 10, 11, 12, 13, 14, 15, 16,\n",
       "       17, 18, 19, 20, 21, 22, 23, 24, 25, 26, 27, 28, 29, 30, 31, 32, 33,\n",
       "       34, 35, 36, 37, 38, 39, 40, 41, 42, 43, 44, 45, 46, 47, 48, 49, 50,\n",
       "       51, 52, 53, 54, 55, 56, 57, 58, 59, 60, 61, 62, 63, 64, 65, 66, 67,\n",
       "       68, 69, 70, 71, 72, 73, 74, 75, 76, 77, 78, 79, 80, 81, 82, 83, 84,\n",
       "       85, 86, 87, 88, 89, 90, 91, 92, 93, 94, 95, 96, 97, 98, 99])"
      ]
     },
     "execution_count": 4,
     "metadata": {},
     "output_type": "execute_result"
    }
   ],
   "source": [
    "# from list \n",
    "my_list = list(range(100))\n",
    "arr = np.array(my_list)\n",
    "arr"
   ]
  },
  {
   "cell_type": "code",
   "execution_count": 5,
   "id": "abb952b2",
   "metadata": {},
   "outputs": [
    {
     "data": {
      "text/plain": [
       "array([ 0,  1,  2,  3,  4,  5,  6,  7,  8,  9, 10, 11, 12, 13, 14, 15, 16,\n",
       "       17, 18, 19, 20, 21, 22, 23, 24, 25, 26, 27, 28, 29, 30, 31, 32, 33,\n",
       "       34, 35, 36, 37, 38, 39, 40, 41, 42, 43, 44, 45, 46, 47, 48, 49, 50,\n",
       "       51, 52, 53, 54, 55, 56, 57, 58, 59, 60, 61, 62, 63, 64, 65, 66, 67,\n",
       "       68, 69, 70, 71, 72, 73, 74, 75, 76, 77, 78, 79, 80, 81, 82, 83, 84,\n",
       "       85, 86, 87, 88, 89, 90, 91, 92, 93, 94, 95, 96, 97, 98, 99])"
      ]
     },
     "execution_count": 5,
     "metadata": {},
     "output_type": "execute_result"
    }
   ],
   "source": [
    "# from  tuple\n",
    "my_tuple = tuple(range(100))\n",
    "arr1 = np.array(my_tuple)\n",
    "arr1"
   ]
  },
  {
   "cell_type": "code",
   "execution_count": 6,
   "id": "31024938",
   "metadata": {},
   "outputs": [
    {
     "data": {
      "text/plain": [
       "array([ 0,  1,  2,  3,  4,  5,  6,  7,  8,  9, 10, 11, 12, 13, 14, 15, 16,\n",
       "       17, 18, 19, 20, 21, 22, 23, 24, 25, 26, 27, 28, 29, 30, 31, 32, 33,\n",
       "       34, 35, 36, 37, 38, 39, 40, 41, 42, 43, 44, 45, 46, 47, 48, 49, 50,\n",
       "       51, 52, 53, 54, 55, 56, 57, 58, 59, 60, 61, 62, 63, 64, 65, 66, 67,\n",
       "       68, 69, 70, 71, 72, 73, 74, 75, 76, 77, 78, 79, 80, 81, 82, 83, 84,\n",
       "       85, 86, 87, 88, 89, 90, 91, 92, 93, 94, 95, 96, 97, 98, 99])"
      ]
     },
     "execution_count": 6,
     "metadata": {},
     "output_type": "execute_result"
    }
   ],
   "source": [
    "# with np.arange() function\n",
    "arr2 = np.arange(100)\n",
    "arr2\n"
   ]
  },
  {
   "cell_type": "code",
   "execution_count": 7,
   "id": "67ace7d1",
   "metadata": {},
   "outputs": [
    {
     "data": {
      "text/plain": [
       "array([ 0,  5, 10, 15, 20, 25, 30, 35, 40, 45, 50, 55, 60, 65, 70, 75, 80,\n",
       "       85, 90, 95])"
      ]
     },
     "execution_count": 7,
     "metadata": {},
     "output_type": "execute_result"
    }
   ],
   "source": [
    "# np.arange() function with step 5\n",
    "arr3 = np.arange(0,100,5)\n",
    "arr3"
   ]
  },
  {
   "cell_type": "markdown",
   "id": "8409ccaf",
   "metadata": {},
   "source": [
    "#2. Massiv o'lchami (`ndim`)"
   ]
  },
  {
   "cell_type": "code",
   "execution_count": 8,
   "id": "1919c10b",
   "metadata": {},
   "outputs": [
    {
     "data": {
      "text/plain": [
       "1"
      ]
     },
     "execution_count": 8,
     "metadata": {},
     "output_type": "execute_result"
    }
   ],
   "source": [
    "arr2.ndim      # find dimension of arr2"
   ]
  },
  {
   "cell_type": "markdown",
   "id": "0985a1cc",
   "metadata": {},
   "source": [
    "#3. Ikki va undan katta o'lchamli massivlar"
   ]
  },
  {
   "cell_type": "code",
   "execution_count": 9,
   "id": "45629331",
   "metadata": {},
   "outputs": [
    {
     "data": {
      "text/plain": [
       "2"
      ]
     },
     "execution_count": 9,
     "metadata": {},
     "output_type": "execute_result"
    }
   ],
   "source": [
    "arr3 = np.array([[1,2,3,4,5], [6,7,8,9,10]])   # make 2D array\n",
    "arr3.ndim"
   ]
  },
  {
   "cell_type": "code",
   "execution_count": 10,
   "id": "2bfc6d8b",
   "metadata": {},
   "outputs": [
    {
     "data": {
      "text/plain": [
       "array([[[1, 2, 3],\n",
       "        [4, 5, 6]]])"
      ]
     },
     "execution_count": 10,
     "metadata": {},
     "output_type": "execute_result"
    }
   ],
   "source": [
    "arr4 = np.array([[[1,2,3],[4,5,6]]])\n",
    "arr4"
   ]
  },
  {
   "cell_type": "code",
   "execution_count": 11,
   "id": "7c9d12cb",
   "metadata": {},
   "outputs": [
    {
     "data": {
      "text/plain": [
       "3"
      ]
     },
     "execution_count": 11,
     "metadata": {},
     "output_type": "execute_result"
    }
   ],
   "source": [
    "arr4.ndim"
   ]
  },
  {
   "cell_type": "code",
   "execution_count": 12,
   "id": "487eb3dc",
   "metadata": {},
   "outputs": [
    {
     "data": {
      "text/plain": [
       "array([[[1, 2, 3],\n",
       "        [4, 5, 6]],\n",
       "\n",
       "       [[1, 2, 3],\n",
       "        [4, 5, 6]]])"
      ]
     },
     "execution_count": 12,
     "metadata": {},
     "output_type": "execute_result"
    }
   ],
   "source": [
    "arr5 = np.array([[[1, 2, 3], [4, 5, 6]], [[1, 2, 3], [4, 5, 6]]])   # make 3D array\n",
    "arr5"
   ]
  },
  {
   "cell_type": "code",
   "execution_count": 13,
   "id": "88474e89",
   "metadata": {},
   "outputs": [
    {
     "data": {
      "text/plain": [
       "3"
      ]
     },
     "execution_count": 13,
     "metadata": {},
     "output_type": "execute_result"
    }
   ],
   "source": [
    "arr5.ndim"
   ]
  },
  {
   "cell_type": "code",
   "execution_count": 14,
   "id": "b003119d",
   "metadata": {},
   "outputs": [
    {
     "data": {
      "text/plain": [
       "3"
      ]
     },
     "execution_count": 14,
     "metadata": {},
     "output_type": "execute_result"
    }
   ],
   "source": [
    "arr6 = np.array([1,2,3,4,5], ndmin = 3)     # give dimension with 'ndmin' attribute\n",
    "arr6.ndim"
   ]
  },
  {
   "cell_type": "markdown",
   "id": "127345ec",
   "metadata": {},
   "source": [
    "#4. `shape` , `size` atributlari\n",
    "`shape` atributi massivning qator va ustunlar sonini ko'rsatsa, `size` esa massivlardagi elementlar sonini nomoyon etadi"
   ]
  },
  {
   "cell_type": "code",
   "execution_count": 15,
   "id": "a541ac77",
   "metadata": {},
   "outputs": [
    {
     "data": {
      "text/plain": [
       "(1, 1, 5)"
      ]
     },
     "execution_count": 15,
     "metadata": {},
     "output_type": "execute_result"
    }
   ],
   "source": [
    "arr6.shape    # xar bir dimension dagi elementlar soni"
   ]
  },
  {
   "cell_type": "code",
   "execution_count": 16,
   "id": "57722139",
   "metadata": {},
   "outputs": [
    {
     "data": {
      "text/plain": [
       "array([[ 1,  3,  5],\n",
       "       [ 7,  9, 11],\n",
       "       [13, 15, 17],\n",
       "       [19, 21, 23]])"
      ]
     },
     "execution_count": 16,
     "metadata": {},
     "output_type": "execute_result"
    }
   ],
   "source": [
    "arr7  = np.arange(1,25,2)\n",
    "arr7.shape = (4,3)             # set shape of array\n",
    "arr7"
   ]
  },
  {
   "cell_type": "code",
   "execution_count": 17,
   "id": "de23c043",
   "metadata": {},
   "outputs": [
    {
     "data": {
      "text/plain": [
       "5"
      ]
     },
     "execution_count": 17,
     "metadata": {},
     "output_type": "execute_result"
    }
   ],
   "source": [
    "arr6.size # umumiy elementlar soni"
   ]
  },
  {
   "cell_type": "markdown",
   "id": "14651716",
   "metadata": {},
   "source": [
    "#5. N-o'lchamli massivlar yaratishning boshqa usullari\n",
    "`zeros` va `ones` funksiyalari yordamida massivlar yaratish  `random` `normal distribution`"
   ]
  },
  {
   "cell_type": "code",
   "execution_count": 18,
   "id": "7a4cf14f",
   "metadata": {},
   "outputs": [
    {
     "data": {
      "text/plain": [
       "array([[0., 0., 0.],\n",
       "       [0., 0., 0.]])"
      ]
     },
     "execution_count": 18,
     "metadata": {},
     "output_type": "execute_result"
    }
   ],
   "source": [
    "arr_zeros = np.zeros(shape=(2,3))    # faqat nol li array\n",
    "arr_zeros"
   ]
  },
  {
   "cell_type": "code",
   "execution_count": 19,
   "id": "77343376",
   "metadata": {},
   "outputs": [
    {
     "data": {
      "text/plain": [
       "array([[1., 1.],\n",
       "       [1., 1.],\n",
       "       [1., 1.]])"
      ]
     },
     "execution_count": 19,
     "metadata": {},
     "output_type": "execute_result"
    }
   ],
   "source": [
    "arr_ones = np.ones(shape=(3,2))      # faqat 1 lik array\n",
    "arr_ones"
   ]
  },
  {
   "cell_type": "code",
   "execution_count": 20,
   "id": "48ebeffb",
   "metadata": {},
   "outputs": [
    {
     "data": {
      "text/plain": [
       "array([[1., 0., 0.],\n",
       "       [0., 1., 0.],\n",
       "       [0., 0., 1.]])"
      ]
     },
     "execution_count": 20,
     "metadata": {},
     "output_type": "execute_result"
    }
   ],
   "source": [
    "arr_eyes = np.eye(3)     # 3x3 diagonal birlik array\n",
    "arr_eyes"
   ]
  },
  {
   "cell_type": "code",
   "execution_count": 21,
   "id": "3d98f290",
   "metadata": {},
   "outputs": [
    {
     "data": {
      "text/plain": [
       "array([[5, 5, 5],\n",
       "       [5, 5, 5]])"
      ]
     },
     "execution_count": 21,
     "metadata": {},
     "output_type": "execute_result"
    }
   ],
   "source": [
    "arr_full = np.full((2,3), 5)  # 2x3  '5' lik array\n",
    "arr_full"
   ]
  },
  {
   "cell_type": "code",
   "execution_count": 22,
   "id": "7b79742b",
   "metadata": {},
   "outputs": [
    {
     "data": {
      "text/plain": [
       "array([[0.32733816, 0.10517561, 0.84229651],\n",
       "       [0.82897194, 0.95778525, 0.67652699]])"
      ]
     },
     "execution_count": 22,
     "metadata": {},
     "output_type": "execute_result"
    }
   ],
   "source": [
    "arr_random = np.random.rand(2,3)  # 0 ~ 1 gacha range da 2x3 array \n",
    "arr_random"
   ]
  },
  {
   "cell_type": "code",
   "execution_count": 23,
   "id": "a51ee5e6",
   "metadata": {},
   "outputs": [
    {
     "data": {
      "text/plain": [
       "array([[8, 3, 4],\n",
       "       [3, 8, 3],\n",
       "       [8, 5, 4]])"
      ]
     },
     "execution_count": 23,
     "metadata": {},
     "output_type": "execute_result"
    }
   ],
   "source": [
    "arr_rand_integer = np.random.randint(1,10, size=(3,3))   # 1 ~ 10 gacha rangeda integer   li 3x3 shape array. 'size' bu yerda 'shape' \n",
    "arr_rand_integer"
   ]
  },
  {
   "cell_type": "code",
   "execution_count": 24,
   "id": "310397ee",
   "metadata": {},
   "outputs": [
    {
     "data": {
      "text/plain": [
       "(3, 3)"
      ]
     },
     "execution_count": 24,
     "metadata": {},
     "output_type": "execute_result"
    }
   ],
   "source": [
    "arr_rand_integer.shape"
   ]
  },
  {
   "cell_type": "code",
   "execution_count": 25,
   "id": "b8687df3",
   "metadata": {},
   "outputs": [
    {
     "data": {
      "text/plain": [
       "array([[-0.13034621, -0.65369066,  1.53009263],\n",
       "       [-1.3631815 , -0.99355364, -1.1327487 ]])"
      ]
     },
     "execution_count": 25,
     "metadata": {},
     "output_type": "execute_result"
    }
   ],
   "source": [
    "arr_rand_normal = np.random.randn(2,3) # normal distribution li 2x3 array    \n",
    "arr_rand_normal"
   ]
  },
  {
   "cell_type": "code",
   "execution_count": 26,
   "id": "3a71bfe3",
   "metadata": {},
   "outputs": [
    {
     "data": {
      "text/plain": [
       "array([ 0.,  5., 10.])"
      ]
     },
     "execution_count": 26,
     "metadata": {},
     "output_type": "execute_result"
    }
   ],
   "source": [
    "arr7 = np.linspace(0,10, 3)    # (0,10) range da teng oraliqdagi 3 ta raqam (float)\n",
    "arr7"
   ]
  },
  {
   "cell_type": "markdown",
   "id": "8ea67ea2",
   "metadata": {},
   "source": [
    "#6. Massivlar yaratishda ma'lumot turlarini aniq kiritish, ma'lumot turlarini aniqlash, bir turdagi ma'lumot turidan ikkinchi turdagi ma'lumot turiga o'girish"
   ]
  },
  {
   "cell_type": "markdown",
   "id": "afafc299",
   "metadata": {},
   "source": [
    "\n",
    "    i - integer                                        int8, int16, int32, int64\n",
    "    b - boolean                                        true/flase   bool_\n",
    "    u - unsigned integer                               uint8, uint16, uint32, uint64\n",
    "    f - float                                          float16, float32, float64, float128\n",
    "    c - complex float                                  complex64, complex128, complex256\n",
    "    m - timedelta                                      timedelta64\n",
    "    M - datetime                                       datetime64\n",
    "    O - object                                         object_\n",
    "    S - string                                         S10 = string of max length 10 bytes\n",
    "    U - unicode string                                 U10 = string of max length 10 chars\n",
    "    V - fixed chunk of memory for other type (void)  V8 = 8-byte record\n"
   ]
  },
  {
   "cell_type": "code",
   "execution_count": 27,
   "id": "fd7ca3a6",
   "metadata": {},
   "outputs": [
    {
     "data": {
      "text/plain": [
       "array(['olma', 'behi', 'anor'], dtype='<U4')"
      ]
     },
     "execution_count": 27,
     "metadata": {},
     "output_type": "execute_result"
    }
   ],
   "source": [
    "arr8 = np.array(['olma', 'behi', 'anor'])\n",
    "arr8                                         # maximum 4ta belgili unicode string dtype "
   ]
  },
  {
   "cell_type": "code",
   "execution_count": 28,
   "id": "6e783811",
   "metadata": {},
   "outputs": [
    {
     "data": {
      "text/plain": [
       "array([ 0.,  1.,  2.,  3.,  4.,  5.,  6.,  7.,  8.,  9., 10., 11., 12.,\n",
       "       13., 14., 15., 16., 17., 18., 19., 20., 21., 22., 23., 24., 25.,\n",
       "       26., 27., 28., 29., 30., 31., 32., 33., 34., 35., 36., 37., 38.,\n",
       "       39., 40., 41., 42., 43., 44., 45., 46., 47., 48., 49., 50., 51.,\n",
       "       52., 53., 54., 55., 56., 57., 58., 59., 60., 61., 62., 63., 64.,\n",
       "       65., 66., 67., 68., 69., 70., 71., 72., 73., 74., 75., 76., 77.,\n",
       "       78., 79., 80., 81., 82., 83., 84., 85., 86., 87., 88., 89., 90.,\n",
       "       91., 92., 93., 94., 95., 96., 97., 98., 99.], dtype=float16)"
      ]
     },
     "execution_count": 28,
     "metadata": {},
     "output_type": "execute_result"
    }
   ],
   "source": [
    "arr9 = np.array(my_list, dtype='float16')    # array dtype ni belgilab ketish\n",
    "arr9"
   ]
  },
  {
   "cell_type": "markdown",
   "id": "ef605418",
   "metadata": {},
   "source": [
    "#7.Bir turdagi ma'lumot turidan boshqasiga o'girish"
   ]
  },
  {
   "cell_type": "code",
   "execution_count": 29,
   "id": "1b6a599d",
   "metadata": {},
   "outputs": [
    {
     "data": {
      "text/plain": [
       "dtype('float16')"
      ]
     },
     "execution_count": 29,
     "metadata": {},
     "output_type": "execute_result"
    }
   ],
   "source": [
    "arr9.dtype"
   ]
  },
  {
   "cell_type": "code",
   "execution_count": 30,
   "id": "6de77b4d",
   "metadata": {},
   "outputs": [
    {
     "data": {
      "text/plain": [
       "dtype('int16')"
      ]
     },
     "execution_count": 30,
     "metadata": {},
     "output_type": "execute_result"
    }
   ],
   "source": [
    "arr10 = arr9.astype('int16')    # change arr10 dtype from float16 to int16\n",
    "arr10.dtype"
   ]
  },
  {
   "cell_type": "code",
   "execution_count": 31,
   "id": "793b1a14",
   "metadata": {},
   "outputs": [
    {
     "data": {
      "text/plain": [
       "2"
      ]
     },
     "execution_count": 31,
     "metadata": {},
     "output_type": "execute_result"
    }
   ],
   "source": [
    "arr11 = np.array([1,2,3], dtype='float16')\n",
    "arr11.itemsize    # array 1ta elementini byte dagi o'lchovi. dtype ga bogliq uzgaradi"
   ]
  },
  {
   "cell_type": "code",
   "execution_count": 32,
   "id": "efd1d8fc",
   "metadata": {},
   "outputs": [
    {
     "data": {
      "text/plain": [
       "6"
      ]
     },
     "execution_count": 32,
     "metadata": {},
     "output_type": "execute_result"
    }
   ],
   "source": [
    "arr11.nbytes  # array ni memory dagi joy olishi.    nybytes  = itemsize*shape"
   ]
  },
  {
   "cell_type": "markdown",
   "id": "9c26c899",
   "metadata": {},
   "source": [
    "#8. N-o'lchamli massiv (array)larga ishlov berish\n",
    "\n",
    " Indeks va kesib olish asoslari"
   ]
  },
  {
   "cell_type": "code",
   "execution_count": 33,
   "id": "069388c6",
   "metadata": {},
   "outputs": [
    {
     "data": {
      "text/plain": [
       "array([ 0,  5, 10, 15, 20, 25, 30, 35, 40, 45, 50, 55, 60, 65, 70, 75, 80,\n",
       "       85, 90, 95])"
      ]
     },
     "execution_count": 33,
     "metadata": {},
     "output_type": "execute_result"
    }
   ],
   "source": [
    "arr12 = np.arange(0,100,5)\n",
    "arr12"
   ]
  },
  {
   "cell_type": "code",
   "execution_count": 34,
   "id": "bd3c06f2",
   "metadata": {},
   "outputs": [
    {
     "data": {
      "text/plain": [
       "20"
      ]
     },
     "execution_count": 34,
     "metadata": {},
     "output_type": "execute_result"
    }
   ],
   "source": [
    "arr12.size"
   ]
  },
  {
   "cell_type": "code",
   "execution_count": 35,
   "id": "a83a3f4f",
   "metadata": {},
   "outputs": [
    {
     "data": {
      "text/plain": [
       "array([25, 30, 35, 40, 45, 50, 55, 60, 65, 70])"
      ]
     },
     "execution_count": 35,
     "metadata": {},
     "output_type": "execute_result"
    }
   ],
   "source": [
    "arr12[5:15]             # array slice [5:15]"
   ]
  },
  {
   "cell_type": "markdown",
   "id": "8293f177",
   "metadata": {},
   "source": [
    "#9. `copy` usuli haqida"
   ]
  },
  {
   "cell_type": "code",
   "execution_count": 36,
   "id": "08d61f19",
   "metadata": {},
   "outputs": [
    {
     "data": {
      "text/plain": [
       "array([ 0,  5, 10, 15, 20, 25, 30, 35, 40, 45, 50, 55, 60, 65, 70, 75, 80,\n",
       "       85, 90, 95])"
      ]
     },
     "execution_count": 36,
     "metadata": {},
     "output_type": "execute_result"
    }
   ],
   "source": [
    "arr13 = arr12.copy()   # arraydan copy olish\n",
    "arr13"
   ]
  },
  {
   "cell_type": "markdown",
   "id": "cb5bf591",
   "metadata": {},
   "source": [
    "#10. 2 o'lchamli (2d array) massivlarda indeks va kesib olish"
   ]
  },
  {
   "cell_type": "code",
   "execution_count": 37,
   "id": "af9b41a3",
   "metadata": {},
   "outputs": [
    {
     "data": {
      "text/plain": [
       "array([[ 0,  5, 10, 15, 20],\n",
       "       [25, 30, 35, 40, 45],\n",
       "       [50, 55, 60, 65, 70],\n",
       "       [75, 80, 85, 90, 95]])"
      ]
     },
     "execution_count": 37,
     "metadata": {},
     "output_type": "execute_result"
    }
   ],
   "source": [
    "arr14 = np.arange(0,100,5)\n",
    "arr14_2d = arr14.reshape(4,5)    # check array size. size must be equal to col*row\n",
    "arr14_2d"
   ]
  },
  {
   "cell_type": "code",
   "execution_count": null,
   "id": "d868b12b",
   "metadata": {},
   "outputs": [
    {
     "data": {
      "text/plain": [
       "95"
      ]
     },
     "execution_count": 47,
     "metadata": {},
     "output_type": "execute_result"
    }
   ],
   "source": [
    "arr14_2d[-1,-1]    # oxirgi row dagi oxirgi element"
   ]
  },
  {
   "cell_type": "markdown",
   "id": "ebea6e5b",
   "metadata": {},
   "source": [
    "#11. 2-o'lchamli massivlarning bir nechta elementlarini kesib olish"
   ]
  },
  {
   "cell_type": "code",
   "execution_count": null,
   "id": "a52731c0",
   "metadata": {},
   "outputs": [
    {
     "data": {
      "text/plain": [
       "array([25, 30, 35, 40, 45])"
      ]
     },
     "execution_count": 48,
     "metadata": {},
     "output_type": "execute_result"
    }
   ],
   "source": [
    "arr14_2d[1, :]     # 2 qator hammasi"
   ]
  },
  {
   "cell_type": "code",
   "execution_count": null,
   "id": "c2ef5ed5",
   "metadata": {},
   "outputs": [
    {
     "data": {
      "text/plain": [
       "array([[40, 45],\n",
       "       [65, 70],\n",
       "       [90, 95]])"
      ]
     },
     "execution_count": 49,
     "metadata": {},
     "output_type": "execute_result"
    }
   ],
   "source": [
    "arr14_2d[1:, 3:]   # 2-qatordan oxirigacha 4-ustundan oxirigacha joylashgan elementlar"
   ]
  },
  {
   "cell_type": "code",
   "execution_count": null,
   "id": "13d74595",
   "metadata": {},
   "outputs": [
    {
     "data": {
      "text/plain": [
       "array([[ 0, 10, 20],\n",
       "       [50, 60, 70]])"
      ]
     },
     "execution_count": 51,
     "metadata": {},
     "output_type": "execute_result"
    }
   ],
   "source": [
    "arr14_2d[0::2,0::2]  # 0 qatordan oxirgacha 2step bn 0 ustundan oxirgacha 2step bn joylashgan elementlar"
   ]
  },
  {
   "cell_type": "markdown",
   "id": "ef7a430c",
   "metadata": {},
   "source": [
    "#12. 3-o'lchamli massivlarda indeks va kesib olish asoslari"
   ]
  },
  {
   "cell_type": "code",
   "execution_count": null,
   "id": "13a6f74a",
   "metadata": {},
   "outputs": [
    {
     "data": {
      "text/plain": [
       "array([[[ 0,  1,  2],\n",
       "        [ 3,  4,  5],\n",
       "        [ 6,  7,  8]],\n",
       "\n",
       "       [[ 9, 10, 11],\n",
       "        [12, 13, 14],\n",
       "        [15, 16, 17]],\n",
       "\n",
       "       [[18, 19, 20],\n",
       "        [21, 22, 23],\n",
       "        [24, 25, 26]]])"
      ]
     },
     "execution_count": 60,
     "metadata": {},
     "output_type": "execute_result"
    }
   ],
   "source": [
    "arr15 = np.arange(27)  \n",
    "arr15_3d = arr15.reshape(3,3,3)  # reshape 1D to 3D . array size (27) = block*row*col (3x3x3)\n",
    "arr15_3d"
   ]
  },
  {
   "cell_type": "code",
   "execution_count": null,
   "id": "3f26aa38",
   "metadata": {},
   "outputs": [
    {
     "data": {
      "text/plain": [
       "13"
      ]
     },
     "execution_count": 61,
     "metadata": {},
     "output_type": "execute_result"
    }
   ],
   "source": [
    "arr15_3d[1,1,1]   # = arr15_3d[1][1,1]  2-blok 2-qator 2 -ustundagi element "
   ]
  },
  {
   "cell_type": "code",
   "execution_count": 78,
   "id": "3511988e",
   "metadata": {},
   "outputs": [
    {
     "data": {
      "text/plain": [
       "array([[[ 0,  1,  2],\n",
       "        [ 3,  4,  5],\n",
       "        [ 6,  7,  8]],\n",
       "\n",
       "       [[18, 19, 20],\n",
       "        [21, 22, 23],\n",
       "        [24, 25, 26]]])"
      ]
     },
     "execution_count": 78,
     "metadata": {},
     "output_type": "execute_result"
    }
   ],
   "source": [
    "arr15_3d[::2]"
   ]
  },
  {
   "cell_type": "code",
   "execution_count": null,
   "id": "3c64388d",
   "metadata": {},
   "outputs": [
    {
     "data": {
      "text/plain": [
       "array([[[ 0,  1,  2],\n",
       "        [ 6,  7,  8]],\n",
       "\n",
       "       [[18, 19, 20],\n",
       "        [24, 25, 26]]])"
      ]
     },
     "execution_count": 77,
     "metadata": {},
     "output_type": "execute_result"
    }
   ],
   "source": [
    "arr15_3d[::2][:,::2] # [::2] hamma blokdan 2step bn blok oladi [:,::2] qolgan blok dan 2step bn row larni oladi "
   ]
  },
  {
   "cell_type": "code",
   "execution_count": 80,
   "id": "31536ba8",
   "metadata": {},
   "outputs": [
    {
     "data": {
      "text/plain": [
       "array([[[ 4,  5],\n",
       "        [ 7,  8]],\n",
       "\n",
       "       [[13, 14],\n",
       "        [16, 17]],\n",
       "\n",
       "       [[22, 23],\n",
       "        [25, 26]]])"
      ]
     },
     "execution_count": 80,
     "metadata": {},
     "output_type": "execute_result"
    }
   ],
   "source": [
    "arr15_3d[:, 1:, 1: ]"
   ]
  },
  {
   "cell_type": "code",
   "execution_count": 81,
   "id": "52d9e296",
   "metadata": {},
   "outputs": [
    {
     "data": {
      "text/plain": [
       "array([[[12, 13],\n",
       "        [15, 16]],\n",
       "\n",
       "       [[21, 22],\n",
       "        [24, 25]]])"
      ]
     },
     "execution_count": 81,
     "metadata": {},
     "output_type": "execute_result"
    }
   ],
   "source": [
    "arr15_3d[1:3, 1:3, :2]"
   ]
  },
  {
   "cell_type": "markdown",
   "id": "3db8da06",
   "metadata": {},
   "source": [
    "#13. Matematik va Statistik usullarni qo'llash\n",
    " `sum` metodi"
   ]
  },
  {
   "cell_type": "code",
   "execution_count": null,
   "id": "6b2f2c01",
   "metadata": {},
   "outputs": [
    {
     "data": {
      "text/plain": [
       "351"
      ]
     },
     "execution_count": 82,
     "metadata": {},
     "output_type": "execute_result"
    }
   ],
   "source": [
    "arr15_3d.sum()  # arr ning barcha elementlarni yig'indisini hisoblab beradi\n"
   ]
  },
  {
   "cell_type": "code",
   "execution_count": null,
   "id": "1dfa1046",
   "metadata": {},
   "outputs": [
    {
     "data": {
      "text/plain": [
       "array([ 90, 117, 144])"
      ]
     },
     "execution_count": 84,
     "metadata": {},
     "output_type": "execute_result"
    }
   ],
   "source": [
    "arr15_3d.sum(axis=(0,2)) # row sums across whole 3D array"
   ]
  },
  {
   "cell_type": "code",
   "execution_count": 88,
   "id": "8e48c2c4",
   "metadata": {},
   "outputs": [
    {
     "data": {
      "text/plain": [
       "array([[ 3, 12, 21],\n",
       "       [30, 39, 48],\n",
       "       [57, 66, 75]])"
      ]
     },
     "execution_count": 88,
     "metadata": {},
     "output_type": "execute_result"
    }
   ],
   "source": [
    "arr15_3d.sum(axis=2) # xar bitta row ning yigindisi"
   ]
  },
  {
   "cell_type": "code",
   "execution_count": 89,
   "id": "846c01b9",
   "metadata": {},
   "outputs": [
    {
     "data": {
      "text/plain": [
       "array([108, 117, 126])"
      ]
     },
     "execution_count": 89,
     "metadata": {},
     "output_type": "execute_result"
    }
   ],
   "source": [
    "arr15_3d.sum(axis=(0,1)) #  column sums across the whole 3D array"
   ]
  },
  {
   "cell_type": "code",
   "execution_count": null,
   "id": "01f289d2",
   "metadata": {},
   "outputs": [
    {
     "data": {
      "text/plain": [
       "array([[ 9, 12, 15],\n",
       "       [36, 39, 42],\n",
       "       [63, 66, 69]])"
      ]
     },
     "execution_count": 90,
     "metadata": {},
     "output_type": "execute_result"
    }
   ],
   "source": [
    "arr15_3d.sum(axis=1) # xar bitta col  ning yigindisi"
   ]
  },
  {
   "cell_type": "markdown",
   "id": "274f0434",
   "metadata": {},
   "source": [
    "#14. `mean` metodi"
   ]
  },
  {
   "cell_type": "code",
   "execution_count": 96,
   "id": "371e84bc",
   "metadata": {},
   "outputs": [
    {
     "data": {
      "text/plain": [
       "array([0, 1, 2, 3, 4])"
      ]
     },
     "execution_count": 96,
     "metadata": {},
     "output_type": "execute_result"
    }
   ],
   "source": [
    "# sodda ma'lumot\n",
    "# code # 0 ~ 5 gacha bo'lgan elementlarda tashkil topgan massiv\n",
    "\n",
    "arr16 = np.arange(5)\n",
    "arr16"
   ]
  },
  {
   "cell_type": "code",
   "execution_count": 97,
   "id": "d160a6dc",
   "metadata": {},
   "outputs": [
    {
     "data": {
      "text/plain": [
       "2.0"
      ]
     },
     "execution_count": 97,
     "metadata": {},
     "output_type": "execute_result"
    }
   ],
   "source": [
    "arr16.mean() # numpy mean"
   ]
  },
  {
   "cell_type": "code",
   "execution_count": 99,
   "id": "d7d1c0a2",
   "metadata": {},
   "outputs": [
    {
     "data": {
      "text/plain": [
       "array([[[ 0,  1,  2],\n",
       "        [ 3,  4,  5],\n",
       "        [ 6,  7,  8]],\n",
       "\n",
       "       [[ 9, 10, 11],\n",
       "        [12, 13, 14],\n",
       "        [15, 16, 17]],\n",
       "\n",
       "       [[18, 19, 20],\n",
       "        [21, 22, 23],\n",
       "        [24, 25, 26]]])"
      ]
     },
     "execution_count": 99,
     "metadata": {},
     "output_type": "execute_result"
    }
   ],
   "source": [
    "arr15_3d"
   ]
  },
  {
   "cell_type": "code",
   "execution_count": 98,
   "id": "c7544790",
   "metadata": {},
   "outputs": [
    {
     "data": {
      "text/plain": [
       "13.0"
      ]
     },
     "execution_count": 98,
     "metadata": {},
     "output_type": "execute_result"
    }
   ],
   "source": [
    "arr15_3d.mean() # arr ning o'rtacha qiymati"
   ]
  },
  {
   "cell_type": "code",
   "execution_count": null,
   "id": "c70d3ff2",
   "metadata": {},
   "outputs": [
    {
     "data": {
      "text/plain": [
       "array([[ 1.,  4.,  7.],\n",
       "       [10., 13., 16.],\n",
       "       [19., 22., 25.]])"
      ]
     },
     "execution_count": 101,
     "metadata": {},
     "output_type": "execute_result"
    }
   ],
   "source": [
    "arr15_3d.mean(axis=2)  # xar bir row uchun mean "
   ]
  },
  {
   "cell_type": "code",
   "execution_count": null,
   "id": "2365985f",
   "metadata": {},
   "outputs": [
    {
     "data": {
      "text/plain": [
       "array([10., 13., 16.])"
      ]
     },
     "execution_count": 100,
     "metadata": {},
     "output_type": "execute_result"
    }
   ],
   "source": [
    "arr15_3d.mean(axis=(0,2)) # jami qatorlar bo'yich o'rtach qiymat"
   ]
  },
  {
   "cell_type": "code",
   "execution_count": 102,
   "id": "24dd1416",
   "metadata": {},
   "outputs": [
    {
     "data": {
      "text/plain": [
       "array([[ 3.,  4.,  5.],\n",
       "       [12., 13., 14.],\n",
       "       [21., 22., 23.]])"
      ]
     },
     "execution_count": 102,
     "metadata": {},
     "output_type": "execute_result"
    }
   ],
   "source": [
    "arr15_3d.mean(axis=1)  # xar bir ustun bo'yicha o'rtacha qiymat"
   ]
  },
  {
   "cell_type": "code",
   "execution_count": 103,
   "id": "5882cd50",
   "metadata": {},
   "outputs": [
    {
     "data": {
      "text/plain": [
       "array([12., 13., 14.])"
      ]
     },
     "execution_count": 103,
     "metadata": {},
     "output_type": "execute_result"
    }
   ],
   "source": [
    "arr15_3d.mean(axis=(0,1)) # jami ustunlar bo'yich o'rtach qiymat"
   ]
  },
  {
   "cell_type": "markdown",
   "id": "c2a2c216",
   "metadata": {},
   "source": [
    "#15. `cumsum` metodi"
   ]
  },
  {
   "cell_type": "code",
   "execution_count": null,
   "id": "0695984d",
   "metadata": {},
   "outputs": [
    {
     "data": {
      "text/plain": [
       "array([  0,   1,   3,   6,  10,  15,  21,  28,  36,  45,  55,  66,  78,\n",
       "        91, 105, 120, 136, 153, 171, 190, 210, 231, 253, 276, 300, 325,\n",
       "       351])"
      ]
     },
     "execution_count": 104,
     "metadata": {},
     "output_type": "execute_result"
    }
   ],
   "source": [
    " #cumilative sum\n",
    "arr15_3d.cumsum()\n"
   ]
  },
  {
   "cell_type": "code",
   "execution_count": null,
   "id": "c7c2fad8",
   "metadata": {},
   "outputs": [
    {
     "data": {
      "text/plain": [
       "array([[2.5, 2.5],\n",
       "       [2.5, 2.5]])"
      ]
     },
     "execution_count": 135,
     "metadata": {},
     "output_type": "execute_result"
    }
   ],
   "source": [
    " #calculate the covariance                  3d Shape = (3, 3, 3) → (depth, rows, cols).\n",
    "cov_arr = np.arange(10).reshape(2,5)       \n",
    "cov = np.cov(cov_arr)\n",
    "cov"
   ]
  },
  {
   "cell_type": "markdown",
   "id": "9f187801",
   "metadata": {},
   "source": [
    "### N-o'lchamli massiv (array)larga ishlov berish\n",
    "\n",
    "#16. Bolean Indekslash"
   ]
  },
  {
   "cell_type": "code",
   "execution_count": 110,
   "id": "f1b0bfc1",
   "metadata": {},
   "outputs": [],
   "source": [
    "# Ismlar\n",
    "names = np.array(['Hasan', 'Husan', 'Mirzabek', 'Elyor', 'Hasan', 'Javohir', 'Elyor'])"
   ]
  },
  {
   "cell_type": "markdown",
   "id": "d89dce96",
   "metadata": {},
   "source": [
    "###   Massivga yo'naltirilgan dasturlash. Mantiqiy shart operatorlarni massiv operator sifatida qo'llash"
   ]
  },
  {
   "cell_type": "markdown",
   "id": "41df2b21",
   "metadata": {},
   "source": [
    "#17. Shart operatori sifatida `where` dan foydalanish"
   ]
  },
  {
   "cell_type": "code",
   "execution_count": null,
   "id": "e4d6200b",
   "metadata": {},
   "outputs": [
    {
     "data": {
      "text/plain": [
       "(array([0, 4], dtype=int64),)"
      ]
     },
     "execution_count": 113,
     "metadata": {},
     "output_type": "execute_result"
    }
   ],
   "source": [
    "a = np.where(names == 'Hasan')    \n",
    "a"
   ]
  },
  {
   "cell_type": "markdown",
   "id": "12a1d69d",
   "metadata": {},
   "source": [
    "###. Tassavur qiling bizda ikkita ma'lumotlar (massivlar) mavjud bular: `xarr` va `yarr`. Agarda shart `True`ni qanoatlantirsa `xarr` elementini qabul qilgan aksincha esa `yarr` elementini qabul qilgan yangi massiv hosil qilinsin."
   ]
  },
  {
   "cell_type": "code",
   "execution_count": 114,
   "id": "39f0dbf5",
   "metadata": {},
   "outputs": [],
   "source": [
    "# Massivlar\n",
    "xarr = np.array([1.1, 1.2, 1.3, 1.4, 1.5]) # xarr\n",
    "yarr = np.array([2.1, 2.2, 2.3, 2.4, 2.5]) # yarr"
   ]
  },
  {
   "cell_type": "code",
   "execution_count": 115,
   "id": "039edaa6",
   "metadata": {},
   "outputs": [],
   "source": [
    "# Shart\n",
    "cond = np.array([True, False, True, True, False])"
   ]
  },
  {
   "cell_type": "code",
   "execution_count": 116,
   "id": "a7a8db16",
   "metadata": {},
   "outputs": [
    {
     "data": {
      "text/plain": [
       "array([1.1, 2.2, 1.3, 1.4, 2.5])"
      ]
     },
     "execution_count": 116,
     "metadata": {},
     "output_type": "execute_result"
    }
   ],
   "source": [
    "# where\n",
    "new_arr = np.where(cond,xarr,yarr)\n",
    "new_arr"
   ]
  },
  {
   "cell_type": "markdown",
   "id": "66531758",
   "metadata": {},
   "source": [
    "###  N-o'lchamli massiv (array)larga ishlov berish. Massivlar pozitsiyasini ko'chirish `Transpose` va o'qlar o'rnini almashtirish `Swapping axes`"
   ]
  },
  {
   "cell_type": "markdown",
   "id": "c7e6cf7e",
   "metadata": {},
   "source": [
    "#18.`reshape` metodi"
   ]
  },
  {
   "cell_type": "code",
   "execution_count": null,
   "id": "b0197dbe",
   "metadata": {},
   "outputs": [
    {
     "data": {
      "text/plain": [
       "array([[ 0,  1,  2,  3,  4],\n",
       "       [ 5,  6,  7,  8,  9],\n",
       "       [10, 11, 12, 13, 14],\n",
       "       [15, 16, 17, 18, 19]])"
      ]
     },
     "execution_count": 123,
     "metadata": {},
     "output_type": "execute_result"
    }
   ],
   "source": [
    "arr18 = np.arange(20)\n",
    "\n",
    "arr18_2d = arr18.reshape(4,5)         # 1d to 2d      size = row x col\n",
    "arr18_2d"
   ]
  },
  {
   "cell_type": "markdown",
   "id": "e7bd3961",
   "metadata": {},
   "source": [
    "#19. `Transpose`"
   ]
  },
  {
   "cell_type": "code",
   "execution_count": null,
   "id": "72ed5f2c",
   "metadata": {},
   "outputs": [
    {
     "data": {
      "text/plain": [
       "array([[ 0,  5, 10, 15],\n",
       "       [ 1,  6, 11, 16],\n",
       "       [ 2,  7, 12, 17],\n",
       "       [ 3,  8, 13, 18],\n",
       "       [ 4,  9, 14, 19]])"
      ]
     },
     "execution_count": 125,
     "metadata": {},
     "output_type": "execute_result"
    }
   ],
   "source": [
    "arr18_2d.T     # transpose "
   ]
  },
  {
   "cell_type": "markdown",
   "id": "626ab375",
   "metadata": {},
   "source": [
    "#20. `swaping axes`"
   ]
  },
  {
   "cell_type": "code",
   "execution_count": 129,
   "id": "f0b7d3b0",
   "metadata": {},
   "outputs": [
    {
     "data": {
      "text/plain": [
       "array([[ 0,  5, 10, 15],\n",
       "       [ 1,  6, 11, 16],\n",
       "       [ 2,  7, 12, 17],\n",
       "       [ 3,  8, 13, 18],\n",
       "       [ 4,  9, 14, 19]])"
      ]
     },
     "execution_count": 129,
     "metadata": {},
     "output_type": "execute_result"
    }
   ],
   "source": [
    "swap_arr = np.swapaxes(arr18_2d, 0 , 1)     # transpose ga uxshash\n",
    "swap_arr"
   ]
  },
  {
   "cell_type": "markdown",
   "id": "a632a2f4",
   "metadata": {},
   "source": [
    "#21. `Tranpose`ning ishlatilinishiga bir misol $A A^T$"
   ]
  },
  {
   "cell_type": "code",
   "execution_count": 130,
   "id": "8bc4890c",
   "metadata": {},
   "outputs": [
    {
     "data": {
      "text/plain": [
       "array([[  30,   80,  130,  180],\n",
       "       [  80,  255,  430,  605],\n",
       "       [ 130,  430,  730, 1030],\n",
       "       [ 180,  605, 1030, 1455]])"
      ]
     },
     "execution_count": 130,
     "metadata": {},
     "output_type": "execute_result"
    }
   ],
   "source": [
    "np.dot(arr18_2d, arr18_2d.T) # AA^T hosil bo'lgan massiv"
   ]
  },
  {
   "cell_type": "code",
   "execution_count": 138,
   "id": "30328ea3",
   "metadata": {},
   "outputs": [
    {
     "data": {
      "text/plain": [
       "array([], shape=(0, 2, 4, 6, 8), dtype=float64)"
      ]
     },
     "execution_count": 138,
     "metadata": {},
     "output_type": "execute_result"
    }
   ],
   "source": [
    "\n",
    "s = np.ndarray(list(range(0,10,2)))\n",
    "s"
   ]
  },
  {
   "cell_type": "code",
   "execution_count": null,
   "id": "b05b54bc",
   "metadata": {},
   "outputs": [
    {
     "data": {
      "text/plain": [
       "array([0, 2, 4, 6, 8])"
      ]
     },
     "execution_count": 141,
     "metadata": {},
     "output_type": "execute_result"
    }
   ],
   "source": [
    "b = np.arange(0:10,2)\n",
    "b"
   ]
  },
  {
   "cell_type": "code",
   "execution_count": null,
   "id": "41797a49",
   "metadata": {},
   "outputs": [],
   "source": []
  }
 ],
 "metadata": {
  "kernelspec": {
   "display_name": "bike_venv",
   "language": "python",
   "name": "python3"
  },
  "language_info": {
   "codemirror_mode": {
    "name": "ipython",
    "version": 3
   },
   "file_extension": ".py",
   "mimetype": "text/x-python",
   "name": "python",
   "nbconvert_exporter": "python",
   "pygments_lexer": "ipython3",
   "version": "3.11.13"
  }
 },
 "nbformat": 4,
 "nbformat_minor": 5
}
