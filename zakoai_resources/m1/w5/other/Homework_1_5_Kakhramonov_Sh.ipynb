{
  "nbformat": 4,
  "nbformat_minor": 0,
  "metadata": {
    "colab": {
      "provenance": []
    },
    "kernelspec": {
      "name": "python3",
      "display_name": "Python 3"
    },
    "language_info": {
      "name": "python"
    }
  },
  "cells": [
    {
      "cell_type": "code",
      "source": [
        "# Chiziqli algebra asoslari va uni numpyda qullanilishi\n",
        "# 5-dars\n",
        "# Numpy"
      ],
      "metadata": {
        "id": "ddK-knS-cj4J"
      },
      "execution_count": null,
      "outputs": []
    },
    {
      "cell_type": "code",
      "source": [
        "import numpy as np"
      ],
      "metadata": {
        "id": "mxM6lTfIcj6H"
      },
      "execution_count": 1,
      "outputs": []
    },
    {
      "cell_type": "code",
      "source": [
        "# tezlikdagi farqi\n",
        "my_list = list(range(10000)) #0, 10000 list\n",
        "#my_list\n",
        "my_array = np.arange(10000) #0, 10000 array\n",
        "my_array"
      ],
      "metadata": {
        "colab": {
          "base_uri": "https://localhost:8080/"
        },
        "id": "ybV_-07Gcj8h",
        "outputId": "65670667-cb89-4c68-d7a5-199bb0b5be0a"
      },
      "execution_count": null,
      "outputs": [
        {
          "output_type": "execute_result",
          "data": {
            "text/plain": [
              "array([   0,    1,    2, ..., 9997, 9998, 9999])"
            ]
          },
          "metadata": {},
          "execution_count": 6
        }
      ]
    },
    {
      "cell_type": "code",
      "source": [
        "%%time\n",
        "for _ in range(100): [x*2 for x in my_list] # Normal"
      ],
      "metadata": {
        "id": "wOIFqYXCcj-f",
        "colab": {
          "base_uri": "https://localhost:8080/"
        },
        "outputId": "f6b107dd-407c-4bba-b393-ba82fbc9a672"
      },
      "execution_count": null,
      "outputs": [
        {
          "output_type": "stream",
          "name": "stdout",
          "text": [
            "CPU times: user 33.4 ms, sys: 0 ns, total: 33.4 ms\n",
            "Wall time: 33.4 ms\n"
          ]
        }
      ]
    },
    {
      "cell_type": "code",
      "source": [
        "%%time\n",
        "for _ in range(100): my_array * 2 # with Numpy"
      ],
      "metadata": {
        "colab": {
          "base_uri": "https://localhost:8080/"
        },
        "id": "2bn5kUPWckD0",
        "outputId": "75f3d0a4-20ce-420a-9a2c-74538c0cfcf5"
      },
      "execution_count": null,
      "outputs": [
        {
          "output_type": "stream",
          "name": "stdout",
          "text": [
            "CPU times: user 1.88 ms, sys: 6 µs, total: 1.88 ms\n",
            "Wall time: 1.64 ms\n"
          ]
        }
      ]
    },
    {
      "cell_type": "code",
      "source": [
        "l1 = [1,2,3]\n",
        "l1 * 2"
      ],
      "metadata": {
        "colab": {
          "base_uri": "https://localhost:8080/"
        },
        "id": "Bj5fTVxtISfq",
        "outputId": "256a2aac-ad19-4761-f541-c1c258cae878"
      },
      "execution_count": null,
      "outputs": [
        {
          "output_type": "execute_result",
          "data": {
            "text/plain": [
              "[1, 2, 3, 1, 2, 3]"
            ]
          },
          "metadata": {},
          "execution_count": 16
        }
      ]
    },
    {
      "cell_type": "code",
      "source": [
        "ar1 = np.array([1,2,3])\n",
        "ar1 * 2"
      ],
      "metadata": {
        "colab": {
          "base_uri": "https://localhost:8080/"
        },
        "id": "CrMVyX3EISi3",
        "outputId": "d239eb5a-cdea-4ea2-a95f-29c204339639"
      },
      "execution_count": null,
      "outputs": [
        {
          "output_type": "execute_result",
          "data": {
            "text/plain": [
              "array([2, 4, 6])"
            ]
          },
          "metadata": {},
          "execution_count": 17
        }
      ]
    },
    {
      "cell_type": "code",
      "source": [],
      "metadata": {
        "id": "Qs_7927kJ6I6"
      },
      "execution_count": null,
      "outputs": []
    },
    {
      "cell_type": "code",
      "source": [
        "# 1 Array yaratish\n",
        "#data yaratish\n",
        "\n",
        "data = [3.5,5,6,2]\n",
        "arr2 = np.array(data)\n",
        "arr2\n",
        "print(type(arr2))\n",
        "print(type(data))"
      ],
      "metadata": {
        "colab": {
          "base_uri": "https://localhost:8080/"
        },
        "id": "TUiOMJoEJ6MQ",
        "outputId": "f080897d-48e2-4bb6-e238-3238c479b324"
      },
      "execution_count": null,
      "outputs": [
        {
          "output_type": "stream",
          "name": "stdout",
          "text": [
            "<class 'numpy.ndarray'>\n",
            "<class 'list'>\n"
          ]
        }
      ]
    },
    {
      "cell_type": "code",
      "source": [
        "data2 = (4,5,3.2,7)\n",
        "arr3 = np.array(data2)\n",
        "arr3"
      ],
      "metadata": {
        "colab": {
          "base_uri": "https://localhost:8080/"
        },
        "id": "_6mP8GCAJ6OG",
        "outputId": "76c807b3-77d0-43c4-8b9b-c547fb1cbc27"
      },
      "execution_count": null,
      "outputs": [
        {
          "output_type": "execute_result",
          "data": {
            "text/plain": [
              "array([4. , 5. , 3.2, 7. ])"
            ]
          },
          "metadata": {},
          "execution_count": 26
        }
      ]
    },
    {
      "cell_type": "code",
      "source": [
        "# Massiv o'lchami (ndim)\n",
        "\n",
        "arr2.ndim"
      ],
      "metadata": {
        "colab": {
          "base_uri": "https://localhost:8080/"
        },
        "id": "Pvk6dm_WKmRg",
        "outputId": "e2584f52-e0cf-4d37-972d-cede0552481d"
      },
      "execution_count": null,
      "outputs": [
        {
          "output_type": "execute_result",
          "data": {
            "text/plain": [
              "1"
            ]
          },
          "metadata": {},
          "execution_count": 33
        }
      ]
    },
    {
      "cell_type": "code",
      "source": [
        "# Ikki va undan katta o'lchamli massivlar\n",
        "\n",
        "data3 = [[1,2,3,4],[5,6,7,8]]\n",
        "arr4 = np.array(data3)\n",
        "print(arr4)\n",
        "print(arr4.ndim)"
      ],
      "metadata": {
        "colab": {
          "base_uri": "https://localhost:8080/"
        },
        "id": "0djGNVHsKmU6",
        "outputId": "c4fb0651-9627-4dea-a8da-720faf766161"
      },
      "execution_count": null,
      "outputs": [
        {
          "output_type": "stream",
          "name": "stdout",
          "text": [
            "[[1 2 3 4]\n",
            " [5 6 7 8]]\n",
            "2\n"
          ]
        }
      ]
    },
    {
      "cell_type": "code",
      "source": [
        "# Shape and Size\n",
        "# shape atributi massivning qatori va ustunlar sonini ko'rsatsa, size massivdagi elementlar sonini ko'rsatadi\n",
        "print(arr4)\n",
        "print(arr4.shape)   #(x,y) -- x- (yoki axis0 )bu qator soni, y- (yoki axis1 )bu ustun soni hisoblanadi,"
      ],
      "metadata": {
        "colab": {
          "base_uri": "https://localhost:8080/"
        },
        "id": "hKhcHLYuKmWG",
        "outputId": "e013d045-2e11-498b-e9b3-fd179a8862ba"
      },
      "execution_count": null,
      "outputs": [
        {
          "output_type": "stream",
          "name": "stdout",
          "text": [
            "[[1 2 3 4]\n",
            " [5 6 7 8]]\n",
            "(2, 4)\n"
          ]
        }
      ]
    },
    {
      "cell_type": "code",
      "source": [
        "# Size\n",
        "print(arr4)\n",
        "print(arr4.size)  # size bu nechta element borligini soni"
      ],
      "metadata": {
        "colab": {
          "base_uri": "https://localhost:8080/"
        },
        "id": "k3rMMWAHKmYc",
        "outputId": "3def6406-caba-4871-9480-16fc609478c9"
      },
      "execution_count": null,
      "outputs": [
        {
          "output_type": "stream",
          "name": "stdout",
          "text": [
            "[[1 2 3 4]\n",
            " [5 6 7 8]]\n",
            "8\n"
          ]
        }
      ]
    },
    {
      "cell_type": "code",
      "source": [
        "# N-o'lchovli massivlarni yaratishning boshqa usullari\n",
        "# zeros va ones funksiyalari yordamida array yaratish\n",
        "\n",
        "arr5 = np.zeros((2,5))\n",
        "arr5\n"
      ],
      "metadata": {
        "colab": {
          "base_uri": "https://localhost:8080/"
        },
        "id": "ZKdNDJjdN4nP",
        "outputId": "d606ae14-8fc9-4eee-997e-aa286605d54a"
      },
      "execution_count": null,
      "outputs": [
        {
          "output_type": "execute_result",
          "data": {
            "text/plain": [
              "array([[0., 0., 0., 0., 0.],\n",
              "       [0., 0., 0., 0., 0.]])"
            ]
          },
          "metadata": {},
          "execution_count": 57
        }
      ]
    },
    {
      "cell_type": "code",
      "source": [
        "arr6 = np.ones((2,4))   # np.ones((x,y)) x- qator soni, y-ustun soni\n",
        "arr6"
      ],
      "metadata": {
        "colab": {
          "base_uri": "https://localhost:8080/"
        },
        "id": "wc6TdW_-N4qz",
        "outputId": "ab8cf5ff-4c7e-477a-ac47-d13e6af28524"
      },
      "execution_count": null,
      "outputs": [
        {
          "output_type": "execute_result",
          "data": {
            "text/plain": [
              "array([[1., 1., 1., 1.],\n",
              "       [1., 1., 1., 1.]])"
            ]
          },
          "metadata": {},
          "execution_count": 60
        }
      ]
    },
    {
      "cell_type": "code",
      "source": [
        "# arange\n",
        "arr7 = np.arange(4,20,3)    # np.arange(x,y,z) holatda, x-boshlanishi, y-tugashi (lekin o'zi kirmaydi), z-nechta qadam sakrash\n",
        "arr7"
      ],
      "metadata": {
        "colab": {
          "base_uri": "https://localhost:8080/"
        },
        "id": "LUtG31OGN4sk",
        "outputId": "bf05b119-2aa1-4908-cd36-6d25ce9dbcc9"
      },
      "execution_count": null,
      "outputs": [
        {
          "output_type": "execute_result",
          "data": {
            "text/plain": [
              "array([ 4,  7, 10, 13, 16, 19])"
            ]
          },
          "metadata": {},
          "execution_count": 61
        }
      ]
    },
    {
      "cell_type": "code",
      "source": [
        "# random\n",
        "arr8 = np.random.rand(3,4)\n",
        "arr8"
      ],
      "metadata": {
        "colab": {
          "base_uri": "https://localhost:8080/"
        },
        "id": "RfGf0CGjN4uL",
        "outputId": "3f547838-5ce7-41b7-c300-5923e285d59e"
      },
      "execution_count": null,
      "outputs": [
        {
          "output_type": "execute_result",
          "data": {
            "text/plain": [
              "array([[0.1576262 , 0.91305319, 0.69152405, 0.58196117],\n",
              "       [0.86068938, 0.59023578, 0.06483709, 0.35113358],\n",
              "       [0.01492652, 0.16096805, 0.16007683, 0.27126073]])"
            ]
          },
          "metadata": {},
          "execution_count": 72
        }
      ]
    },
    {
      "cell_type": "code",
      "source": [
        "# random\n",
        "np.random.seed(42)   # np.random.seed(42) -- bu random tanlaydi lekin keyingi safar kodni qayta ishga tushirsa o'zgarmaydi\n",
        "arr81 = np.random.rand(2,3)\n",
        "arr81"
      ],
      "metadata": {
        "colab": {
          "base_uri": "https://localhost:8080/"
        },
        "id": "N_CDwddQPuQb",
        "outputId": "3e7d3d03-d1af-4d51-ac76-764902a7543a"
      },
      "execution_count": null,
      "outputs": [
        {
          "output_type": "execute_result",
          "data": {
            "text/plain": [
              "array([[0.37454012, 0.95071431, 0.73199394],\n",
              "       [0.59865848, 0.15601864, 0.15599452]])"
            ]
          },
          "metadata": {},
          "execution_count": 83
        }
      ]
    },
    {
      "cell_type": "code",
      "source": [
        "print(arr8.ndim)"
      ],
      "metadata": {
        "colab": {
          "base_uri": "https://localhost:8080/"
        },
        "id": "5556TrCKQJHo",
        "outputId": "ab5a97c7-3715-42c6-872c-476559438436"
      },
      "execution_count": null,
      "outputs": [
        {
          "output_type": "stream",
          "name": "stdout",
          "text": [
            "2\n"
          ]
        }
      ]
    },
    {
      "cell_type": "code",
      "source": [
        "# Normal distribution sampling\n",
        "\n",
        "arr82 = np.random.randn(2,4)\n",
        "arr82"
      ],
      "metadata": {
        "colab": {
          "base_uri": "https://localhost:8080/"
        },
        "id": "AbFYi_QKQKIf",
        "outputId": "10abc244-7b0e-42b2-d3cb-dcd117f4e900"
      },
      "execution_count": null,
      "outputs": [
        {
          "output_type": "execute_result",
          "data": {
            "text/plain": [
              "array([[-0.60170661,  1.85227818, -0.01349722, -1.05771093],\n",
              "       [ 0.82254491, -1.22084365,  0.2088636 , -1.95967012]])"
            ]
          },
          "metadata": {},
          "execution_count": 90
        }
      ]
    },
    {
      "cell_type": "code",
      "source": [
        "# Integer sonlardan random tanlash\n",
        "arr9 = np.random.randint(7, size=(3,5))  # np.random.randint(x, size(a,b)), bu yerda x - maximum integer qiymat, a va b row and colm\n",
        "arr9"
      ],
      "metadata": {
        "colab": {
          "base_uri": "https://localhost:8080/"
        },
        "id": "jCg69fXfQKLp",
        "outputId": "021712d7-a1f0-47f2-a98c-a879ace4ab39"
      },
      "execution_count": null,
      "outputs": [
        {
          "output_type": "execute_result",
          "data": {
            "text/plain": [
              "array([[0, 1, 1, 3, 5],\n",
              "       [6, 4, 0, 0, 2],\n",
              "       [5, 1, 4, 3, 1]])"
            ]
          },
          "metadata": {},
          "execution_count": 136
        }
      ]
    },
    {
      "cell_type": "code",
      "source": [
        "#### Numpy funksiyalarini o'rganish"
      ],
      "metadata": {
        "id": "nH-UctZjQKQb"
      },
      "execution_count": null,
      "outputs": []
    },
    {
      "cell_type": "code",
      "source": [
        "np.zeros_like(arr9)"
      ],
      "metadata": {
        "colab": {
          "base_uri": "https://localhost:8080/"
        },
        "id": "zvUwjm71RSLq",
        "outputId": "3eb4e68c-1bb0-4a0b-f8c8-3dbcc1ea73c3"
      },
      "execution_count": null,
      "outputs": [
        {
          "output_type": "execute_result",
          "data": {
            "text/plain": [
              "array([[0, 0, 0, 0, 0],\n",
              "       [0, 0, 0, 0, 0],\n",
              "       [0, 0, 0, 0, 0]])"
            ]
          },
          "metadata": {},
          "execution_count": 103
        }
      ]
    },
    {
      "cell_type": "code",
      "source": [
        "np.ones_like(arr8)"
      ],
      "metadata": {
        "colab": {
          "base_uri": "https://localhost:8080/"
        },
        "id": "Y3cTOuKDRSPR",
        "outputId": "e1d3398d-fa47-4aa5-ed4a-0208b90da9a6"
      },
      "execution_count": null,
      "outputs": [
        {
          "output_type": "execute_result",
          "data": {
            "text/plain": [
              "array([[1., 1., 1., 1.],\n",
              "       [1., 1., 1., 1.],\n",
              "       [1., 1., 1., 1.]])"
            ]
          },
          "metadata": {},
          "execution_count": 104
        }
      ]
    },
    {
      "cell_type": "code",
      "source": [
        "eye = np.eye(4) # diaganalini 1 ga qolgan qiymatlarini 0 ga teng bo'ladi\n",
        "eye"
      ],
      "metadata": {
        "colab": {
          "base_uri": "https://localhost:8080/"
        },
        "id": "s3g7OW5cRSQz",
        "outputId": "e46c9646-26ce-4c96-c0d5-dce960d34810"
      },
      "execution_count": null,
      "outputs": [
        {
          "output_type": "execute_result",
          "data": {
            "text/plain": [
              "array([[1., 0., 0., 0.],\n",
              "       [0., 1., 0., 0.],\n",
              "       [0., 0., 1., 0.],\n",
              "       [0., 0., 0., 1.]])"
            ]
          },
          "metadata": {},
          "execution_count": 108
        }
      ]
    },
    {
      "cell_type": "code",
      "source": [],
      "metadata": {
        "id": "kwlzu4UPUVhJ"
      },
      "execution_count": null,
      "outputs": []
    },
    {
      "cell_type": "code",
      "source": [
        "# Data typelar\n",
        "arr10 = np.array([1,2,3], dtype = np.int16)"
      ],
      "metadata": {
        "id": "TMbSrP5vUVj2"
      },
      "execution_count": null,
      "outputs": []
    },
    {
      "cell_type": "code",
      "source": [
        "arr10.itemsize     # bu dataning nechi size ekanligini ko'rsatadi"
      ],
      "metadata": {
        "colab": {
          "base_uri": "https://localhost:8080/"
        },
        "id": "ebihXoffUVmx",
        "outputId": "f0eb0192-fa5c-4768-997f-6810032c849c"
      },
      "execution_count": null,
      "outputs": [
        {
          "output_type": "execute_result",
          "data": {
            "text/plain": [
              "2"
            ]
          },
          "metadata": {},
          "execution_count": 120
        }
      ]
    },
    {
      "cell_type": "code",
      "source": [
        "arr10.nbytes      # bu ma'lumot necha baytdan iborat ekanligini ko'rsatadi"
      ],
      "metadata": {
        "colab": {
          "base_uri": "https://localhost:8080/"
        },
        "id": "2GxxReLcUVpF",
        "outputId": "43d523bc-7bfd-4ff2-f425-6ab9350285d7"
      },
      "execution_count": null,
      "outputs": [
        {
          "output_type": "execute_result",
          "data": {
            "text/plain": [
              "6"
            ]
          },
          "metadata": {},
          "execution_count": 121
        }
      ]
    },
    {
      "cell_type": "code",
      "source": [
        "arr8.dtype"
      ],
      "metadata": {
        "colab": {
          "base_uri": "https://localhost:8080/"
        },
        "id": "tpvzObijU4Km",
        "outputId": "2686c795-cf4a-4ead-f146-3fa3de56a50f"
      },
      "execution_count": null,
      "outputs": [
        {
          "output_type": "execute_result",
          "data": {
            "text/plain": [
              "dtype('float64')"
            ]
          },
          "metadata": {},
          "execution_count": 123
        }
      ]
    },
    {
      "cell_type": "code",
      "source": [],
      "metadata": {
        "id": "iYtD0qxYVc4E"
      },
      "execution_count": null,
      "outputs": []
    },
    {
      "cell_type": "code",
      "source": [
        "arr8"
      ],
      "metadata": {
        "colab": {
          "base_uri": "https://localhost:8080/"
        },
        "id": "y5N8aYlzVc8A",
        "outputId": "3204ea9e-4c01-4cc8-a168-abd0e52aaaf0"
      },
      "execution_count": null,
      "outputs": [
        {
          "output_type": "execute_result",
          "data": {
            "text/plain": [
              "array([[0.1576262 , 1.        , 0.69152405, 0.58196117],\n",
              "       [0.86068938, 0.59023578, 0.06483709, 0.35113358],\n",
              "       [0.01492652, 0.16096805, 0.16007683, 0.27126073]])"
            ]
          },
          "metadata": {},
          "execution_count": 127
        }
      ]
    },
    {
      "cell_type": "code",
      "source": [
        "arr8[0,1] = 1\n",
        "arr8"
      ],
      "metadata": {
        "colab": {
          "base_uri": "https://localhost:8080/"
        },
        "id": "qZ06zEuUVc9P",
        "outputId": "57575d5d-3387-4b4e-ff12-1b64a5bc76db"
      },
      "execution_count": null,
      "outputs": [
        {
          "output_type": "execute_result",
          "data": {
            "text/plain": [
              "array([[0.1576262 , 1.        , 0.69152405, 0.58196117],\n",
              "       [0.86068938, 0.59023578, 0.06483709, 0.35113358],\n",
              "       [0.01492652, 0.16096805, 0.16007683, 0.27126073]])"
            ]
          },
          "metadata": {},
          "execution_count": 128
        }
      ]
    },
    {
      "cell_type": "code",
      "source": [],
      "metadata": {
        "id": "apBGDhfGVta9"
      },
      "execution_count": null,
      "outputs": []
    },
    {
      "cell_type": "code",
      "source": [
        "arr9"
      ],
      "metadata": {
        "colab": {
          "base_uri": "https://localhost:8080/"
        },
        "id": "2RsxhPsdVte2",
        "outputId": "d60ac8c1-8ef5-4bd6-e03c-bc839fb2ba74"
      },
      "execution_count": null,
      "outputs": [
        {
          "output_type": "execute_result",
          "data": {
            "text/plain": [
              "array([[0, 1, 1, 3, 5],\n",
              "       [6, 4, 0, 0, 2],\n",
              "       [5, 1, 4, 3, 1]])"
            ]
          },
          "metadata": {},
          "execution_count": 137
        }
      ]
    },
    {
      "cell_type": "code",
      "source": [
        "arr9[1,1] = 0.1\n",
        "arr9"
      ],
      "metadata": {
        "colab": {
          "base_uri": "https://localhost:8080/"
        },
        "id": "2lTTHa2qVvjc",
        "outputId": "b0b9b947-c022-460e-c413-7cf852872c0e"
      },
      "execution_count": null,
      "outputs": [
        {
          "output_type": "execute_result",
          "data": {
            "text/plain": [
              "array([[0, 1, 1, 3, 5],\n",
              "       [6, 0, 0, 0, 2],\n",
              "       [5, 1, 4, 3, 1]])"
            ]
          },
          "metadata": {},
          "execution_count": 138
        }
      ]
    },
    {
      "cell_type": "code",
      "source": [],
      "metadata": {
        "id": "wGxaDEJ6WJGP"
      },
      "execution_count": null,
      "outputs": []
    },
    {
      "cell_type": "code",
      "source": [
        "arr11 = np.random.randn(2,5) # 2x5 normal distribution sampling random\n",
        "arr11"
      ],
      "metadata": {
        "colab": {
          "base_uri": "https://localhost:8080/"
        },
        "id": "MA4U3twVWJKR",
        "outputId": "5ff99c2b-ef3e-45f1-ed38-eef8863851aa"
      },
      "execution_count": null,
      "outputs": [
        {
          "output_type": "execute_result",
          "data": {
            "text/plain": [
              "array([[-0.84679372, -1.51484722, -0.44651495,  0.85639879,  0.21409374],\n",
              "       [-1.24573878,  0.17318093,  0.38531738, -0.88385744,  0.15372511]])"
            ]
          },
          "metadata": {},
          "execution_count": 184
        }
      ]
    },
    {
      "cell_type": "code",
      "source": [
        "print(arr11.dtype)"
      ],
      "metadata": {
        "colab": {
          "base_uri": "https://localhost:8080/"
        },
        "id": "P0xGNUznWg1Q",
        "outputId": "1410a9ae-45c0-4183-ec48-f5f038b589e9"
      },
      "execution_count": null,
      "outputs": [
        {
          "output_type": "stream",
          "name": "stdout",
          "text": [
            "float64\n"
          ]
        }
      ]
    },
    {
      "cell_type": "code",
      "source": [
        "arr11.astype(np.int64)"
      ],
      "metadata": {
        "colab": {
          "base_uri": "https://localhost:8080/"
        },
        "id": "WhoqgmeHWZnG",
        "outputId": "e222c8f7-0c20-4331-f725-18b0406aaa9e"
      },
      "execution_count": null,
      "outputs": [
        {
          "output_type": "execute_result",
          "data": {
            "text/plain": [
              "array([[ 0, -1,  0,  0,  0],\n",
              "       [-1,  0,  0,  0,  0]])"
            ]
          },
          "metadata": {},
          "execution_count": 186
        }
      ]
    },
    {
      "cell_type": "code",
      "source": [
        "# Indeks va kesib olish\n",
        "arr12 = np.arange(10,100,10) # 10dan 100 gacha\n",
        "arr12"
      ],
      "metadata": {
        "colab": {
          "base_uri": "https://localhost:8080/"
        },
        "id": "YYKK0UW_W1Eq",
        "outputId": "a3328311-03e8-4f3c-8d15-763cab218538"
      },
      "execution_count": null,
      "outputs": [
        {
          "output_type": "execute_result",
          "data": {
            "text/plain": [
              "array([10, 20, 30, 40, 50, 60, 70, 80, 90])"
            ]
          },
          "metadata": {},
          "execution_count": 187
        }
      ]
    },
    {
      "cell_type": "code",
      "source": [
        "arr12[3:5]"
      ],
      "metadata": {
        "colab": {
          "base_uri": "https://localhost:8080/"
        },
        "id": "OJNId2WaX02g",
        "outputId": "98ba4ef4-5394-4d61-8ecb-c87273c203e3"
      },
      "execution_count": null,
      "outputs": [
        {
          "output_type": "execute_result",
          "data": {
            "text/plain": [
              "array([40, 50])"
            ]
          },
          "metadata": {},
          "execution_count": 171
        }
      ]
    },
    {
      "cell_type": "code",
      "source": [
        "sliced_arr12 = arr12[3:5]\n",
        "print(sliced_arr12)"
      ],
      "metadata": {
        "colab": {
          "base_uri": "https://localhost:8080/"
        },
        "id": "2FnmJ73tX06L",
        "outputId": "80c92b06-8dc7-49fd-d228-58c4edd2f133"
      },
      "execution_count": null,
      "outputs": [
        {
          "output_type": "stream",
          "name": "stdout",
          "text": [
            "[40 50]\n"
          ]
        }
      ]
    },
    {
      "cell_type": "code",
      "source": [
        "print(sliced_arr12[0]*2)\n",
        "print(sliced_arr12[1]*3)"
      ],
      "metadata": {
        "colab": {
          "base_uri": "https://localhost:8080/"
        },
        "id": "q8RgdFQIX08X",
        "outputId": "5ee9a2c7-a73e-4d52-f538-ff5d6c23c408"
      },
      "execution_count": null,
      "outputs": [
        {
          "output_type": "stream",
          "name": "stdout",
          "text": [
            "80\n",
            "150\n"
          ]
        }
      ]
    },
    {
      "cell_type": "code",
      "source": [
        "sliced_arr12[0]/2"
      ],
      "metadata": {
        "colab": {
          "base_uri": "https://localhost:8080/"
        },
        "id": "jmOtiNwBX1fH",
        "outputId": "bf65cec7-07f3-42b2-f235-8c4d45a39561"
      },
      "execution_count": null,
      "outputs": [
        {
          "output_type": "execute_result",
          "data": {
            "text/plain": [
              "np.float64(20.0)"
            ]
          },
          "metadata": {},
          "execution_count": 180
        }
      ]
    },
    {
      "cell_type": "code",
      "source": [
        "arrr1 = np.arange(4)\n",
        "arrr1"
      ],
      "metadata": {
        "colab": {
          "base_uri": "https://localhost:8080/"
        },
        "id": "sCcFIEbLX1jC",
        "outputId": "293ac451-6104-4d8e-b472-2a33e2c1120d"
      },
      "execution_count": null,
      "outputs": [
        {
          "output_type": "execute_result",
          "data": {
            "text/plain": [
              "array([0, 1, 2, 3])"
            ]
          },
          "metadata": {},
          "execution_count": 188
        }
      ]
    },
    {
      "cell_type": "code",
      "source": [
        "new_arrr1 = np.copy(arrr1)  # nusxa ovoladi\n",
        "new_arrr1"
      ],
      "metadata": {
        "colab": {
          "base_uri": "https://localhost:8080/"
        },
        "id": "3RQRlWbgldwD",
        "outputId": "e5757f10-506a-494f-c958-883ec0f436d8"
      },
      "execution_count": null,
      "outputs": [
        {
          "output_type": "execute_result",
          "data": {
            "text/plain": [
              "array([0, 1, 2, 3])"
            ]
          },
          "metadata": {},
          "execution_count": 190
        }
      ]
    },
    {
      "cell_type": "code",
      "source": [],
      "metadata": {
        "id": "quZbCo1GlpGk"
      },
      "execution_count": null,
      "outputs": []
    },
    {
      "cell_type": "code",
      "source": [
        "######################### 2D array#####################################"
      ],
      "metadata": {
        "id": "6uhtbt6IlpJ5"
      },
      "execution_count": null,
      "outputs": []
    },
    {
      "cell_type": "code",
      "source": [
        "from re import A\n",
        "arr2d = np.arange(9).reshape(3,3)\n",
        "arr2d"
      ],
      "metadata": {
        "colab": {
          "base_uri": "https://localhost:8080/"
        },
        "id": "fGZ21gd6lpSm",
        "outputId": "acfbcbf9-4102-4ac8-bcb8-1dfeef4b5dfb"
      },
      "execution_count": null,
      "outputs": [
        {
          "output_type": "execute_result",
          "data": {
            "text/plain": [
              "array([[0, 1, 2],\n",
              "       [3, 4, 5],\n",
              "       [6, 7, 8]])"
            ]
          },
          "metadata": {},
          "execution_count": 199
        }
      ]
    },
    {
      "cell_type": "code",
      "source": [
        "print(arr2d[1,2])  # yuqoridagi arr2d dan besh (5) ni ajratib olish"
      ],
      "metadata": {
        "colab": {
          "base_uri": "https://localhost:8080/"
        },
        "id": "n2V2DmK-lpVK",
        "outputId": "0129e05e-c25f-47cb-e3be-69e59baff483"
      },
      "execution_count": null,
      "outputs": [
        {
          "output_type": "stream",
          "name": "stdout",
          "text": [
            "5\n"
          ]
        }
      ]
    },
    {
      "cell_type": "code",
      "source": [
        "arr2d[1,1:] # # yuqoridagi arr2d dan besh (5) va 4 ni ajratib olish"
      ],
      "metadata": {
        "colab": {
          "base_uri": "https://localhost:8080/"
        },
        "id": "USEK6jltlpYY",
        "outputId": "ef55499c-ae42-4fe0-94b4-88ee2eb9c74d"
      },
      "execution_count": null,
      "outputs": [
        {
          "output_type": "execute_result",
          "data": {
            "text/plain": [
              "array([4, 5])"
            ]
          },
          "metadata": {},
          "execution_count": 206
        }
      ]
    },
    {
      "cell_type": "code",
      "source": [
        "arr2d[0:2,0:2]   # yuqoridagi arr2d dan [0,1], [3,4] ni ajratib olish"
      ],
      "metadata": {
        "colab": {
          "base_uri": "https://localhost:8080/"
        },
        "id": "vRdGrvTKm8-6",
        "outputId": "2d137b3a-3625-4a6d-e79a-e248af9c2faf"
      },
      "execution_count": null,
      "outputs": [
        {
          "output_type": "execute_result",
          "data": {
            "text/plain": [
              "array([[0, 1],\n",
              "       [3, 4]])"
            ]
          },
          "metadata": {},
          "execution_count": 209
        }
      ]
    },
    {
      "cell_type": "code",
      "source": [
        "arr2d[1:,0::2]  ## :: qadam tashlash uchun ishlatiladi"
      ],
      "metadata": {
        "colab": {
          "base_uri": "https://localhost:8080/"
        },
        "id": "eHjJUzjIm9Cz",
        "outputId": "366bd334-cb24-4e20-cc86-b6494e9d1796"
      },
      "execution_count": null,
      "outputs": [
        {
          "output_type": "execute_result",
          "data": {
            "text/plain": [
              "array([[3, 5],\n",
              "       [6, 8]])"
            ]
          },
          "metadata": {},
          "execution_count": 214
        }
      ]
    },
    {
      "cell_type": "code",
      "source": [
        "## 3D array\n",
        "\n",
        "arr3d = np.array([[[0,1,2],\n",
        "                   [3,4,5],\n",
        "                   [6,7,8]],\n",
        "                  [[9,10,11],\n",
        "                   [12,13,14],\n",
        "                   [15,16,17]],\n",
        "                  [[18,19,20],\n",
        "                   [21,22,23],\n",
        "                   [24,25,26]]])\n",
        "arr3d"
      ],
      "metadata": {
        "colab": {
          "base_uri": "https://localhost:8080/"
        },
        "id": "UTANNYWEm9EZ",
        "outputId": "234c160e-4569-41da-e898-aa558e835fdd"
      },
      "execution_count": null,
      "outputs": [
        {
          "output_type": "execute_result",
          "data": {
            "text/plain": [
              "array([[[ 0,  1,  2],\n",
              "        [ 3,  4,  5],\n",
              "        [ 6,  7,  8]],\n",
              "\n",
              "       [[ 9, 10, 11],\n",
              "        [12, 13, 14],\n",
              "        [15, 16, 17]],\n",
              "\n",
              "       [[18, 19, 20],\n",
              "        [21, 22, 23],\n",
              "        [24, 25, 26]]])"
            ]
          },
          "metadata": {},
          "execution_count": 216
        }
      ]
    },
    {
      "cell_type": "code",
      "source": [
        "arr3d_8 = arr3d[0][2,2]  ## yuqoridan 8 ni ajratib olish\n",
        "print(arr3d_8)"
      ],
      "metadata": {
        "colab": {
          "base_uri": "https://localhost:8080/"
        },
        "id": "h0YzUARSsA_1",
        "outputId": "9790df63-2967-4524-88cb-b14c2202d788"
      },
      "execution_count": null,
      "outputs": [
        {
          "output_type": "stream",
          "name": "stdout",
          "text": [
            "8\n"
          ]
        }
      ]
    },
    {
      "cell_type": "code",
      "source": [
        "sliced_arr3d = arr3d[1][1:,1:] # yuqoridan 13, 14, 16, 17 Ni ajratib olish\n",
        "print(sliced_arr3d)"
      ],
      "metadata": {
        "colab": {
          "base_uri": "https://localhost:8080/"
        },
        "id": "WilkMpEVtQfL",
        "outputId": "7772ee6a-865e-479f-81bd-e62408a25ced"
      },
      "execution_count": null,
      "outputs": [
        {
          "output_type": "stream",
          "name": "stdout",
          "text": [
            "[[13 14]\n",
            " [16 17]]\n"
          ]
        }
      ]
    },
    {
      "cell_type": "code",
      "source": [],
      "metadata": {
        "id": "WaTWoR1ptQi5"
      },
      "execution_count": null,
      "outputs": []
    },
    {
      "cell_type": "code",
      "source": [
        "# 2 qism Math functions\n",
        "import numpy as np\n",
        "arr15 = np.random.randn(5,4)\n",
        "arr15"
      ],
      "metadata": {
        "colab": {
          "base_uri": "https://localhost:8080/"
        },
        "id": "Y6U5eKdRtQmz",
        "outputId": "fae598f1-cc25-4a4a-b23e-53ffe5ce1451"
      },
      "execution_count": null,
      "outputs": [
        {
          "output_type": "execute_result",
          "data": {
            "text/plain": [
              "array([[-0.48536355,  0.08187414,  2.31465857, -1.86726519],\n",
              "       [ 0.68626019, -1.61271587, -0.47193187,  1.0889506 ],\n",
              "       [ 0.06428002, -1.07774478, -0.71530371,  0.67959775],\n",
              "       [-0.73036663,  0.21645859,  0.04557184, -0.65160035],\n",
              "       [ 2.14394409,  0.63391902, -2.02514259,  0.18645431]])"
            ]
          },
          "metadata": {},
          "execution_count": 224
        }
      ]
    },
    {
      "cell_type": "code",
      "source": [
        "arr15.sum()"
      ],
      "metadata": {
        "colab": {
          "base_uri": "https://localhost:8080/"
        },
        "id": "uGiSHLCXwsXt",
        "outputId": "2d5907c2-ed9c-48b8-ada3-e1a46029dbe6"
      },
      "execution_count": null,
      "outputs": [
        {
          "output_type": "execute_result",
          "data": {
            "text/plain": [
              "np.float64(-1.4954654132393692)"
            ]
          },
          "metadata": {},
          "execution_count": 225
        }
      ]
    },
    {
      "cell_type": "code",
      "source": [
        "np.sum(arr15)"
      ],
      "metadata": {
        "colab": {
          "base_uri": "https://localhost:8080/"
        },
        "id": "XFBQ1dRpwsby",
        "outputId": "03997888-eabd-4dae-ce7f-862a120ef0aa"
      },
      "execution_count": null,
      "outputs": [
        {
          "output_type": "execute_result",
          "data": {
            "text/plain": [
              "np.float64(-1.4954654132393692)"
            ]
          },
          "metadata": {},
          "execution_count": 228
        }
      ]
    },
    {
      "cell_type": "code",
      "source": [
        "arr15.sum(axis=1)  # ustun yig'indisi"
      ],
      "metadata": {
        "colab": {
          "base_uri": "https://localhost:8080/"
        },
        "id": "wOWoifQHwsdN",
        "outputId": "b51b91d3-1249-438a-9d6d-c20fa41f3703"
      },
      "execution_count": null,
      "outputs": [
        {
          "output_type": "execute_result",
          "data": {
            "text/plain": [
              "array([ 0.04390397, -0.30943695, -1.04917072, -1.11993655,  0.93917484])"
            ]
          },
          "metadata": {},
          "execution_count": 230
        }
      ]
    },
    {
      "cell_type": "code",
      "source": [
        "arr15.sum(axis=0)  # qator yig'indisi"
      ],
      "metadata": {
        "colab": {
          "base_uri": "https://localhost:8080/"
        },
        "id": "cOwO4NVNwsfG",
        "outputId": "57fee4cb-8996-4448-96da-e10c787a90c7"
      },
      "execution_count": null,
      "outputs": [
        {
          "output_type": "execute_result",
          "data": {
            "text/plain": [
              "array([ 1.67875412, -1.7582089 , -0.85214776, -0.56386288])"
            ]
          },
          "metadata": {},
          "execution_count": 231
        }
      ]
    },
    {
      "cell_type": "code",
      "source": [],
      "metadata": {
        "id": "RhXxEJFiwsg-"
      },
      "execution_count": null,
      "outputs": []
    },
    {
      "cell_type": "code",
      "source": [
        "# mean\n",
        "mean = np.sum(data)/len(data)\n",
        "print(mean)"
      ],
      "metadata": {
        "colab": {
          "base_uri": "https://localhost:8080/"
        },
        "id": "RvWv7S6NxaQ_",
        "outputId": "1f786a54-ec8d-4eae-9561-6f81296139f2"
      },
      "execution_count": null,
      "outputs": [
        {
          "output_type": "stream",
          "name": "stdout",
          "text": [
            "3.3333333333333335\n"
          ]
        }
      ]
    },
    {
      "cell_type": "code",
      "source": [
        "np.mean(data)"
      ],
      "metadata": {
        "colab": {
          "base_uri": "https://localhost:8080/"
        },
        "id": "Uv8_5qUPxaUD",
        "outputId": "3f004538-7648-4909-f022-af43a1a91c54"
      },
      "execution_count": null,
      "outputs": [
        {
          "output_type": "execute_result",
          "data": {
            "text/plain": [
              "np.float64(3.3333333333333335)"
            ]
          },
          "metadata": {},
          "execution_count": 241
        }
      ]
    },
    {
      "cell_type": "code",
      "source": [
        "arr15"
      ],
      "metadata": {
        "colab": {
          "base_uri": "https://localhost:8080/"
        },
        "id": "-VkYJP5jxaWu",
        "outputId": "cc153e0c-fead-4a40-8510-295b99d2b6ae"
      },
      "execution_count": null,
      "outputs": [
        {
          "output_type": "execute_result",
          "data": {
            "text/plain": [
              "array([[-0.48536355,  0.08187414,  2.31465857, -1.86726519],\n",
              "       [ 0.68626019, -1.61271587, -0.47193187,  1.0889506 ],\n",
              "       [ 0.06428002, -1.07774478, -0.71530371,  0.67959775],\n",
              "       [-0.73036663,  0.21645859,  0.04557184, -0.65160035],\n",
              "       [ 2.14394409,  0.63391902, -2.02514259,  0.18645431]])"
            ]
          },
          "metadata": {},
          "execution_count": 242
        }
      ]
    },
    {
      "cell_type": "code",
      "source": [
        "np.mean(arr15, axis=1) # ustun bo'yicha yig'indisi"
      ],
      "metadata": {
        "colab": {
          "base_uri": "https://localhost:8080/"
        },
        "id": "4f3y5BZ7yMqS",
        "outputId": "63f6a0d6-803f-4779-a21a-ce8fd5f8b2d7"
      },
      "execution_count": null,
      "outputs": [
        {
          "output_type": "execute_result",
          "data": {
            "text/plain": [
              "array([ 0.01097599, -0.07735924, -0.26229268, -0.27998414,  0.23479371])"
            ]
          },
          "metadata": {},
          "execution_count": 243
        }
      ]
    },
    {
      "cell_type": "code",
      "source": [
        "np.mean(arr15, axis=0) # qator bo'yicha yig'indisi"
      ],
      "metadata": {
        "colab": {
          "base_uri": "https://localhost:8080/"
        },
        "id": "LJ__9V4pyMuT",
        "outputId": "f79ead26-223a-4188-9244-e739f23feec8"
      },
      "execution_count": null,
      "outputs": [
        {
          "output_type": "execute_result",
          "data": {
            "text/plain": [
              "array([ 0.33575082, -0.35164178, -0.17042955, -0.11277258])"
            ]
          },
          "metadata": {},
          "execution_count": 244
        }
      ]
    },
    {
      "cell_type": "code",
      "source": [],
      "metadata": {
        "id": "W4rA0GcVyM1u"
      },
      "execution_count": null,
      "outputs": []
    },
    {
      "cell_type": "code",
      "source": [
        "# cumsum methodi    o'zidan oldin kelgan barcha sonlarni qoshib boradi\n",
        "\n",
        "data1 = np.arange(1,11,1)\n",
        "print(data1)\n",
        "print(f\"O'zidan kelgan sonlar yig'indilari: {data1.cumsum()}\")"
      ],
      "metadata": {
        "colab": {
          "base_uri": "https://localhost:8080/"
        },
        "id": "HDsAfaPMyhw9",
        "outputId": "7df32b3b-ff61-4bfd-db28-23f304167387"
      },
      "execution_count": null,
      "outputs": [
        {
          "output_type": "stream",
          "name": "stdout",
          "text": [
            "[ 1  2  3  4  5  6  7  8  9 10]\n",
            "O'zidan kelgan sonlar yig'indilari: [ 1  3  6 10 15 21 28 36 45 55]\n"
          ]
        }
      ]
    },
    {
      "cell_type": "code",
      "source": [
        "#cumprod methodi              o'zidan oldin kelgan sonlarni ko'paytirib boradi\n",
        "data2 = np.array([1,2,3,4,5])\n",
        "print(data2)\n",
        "print(f\"O'zidan oldin kelgan sonlarni ko'paytirib boradi: {data2.cumprod()}\")\n"
      ],
      "metadata": {
        "colab": {
          "base_uri": "https://localhost:8080/"
        },
        "id": "jYIIx4I4yhzX",
        "outputId": "bc87b9f2-d89e-4443-a315-21134b8113fd"
      },
      "execution_count": null,
      "outputs": [
        {
          "output_type": "stream",
          "name": "stdout",
          "text": [
            "[1 2 3 4 5]\n",
            "O'zidan oldin kelgan sonlarni ko'paytirib boradi: [  1   2   6  24 120]\n"
          ]
        }
      ]
    },
    {
      "cell_type": "code",
      "source": [],
      "metadata": {
        "id": "3_D4-wNQyh2w"
      },
      "execution_count": null,
      "outputs": []
    },
    {
      "cell_type": "code",
      "source": [
        "#calculation the covariance\n",
        "# hisoblash kerak"
      ],
      "metadata": {
        "id": "sUkuvRN30Vgm"
      },
      "execution_count": null,
      "outputs": []
    },
    {
      "cell_type": "code",
      "source": [
        "# Boolean Indekslash\n",
        "# Ismlar\n",
        "names = np.array(['Hasan', 'Husan', 'Mirzabek', 'Elyor', 'Hasan', 'Javohir', 'Elyor'])\n",
        "names\n",
        "\n"
      ],
      "metadata": {
        "id": "rLEwJx0s0Vku",
        "colab": {
          "base_uri": "https://localhost:8080/"
        },
        "outputId": "a4a9d6c5-9d33-45ab-d366-d47b43b31909"
      },
      "execution_count": 5,
      "outputs": [
        {
          "output_type": "stream",
          "name": "stdout",
          "text": [
            "<class 'numpy.ndarray'>\n"
          ]
        }
      ]
    },
    {
      "cell_type": "code",
      "source": [
        "data = np.random.randn(7,4)\n",
        "data"
      ],
      "metadata": {
        "id": "VQUcwHulyh5h",
        "colab": {
          "base_uri": "https://localhost:8080/"
        },
        "outputId": "808a60c0-c84f-479c-e016-947363c66fed"
      },
      "execution_count": 6,
      "outputs": [
        {
          "output_type": "execute_result",
          "data": {
            "text/plain": [
              "array([[-1.18507769, -0.42627425,  0.92845419, -0.59586996],\n",
              "       [ 2.7905173 , -0.38048476, -0.41575415, -1.3987766 ],\n",
              "       [-0.14035959, -0.96627576,  1.50360201,  0.68070943],\n",
              "       [-0.32984946,  0.25076318,  0.51140599,  0.25007229],\n",
              "       [ 0.66764718, -2.39180373, -0.46088689, -0.65666987],\n",
              "       [ 0.09613989,  0.12814376,  0.89957444, -0.68502251],\n",
              "       [-0.22409121,  1.20975606, -0.10701351,  2.59834284]])"
            ]
          },
          "metadata": {},
          "execution_count": 6
        }
      ]
    },
    {
      "cell_type": "code",
      "source": [
        "names == 'Hasan'"
      ],
      "metadata": {
        "colab": {
          "base_uri": "https://localhost:8080/"
        },
        "id": "DR6D0nifnu04",
        "outputId": "fe315aa5-fe97-4bff-cfaf-c39d271ad506"
      },
      "execution_count": 7,
      "outputs": [
        {
          "output_type": "execute_result",
          "data": {
            "text/plain": [
              "array([ True, False, False, False,  True, False, False])"
            ]
          },
          "metadata": {},
          "execution_count": 7
        }
      ]
    },
    {
      "cell_type": "code",
      "source": [
        "data[names=='Hasan']  # Hasanga tegishli malumotlarni ajratib oladi"
      ],
      "metadata": {
        "colab": {
          "base_uri": "https://localhost:8080/"
        },
        "id": "cEUsnB9Vnu4w",
        "outputId": "08cadbd2-4f7a-4ea5-d893-12664a480448"
      },
      "execution_count": 8,
      "outputs": [
        {
          "output_type": "execute_result",
          "data": {
            "text/plain": [
              "array([[-1.18507769, -0.42627425,  0.92845419, -0.59586996],\n",
              "       [ 0.66764718, -2.39180373, -0.46088689, -0.65666987]])"
            ]
          },
          "metadata": {},
          "execution_count": 8
        }
      ]
    },
    {
      "cell_type": "code",
      "source": [
        "data[names=='Elyor']  # Elyorga tegishli malumotlarni ajratib oladi"
      ],
      "metadata": {
        "colab": {
          "base_uri": "https://localhost:8080/"
        },
        "id": "LeNiZ1rgnu7F",
        "outputId": "8b2c3e72-686d-4969-bcbc-ea5cad65a525"
      },
      "execution_count": 9,
      "outputs": [
        {
          "output_type": "execute_result",
          "data": {
            "text/plain": [
              "array([[-0.32984946,  0.25076318,  0.51140599,  0.25007229],\n",
              "       [-0.22409121,  1.20975606, -0.10701351,  2.59834284]])"
            ]
          },
          "metadata": {},
          "execution_count": 9
        }
      ]
    },
    {
      "cell_type": "code",
      "source": [
        "data[names=='Hasan',2:]    # Hasanga tegishli ohirgi ikkita ustundagi malumotlarni ajratib oladi"
      ],
      "metadata": {
        "colab": {
          "base_uri": "https://localhost:8080/"
        },
        "id": "axZLTtxtoXaC",
        "outputId": "3e7166a0-4122-4a8a-812d-e44fe64264bb"
      },
      "execution_count": 11,
      "outputs": [
        {
          "output_type": "execute_result",
          "data": {
            "text/plain": [
              "array([[ 0.92845419, -0.59586996],\n",
              "       [-0.46088689, -0.65666987]])"
            ]
          },
          "metadata": {},
          "execution_count": 11
        }
      ]
    },
    {
      "cell_type": "code",
      "source": [
        "data[names!='Hasan']    # (!=) Hasandan tashqari barcha insonlarning malumotlarini ajratib oladi"
      ],
      "metadata": {
        "colab": {
          "base_uri": "https://localhost:8080/"
        },
        "id": "Gl3h9x6KoXe1",
        "outputId": "dcdf9f9c-f457-4574-d7be-6b298ee8dfe8"
      },
      "execution_count": 12,
      "outputs": [
        {
          "output_type": "execute_result",
          "data": {
            "text/plain": [
              "array([[ 2.7905173 , -0.38048476, -0.41575415, -1.3987766 ],\n",
              "       [-0.14035959, -0.96627576,  1.50360201,  0.68070943],\n",
              "       [-0.32984946,  0.25076318,  0.51140599,  0.25007229],\n",
              "       [ 0.09613989,  0.12814376,  0.89957444, -0.68502251],\n",
              "       [-0.22409121,  1.20975606, -0.10701351,  2.59834284]])"
            ]
          },
          "metadata": {},
          "execution_count": 12
        }
      ]
    },
    {
      "cell_type": "code",
      "source": [
        "data[~(names=='Hasan')]   # (~) yuqoridagi cell bilan bir natija beradi"
      ],
      "metadata": {
        "colab": {
          "base_uri": "https://localhost:8080/"
        },
        "id": "T94mJVHToXhA",
        "outputId": "b12f7a9d-c06f-47bd-97f2-a684cf8b780e"
      },
      "execution_count": 13,
      "outputs": [
        {
          "output_type": "execute_result",
          "data": {
            "text/plain": [
              "array([[ 2.7905173 , -0.38048476, -0.41575415, -1.3987766 ],\n",
              "       [-0.14035959, -0.96627576,  1.50360201,  0.68070943],\n",
              "       [-0.32984946,  0.25076318,  0.51140599,  0.25007229],\n",
              "       [ 0.09613989,  0.12814376,  0.89957444, -0.68502251],\n",
              "       [-0.22409121,  1.20975606, -0.10701351,  2.59834284]])"
            ]
          },
          "metadata": {},
          "execution_count": 13
        }
      ]
    },
    {
      "cell_type": "code",
      "source": [
        "print(names)\n",
        "print(data)"
      ],
      "metadata": {
        "colab": {
          "base_uri": "https://localhost:8080/"
        },
        "id": "6XFWs64IpsoF",
        "outputId": "40fd5175-b319-4c46-9316-64ca90b466ec"
      },
      "execution_count": 14,
      "outputs": [
        {
          "output_type": "stream",
          "name": "stdout",
          "text": [
            "['Hasan' 'Husan' 'Mirzabek' 'Elyor' 'Hasan' 'Javohir' 'Elyor']\n",
            "[[-1.18507769 -0.42627425  0.92845419 -0.59586996]\n",
            " [ 2.7905173  -0.38048476 -0.41575415 -1.3987766 ]\n",
            " [-0.14035959 -0.96627576  1.50360201  0.68070943]\n",
            " [-0.32984946  0.25076318  0.51140599  0.25007229]\n",
            " [ 0.66764718 -2.39180373 -0.46088689 -0.65666987]\n",
            " [ 0.09613989  0.12814376  0.89957444 -0.68502251]\n",
            " [-0.22409121  1.20975606 -0.10701351  2.59834284]]\n"
          ]
        }
      ]
    },
    {
      "cell_type": "code",
      "source": [
        "mask = (names=='Hasan') | (names=='Husan')    # yoki \" | \" o'rniga \"or\" ni ishlatsa ham bo'ladi\n",
        "mask"
      ],
      "metadata": {
        "colab": {
          "base_uri": "https://localhost:8080/"
        },
        "id": "cENSjndJpssK",
        "outputId": "583b628a-4d72-41bc-bc4b-5dcca6bdb993"
      },
      "execution_count": 16,
      "outputs": [
        {
          "output_type": "execute_result",
          "data": {
            "text/plain": [
              "array([ True,  True, False, False,  True, False, False])"
            ]
          },
          "metadata": {},
          "execution_count": 16
        }
      ]
    },
    {
      "cell_type": "code",
      "source": [
        "data[mask,::2]"
      ],
      "metadata": {
        "colab": {
          "base_uri": "https://localhost:8080/"
        },
        "id": "UctV5eAEqWUr",
        "outputId": "b1acc320-8398-4828-df3e-cbeb35b6eff3"
      },
      "execution_count": 17,
      "outputs": [
        {
          "output_type": "execute_result",
          "data": {
            "text/plain": [
              "array([[-1.18507769,  0.92845419],\n",
              "       [ 2.7905173 , -0.41575415],\n",
              "       [ 0.66764718, -0.46088689]])"
            ]
          },
          "metadata": {},
          "execution_count": 17
        }
      ]
    },
    {
      "cell_type": "code",
      "source": [
        "data[mask]   # Hasan va Husanga tegishli malumotlarni ajratib oladi"
      ],
      "metadata": {
        "colab": {
          "base_uri": "https://localhost:8080/"
        },
        "id": "pP9E8jWNqWZf",
        "outputId": "5ddca74a-3172-4428-b2de-4b1db069a0ad"
      },
      "execution_count": 18,
      "outputs": [
        {
          "output_type": "execute_result",
          "data": {
            "text/plain": [
              "array([[-1.18507769, -0.42627425,  0.92845419, -0.59586996],\n",
              "       [ 2.7905173 , -0.38048476, -0.41575415, -1.3987766 ],\n",
              "       [ 0.66764718, -2.39180373, -0.46088689, -0.65666987]])"
            ]
          },
          "metadata": {},
          "execution_count": 18
        }
      ]
    },
    {
      "cell_type": "code",
      "source": [
        "data"
      ],
      "metadata": {
        "colab": {
          "base_uri": "https://localhost:8080/"
        },
        "id": "aNYZnEA3qWb2",
        "outputId": "46e54211-78f1-44c9-d2d8-21710ed5f1a2"
      },
      "execution_count": 19,
      "outputs": [
        {
          "output_type": "execute_result",
          "data": {
            "text/plain": [
              "array([[-1.18507769, -0.42627425,  0.92845419, -0.59586996],\n",
              "       [ 2.7905173 , -0.38048476, -0.41575415, -1.3987766 ],\n",
              "       [-0.14035959, -0.96627576,  1.50360201,  0.68070943],\n",
              "       [-0.32984946,  0.25076318,  0.51140599,  0.25007229],\n",
              "       [ 0.66764718, -2.39180373, -0.46088689, -0.65666987],\n",
              "       [ 0.09613989,  0.12814376,  0.89957444, -0.68502251],\n",
              "       [-0.22409121,  1.20975606, -0.10701351,  2.59834284]])"
            ]
          },
          "metadata": {},
          "execution_count": 19
        }
      ]
    },
    {
      "cell_type": "code",
      "source": [
        "data[data<0] = 0\n",
        "data"
      ],
      "metadata": {
        "colab": {
          "base_uri": "https://localhost:8080/"
        },
        "id": "_JhVjcgkq9Cx",
        "outputId": "52ece68b-9a08-4e81-fd5c-d978dcdcb69c"
      },
      "execution_count": 20,
      "outputs": [
        {
          "output_type": "execute_result",
          "data": {
            "text/plain": [
              "array([[0.        , 0.        , 0.92845419, 0.        ],\n",
              "       [2.7905173 , 0.        , 0.        , 0.        ],\n",
              "       [0.        , 0.        , 1.50360201, 0.68070943],\n",
              "       [0.        , 0.25076318, 0.51140599, 0.25007229],\n",
              "       [0.66764718, 0.        , 0.        , 0.        ],\n",
              "       [0.09613989, 0.12814376, 0.89957444, 0.        ],\n",
              "       [0.        , 1.20975606, 0.        , 2.59834284]])"
            ]
          },
          "metadata": {},
          "execution_count": 20
        }
      ]
    },
    {
      "cell_type": "code",
      "source": [],
      "metadata": {
        "id": "Fy1XxdcErUH5"
      },
      "execution_count": null,
      "outputs": []
    },
    {
      "cell_type": "code",
      "source": [
        "# Logical Set"
      ],
      "metadata": {
        "id": "2KufSaujrULC"
      },
      "execution_count": 22,
      "outputs": []
    },
    {
      "cell_type": "code",
      "source": [
        "# Massivlar\n",
        "xarr = np.array([1.1,1.2,1.3,1.4,1.5]) #xarr\n",
        "yarr = np.array([2.1,2.2,2.3,2.4,2.5]) #yarr"
      ],
      "metadata": {
        "id": "91P29cN_rUNm"
      },
      "execution_count": 21,
      "outputs": []
    },
    {
      "cell_type": "code",
      "source": [
        "cond = np.array([True, False, True, True, False])"
      ],
      "metadata": {
        "id": "VbnlNFmfrss1"
      },
      "execution_count": 23,
      "outputs": []
    },
    {
      "cell_type": "code",
      "source": [
        "result = np.where(cond, xarr,yarr)\n",
        "result"
      ],
      "metadata": {
        "colab": {
          "base_uri": "https://localhost:8080/"
        },
        "id": "AJGh0ckUr_TT",
        "outputId": "ebf6ddad-552b-4758-cd1a-7a3cf3369870"
      },
      "execution_count": 24,
      "outputs": [
        {
          "output_type": "execute_result",
          "data": {
            "text/plain": [
              "array([1.1, 2.2, 1.3, 1.4, 2.5])"
            ]
          },
          "metadata": {},
          "execution_count": 24
        }
      ]
    },
    {
      "cell_type": "code",
      "source": [],
      "metadata": {
        "id": "Q7zJ6CmOr_X4"
      },
      "execution_count": null,
      "outputs": []
    },
    {
      "cell_type": "code",
      "source": [
        "arr = np.random.randn(4,4)\n",
        "arr"
      ],
      "metadata": {
        "colab": {
          "base_uri": "https://localhost:8080/"
        },
        "id": "byjpuMUNr_ap",
        "outputId": "32f20a32-4376-4119-a83a-fb4d6e30a367"
      },
      "execution_count": 25,
      "outputs": [
        {
          "output_type": "execute_result",
          "data": {
            "text/plain": [
              "array([[ 2.18510303, -0.46067825, -1.21513254,  3.0965672 ],\n",
              "       [-0.70061019,  0.487956  , -0.63359639, -0.26956121],\n",
              "       [ 2.11186797, -0.51884421,  0.61457776,  0.62312743],\n",
              "       [ 0.5175342 ,  0.55660782,  0.67270665, -0.46137024]])"
            ]
          },
          "metadata": {},
          "execution_count": 25
        }
      ]
    },
    {
      "cell_type": "code",
      "source": [
        "results = np.where(arr<0, -2, 2)  # bu yerda (arr<0, -2, 2) degani agar datadagi malumotlar manfiy bolsa -2 musbat bolsa 2 ni qaytaradi\n",
        "results"
      ],
      "metadata": {
        "colab": {
          "base_uri": "https://localhost:8080/"
        },
        "id": "NSBaOsb-suxG",
        "outputId": "ac45e8d3-46ec-4219-b9ec-cba99c8856da"
      },
      "execution_count": 32,
      "outputs": [
        {
          "output_type": "execute_result",
          "data": {
            "text/plain": [
              "array([[ 2, -2, -2,  2],\n",
              "       [-2,  2, -2, -2],\n",
              "       [ 2, -2,  2,  2],\n",
              "       [ 2,  2,  2, -2]])"
            ]
          },
          "metadata": {},
          "execution_count": 32
        }
      ]
    }
  ]
}