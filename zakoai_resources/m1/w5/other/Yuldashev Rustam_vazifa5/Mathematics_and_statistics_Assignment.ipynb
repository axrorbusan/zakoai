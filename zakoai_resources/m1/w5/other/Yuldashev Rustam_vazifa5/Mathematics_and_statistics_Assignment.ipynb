{
  "nbformat": 4,
  "nbformat_minor": 0,
  "metadata": {
    "colab": {
      "provenance": []
    },
    "kernelspec": {
      "name": "python3",
      "display_name": "Python 3"
    },
    "language_info": {
      "name": "python"
    }
  },
  "cells": [
    {
      "cell_type": "code",
      "execution_count": 1,
      "metadata": {
        "id": "0Gk_bqtvKlrD"
      },
      "outputs": [],
      "source": [
        "import numpy as np"
      ]
    },
    {
      "cell_type": "code",
      "source": [
        "arr = np.random.randn(5, 4) # (5, 4) o'lchov massiv (random)\n",
        "arr"
      ],
      "metadata": {
        "colab": {
          "base_uri": "https://localhost:8080/"
        },
        "id": "eNIQICPsKt5t",
        "outputId": "d3d295eb-5b9f-4167-9c81-fe36433f2b67"
      },
      "execution_count": 4,
      "outputs": [
        {
          "output_type": "execute_result",
          "data": {
            "text/plain": [
              "array([[-0.80222013, -1.29775835, -0.14128132, -1.09506977],\n",
              "       [ 0.94285992, -0.77405414, -1.16937875, -1.34702939],\n",
              "       [-1.30596744,  0.06763368,  2.69636867, -0.86597434],\n",
              "       [-1.29079046,  1.18956501,  0.08481506, -0.16251903],\n",
              "       [-0.75655239, -0.47444516, -1.89888962,  0.33649834]])"
            ]
          },
          "metadata": {},
          "execution_count": 4
        }
      ]
    },
    {
      "cell_type": "code",
      "source": [
        "# sum metodi"
      ],
      "metadata": {
        "id": "hxpYxguHK25i"
      },
      "execution_count": 5,
      "outputs": []
    },
    {
      "cell_type": "code",
      "source": [
        "arr.sum() # arr ning barcha elementlarini yigindisini hisoblab beradi"
      ],
      "metadata": {
        "colab": {
          "base_uri": "https://localhost:8080/"
        },
        "id": "1fqJotvBOfKu",
        "outputId": "c66f55b2-5360-42a2-e518-43d4ffcc338a"
      },
      "execution_count": 6,
      "outputs": [
        {
          "output_type": "execute_result",
          "data": {
            "text/plain": [
              "np.float64(-8.06418960736103)"
            ]
          },
          "metadata": {},
          "execution_count": 6
        }
      ]
    },
    {
      "cell_type": "code",
      "source": [
        "arr.sum(axis=0) # ustun yig'indisi"
      ],
      "metadata": {
        "colab": {
          "base_uri": "https://localhost:8080/"
        },
        "id": "EgTLoyz1OhEr",
        "outputId": "747b5626-5fb8-4500-f0ce-b03d926eaefa"
      },
      "execution_count": 7,
      "outputs": [
        {
          "output_type": "execute_result",
          "data": {
            "text/plain": [
              "array([-3.21267051, -1.28905897, -0.42836594, -3.13409419])"
            ]
          },
          "metadata": {},
          "execution_count": 7
        }
      ]
    },
    {
      "cell_type": "code",
      "source": [
        "np.sum(arr) # arr ning barcha elementlarini yigindisini hisoblab beradi"
      ],
      "metadata": {
        "colab": {
          "base_uri": "https://localhost:8080/"
        },
        "id": "b_D7QfsGOzkb",
        "outputId": "c52071e5-bdf3-411e-d11a-40b69998c181"
      },
      "execution_count": 9,
      "outputs": [
        {
          "output_type": "execute_result",
          "data": {
            "text/plain": [
              "np.float64(-8.06418960736103)"
            ]
          },
          "metadata": {},
          "execution_count": 9
        }
      ]
    },
    {
      "cell_type": "code",
      "source": [
        "arr.sum(axis=1) # qator yi'g'indisi"
      ],
      "metadata": {
        "colab": {
          "base_uri": "https://localhost:8080/"
        },
        "id": "N9C3WZRCO7ii",
        "outputId": "519ce947-99bd-445b-c94b-ed96e36972a9"
      },
      "execution_count": 10,
      "outputs": [
        {
          "output_type": "execute_result",
          "data": {
            "text/plain": [
              "array([-3.33632957, -2.34760236,  0.59206057, -0.17892942, -2.79338883])"
            ]
          },
          "metadata": {},
          "execution_count": 10
        }
      ]
    },
    {
      "cell_type": "code",
      "source": [
        "# sodda malumotlar\n",
        "\n",
        "data = np.arange(5)  # 0 ~ 5 gacha bo'lgan elementlardan tashkil topgan massiv\n",
        "data"
      ],
      "metadata": {
        "colab": {
          "base_uri": "https://localhost:8080/"
        },
        "id": "ru3EcmSSPTt0",
        "outputId": "9e3db359-2dd4-440b-9de6-df1ead6eb654"
      },
      "execution_count": 11,
      "outputs": [
        {
          "output_type": "execute_result",
          "data": {
            "text/plain": [
              "array([0, 1, 2, 3, 4])"
            ]
          },
          "metadata": {},
          "execution_count": 11
        }
      ]
    },
    {
      "cell_type": "code",
      "source": [
        "mean = np.sum(data)/len(data)\n",
        "mean"
      ],
      "metadata": {
        "colab": {
          "base_uri": "https://localhost:8080/"
        },
        "id": "CSEsirsfQBBk",
        "outputId": "e0986f33-a146-4535-d596-26045a61cbd9"
      },
      "execution_count": 12,
      "outputs": [
        {
          "output_type": "execute_result",
          "data": {
            "text/plain": [
              "np.float64(2.0)"
            ]
          },
          "metadata": {},
          "execution_count": 12
        }
      ]
    },
    {
      "cell_type": "code",
      "source": [
        "# numpy mean\n",
        "np.mean(data)"
      ],
      "metadata": {
        "colab": {
          "base_uri": "https://localhost:8080/"
        },
        "id": "ttSJogppQHga",
        "outputId": "18d8343a-6c4c-4540-ed7d-2177341210c6"
      },
      "execution_count": 13,
      "outputs": [
        {
          "output_type": "execute_result",
          "data": {
            "text/plain": [
              "np.float64(2.0)"
            ]
          },
          "metadata": {},
          "execution_count": 13
        }
      ]
    },
    {
      "cell_type": "code",
      "source": [
        "arr"
      ],
      "metadata": {
        "colab": {
          "base_uri": "https://localhost:8080/"
        },
        "id": "PjpUN1VSQMwe",
        "outputId": "2230310a-3bb9-4c1e-ffee-f4a0c280a29b"
      },
      "execution_count": 14,
      "outputs": [
        {
          "output_type": "execute_result",
          "data": {
            "text/plain": [
              "array([[-0.80222013, -1.29775835, -0.14128132, -1.09506977],\n",
              "       [ 0.94285992, -0.77405414, -1.16937875, -1.34702939],\n",
              "       [-1.30596744,  0.06763368,  2.69636867, -0.86597434],\n",
              "       [-1.29079046,  1.18956501,  0.08481506, -0.16251903],\n",
              "       [-0.75655239, -0.47444516, -1.89888962,  0.33649834]])"
            ]
          },
          "metadata": {},
          "execution_count": 14
        }
      ]
    },
    {
      "cell_type": "code",
      "source": [
        "np.mean(arr) # arr ning o'rtacha qiymati"
      ],
      "metadata": {
        "colab": {
          "base_uri": "https://localhost:8080/"
        },
        "id": "HdobjXQqQNiC",
        "outputId": "a523d706-0673-4c1c-8ef6-edba1af1f829"
      },
      "execution_count": 15,
      "outputs": [
        {
          "output_type": "execute_result",
          "data": {
            "text/plain": [
              "np.float64(-0.4032094803680515)"
            ]
          },
          "metadata": {},
          "execution_count": 15
        }
      ]
    },
    {
      "cell_type": "code",
      "source": [
        "np.mean(arr, axis=1) # qator bo'yicha o'rtacha qiymarni qaytaradi"
      ],
      "metadata": {
        "colab": {
          "base_uri": "https://localhost:8080/"
        },
        "id": "CAGqsWjuQTkd",
        "outputId": "2a3c21d6-c52c-441f-c6c0-c745fe396d8d"
      },
      "execution_count": 17,
      "outputs": [
        {
          "output_type": "execute_result",
          "data": {
            "text/plain": [
              "array([-0.83408239, -0.58690059,  0.14801514, -0.04473236, -0.69834721])"
            ]
          },
          "metadata": {},
          "execution_count": 17
        }
      ]
    },
    {
      "cell_type": "code",
      "source": [
        "arr.mean(axis=0) # ustunlar bo'yicha o'rtacha qiymati qaytaradi"
      ],
      "metadata": {
        "colab": {
          "base_uri": "https://localhost:8080/"
        },
        "id": "XhN2q2XjQdkS",
        "outputId": "b2a57347-5336-4c8e-d325-98e85bd16d36"
      },
      "execution_count": 19,
      "outputs": [
        {
          "output_type": "execute_result",
          "data": {
            "text/plain": [
              "array([-0.6425341 , -0.25781179, -0.08567319, -0.62681884])"
            ]
          },
          "metadata": {},
          "execution_count": 19
        }
      ]
    },
    {
      "cell_type": "code",
      "source": [
        "# cunsum metodi"
      ],
      "metadata": {
        "id": "3DSHhSLQRDl6"
      },
      "execution_count": 20,
      "outputs": []
    },
    {
      "cell_type": "code",
      "source": [
        "data"
      ],
      "metadata": {
        "colab": {
          "base_uri": "https://localhost:8080/"
        },
        "id": "eec1N7KbROh1",
        "outputId": "928cfcd7-feb1-4838-ae03-86a780eb7311"
      },
      "execution_count": 21,
      "outputs": [
        {
          "output_type": "execute_result",
          "data": {
            "text/plain": [
              "array([0, 1, 2, 3, 4])"
            ]
          },
          "metadata": {},
          "execution_count": 21
        }
      ]
    },
    {
      "cell_type": "code",
      "source": [
        "data.cumsum() # cumilative sum - 0, 0+1, 1+2, 1+2+3, 1+2+3+4"
      ],
      "metadata": {
        "colab": {
          "base_uri": "https://localhost:8080/"
        },
        "id": "1ZhDJKdRRPc4",
        "outputId": "72cbe848-49c2-475b-8746-dfe48855754d"
      },
      "execution_count": 24,
      "outputs": [
        {
          "output_type": "execute_result",
          "data": {
            "text/plain": [
              "array([ 0,  1,  3,  6, 10])"
            ]
          },
          "metadata": {},
          "execution_count": 24
        }
      ]
    },
    {
      "cell_type": "code",
      "source": [
        "data = np.array([1,2,3,4]) # cumilative product means 1, 1x2, 1x2x3, 1x2x3x4\n",
        "data.cumprod()"
      ],
      "metadata": {
        "colab": {
          "base_uri": "https://localhost:8080/"
        },
        "id": "umNiS5M0RSk8",
        "outputId": "ac99835f-99d1-4fdd-da9a-a3ac7dd5e776"
      },
      "execution_count": 26,
      "outputs": [
        {
          "output_type": "execute_result",
          "data": {
            "text/plain": [
              "array([ 1,  2,  6, 24])"
            ]
          },
          "metadata": {},
          "execution_count": 26
        }
      ]
    },
    {
      "cell_type": "code",
      "source": [],
      "metadata": {
        "id": "TtMtEiJLRujF"
      },
      "execution_count": null,
      "outputs": []
    }
  ]
}