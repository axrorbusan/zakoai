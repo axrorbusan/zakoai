{
  "nbformat": 4,
  "nbformat_minor": 0,
  "metadata": {
    "colab": {
      "provenance": []
    },
    "kernelspec": {
      "name": "python3",
      "display_name": "Python 3"
    },
    "language_info": {
      "name": "python"
    }
  },
  "cells": [
    {
      "cell_type": "code",
      "execution_count": 13,
      "metadata": {
        "id": "34C3bxdpY3ti"
      },
      "outputs": [],
      "source": [
        "import numpy as np"
      ]
    },
    {
      "cell_type": "code",
      "source": [
        "# logical set\n",
        "# Massivlar\n",
        "xarr = np.array([1.1, 1.2, 1.3, 1.4, 1.5]) # xarr\n",
        "yarr = np.array([2.1, 2.2, 2.3, 2.4, 2.5]) #yarr"
      ],
      "metadata": {
        "id": "AwXrB3mKY8Dh"
      },
      "execution_count": 18,
      "outputs": []
    },
    {
      "cell_type": "code",
      "source": [
        "# Shart\n",
        "cond = np.array([True, False, True, True, False])"
      ],
      "metadata": {
        "id": "t889W3_fZtGW"
      },
      "execution_count": 19,
      "outputs": []
    },
    {
      "cell_type": "code",
      "source": [
        "# where shart\n",
        "results = np.where(cond, xarr, yarr) # cond ==True bulsa x arr oladi, cond == False bulsa yarr elementlardan oladi\n",
        "results"
      ],
      "metadata": {
        "colab": {
          "base_uri": "https://localhost:8080/"
        },
        "id": "lfH1yv7GZ5t2",
        "outputId": "931850c6-ba79-44b2-948c-4d273764a7e3"
      },
      "execution_count": 23,
      "outputs": [
        {
          "output_type": "execute_result",
          "data": {
            "text/plain": [
              "array([1.1, 2.2, 1.3, 1.4, 2.5])"
            ]
          },
          "metadata": {},
          "execution_count": 23
        }
      ]
    },
    {
      "cell_type": "code",
      "source": [
        "arr = np.random.randn(6, 6) # (6 ga 6) taxminiy massiv\n",
        "arr"
      ],
      "metadata": {
        "colab": {
          "base_uri": "https://localhost:8080/"
        },
        "id": "JpVwrK79aZo1",
        "outputId": "1ecd7430-e1ef-4262-80d4-163f16b6cc72"
      },
      "execution_count": 22,
      "outputs": [
        {
          "output_type": "execute_result",
          "data": {
            "text/plain": [
              "array([[-0.2533072 ,  0.4802075 ,  0.21613153,  0.23554049, -1.09696669,\n",
              "         0.3432656 ],\n",
              "       [-0.16896046, -0.8455139 , -0.44416543, -0.96237538, -0.20075613,\n",
              "         0.27150117],\n",
              "       [ 0.27369624, -2.45841511, -0.46964997,  0.37993883,  0.03974829,\n",
              "        -0.33191987],\n",
              "       [ 0.50996101, -0.89914657, -0.06173669, -0.20122752, -0.0131778 ,\n",
              "         0.57582599],\n",
              "       [-0.53269301,  0.51966656, -0.42572031, -0.37212026,  1.00310959,\n",
              "         0.32014138],\n",
              "       [-0.73266662, -1.30368809,  0.19927892, -0.2375723 , -1.23909086,\n",
              "        -0.88853542]])"
            ]
          },
          "metadata": {},
          "execution_count": 22
        }
      ]
    },
    {
      "cell_type": "code",
      "source": [
        "# where\n",
        "result = np.where(arr<0, -2, 2) # arr ning manfiy elementlarini -2 ga musbat elementlarini esa 2 ga almashtirish\n",
        "result"
      ],
      "metadata": {
        "colab": {
          "base_uri": "https://localhost:8080/"
        },
        "id": "3OMZ9otqa_iS",
        "outputId": "4ce1db59-4746-4185-8c16-64c1573f5069"
      },
      "execution_count": 24,
      "outputs": [
        {
          "output_type": "execute_result",
          "data": {
            "text/plain": [
              "array([[-2,  2,  2,  2, -2,  2],\n",
              "       [-2, -2, -2, -2, -2,  2],\n",
              "       [ 2, -2, -2,  2,  2, -2],\n",
              "       [ 2, -2, -2, -2, -2,  2],\n",
              "       [-2,  2, -2, -2,  2,  2],\n",
              "       [-2, -2,  2, -2, -2, -2]])"
            ]
          },
          "metadata": {},
          "execution_count": 24
        }
      ]
    },
    {
      "cell_type": "code",
      "source": [],
      "metadata": {
        "id": "ImBV-7JJbe9P"
      },
      "execution_count": null,
      "outputs": []
    }
  ]
}