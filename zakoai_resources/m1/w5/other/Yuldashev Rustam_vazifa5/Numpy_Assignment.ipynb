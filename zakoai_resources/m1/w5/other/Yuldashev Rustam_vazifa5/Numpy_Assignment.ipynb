{
  "nbformat": 4,
  "nbformat_minor": 0,
  "metadata": {
    "colab": {
      "provenance": []
    },
    "kernelspec": {
      "name": "python3",
      "display_name": "Python 3"
    },
    "language_info": {
      "name": "python"
    }
  },
  "cells": [
    {
      "cell_type": "code",
      "execution_count": null,
      "metadata": {
        "id": "WMGrUVgfZPo9"
      },
      "outputs": [],
      "source": [
        "import numpy as np"
      ]
    },
    {
      "cell_type": "code",
      "source": [
        "# tezlika farq\n",
        "\n",
        "my_list = list(range(20000)) #0, 20000 (list)\n",
        "my_array = np.arange(2000) # 0, 2000 (array)\n",
        "\n",
        "my_array\n"
      ],
      "metadata": {
        "colab": {
          "base_uri": "https://localhost:8080/"
        },
        "id": "RRothUvZZaVk",
        "outputId": "2257720a-e4fd-4d37-94c9-f5d07126d388"
      },
      "execution_count": null,
      "outputs": [
        {
          "output_type": "execute_result",
          "data": {
            "text/plain": [
              "array([   0,    1,    2, ..., 1997, 1998, 1999])"
            ]
          },
          "metadata": {},
          "execution_count": 7
        }
      ]
    },
    {
      "cell_type": "code",
      "source": [
        "%%time\n",
        "for _ in range(2000): [x*2 for x in my_list] #Normal"
      ],
      "metadata": {
        "colab": {
          "base_uri": "https://localhost:8080/"
        },
        "id": "sMALnvgjalmE",
        "outputId": "f9c966ae-3162-486c-d069-328430ea47e5"
      },
      "execution_count": null,
      "outputs": [
        {
          "output_type": "stream",
          "name": "stdout",
          "text": [
            "CPU times: user 1.38 s, sys: 0 ns, total: 1.38 s\n",
            "Wall time: 1.39 s\n"
          ]
        }
      ]
    },
    {
      "cell_type": "code",
      "source": [
        "%%time\n",
        "for _ in range(2000): my_array*2"
      ],
      "metadata": {
        "colab": {
          "base_uri": "https://localhost:8080/"
        },
        "id": "OVTvBEwkbyHy",
        "outputId": "b286b366-3ae6-4774-eab5-85bd1cd195c7"
      },
      "execution_count": null,
      "outputs": [
        {
          "output_type": "stream",
          "name": "stdout",
          "text": [
            "CPU times: user 5.67 ms, sys: 0 ns, total: 5.67 ms\n",
            "Wall time: 5.67 ms\n"
          ]
        }
      ]
    },
    {
      "cell_type": "code",
      "source": [
        "l1 = [1, 2, 3]\n",
        "l1*2"
      ],
      "metadata": {
        "colab": {
          "base_uri": "https://localhost:8080/"
        },
        "id": "_PPsEcs6cbRX",
        "outputId": "511a3303-4b8e-4a76-c962-dc65bfa4e8a1"
      },
      "execution_count": null,
      "outputs": [
        {
          "output_type": "execute_result",
          "data": {
            "text/plain": [
              "[1, 2, 3, 1, 2, 3]"
            ]
          },
          "metadata": {},
          "execution_count": 14
        }
      ]
    },
    {
      "cell_type": "code",
      "source": [
        "arr1 = np.array([1, 2, 3])\n",
        "arr1*2"
      ],
      "metadata": {
        "colab": {
          "base_uri": "https://localhost:8080/"
        },
        "id": "3D1z1j75ctEy",
        "outputId": "ca019e38-076f-48cc-e9f2-bd96515717d7"
      },
      "execution_count": null,
      "outputs": [
        {
          "output_type": "execute_result",
          "data": {
            "text/plain": [
              "array([2, 4, 6])"
            ]
          },
          "metadata": {},
          "execution_count": 15
        }
      ]
    },
    {
      "cell_type": "code",
      "source": [
        "# Array yaratish\n",
        "data = [2.5, 4, 5, 6]\n",
        "arr1 = np.array(data)\n",
        "arr1"
      ],
      "metadata": {
        "colab": {
          "base_uri": "https://localhost:8080/"
        },
        "id": "_P8dhMRyc6tC",
        "outputId": "18ce5267-eef4-49ab-bdd8-ff2d767441b9"
      },
      "execution_count": null,
      "outputs": [
        {
          "output_type": "execute_result",
          "data": {
            "text/plain": [
              "array([2.5, 4. , 5. , 6. ])"
            ]
          },
          "metadata": {},
          "execution_count": 16
        }
      ]
    },
    {
      "cell_type": "code",
      "source": [
        "data"
      ],
      "metadata": {
        "colab": {
          "base_uri": "https://localhost:8080/"
        },
        "id": "8mPUk7FCeU8r",
        "outputId": "da836807-1c98-45fa-9c4c-426358977f26"
      },
      "execution_count": null,
      "outputs": [
        {
          "output_type": "execute_result",
          "data": {
            "text/plain": [
              "[2.5, 4, 5, 6]"
            ]
          },
          "metadata": {},
          "execution_count": 17
        }
      ]
    },
    {
      "cell_type": "code",
      "source": [
        "arr1"
      ],
      "metadata": {
        "colab": {
          "base_uri": "https://localhost:8080/"
        },
        "id": "86N4mCoQeXxA",
        "outputId": "787b234b-e497-4861-95fa-43fa0055f2f8"
      },
      "execution_count": null,
      "outputs": [
        {
          "output_type": "execute_result",
          "data": {
            "text/plain": [
              "array([2.5, 4. , 5. , 6. ])"
            ]
          },
          "metadata": {},
          "execution_count": 18
        }
      ]
    },
    {
      "cell_type": "code",
      "source": [
        "data2 =(4, 9, 2.1, 1) #tuple\n",
        "arr2 = np.array(data2)"
      ],
      "metadata": {
        "id": "MBOAd-AXeYtJ"
      },
      "execution_count": null,
      "outputs": []
    },
    {
      "cell_type": "code",
      "source": [
        "arr2"
      ],
      "metadata": {
        "colab": {
          "base_uri": "https://localhost:8080/"
        },
        "id": "49EUD-_feqPV",
        "outputId": "1f70c159-2f7f-4882-ac71-4c111a8fed67"
      },
      "execution_count": null,
      "outputs": [
        {
          "output_type": "execute_result",
          "data": {
            "text/plain": [
              "array([4. , 9. , 2.1, 1. ])"
            ]
          },
          "metadata": {},
          "execution_count": 20
        }
      ]
    },
    {
      "cell_type": "code",
      "source": [
        "# Massiv o'lchamli (ndim)\n",
        "\n",
        "arr2.ndim"
      ],
      "metadata": {
        "colab": {
          "base_uri": "https://localhost:8080/"
        },
        "id": "ehtAb6D8erun",
        "outputId": "477279d6-322c-4bca-f735-29dbf72da57c"
      },
      "execution_count": null,
      "outputs": [
        {
          "output_type": "execute_result",
          "data": {
            "text/plain": [
              "1"
            ]
          },
          "metadata": {},
          "execution_count": 22
        }
      ]
    },
    {
      "cell_type": "code",
      "source": [
        "# Ikki va undan katta o'lchamli massivlar\n",
        "\n",
        "data3 = [[1, 2, 3, 4], [5, 6, 7, 8]]\n",
        "arr3 = np.array(data3)"
      ],
      "metadata": {
        "id": "tC5f78QMfCA9"
      },
      "execution_count": null,
      "outputs": []
    },
    {
      "cell_type": "code",
      "source": [
        "arr3"
      ],
      "metadata": {
        "colab": {
          "base_uri": "https://localhost:8080/"
        },
        "id": "pdGKEqEdfpYS",
        "outputId": "80fe6ba8-9cb7-4ffe-d7e7-b7939fa21e6e"
      },
      "execution_count": null,
      "outputs": [
        {
          "output_type": "execute_result",
          "data": {
            "text/plain": [
              "array([[1, 2, 3, 4],\n",
              "       [5, 6, 7, 8]])"
            ]
          },
          "metadata": {},
          "execution_count": 25
        }
      ]
    },
    {
      "cell_type": "code",
      "source": [
        "arr3.ndim"
      ],
      "metadata": {
        "colab": {
          "base_uri": "https://localhost:8080/"
        },
        "id": "UkVJSBgbfyrd",
        "outputId": "87d00259-2484-4c96-fb3c-7a94dc6fbece"
      },
      "execution_count": null,
      "outputs": [
        {
          "output_type": "execute_result",
          "data": {
            "text/plain": [
              "2"
            ]
          },
          "metadata": {},
          "execution_count": 26
        }
      ]
    },
    {
      "cell_type": "code",
      "source": [
        "# shape, size attributlar"
      ],
      "metadata": {
        "id": "PGG6nvU6f05g"
      },
      "execution_count": null,
      "outputs": []
    },
    {
      "cell_type": "code",
      "source": [
        "arr2"
      ],
      "metadata": {
        "colab": {
          "base_uri": "https://localhost:8080/"
        },
        "id": "CGakEzi-f9lQ",
        "outputId": "8914ee60-f1b8-4898-c5ae-3b2750270038"
      },
      "execution_count": null,
      "outputs": [
        {
          "output_type": "execute_result",
          "data": {
            "text/plain": [
              "array([4. , 9. , 2.1, 1. ])"
            ]
          },
          "metadata": {},
          "execution_count": 27
        }
      ]
    },
    {
      "cell_type": "code",
      "source": [
        "arr2.shape"
      ],
      "metadata": {
        "colab": {
          "base_uri": "https://localhost:8080/"
        },
        "id": "oYjcQXjqf-vL",
        "outputId": "2095c567-940a-4b7c-a18b-c12a76570897"
      },
      "execution_count": null,
      "outputs": [
        {
          "output_type": "execute_result",
          "data": {
            "text/plain": [
              "(4,)"
            ]
          },
          "metadata": {},
          "execution_count": 29
        }
      ]
    },
    {
      "cell_type": "code",
      "source": [
        " arr3"
      ],
      "metadata": {
        "colab": {
          "base_uri": "https://localhost:8080/"
        },
        "id": "NSPcukB7gGG_",
        "outputId": "81dd07c8-26f6-41a9-cf05-995f907060bd"
      },
      "execution_count": null,
      "outputs": [
        {
          "output_type": "execute_result",
          "data": {
            "text/plain": [
              "array([[1, 2, 3, 4],\n",
              "       [5, 6, 7, 8]])"
            ]
          },
          "metadata": {},
          "execution_count": 30
        }
      ]
    },
    {
      "cell_type": "code",
      "source": [
        "arr3.shape"
      ],
      "metadata": {
        "colab": {
          "base_uri": "https://localhost:8080/"
        },
        "id": "V9IfoYHFg2NV",
        "outputId": "dea9bcb5-acc6-46ee-adaf-4e1a9e8aead1"
      },
      "execution_count": null,
      "outputs": [
        {
          "output_type": "execute_result",
          "data": {
            "text/plain": [
              "(2, 4)"
            ]
          },
          "metadata": {},
          "execution_count": 31
        }
      ]
    },
    {
      "cell_type": "code",
      "source": [
        "# size\n",
        "arr2.size"
      ],
      "metadata": {
        "colab": {
          "base_uri": "https://localhost:8080/"
        },
        "id": "cqhhI_PJg5gS",
        "outputId": "a5dbe892-5825-4ed9-b418-bc9e3a71bca7"
      },
      "execution_count": null,
      "outputs": [
        {
          "output_type": "execute_result",
          "data": {
            "text/plain": [
              "4"
            ]
          },
          "metadata": {},
          "execution_count": 32
        }
      ]
    },
    {
      "cell_type": "code",
      "source": [
        "arr3.size"
      ],
      "metadata": {
        "colab": {
          "base_uri": "https://localhost:8080/"
        },
        "id": "YGdqlP1oh1wX",
        "outputId": "272c22c6-3259-4964-d7f5-22ad2cd82512"
      },
      "execution_count": null,
      "outputs": [
        {
          "output_type": "execute_result",
          "data": {
            "text/plain": [
              "8"
            ]
          },
          "metadata": {},
          "execution_count": 33
        }
      ]
    },
    {
      "cell_type": "code",
      "source": [
        " # N-o'lchamli massivlar yaratishning boshqa usullari\n",
        "\n",
        "# zeros va ones funksiyalari yotdamida massivlar yaratish"
      ],
      "metadata": {
        "id": "KF2_plgqh3Ls"
      },
      "execution_count": null,
      "outputs": []
    },
    {
      "cell_type": "code",
      "source": [
        "arr4 = np.zeros((2, 4)) # 2x4 o'lchamli barcha elementlari 0 dan iborat array"
      ],
      "metadata": {
        "id": "AWjXcX6iiWDj"
      },
      "execution_count": null,
      "outputs": []
    },
    {
      "cell_type": "code",
      "source": [
        "arr4"
      ],
      "metadata": {
        "colab": {
          "base_uri": "https://localhost:8080/"
        },
        "id": "2MALHBzbijo-",
        "outputId": "8612d1c6-26c1-4cc0-be2b-3d6ab92b564a"
      },
      "execution_count": null,
      "outputs": [
        {
          "output_type": "execute_result",
          "data": {
            "text/plain": [
              "array([[0., 0., 0., 0.],\n",
              "       [0., 0., 0., 0.]])"
            ]
          },
          "metadata": {},
          "execution_count": 35
        }
      ]
    },
    {
      "cell_type": "code",
      "source": [
        "arr5 = np.ones((2, 4)) # 2x4 o'lchamli barcha elementlari 1 dan iborat array"
      ],
      "metadata": {
        "id": "Q7cs1YOHikPT"
      },
      "execution_count": null,
      "outputs": []
    },
    {
      "cell_type": "code",
      "source": [
        "arr5"
      ],
      "metadata": {
        "colab": {
          "base_uri": "https://localhost:8080/"
        },
        "id": "n9NaOPA_iwYQ",
        "outputId": "9bb9cf13-6e6e-479c-a0e6-27c805832847"
      },
      "execution_count": null,
      "outputs": [
        {
          "output_type": "execute_result",
          "data": {
            "text/plain": [
              "array([[1., 1., 1., 1.],\n",
              "       [1., 1., 1., 1.]])"
            ]
          },
          "metadata": {},
          "execution_count": 37
        }
      ]
    },
    {
      "cell_type": "code",
      "source": [
        "# arange\n",
        "arr6 = np.arange(5, 30, 4)"
      ],
      "metadata": {
        "id": "j126f-vnixJe"
      },
      "execution_count": null,
      "outputs": []
    },
    {
      "cell_type": "code",
      "source": [
        "arr6"
      ],
      "metadata": {
        "colab": {
          "base_uri": "https://localhost:8080/"
        },
        "id": "5jZRFyUcjqLH",
        "outputId": "77934fea-88ef-4127-a1c8-c74677aaa44a"
      },
      "execution_count": null,
      "outputs": [
        {
          "output_type": "execute_result",
          "data": {
            "text/plain": [
              "array([ 5,  9, 13, 17, 21, 25, 29])"
            ]
          },
          "metadata": {},
          "execution_count": 41
        }
      ]
    },
    {
      "cell_type": "code",
      "source": [
        "# random\n",
        "np.random.seed(4)\n",
        "arr7 = np.random.rand(2, 4)\n",
        "arr7"
      ],
      "metadata": {
        "colab": {
          "base_uri": "https://localhost:8080/"
        },
        "id": "0j6dqF3kjz60",
        "outputId": "59d7c71d-29c9-4062-c1bc-c39ebcf5d5d8"
      },
      "execution_count": null,
      "outputs": [
        {
          "output_type": "execute_result",
          "data": {
            "text/plain": [
              "array([[0.96702984, 0.54723225, 0.97268436, 0.71481599],\n",
              "       [0.69772882, 0.2160895 , 0.97627445, 0.00623026]])"
            ]
          },
          "metadata": {},
          "execution_count": 61
        }
      ]
    },
    {
      "cell_type": "code",
      "source": [
        "# Normal distribution sampling\n",
        "np.random.seed(4)\n",
        "arr8 = np.random.randn(4, 8)"
      ],
      "metadata": {
        "id": "d9rwsOYHkHPo"
      },
      "execution_count": null,
      "outputs": []
    },
    {
      "cell_type": "code",
      "source": [
        "arr8"
      ],
      "metadata": {
        "colab": {
          "base_uri": "https://localhost:8080/"
        },
        "id": "jThCPp6dlRo9",
        "outputId": "7aedb9ac-d2fe-459d-8604-2d98ebae9a56"
      },
      "execution_count": null,
      "outputs": [
        {
          "output_type": "execute_result",
          "data": {
            "text/plain": [
              "array([[ 0.05056171,  0.49995133, -0.99590893,  0.69359851, -0.41830152,\n",
              "        -1.58457724, -0.64770677,  0.59857517],\n",
              "       [ 0.33225003, -1.14747663,  0.61866969, -0.08798693,  0.4250724 ,\n",
              "         0.33225315, -1.15681626,  0.35099715],\n",
              "       [-0.60688728,  1.54697933,  0.72334161,  0.04613557, -0.98299165,\n",
              "         0.05443274,  0.15989294, -1.20894816],\n",
              "       [ 2.22336022,  0.39429521,  1.69235772, -1.11281215,  1.63574754,\n",
              "        -1.36096559, -0.65122583,  0.54245131]])"
            ]
          },
          "metadata": {},
          "execution_count": 69
        }
      ]
    },
    {
      "cell_type": "code",
      "source": [
        "arr9 = np.random.randint(2, 5 , size = (2,4))"
      ],
      "metadata": {
        "id": "QmBoGtAllSeC"
      },
      "execution_count": null,
      "outputs": []
    },
    {
      "cell_type": "code",
      "source": [
        "arr9"
      ],
      "metadata": {
        "colab": {
          "base_uri": "https://localhost:8080/"
        },
        "id": "RNwarbwllt0f",
        "outputId": "7b376b76-0c9e-4e54-a14b-0db437a4b7b6"
      },
      "execution_count": null,
      "outputs": [
        {
          "output_type": "execute_result",
          "data": {
            "text/plain": [
              "array([[3, 3, 3, 2],\n",
              "       [4, 4, 2, 4]])"
            ]
          },
          "metadata": {},
          "execution_count": 86
        }
      ]
    },
    {
      "cell_type": "code",
      "source": [
        "eye = np.eye(4)"
      ],
      "metadata": {
        "id": "h85wf2ITlzYT"
      },
      "execution_count": null,
      "outputs": []
    },
    {
      "cell_type": "code",
      "source": [
        "eye"
      ],
      "metadata": {
        "colab": {
          "base_uri": "https://localhost:8080/"
        },
        "id": "UrTsVkW_mJxR",
        "outputId": "2661d5be-11f0-48e9-a64d-5536a44c7196"
      },
      "execution_count": null,
      "outputs": [
        {
          "output_type": "execute_result",
          "data": {
            "text/plain": [
              "array([[1., 0., 0., 0.],\n",
              "       [0., 1., 0., 0.],\n",
              "       [0., 0., 1., 0.],\n",
              "       [0., 0., 0., 1.]])"
            ]
          },
          "metadata": {},
          "execution_count": 88
        }
      ]
    },
    {
      "cell_type": "code",
      "source": [
        "# Massivlar yaratish\n",
        "\n",
        "arr10 = np.array([1, 2, 3], dtype = np.int32)"
      ],
      "metadata": {
        "id": "ONeTgReymKtv"
      },
      "execution_count": null,
      "outputs": []
    },
    {
      "cell_type": "code",
      "source": [
        "arr10"
      ],
      "metadata": {
        "colab": {
          "base_uri": "https://localhost:8080/"
        },
        "id": "RoxwJ9hDom3L",
        "outputId": "754fd866-52eb-408d-bf6c-13378074c432"
      },
      "execution_count": null,
      "outputs": [
        {
          "output_type": "execute_result",
          "data": {
            "text/plain": [
              "array([1, 2, 3], dtype=int32)"
            ]
          },
          "metadata": {},
          "execution_count": 105
        }
      ]
    },
    {
      "cell_type": "code",
      "source": [
        "arr10.itemsize"
      ],
      "metadata": {
        "colab": {
          "base_uri": "https://localhost:8080/"
        },
        "id": "C3JlKRKHon_9",
        "outputId": "89740016-d3eb-4ee6-a6fb-349631144d3d"
      },
      "execution_count": null,
      "outputs": [
        {
          "output_type": "execute_result",
          "data": {
            "text/plain": [
              "4"
            ]
          },
          "metadata": {},
          "execution_count": 100
        }
      ]
    },
    {
      "cell_type": "code",
      "source": [
        "arr10.nbytes"
      ],
      "metadata": {
        "colab": {
          "base_uri": "https://localhost:8080/"
        },
        "id": "542Sf6cDouCr",
        "outputId": "6545e50f-8c88-43f0-db35-e0036a52de66"
      },
      "execution_count": null,
      "outputs": [
        {
          "output_type": "execute_result",
          "data": {
            "text/plain": [
              "12"
            ]
          },
          "metadata": {},
          "execution_count": 101
        }
      ]
    },
    {
      "cell_type": "code",
      "source": [
        "arr9"
      ],
      "metadata": {
        "colab": {
          "base_uri": "https://localhost:8080/"
        },
        "id": "EOVePmCSp2RH",
        "outputId": "c8f681b3-53d3-4c2e-8141-7c8abdb55642"
      },
      "execution_count": null,
      "outputs": [
        {
          "output_type": "execute_result",
          "data": {
            "text/plain": [
              "array([[3, 3, 3, 2],\n",
              "       [4, 4, 2, 4]])"
            ]
          },
          "metadata": {},
          "execution_count": 102
        }
      ]
    },
    {
      "cell_type": "code",
      "source": [
        "arr8.dtype"
      ],
      "metadata": {
        "colab": {
          "base_uri": "https://localhost:8080/"
        },
        "id": "YYuTyputp4vt",
        "outputId": "d5912f50-bf4d-47bb-da7f-3c057d88a4c9"
      },
      "execution_count": null,
      "outputs": [
        {
          "output_type": "execute_result",
          "data": {
            "text/plain": [
              "dtype('float64')"
            ]
          },
          "metadata": {},
          "execution_count": 103
        }
      ]
    },
    {
      "cell_type": "code",
      "source": [
        "arr8[0, 1] = 2"
      ],
      "metadata": {
        "id": "T7mujtiDp8Me"
      },
      "execution_count": null,
      "outputs": []
    },
    {
      "cell_type": "code",
      "source": [
        "arr8"
      ],
      "metadata": {
        "colab": {
          "base_uri": "https://localhost:8080/"
        },
        "id": "vZsuUTPwqj0W",
        "outputId": "1bafbd7a-afdc-4847-ebce-8451363af8ad"
      },
      "execution_count": null,
      "outputs": [
        {
          "output_type": "execute_result",
          "data": {
            "text/plain": [
              "array([[ 0.05056171,  2.        , -0.99590893,  0.69359851, -0.41830152,\n",
              "        -1.58457724, -0.64770677,  0.59857517],\n",
              "       [ 0.33225003, -1.14747663,  0.61866969, -0.08798693,  0.4250724 ,\n",
              "         0.33225315, -1.15681626,  0.35099715],\n",
              "       [-0.60688728,  1.54697933,  0.72334161,  0.04613557, -0.98299165,\n",
              "         0.05443274,  0.15989294, -1.20894816],\n",
              "       [ 2.22336022,  0.39429521,  1.69235772, -1.11281215,  1.63574754,\n",
              "        -1.36096559, -0.65122583,  0.54245131]])"
            ]
          },
          "metadata": {},
          "execution_count": 107
        }
      ]
    },
    {
      "cell_type": "code",
      "source": [
        "arr9[0, 2] = 1.9\n",
        "arr9"
      ],
      "metadata": {
        "colab": {
          "base_uri": "https://localhost:8080/"
        },
        "id": "m6_vO_rnqkx5",
        "outputId": "86ac6f21-1db2-4dc3-ea6b-850a6c948cc7"
      },
      "execution_count": null,
      "outputs": [
        {
          "output_type": "execute_result",
          "data": {
            "text/plain": [
              "array([[3, 3, 1, 2],\n",
              "       [4, 4, 2, 4]])"
            ]
          },
          "metadata": {},
          "execution_count": 111
        }
      ]
    },
    {
      "cell_type": "code",
      "source": [
        "# bir turdagi ma'lumotlarni boshqa turga ogirish\n",
        "\n",
        "arr11 = np.random.randn(2, 5) #2x5 normal dist.dan sampling\n",
        "arr11"
      ],
      "metadata": {
        "colab": {
          "base_uri": "https://localhost:8080/"
        },
        "id": "Fr90P3Rkqqli",
        "outputId": "bc7d2537-b01e-454a-f1a9-98652094d531"
      },
      "execution_count": null,
      "outputs": [
        {
          "output_type": "execute_result",
          "data": {
            "text/plain": [
              "array([[ 0.09739415, -0.10913821,  0.6752176 ,  1.02096908,  0.52845098],\n",
              "       [ 0.18180266, -0.11186876, -1.59203303,  0.72865586, -0.33880365]])"
            ]
          },
          "metadata": {},
          "execution_count": 113
        }
      ]
    },
    {
      "cell_type": "code",
      "source": [
        "arr11.astype(np.int64) # int64 dtypega o'girish"
      ],
      "metadata": {
        "colab": {
          "base_uri": "https://localhost:8080/"
        },
        "id": "OWzBj6JAraJv",
        "outputId": "38127602-525c-4f62-d975-7c2c104dea19"
      },
      "execution_count": null,
      "outputs": [
        {
          "output_type": "execute_result",
          "data": {
            "text/plain": [
              "array([[ 0,  0,  0,  1,  0],\n",
              "       [ 0,  0, -1,  0,  0]])"
            ]
          },
          "metadata": {},
          "execution_count": 114
        }
      ]
    },
    {
      "cell_type": "code",
      "source": [],
      "metadata": {
        "id": "5TZ9DtGnrnOI"
      },
      "execution_count": null,
      "outputs": []
    }
  ]
}