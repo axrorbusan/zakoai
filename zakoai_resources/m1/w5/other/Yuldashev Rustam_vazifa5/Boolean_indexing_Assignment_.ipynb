{
  "nbformat": 4,
  "nbformat_minor": 0,
  "metadata": {
    "colab": {
      "provenance": []
    },
    "kernelspec": {
      "name": "python3",
      "display_name": "Python 3"
    },
    "language_info": {
      "name": "python"
    }
  },
  "cells": [
    {
      "cell_type": "code",
      "execution_count": 1,
      "metadata": {
        "id": "JHzoGXvfSIKH"
      },
      "outputs": [],
      "source": [
        "import numpy as np"
      ]
    },
    {
      "cell_type": "code",
      "source": [
        "# Ismlar\n",
        "names = np.array(['Islom', 'Siroj', 'Shaxboz', 'Islom' ,'Ozodbek', 'Suhrob', 'Dilshod'])\n",
        "names"
      ],
      "metadata": {
        "colab": {
          "base_uri": "https://localhost:8080/"
        },
        "id": "osq-39aRSoaO",
        "outputId": "ab2d30d1-6caf-47d3-f8bf-0e270ca1b576"
      },
      "execution_count": 4,
      "outputs": [
        {
          "output_type": "execute_result",
          "data": {
            "text/plain": [
              "array(['Islom', 'Siroj', 'Shaxboz', 'Islom', 'Ozodbek', 'Suhrob',\n",
              "       'Dilshod'], dtype='<U7')"
            ]
          },
          "metadata": {},
          "execution_count": 4
        }
      ]
    },
    {
      "cell_type": "code",
      "source": [
        "# data\n",
        "data = np.random.randn(7, 5) # 7 ta insonga tog'ri keladigan ma'lumotlar (7x5 ulchamli)\n",
        "data"
      ],
      "metadata": {
        "colab": {
          "base_uri": "https://localhost:8080/"
        },
        "id": "HEZfNE0bTCU8",
        "outputId": "44adc603-7c8e-41cf-92d4-ac0465064d6c"
      },
      "execution_count": 5,
      "outputs": [
        {
          "output_type": "execute_result",
          "data": {
            "text/plain": [
              "array([[-0.91146962, -0.76622313,  1.6146796 ,  0.04663843, -0.09685263],\n",
              "       [-1.05639391, -0.84816033,  0.49064271, -1.68194662, -0.31275983],\n",
              "       [-0.595097  ,  0.31837169, -0.63979382, -0.03131222, -1.34731657],\n",
              "       [-0.40319926, -0.71872087, -1.47265383,  1.34837704,  1.28556547],\n",
              "       [-1.27718693, -1.01233964,  0.51947606,  1.21327388,  1.15139761],\n",
              "       [-1.04535145,  0.38876984, -1.53958735, -0.94002732, -0.06677832],\n",
              "       [-0.70880379,  1.55176845, -0.33058817,  0.29309254, -0.36725659]])"
            ]
          },
          "metadata": {},
          "execution_count": 5
        }
      ]
    },
    {
      "cell_type": "code",
      "source": [
        "names == 'Islom' # bulieni == teng bulgan maulomotlarni chaqiradi"
      ],
      "metadata": {
        "colab": {
          "base_uri": "https://localhost:8080/"
        },
        "id": "NmvtQcdqTgIK",
        "outputId": "1f2baa0d-c563-420b-f20c-e08dba4b0a3f"
      },
      "execution_count": 6,
      "outputs": [
        {
          "output_type": "execute_result",
          "data": {
            "text/plain": [
              "array([ True, False, False,  True, False, False, False])"
            ]
          },
          "metadata": {},
          "execution_count": 6
        }
      ]
    },
    {
      "cell_type": "code",
      "source": [
        "# Boolien masking\n",
        "\n",
        "data[names == \"Islom\"] # Islomga tegishli barcha qiymatlarni qaytaradi"
      ],
      "metadata": {
        "colab": {
          "base_uri": "https://localhost:8080/"
        },
        "id": "pjCFmuDjTwlF",
        "outputId": "8b7850e9-45d1-4f46-f23d-ac4de8f80b89"
      },
      "execution_count": 7,
      "outputs": [
        {
          "output_type": "execute_result",
          "data": {
            "text/plain": [
              "array([[-0.91146962, -0.76622313,  1.6146796 ,  0.04663843, -0.09685263],\n",
              "       [-0.40319926, -0.71872087, -1.47265383,  1.34837704,  1.28556547]])"
            ]
          },
          "metadata": {},
          "execution_count": 7
        }
      ]
    },
    {
      "cell_type": "code",
      "source": [
        "data[names == \"Siroj\"]  # Sirojga tegishli barcha malumotlarni ajratib oladi"
      ],
      "metadata": {
        "colab": {
          "base_uri": "https://localhost:8080/"
        },
        "id": "N73H1F0eULnh",
        "outputId": "44fe65a6-1f45-47fd-9797-9b080a9e9987"
      },
      "execution_count": 8,
      "outputs": [
        {
          "output_type": "execute_result",
          "data": {
            "text/plain": [
              "array([[-1.05639391, -0.84816033,  0.49064271, -1.68194662, -0.31275983]])"
            ]
          },
          "metadata": {},
          "execution_count": 8
        }
      ]
    },
    {
      "cell_type": "code",
      "source": [
        "data[names == \"Islom\", 2:] # Islomga tegishli oldingi ikki ustundan keyingi malumotlarni ajratib olish"
      ],
      "metadata": {
        "colab": {
          "base_uri": "https://localhost:8080/"
        },
        "id": "X5zuxaVVWJBL",
        "outputId": "e5a8f97f-9066-4827-9663-5f181fa485af"
      },
      "execution_count": 9,
      "outputs": [
        {
          "output_type": "execute_result",
          "data": {
            "text/plain": [
              "array([[ 1.6146796 ,  0.04663843, -0.09685263],\n",
              "       [-1.47265383,  1.34837704,  1.28556547]])"
            ]
          },
          "metadata": {},
          "execution_count": 9
        }
      ]
    },
    {
      "cell_type": "code",
      "source": [
        "data [names != 'Islom'] # != teng emas belgisi Islomga tegishli bulmagan barcha insonlarning malumotini ajratib olish"
      ],
      "metadata": {
        "colab": {
          "base_uri": "https://localhost:8080/"
        },
        "id": "cO1_r7FDWYM6",
        "outputId": "6e11f27a-50ee-4e7e-bec2-3b7b5452f6e5"
      },
      "execution_count": 10,
      "outputs": [
        {
          "output_type": "execute_result",
          "data": {
            "text/plain": [
              "array([[-1.05639391, -0.84816033,  0.49064271, -1.68194662, -0.31275983],\n",
              "       [-0.595097  ,  0.31837169, -0.63979382, -0.03131222, -1.34731657],\n",
              "       [-1.27718693, -1.01233964,  0.51947606,  1.21327388,  1.15139761],\n",
              "       [-1.04535145,  0.38876984, -1.53958735, -0.94002732, -0.06677832],\n",
              "       [-0.70880379,  1.55176845, -0.33058817,  0.29309254, -0.36725659]])"
            ]
          },
          "metadata": {},
          "execution_count": 10
        }
      ]
    },
    {
      "cell_type": "code",
      "source": [
        "data [~ (names == 'Islom')] # yuqoridagi ammal bilan birxil"
      ],
      "metadata": {
        "colab": {
          "base_uri": "https://localhost:8080/"
        },
        "id": "sf7wz2CZW3hk",
        "outputId": "96ab9dd2-7e5b-4a34-c124-cd01ada2954c"
      },
      "execution_count": 11,
      "outputs": [
        {
          "output_type": "execute_result",
          "data": {
            "text/plain": [
              "array([[-1.05639391, -0.84816033,  0.49064271, -1.68194662, -0.31275983],\n",
              "       [-0.595097  ,  0.31837169, -0.63979382, -0.03131222, -1.34731657],\n",
              "       [-1.27718693, -1.01233964,  0.51947606,  1.21327388,  1.15139761],\n",
              "       [-1.04535145,  0.38876984, -1.53958735, -0.94002732, -0.06677832],\n",
              "       [-0.70880379,  1.55176845, -0.33058817,  0.29309254, -0.36725659]])"
            ]
          },
          "metadata": {},
          "execution_count": 11
        }
      ]
    },
    {
      "cell_type": "code",
      "source": [
        "# Join condition\n",
        "print(names)\n",
        "print(data)"
      ],
      "metadata": {
        "colab": {
          "base_uri": "https://localhost:8080/"
        },
        "id": "sw2s_CUzXC6t",
        "outputId": "1d70c31f-7fc1-415b-c676-48e5cbfc2da4"
      },
      "execution_count": 12,
      "outputs": [
        {
          "output_type": "stream",
          "name": "stdout",
          "text": [
            "['Islom' 'Siroj' 'Shaxboz' 'Islom' 'Ozodbek' 'Suhrob' 'Dilshod']\n",
            "[[-0.91146962 -0.76622313  1.6146796   0.04663843 -0.09685263]\n",
            " [-1.05639391 -0.84816033  0.49064271 -1.68194662 -0.31275983]\n",
            " [-0.595097    0.31837169 -0.63979382 -0.03131222 -1.34731657]\n",
            " [-0.40319926 -0.71872087 -1.47265383  1.34837704  1.28556547]\n",
            " [-1.27718693 -1.01233964  0.51947606  1.21327388  1.15139761]\n",
            " [-1.04535145  0.38876984 -1.53958735 -0.94002732 -0.06677832]\n",
            " [-0.70880379  1.55176845 -0.33058817  0.29309254 -0.36725659]]\n"
          ]
        }
      ]
    },
    {
      "cell_type": "code",
      "source": [
        "mask = (names == 'Islom') | (names == 'Shaxboz') # \"|\" , or  (yoki) u yoki bu isimli insonga tegishli malumotlarni ajratadi\n",
        "mask"
      ],
      "metadata": {
        "colab": {
          "base_uri": "https://localhost:8080/"
        },
        "id": "zaTaCJXVXMFH",
        "outputId": "610ef1e0-212e-40fd-9074-e6f15143a406"
      },
      "execution_count": 15,
      "outputs": [
        {
          "output_type": "execute_result",
          "data": {
            "text/plain": [
              "array([ True, False,  True,  True, False, False, False])"
            ]
          },
          "metadata": {},
          "execution_count": 15
        }
      ]
    },
    {
      "cell_type": "code",
      "source": [
        "data[mask, :2] # Islomga va Shaxbozga tegishli ma'lumotlani ajratib olish"
      ],
      "metadata": {
        "colab": {
          "base_uri": "https://localhost:8080/"
        },
        "id": "4EAvhnLrXkwZ",
        "outputId": "3cf7256a-9cd3-4989-8945-a839ced35ec4"
      },
      "execution_count": 16,
      "outputs": [
        {
          "output_type": "execute_result",
          "data": {
            "text/plain": [
              "array([[-0.91146962, -0.76622313],\n",
              "       [-0.595097  ,  0.31837169],\n",
              "       [-0.40319926, -0.71872087]])"
            ]
          },
          "metadata": {},
          "execution_count": 16
        }
      ]
    },
    {
      "cell_type": "code",
      "source": [
        "data"
      ],
      "metadata": {
        "colab": {
          "base_uri": "https://localhost:8080/"
        },
        "id": "JnoP66VDX9dW",
        "outputId": "dd99b5cf-7abe-4cd8-c652-327aefe99c7a"
      },
      "execution_count": 17,
      "outputs": [
        {
          "output_type": "execute_result",
          "data": {
            "text/plain": [
              "array([[-0.91146962, -0.76622313,  1.6146796 ,  0.04663843, -0.09685263],\n",
              "       [-1.05639391, -0.84816033,  0.49064271, -1.68194662, -0.31275983],\n",
              "       [-0.595097  ,  0.31837169, -0.63979382, -0.03131222, -1.34731657],\n",
              "       [-0.40319926, -0.71872087, -1.47265383,  1.34837704,  1.28556547],\n",
              "       [-1.27718693, -1.01233964,  0.51947606,  1.21327388,  1.15139761],\n",
              "       [-1.04535145,  0.38876984, -1.53958735, -0.94002732, -0.06677832],\n",
              "       [-0.70880379,  1.55176845, -0.33058817,  0.29309254, -0.36725659]])"
            ]
          },
          "metadata": {},
          "execution_count": 17
        }
      ]
    },
    {
      "cell_type": "code",
      "source": [
        "data[data<=0] = 0\n",
        "data"
      ],
      "metadata": {
        "colab": {
          "base_uri": "https://localhost:8080/"
        },
        "id": "AjI-oogGYBfc",
        "outputId": "7e2ba4ba-1a35-4aca-b3d5-f4a26b89c78f"
      },
      "execution_count": 18,
      "outputs": [
        {
          "output_type": "execute_result",
          "data": {
            "text/plain": [
              "array([[0.        , 0.        , 1.6146796 , 0.04663843, 0.        ],\n",
              "       [0.        , 0.        , 0.49064271, 0.        , 0.        ],\n",
              "       [0.        , 0.31837169, 0.        , 0.        , 0.        ],\n",
              "       [0.        , 0.        , 0.        , 1.34837704, 1.28556547],\n",
              "       [0.        , 0.        , 0.51947606, 1.21327388, 1.15139761],\n",
              "       [0.        , 0.38876984, 0.        , 0.        , 0.        ],\n",
              "       [0.        , 1.55176845, 0.        , 0.29309254, 0.        ]])"
            ]
          },
          "metadata": {},
          "execution_count": 18
        }
      ]
    },
    {
      "cell_type": "code",
      "source": [],
      "metadata": {
        "id": "IMY6E1WoYINW"
      },
      "execution_count": null,
      "outputs": []
    }
  ]
}