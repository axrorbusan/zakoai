{
  "nbformat": 4,
  "nbformat_minor": 0,
  "metadata": {
    "colab": {
      "provenance": []
    },
    "kernelspec": {
      "name": "python3",
      "display_name": "Python 3"
    },
    "language_info": {
      "name": "python"
    }
  },
  "cells": [
    {
      "cell_type": "code",
      "execution_count": null,
      "metadata": {
        "id": "TTAJo6-Z4dza",
        "colab": {
          "base_uri": "https://localhost:8080/"
        },
        "outputId": "f7e45aef-c3f6-4434-f28a-db4302b76368"
      },
      "outputs": [
        {
          "output_type": "execute_result",
          "data": {
            "text/plain": [
              "array([   0,    1,    2, ..., 9997, 9998, 9999])"
            ]
          },
          "metadata": {},
          "execution_count": 2
        }
      ],
      "source": [
        "import numpy as np\n",
        "\n",
        "# Tezlikdagi farq\n",
        "my_list = list(range(10000))\n",
        "my_array = np.array(range(10000))\n",
        "my_list\n",
        "my_array"
      ]
    },
    {
      "cell_type": "code",
      "source": [
        " %%time\n",
        " for _ in range(1000): [x*2 for x in my_list] # normal"
      ],
      "metadata": {
        "colab": {
          "base_uri": "https://localhost:8080/"
        },
        "id": "9z5QlY8jDPuX",
        "outputId": "56c87de8-3b2c-4ff0-ea80-b641d809f865"
      },
      "execution_count": null,
      "outputs": [
        {
          "output_type": "stream",
          "name": "stdout",
          "text": [
            "CPU times: user 364 ms, sys: 967 µs, total: 365 ms\n",
            "Wall time: 368 ms\n"
          ]
        }
      ]
    },
    {
      "cell_type": "code",
      "source": [
        "%%time\n",
        "for _ in range(1000): my_array * 2 # numpy"
      ],
      "metadata": {
        "colab": {
          "base_uri": "https://localhost:8080/"
        },
        "id": "t5pz1w-ZEDJB",
        "outputId": "93835146-979a-413e-bf50-639823d9d6cb"
      },
      "execution_count": null,
      "outputs": [
        {
          "output_type": "stream",
          "name": "stdout",
          "text": [
            "CPU times: user 12.3 ms, sys: 0 ns, total: 12.3 ms\n",
            "Wall time: 25.5 ms\n"
          ]
        }
      ]
    },
    {
      "cell_type": "code",
      "source": [
        "l1 = [1, 2, 3, 5]\n",
        "l1*2 # for list"
      ],
      "metadata": {
        "colab": {
          "base_uri": "https://localhost:8080/"
        },
        "id": "EoB5vrONENEN",
        "outputId": "04d8901d-447c-4b05-df7d-80e3578082ce"
      },
      "execution_count": null,
      "outputs": [
        {
          "output_type": "execute_result",
          "data": {
            "text/plain": [
              "[1, 2, 3, 5, 1, 2, 3, 5]"
            ]
          },
          "metadata": {},
          "execution_count": 11
        }
      ]
    },
    {
      "cell_type": "code",
      "source": [
        "arr = np.array(l1)\n",
        "arr*2 # for array numpy"
      ],
      "metadata": {
        "colab": {
          "base_uri": "https://localhost:8080/"
        },
        "id": "bMd7J1ROEkSQ",
        "outputId": "4a359662-f700-48ea-ebea-3d77c821f6e6"
      },
      "execution_count": null,
      "outputs": [
        {
          "output_type": "execute_result",
          "data": {
            "text/plain": [
              "array([ 2,  4,  6, 10])"
            ]
          },
          "metadata": {},
          "execution_count": 29
        }
      ]
    },
    {
      "cell_type": "markdown",
      "source": [
        "Making array"
      ],
      "metadata": {
        "id": "c25dp7oBFIiX"
      }
    },
    {
      "cell_type": "code",
      "source": [
        "# data yaratish\n",
        "data = [3.5, 5, 6, 2] # list\n",
        "arr1 = np.array(data)\n",
        "arr1"
      ],
      "metadata": {
        "colab": {
          "base_uri": "https://localhost:8080/"
        },
        "id": "Z7JLyCsUE3Oq",
        "outputId": "5930f873-e858-4eea-c67a-01da7623a810"
      },
      "execution_count": null,
      "outputs": [
        {
          "output_type": "execute_result",
          "data": {
            "text/plain": [
              "array([3.5, 5. , 6. , 2. ])"
            ]
          },
          "metadata": {},
          "execution_count": 25
        }
      ]
    },
    {
      "cell_type": "code",
      "source": [
        "data"
      ],
      "metadata": {
        "colab": {
          "base_uri": "https://localhost:8080/"
        },
        "id": "u7oHaTU8FVxc",
        "outputId": "5f780100-4d1a-44bb-ed26-ec5fb13819c4"
      },
      "execution_count": null,
      "outputs": [
        {
          "output_type": "execute_result",
          "data": {
            "text/plain": [
              "[3.5, 5, 6, 2]"
            ]
          },
          "metadata": {},
          "execution_count": 20
        }
      ]
    },
    {
      "cell_type": "code",
      "source": [
        "arr1"
      ],
      "metadata": {
        "colab": {
          "base_uri": "https://localhost:8080/"
        },
        "id": "YJ7y3Q7LF5Xt",
        "outputId": "98dff088-cd8e-49e9-fe08-198dffd5f195"
      },
      "execution_count": null,
      "outputs": [
        {
          "output_type": "execute_result",
          "data": {
            "text/plain": [
              "array([3.5, 5. , 6. , 2. ])"
            ]
          },
          "metadata": {},
          "execution_count": 30
        }
      ]
    },
    {
      "cell_type": "code",
      "source": [
        "data2 = (1, 4, 6, 10)# tuple\n",
        "arr2 = np.array(data2)\n",
        "arr2"
      ],
      "metadata": {
        "colab": {
          "base_uri": "https://localhost:8080/"
        },
        "id": "ajGPkGc1F6nx",
        "outputId": "ab8a3b70-aacd-4d03-b87f-1c72682e3804"
      },
      "execution_count": null,
      "outputs": [
        {
          "output_type": "execute_result",
          "data": {
            "text/plain": [
              "array([ 1,  4,  6, 10])"
            ]
          },
          "metadata": {},
          "execution_count": 28
        }
      ]
    },
    {
      "cell_type": "markdown",
      "source": [
        "Massiv o'lchami (ndim)"
      ],
      "metadata": {
        "id": "VojJ2m5wGV3E"
      }
    },
    {
      "cell_type": "code",
      "source": [
        "arr2.ndim"
      ],
      "metadata": {
        "colab": {
          "base_uri": "https://localhost:8080/"
        },
        "id": "PkhYOxzXGSYB",
        "outputId": "e45d3e8c-6183-431e-d09f-e774d9fc1f04"
      },
      "execution_count": null,
      "outputs": [
        {
          "output_type": "execute_result",
          "data": {
            "text/plain": [
              "1"
            ]
          },
          "metadata": {},
          "execution_count": 23
        }
      ]
    },
    {
      "cell_type": "code",
      "source": [
        "data3 = [[1, 2, 4, 5], [6, 5, 7, 10]]\n",
        "arr3 = np.array(data3)\n",
        "arr3"
      ],
      "metadata": {
        "colab": {
          "base_uri": "https://localhost:8080/"
        },
        "id": "AvaN2PM6Gh2x",
        "outputId": "dae3933c-22fe-48f1-e8e0-bda5c8add263"
      },
      "execution_count": null,
      "outputs": [
        {
          "output_type": "execute_result",
          "data": {
            "text/plain": [
              "array([[ 1,  2,  4,  5],\n",
              "       [ 6,  5,  7, 10]])"
            ]
          },
          "metadata": {},
          "execution_count": 31
        }
      ]
    },
    {
      "cell_type": "code",
      "source": [
        "arr3.ndim"
      ],
      "metadata": {
        "id": "YOW71ZCKHncy",
        "outputId": "81f9eeb5-a947-4abe-fafd-40756bfbcd48",
        "colab": {
          "base_uri": "https://localhost:8080/"
        }
      },
      "execution_count": null,
      "outputs": [
        {
          "output_type": "execute_result",
          "data": {
            "text/plain": [
              "2"
            ]
          },
          "metadata": {},
          "execution_count": 32
        }
      ]
    },
    {
      "cell_type": "markdown",
      "source": [
        "Shape bu arrayni o'lchamini beradi\n",
        "\n",
        "Size arrayni nechta elementi bolrigini beradi"
      ],
      "metadata": {
        "id": "o67MN0c3KgyA"
      }
    },
    {
      "cell_type": "code",
      "source": [
        "arr2.shape"
      ],
      "metadata": {
        "id": "2wX8TngDHqAY",
        "colab": {
          "base_uri": "https://localhost:8080/"
        },
        "outputId": "5983cc9d-ee81-4c7f-8a49-45043373b5da"
      },
      "execution_count": null,
      "outputs": [
        {
          "output_type": "execute_result",
          "data": {
            "text/plain": [
              "(4,)"
            ]
          },
          "metadata": {},
          "execution_count": 33
        }
      ]
    },
    {
      "cell_type": "code",
      "source": [
        "arr3.shape"
      ],
      "metadata": {
        "colab": {
          "base_uri": "https://localhost:8080/"
        },
        "id": "6sTW9KD-Jbds",
        "outputId": "a863f6a1-f7ff-4cd4-c8fd-280e08770fa1"
      },
      "execution_count": null,
      "outputs": [
        {
          "output_type": "execute_result",
          "data": {
            "text/plain": [
              "(2, 4)"
            ]
          },
          "metadata": {},
          "execution_count": 34
        }
      ]
    },
    {
      "cell_type": "code",
      "source": [
        "arr2.size"
      ],
      "metadata": {
        "colab": {
          "base_uri": "https://localhost:8080/"
        },
        "id": "ovUehmW4JeNl",
        "outputId": "80d70bf0-a6c3-4c5f-ef7d-599310242732"
      },
      "execution_count": null,
      "outputs": [
        {
          "output_type": "execute_result",
          "data": {
            "text/plain": [
              "4"
            ]
          },
          "metadata": {},
          "execution_count": 35
        }
      ]
    },
    {
      "cell_type": "code",
      "source": [
        "arr3.size"
      ],
      "metadata": {
        "colab": {
          "base_uri": "https://localhost:8080/"
        },
        "id": "j9nZviJrK37M",
        "outputId": "508522a8-6a41-4231-e430-53db17acaaec"
      },
      "execution_count": null,
      "outputs": [
        {
          "output_type": "execute_result",
          "data": {
            "text/plain": [
              "8"
            ]
          },
          "metadata": {},
          "execution_count": 36
        }
      ]
    },
    {
      "cell_type": "markdown",
      "source": [
        "N o'lchamli massivlar yaratishning boshqa usullari"
      ],
      "metadata": {
        "id": "PUvgMdY3LR3m"
      }
    },
    {
      "cell_type": "code",
      "source": [
        "arr4 = np.zeros((2,4)) # 2x4 o'lchamli barcha elementlari 0 dan iborat array\n",
        "arr4"
      ],
      "metadata": {
        "colab": {
          "base_uri": "https://localhost:8080/"
        },
        "id": "DGAWSdmiK6mu",
        "outputId": "0dd4b11a-e366-4df8-d4d1-aacb57470358"
      },
      "execution_count": null,
      "outputs": [
        {
          "output_type": "execute_result",
          "data": {
            "text/plain": [
              "array([[0., 0., 0., 0.],\n",
              "       [0., 0., 0., 0.]])"
            ]
          },
          "metadata": {},
          "execution_count": 38
        }
      ]
    },
    {
      "cell_type": "code",
      "source": [
        "arr5 = np.ones((2, 4)) # 2x4 o'lchamli barcha elementlari 1 dan iborat array\n",
        "arr5"
      ],
      "metadata": {
        "colab": {
          "base_uri": "https://localhost:8080/"
        },
        "id": "TLGIRWDcLqHZ",
        "outputId": "18d0b2ea-19d5-480f-9b25-233f8d95475a"
      },
      "execution_count": null,
      "outputs": [
        {
          "output_type": "execute_result",
          "data": {
            "text/plain": [
              "array([[1., 1., 1., 1.],\n",
              "       [1., 1., 1., 1.]])"
            ]
          },
          "metadata": {},
          "execution_count": 39
        }
      ]
    },
    {
      "cell_type": "code",
      "source": [
        "arr6 = np.arange(2, 20, 4)\n",
        "arr6"
      ],
      "metadata": {
        "colab": {
          "base_uri": "https://localhost:8080/"
        },
        "id": "EoYfWaLaMMYC",
        "outputId": "243e43ec-2006-41bf-918c-93c3cbacc114"
      },
      "execution_count": null,
      "outputs": [
        {
          "output_type": "execute_result",
          "data": {
            "text/plain": [
              "array([ 2,  6, 10, 14, 18])"
            ]
          },
          "metadata": {},
          "execution_count": 41
        }
      ]
    },
    {
      "cell_type": "code",
      "source": [
        "np.random.seed(42) # randomni fix qilib qo'yish uchun\n",
        "arr7 = np.random.rand(2, 4)\n",
        "arr7"
      ],
      "metadata": {
        "colab": {
          "base_uri": "https://localhost:8080/"
        },
        "id": "ML8M9FtlMXRQ",
        "outputId": "02e4dcba-2b76-4cf2-8bdf-6065263a33fe"
      },
      "execution_count": null,
      "outputs": [
        {
          "output_type": "execute_result",
          "data": {
            "text/plain": [
              "array([[0.37454012, 0.95071431, 0.73199394, 0.59865848],\n",
              "       [0.15601864, 0.15599452, 0.05808361, 0.86617615]])"
            ]
          },
          "metadata": {},
          "execution_count": 51
        }
      ]
    },
    {
      "cell_type": "code",
      "source": [
        " # nornal distribution sampling\n",
        " arr7 = np.random.randn(2,4)\n",
        " arr7"
      ],
      "metadata": {
        "colab": {
          "base_uri": "https://localhost:8080/"
        },
        "id": "jvgpoaXHM5CU",
        "outputId": "5843840a-3971-41de-b95f-8b54d698ace3"
      },
      "execution_count": null,
      "outputs": [
        {
          "output_type": "execute_result",
          "data": {
            "text/plain": [
              "array([[-1.32818605,  0.19686124,  0.73846658,  0.17136828],\n",
              "       [-0.11564828, -0.3011037 , -1.47852199, -0.71984421]])"
            ]
          },
          "metadata": {},
          "execution_count": 56
        }
      ]
    },
    {
      "cell_type": "code",
      "source": [
        "arr8 = np.random.randint(2, 5, size=(2,4))\n",
        "arr8"
      ],
      "metadata": {
        "colab": {
          "base_uri": "https://localhost:8080/"
        },
        "id": "kopnEA-iPP6s",
        "outputId": "a5687fdb-cb19-49bb-f333-a54c6a9a4cfb"
      },
      "execution_count": null,
      "outputs": [
        {
          "output_type": "execute_result",
          "data": {
            "text/plain": [
              "array([[4, 2, 3, 4],\n",
              "       [3, 2, 4, 2]])"
            ]
          },
          "metadata": {},
          "execution_count": 60
        }
      ]
    },
    {
      "cell_type": "code",
      "source": [
        "eye = np.eye(4)\n",
        "eye"
      ],
      "metadata": {
        "colab": {
          "base_uri": "https://localhost:8080/"
        },
        "id": "zYPNdPtXQCao",
        "outputId": "1b9ba841-97ab-4d87-f3e0-90287dc9b95a"
      },
      "execution_count": null,
      "outputs": [
        {
          "output_type": "execute_result",
          "data": {
            "text/plain": [
              "array([[1., 0., 0., 0.],\n",
              "       [0., 1., 0., 0.],\n",
              "       [0., 0., 1., 0.],\n",
              "       [0., 0., 0., 1.]])"
            ]
          },
          "metadata": {},
          "execution_count": 62
        }
      ]
    },
    {
      "cell_type": "code",
      "source": [
        "arr9 = np.array([1, 2, 3], dtype=np.int32)\n",
        "arr9 # accuracy qanchalik katta bo'lsa shunchalik katta xotira kerak"
      ],
      "metadata": {
        "colab": {
          "base_uri": "https://localhost:8080/"
        },
        "id": "6tnACyq5QlMN",
        "outputId": "d6c6a67b-ae05-4fbe-f2e0-cf3905b138ba"
      },
      "execution_count": null,
      "outputs": [
        {
          "output_type": "execute_result",
          "data": {
            "text/plain": [
              "array([1, 2, 3], dtype=int32)"
            ]
          },
          "metadata": {},
          "execution_count": 64
        }
      ]
    },
    {
      "cell_type": "code",
      "source": [
        "arr9.itemsize # bir dona raqat hajmi"
      ],
      "metadata": {
        "colab": {
          "base_uri": "https://localhost:8080/"
        },
        "id": "oSBuXzQ0SGVX",
        "outputId": "f14d09f8-09a3-449b-d658-151f873d8da3"
      },
      "execution_count": null,
      "outputs": [
        {
          "output_type": "execute_result",
          "data": {
            "text/plain": [
              "4"
            ]
          },
          "metadata": {},
          "execution_count": 68
        }
      ]
    },
    {
      "cell_type": "code",
      "source": [
        "arr9.nbytes # umumiy hajmini beradi"
      ],
      "metadata": {
        "colab": {
          "base_uri": "https://localhost:8080/"
        },
        "id": "dzT46LVtSNlm",
        "outputId": "55965127-1d5c-41bb-870d-33c7f838d2d6"
      },
      "execution_count": null,
      "outputs": [
        {
          "output_type": "execute_result",
          "data": {
            "text/plain": [
              "12"
            ]
          },
          "metadata": {},
          "execution_count": 67
        }
      ]
    },
    {
      "cell_type": "code",
      "source": [
        "arr10 =np.random.randn(2, 5)\n",
        "arr10"
      ],
      "metadata": {
        "colab": {
          "base_uri": "https://localhost:8080/"
        },
        "id": "bKe8EsBKSUBJ",
        "outputId": "ba5c518e-70ad-47c8-ba10-0bc89378e1a1"
      },
      "execution_count": null,
      "outputs": [
        {
          "output_type": "execute_result",
          "data": {
            "text/plain": [
              "array([[-2.65517605,  0.34551794, -0.39551645, -0.28913686,  0.45293633],\n",
              "       [-0.16606091,  0.21493883, -2.02231493, -0.94305681,  1.40395874]])"
            ]
          },
          "metadata": {},
          "execution_count": 74
        }
      ]
    },
    {
      "cell_type": "code",
      "source": [
        "arr10.astype(np.int64) # datatypeni int64 ga o'zgartirish"
      ],
      "metadata": {
        "colab": {
          "base_uri": "https://localhost:8080/"
        },
        "id": "zKxCI0G2UES-",
        "outputId": "41c99458-70c4-429e-8fdc-44e3bfc9001a"
      },
      "execution_count": null,
      "outputs": [
        {
          "output_type": "execute_result",
          "data": {
            "text/plain": [
              "array([[-2,  0,  0,  0,  0],\n",
              "       [ 0,  0, -2,  0,  1]])"
            ]
          },
          "metadata": {},
          "execution_count": 78
        }
      ]
    },
    {
      "cell_type": "code",
      "source": [
        "arr10.dtype"
      ],
      "metadata": {
        "colab": {
          "base_uri": "https://localhost:8080/"
        },
        "id": "loC08Vq5UQk0",
        "outputId": "d950e3af-d387-4551-8a5b-7cd9b6e14d1d"
      },
      "execution_count": null,
      "outputs": [
        {
          "output_type": "execute_result",
          "data": {
            "text/plain": [
              "dtype('float64')"
            ]
          },
          "metadata": {},
          "execution_count": 84
        }
      ]
    },
    {
      "cell_type": "markdown",
      "source": [
        "Indeks\n",
        "\n",
        "Array mutable !\n"
      ],
      "metadata": {
        "id": "n3WWdTnwaKkK"
      }
    },
    {
      "cell_type": "code",
      "source": [
        "arr = np.arange(10, 100, 10)\n",
        "arr"
      ],
      "metadata": {
        "colab": {
          "base_uri": "https://localhost:8080/"
        },
        "id": "iJP43n_IUnNx",
        "outputId": "b474d7ce-b09a-47bd-a2d2-59c0ffa1965d"
      },
      "execution_count": null,
      "outputs": [
        {
          "output_type": "execute_result",
          "data": {
            "text/plain": [
              "array([10, 20, 30, 40, 50, 60, 70, 80, 90])"
            ]
          },
          "metadata": {},
          "execution_count": 90
        }
      ]
    },
    {
      "cell_type": "code",
      "source": [
        "arr[3:5] # slicing"
      ],
      "metadata": {
        "colab": {
          "base_uri": "https://localhost:8080/"
        },
        "id": "mFEQVjVVWIPQ",
        "outputId": "d5674f83-0443-4ed1-b7be-35bc5a15b6b6"
      },
      "execution_count": null,
      "outputs": [
        {
          "output_type": "execute_result",
          "data": {
            "text/plain": [
              "array([40, 50])"
            ]
          },
          "metadata": {},
          "execution_count": 91
        }
      ]
    },
    {
      "cell_type": "code",
      "source": [
        "sliced_arr = arr[3:5]\n",
        "sliced_arr"
      ],
      "metadata": {
        "colab": {
          "base_uri": "https://localhost:8080/"
        },
        "id": "BeV0di5gWhce",
        "outputId": "50ba19a8-bd51-4f26-faa7-b4ca419312ab"
      },
      "execution_count": null,
      "outputs": [
        {
          "output_type": "execute_result",
          "data": {
            "text/plain": [
              "array([40, 50])"
            ]
          },
          "metadata": {},
          "execution_count": 92
        }
      ]
    },
    {
      "cell_type": "code",
      "source": [
        "copied_arr = arr.copy\n",
        "arr[-1] = 99\n",
        "arr"
      ],
      "metadata": {
        "colab": {
          "base_uri": "https://localhost:8080/"
        },
        "id": "YxjyLJRsWyZR",
        "outputId": "a6e5f184-0873-4f9d-ade4-683ecd78ed95"
      },
      "execution_count": null,
      "outputs": [
        {
          "output_type": "execute_result",
          "data": {
            "text/plain": [
              "array([10, 20, 30, 40, 50, 60, 70, 80, 99])"
            ]
          },
          "metadata": {},
          "execution_count": 94
        }
      ]
    },
    {
      "cell_type": "markdown",
      "source": [
        "2D array indeks va kesib olish"
      ],
      "metadata": {
        "id": "-dQShvNZbpAZ"
      }
    },
    {
      "cell_type": "code",
      "source": [
        "arr2d = np.arange(9).reshape(3,3)\n",
        "arr2d"
      ],
      "metadata": {
        "colab": {
          "base_uri": "https://localhost:8080/"
        },
        "id": "ggKAP1oKagFa",
        "outputId": "5aaaa517-9b97-4dab-e1b3-b4b43a328339"
      },
      "execution_count": null,
      "outputs": [
        {
          "output_type": "execute_result",
          "data": {
            "text/plain": [
              "array([[0, 1, 2],\n",
              "       [3, 4, 5],\n",
              "       [6, 7, 8]])"
            ]
          },
          "metadata": {},
          "execution_count": 96
        }
      ]
    },
    {
      "cell_type": "code",
      "source": [
        "sliced_arr2d = arr2d[1:, 1:]\n",
        "sliced_arr2d"
      ],
      "metadata": {
        "colab": {
          "base_uri": "https://localhost:8080/"
        },
        "id": "VBEzuY84cJuU",
        "outputId": "0bc0b0e5-b372-4193-e455-1c7628cbae04"
      },
      "execution_count": null,
      "outputs": [
        {
          "output_type": "execute_result",
          "data": {
            "text/plain": [
              "array([[4, 5],\n",
              "       [7, 8]])"
            ]
          },
          "metadata": {},
          "execution_count": 99
        }
      ]
    },
    {
      "cell_type": "code",
      "source": [
        "arr2d[1:, ::2]"
      ],
      "metadata": {
        "colab": {
          "base_uri": "https://localhost:8080/"
        },
        "id": "c6EjKUjGdWmG",
        "outputId": "e1e2cb2f-689a-4683-8344-13807e37fdf0"
      },
      "execution_count": null,
      "outputs": [
        {
          "output_type": "execute_result",
          "data": {
            "text/plain": [
              "array([[3, 5],\n",
              "       [6, 8]])"
            ]
          },
          "metadata": {},
          "execution_count": 100
        }
      ]
    },
    {
      "cell_type": "markdown",
      "source": [
        "3D array\n"
      ],
      "metadata": {
        "id": "Vi13ZsMqii6k"
      }
    },
    {
      "cell_type": "code",
      "source": [
        "arr3d=np.array([[[1,2,3],\n",
        "                 [4,5,6],\n",
        "                 [7,8,9]],\n",
        "                [[11,22,33],\n",
        "                 [44,55,66],\n",
        "                 [77,88,99]],\n",
        "                [[10,20,30],\n",
        "                 [40,50,60],\n",
        "                 [70,80,90]]])\n",
        "arr3d"
      ],
      "metadata": {
        "colab": {
          "base_uri": "https://localhost:8080/"
        },
        "id": "3peas08xilO9",
        "outputId": "9df0a62e-9e38-4e26-f7f9-3146202ad7e7"
      },
      "execution_count": null,
      "outputs": [
        {
          "output_type": "execute_result",
          "data": {
            "text/plain": [
              "array([[[ 1,  2,  3],\n",
              "        [ 4,  5,  6],\n",
              "        [ 7,  8,  9]],\n",
              "\n",
              "       [[11, 22, 33],\n",
              "        [44, 55, 66],\n",
              "        [77, 88, 99]],\n",
              "\n",
              "       [[10, 20, 30],\n",
              "        [40, 50, 60],\n",
              "        [70, 80, 90]]])"
            ]
          },
          "metadata": {},
          "execution_count": 104
        }
      ]
    },
    {
      "cell_type": "code",
      "source": [
        "arr3d[0][2,2]"
      ],
      "metadata": {
        "colab": {
          "base_uri": "https://localhost:8080/"
        },
        "id": "iIu82NDxi4Fn",
        "outputId": "f9d23c5f-5d43-48d5-a756-b61a322b4891"
      },
      "execution_count": null,
      "outputs": [
        {
          "output_type": "execute_result",
          "data": {
            "text/plain": [
              "np.int64(9)"
            ]
          },
          "metadata": {},
          "execution_count": 105
        }
      ]
    },
    {
      "cell_type": "code",
      "source": [
        "arr3d[1,1:, 1:]"
      ],
      "metadata": {
        "colab": {
          "base_uri": "https://localhost:8080/"
        },
        "id": "xN_LbAdbi9VE",
        "outputId": "f059b6fd-3d9e-4048-e625-af7630f1955a"
      },
      "execution_count": null,
      "outputs": [
        {
          "output_type": "execute_result",
          "data": {
            "text/plain": [
              "array([[55, 66],\n",
              "       [88, 99]])"
            ]
          },
          "metadata": {},
          "execution_count": 106
        }
      ]
    },
    {
      "cell_type": "markdown",
      "source": [
        "Math Statistics"
      ],
      "metadata": {
        "id": "iiBgUAU2kMSj"
      }
    },
    {
      "cell_type": "code",
      "source": [],
      "metadata": {
        "id": "-rBadbQUkPH4"
      },
      "execution_count": null,
      "outputs": []
    }
  ]
}